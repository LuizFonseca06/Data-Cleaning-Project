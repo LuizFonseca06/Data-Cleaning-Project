{
 "cells": [
  {
   "cell_type": "markdown",
   "metadata": {},
   "source": [
    "# &#9678; Data Cleaning Project - Outlook Contacts\n"
   ]
  },
  {
   "cell_type": "markdown",
   "metadata": {},
   "source": [
    "### Importing:"
   ]
  },
  {
   "cell_type": "code",
   "execution_count": 1,
   "metadata": {},
   "outputs": [],
   "source": [
    "import pandas as pd\n",
    "import numpy as np"
   ]
  },
  {
   "cell_type": "code",
   "execution_count": 2,
   "metadata": {},
   "outputs": [],
   "source": [
    "joel = pd.read_csv(\"Joel_Hotmail.csv\",encoding='Latin-1',dtype='object')"
   ]
  },
  {
   "cell_type": "markdown",
   "metadata": {},
   "source": [
    "###### We will be creating a custom column called 'Contact'. This field consists of the first and last name attributes. This will make it easier to identify duplicate contacts. The customer says his not concerned with the middle name. But if that was the case, I would add the 'Middle Name' field into our concatenation."
   ]
  },
  {
   "cell_type": "code",
   "execution_count": 3,
   "metadata": {},
   "outputs": [],
   "source": [
    "joel[\"Contact\"] = joel[\"First Name\"].fillna('') +' '+ joel[\"Last Name\"].fillna('')"
   ]
  },
  {
   "cell_type": "markdown",
   "metadata": {},
   "source": [
    "____"
   ]
  },
  {
   "cell_type": "markdown",
   "metadata": {},
   "source": [
    "###### Identifying the fields which contains at least one entry:"
   ]
  },
  {
   "cell_type": "code",
   "execution_count": 4,
   "metadata": {},
   "outputs": [
    {
     "data": {
      "text/plain": [
       "Index(['Title', 'First Name', 'Middle Name', 'Last Name', 'Suffix', 'Company',\n",
       "       'Department', 'Job Title', 'Business Street', 'Business City',\n",
       "       'Business State', 'Business Postal Code', 'Business Country/Region',\n",
       "       'Home Street', 'Home City', 'Home State', 'Home Postal Code',\n",
       "       'Home Country/Region', 'Other Street', 'Other City', 'Other State',\n",
       "       'Other Postal Code', 'Other Country/Region', 'Business Fax',\n",
       "       'Business Phone', 'Business Phone 2', 'Car Phone', 'Company Main Phone',\n",
       "       'Home Fax', 'Home Phone', 'Home Phone 2', 'Mobile Phone', 'Other Phone',\n",
       "       'Pager', 'Primary Phone', 'Anniversary', 'Birthday', 'Children',\n",
       "       'E-mail Address', 'E-mail Type', 'E-mail Display Name',\n",
       "       'E-mail 2 Address', 'E-mail 2 Type', 'E-mail 2 Display Name',\n",
       "       'E-mail 3 Address', 'E-mail 3 Type', 'E-mail 3 Display Name', 'Gender',\n",
       "       'Initials', 'Notes', 'Office Location', 'Priority', 'Private',\n",
       "       'Sensitivity', 'Spouse', 'Web Page', 'Contact'],\n",
       "      dtype='object')"
      ]
     },
     "execution_count": 4,
     "metadata": {},
     "output_type": "execute_result"
    }
   ],
   "source": [
    "joel.dropna(axis=1,thresh=1).columns"
   ]
  },
  {
   "cell_type": "markdown",
   "metadata": {},
   "source": [
    "######  Stored on the variable 'imp' will be the names of the columns which are considered 'important'."
   ]
  },
  {
   "cell_type": "code",
   "execution_count": 5,
   "metadata": {},
   "outputs": [],
   "source": [
    "imp = list(['Contact','Business Phone','Business Phone 2','Home Phone','Home Phone 2','Mobile Phone','Other Phone',\n",
    "            'E-mail Address','E-mail 2 Address', 'E-mail 3 Address'])"
   ]
  },
  {
   "cell_type": "markdown",
   "metadata": {},
   "source": [
    "###### 'imp2' will contain the same elements found on 'imp' with the addition of the 'Notes' field."
   ]
  },
  {
   "cell_type": "code",
   "execution_count": 6,
   "metadata": {},
   "outputs": [],
   "source": [
    "imp2=list(['Contact','Business Phone','Business Phone 2','Home Phone','Home Phone 2','Mobile Phone','Other Phone',\n",
    "            'E-mail Address','E-mail 2 Address', 'E-mail 3 Address','Notes'])"
   ]
  },
  {
   "cell_type": "markdown",
   "metadata": {},
   "source": [
    "###### NOTE: The 'Notes' field is of utter importance for our client, since it contains meetings histories, comments, and sometimes even phone numbers and addresses (we will be dealing with these cases on section 1)"
   ]
  },
  {
   "cell_type": "markdown",
   "metadata": {},
   "source": [
    "___"
   ]
  },
  {
   "cell_type": "markdown",
   "metadata": {},
   "source": [
    "##### &#9678;  Initial number of Records:"
   ]
  },
  {
   "cell_type": "code",
   "execution_count": 7,
   "metadata": {},
   "outputs": [
    {
     "data": {
      "text/plain": [
       "12155"
      ]
     },
     "execution_count": 7,
     "metadata": {},
     "output_type": "execute_result"
    }
   ],
   "source": [
    "#Initial Number of Records:\n",
    "len(joel.index)"
   ]
  },
  {
   "cell_type": "markdown",
   "metadata": {},
   "source": [
    "##### &#9678; Initial Number of Duplicates on Contact"
   ]
  },
  {
   "cell_type": "code",
   "execution_count": 8,
   "metadata": {},
   "outputs": [
    {
     "data": {
      "text/plain": [
       "3613"
      ]
     },
     "execution_count": 8,
     "metadata": {},
     "output_type": "execute_result"
    }
   ],
   "source": [
    "len(joel[joel.duplicated(subset=['Contact'],keep=False)])"
   ]
  },
  {
   "cell_type": "code",
   "execution_count": 9,
   "metadata": {},
   "outputs": [
    {
     "data": {
      "text/plain": [
       "3613"
      ]
     },
     "execution_count": 9,
     "metadata": {},
     "output_type": "execute_result"
    }
   ],
   "source": [
    "len(joel[joel.duplicated(['First Name','Last Name'],keep=False)])"
   ]
  },
  {
   "cell_type": "markdown",
   "metadata": {},
   "source": [
    "___"
   ]
  },
  {
   "cell_type": "markdown",
   "metadata": {},
   "source": [
    "## 1. Preliminary cleaning: Cleaning 'Notes' Field"
   ]
  },
  {
   "cell_type": "markdown",
   "metadata": {},
   "source": [
    "###### Before we start, there are some unwanted data on the 'Notes' field that we wish to get rid of. We're not actually deleting then, just turning them to blank notes so it doesn't mess up with our counting of nulled cells methods later on. It is important that we do this right at the beggining so that later they don't get merged when we jump to the aggregate operations. "
   ]
  },
  {
   "cell_type": "code",
   "execution_count": 10,
   "metadata": {},
   "outputs": [],
   "source": [
    "test = joel[joel['Notes'].str.contains(\"Contact Imported\")==True]"
   ]
  },
  {
   "cell_type": "markdown",
   "metadata": {},
   "source": [
    "###### Looking through the 'Notes' field I came across some notes like this one below:"
   ]
  },
  {
   "cell_type": "code",
   "execution_count": 11,
   "metadata": {},
   "outputs": [
    {
     "data": {
      "text/plain": [
       "'-----------------------------\\nContact Imported:\\nEmailAddress : msanchez@rtvamerica.com\\nBusinessPhone : 7862206482\\nMobilePhone : 2024685300\\nLine1 : 175 SW 7th Street \\nSuite 1508\\nCity : Miami\\nState : FL\\nPostalCode : 33130'"
      ]
     },
     "execution_count": 11,
     "metadata": {},
     "output_type": "execute_result"
    }
   ],
   "source": [
    "# Example: Contact 329\n",
    "test.loc[329]['Notes']"
   ]
  },
  {
   "cell_type": "markdown",
   "metadata": {},
   "source": [
    "###### We can see that this entry has some valuable information contained within them like Business Phones, Addresses, et cetera... Information which,in their turn, are not contained by the fields which they were supposed to be,within the record itself:"
   ]
  },
  {
   "cell_type": "code",
   "execution_count": 12,
   "metadata": {},
   "outputs": [
    {
     "data": {
      "text/plain": [
       "Contact                                               Marcelo Sanchez\n",
       "Business Phone                                                    NaN\n",
       "Business Phone 2                                                  NaN\n",
       "Home Phone                                                        NaN\n",
       "Home Phone 2                                                      NaN\n",
       "Mobile Phone                                                      NaN\n",
       "Other Phone                                                       NaN\n",
       "E-mail Address                                                    NaN\n",
       "E-mail 2 Address                                                  NaN\n",
       "E-mail 3 Address                                                  NaN\n",
       "Notes               -----------------------------\\nContact Importe...\n",
       "Name: 329, dtype: object"
      ]
     },
     "execution_count": 12,
     "metadata": {},
     "output_type": "execute_result"
    }
   ],
   "source": [
    "# Example: Contact 329\n",
    "test.loc[329][imp2]"
   ]
  },
  {
   "cell_type": "code",
   "execution_count": 13,
   "metadata": {},
   "outputs": [
    {
     "data": {
      "text/plain": [
       "0"
      ]
     },
     "execution_count": 13,
     "metadata": {},
     "output_type": "execute_result"
    }
   ],
   "source": [
    "## Non-null entries for Business Phone on this sub-dataframe\n",
    "test['Business Phone'].count()  "
   ]
  },
  {
   "cell_type": "markdown",
   "metadata": {},
   "source": [
    "###### Our objective here is to fix this by extracting only the useful information from these notes."
   ]
  },
  {
   "cell_type": "markdown",
   "metadata": {},
   "source": [
    "###### First, we are going to break those lenghty strings into small elements and comprised them into lists. We're going to split them by the '\\n' substring. This is a special character used to describe a new line in Unix/MacOS"
   ]
  },
  {
   "cell_type": "code",
   "execution_count": 14,
   "metadata": {},
   "outputs": [],
   "source": [
    "l = test.loc[:,'Notes'].apply(lambda x: x.split('\\n'))"
   ]
  },
  {
   "cell_type": "code",
   "execution_count": 15,
   "metadata": {
    "scrolled": true
   },
   "outputs": [
    {
     "data": {
      "text/plain": [
       "['-----------------------------',\n",
       " 'Contact Imported:',\n",
       " 'EmailAddress : msanchez@rtvamerica.com',\n",
       " 'BusinessPhone : 7862206482',\n",
       " 'MobilePhone : 2024685300',\n",
       " 'Line1 : 175 SW 7th Street ',\n",
       " 'Suite 1508',\n",
       " 'City : Miami',\n",
       " 'State : FL',\n",
       " 'PostalCode : 33130']"
      ]
     },
     "execution_count": 15,
     "metadata": {},
     "output_type": "execute_result"
    }
   ],
   "source": [
    "# Example: Contact 329\n",
    "l[329]"
   ]
  },
  {
   "cell_type": "markdown",
   "metadata": {},
   "source": [
    "###### Next, lets separate the cream from the crop. All the useful data contained within these notes are characterized by the presence of the '  : ' substring. Lets filter out our lists so that it retains only the elements that contain those characters:"
   ]
  },
  {
   "cell_type": "code",
   "execution_count": 16,
   "metadata": {},
   "outputs": [],
   "source": [
    "def WhatMatters(l):\n",
    "    list1 = []\n",
    "    for i in l:\n",
    "        if i.find(' : ') != -1:\n",
    "            list1.append(i)\n",
    "    return list1"
   ]
  },
  {
   "cell_type": "code",
   "execution_count": 17,
   "metadata": {},
   "outputs": [
    {
     "data": {
      "text/plain": [
       "['EmailAddress : msanchez@rtvamerica.com',\n",
       " 'BusinessPhone : 7862206482',\n",
       " 'MobilePhone : 2024685300',\n",
       " 'Line1 : 175 SW 7th Street ',\n",
       " 'City : Miami',\n",
       " 'State : FL',\n",
       " 'PostalCode : 33130']"
      ]
     },
     "execution_count": 17,
     "metadata": {},
     "output_type": "execute_result"
    }
   ],
   "source": [
    "l = l.apply(WhatMatters)\n",
    "l.loc[329]"
   ]
  },
  {
   "cell_type": "markdown",
   "metadata": {},
   "source": [
    "###### Now, lets format the names of the variables in question so that they match the labels of our main dataframe. For example: At the notes example above, we can see the we have the label  'Line1' followed by a colon and the information about a person's Address. In the original dataset, however, the field which contains this kind of data is called 'Business Street'. That's why we will be creating and applying a function called 'FitNames', which will be formatting the labels inside our lists and replacing them with the ones that match our dataset:"
   ]
  },
  {
   "cell_type": "code",
   "execution_count": 18,
   "metadata": {},
   "outputs": [],
   "source": [
    "def FitNames(list1):\n",
    "    for i in range(0,len(list1)):\n",
    "        if list1[i].find(\"Phone \") != -1:\n",
    "            list1[i] = list1[i][:list1[i].find(\"P\")] + ' ' + list1[i][list1[i].find(\"P\"):]\n",
    "        elif list1[i].find('Email') != -1:\n",
    "            list1[i] = list1[i][:list1[i].find('mail')] + '-' + list1[i][list1[i].find('mail'):list1[i].find('A')] + ' '+ list1[i][list1[i].find('A'):]\n",
    "        elif list1[i].find('City') != -1:\n",
    "            list1[i] = 'Business' + ' ' + list1[i][list1[i].find('City'):]\n",
    "        elif list1[i].find('State :') != -1:\n",
    "            list1[i] = 'Business' + ' ' + list1[i][list1[i].find('State'):]\n",
    "        elif list1[i].find('Line1') != -1:\n",
    "            list1[i] = 'Business Street' + list1[i][list1[i].find(' '):]\n",
    "        elif list1[i].find('PostalCode') != -1:\n",
    "            list1[i] = 'Business Postal Code' + list1[i][list1[i].find(' '):]\n",
    "        elif list1[i].find('Country :') != -1:\n",
    "            list1[i] = 'Home Country/Region' + ' '+ list1[i][list1[i].find(':'):]\n",
    "        \n",
    "    return list1"
   ]
  },
  {
   "cell_type": "code",
   "execution_count": 19,
   "metadata": {},
   "outputs": [
    {
     "data": {
      "text/plain": [
       "['E-mail Address : msanchez@rtvamerica.com',\n",
       " 'Business Phone : 7862206482',\n",
       " 'Mobile Phone : 2024685300',\n",
       " 'Business Street : 175 SW 7th Street ',\n",
       " 'Business City : Miami',\n",
       " 'Business State : FL',\n",
       " 'Business Postal Code : 33130']"
      ]
     },
     "execution_count": 19,
     "metadata": {},
     "output_type": "execute_result"
    }
   ],
   "source": [
    "l.apply(FitNames)\n",
    "# Example: Contact 329\n",
    "l.loc[329]"
   ]
  },
  {
   "cell_type": "code",
   "execution_count": 20,
   "metadata": {},
   "outputs": [],
   "source": [
    "l = l.apply(WhatMatters)"
   ]
  },
  {
   "cell_type": "code",
   "execution_count": 21,
   "metadata": {},
   "outputs": [
    {
     "data": {
      "text/plain": [
       "['E-mail Address : msanchez@rtvamerica.com',\n",
       " 'Business Phone : 7862206482',\n",
       " 'Mobile Phone : 2024685300',\n",
       " 'Business Street : 175 SW 7th Street ',\n",
       " 'Business City : Miami',\n",
       " 'Business State : FL',\n",
       " 'Business Postal Code : 33130']"
      ]
     },
     "execution_count": 21,
     "metadata": {},
     "output_type": "execute_result"
    }
   ],
   "source": [
    "# Example: Contact 329\n",
    "l.loc[329]"
   ]
  },
  {
   "cell_type": "markdown",
   "metadata": {},
   "source": [
    "###### With our lists finally cleaned up and containing only relevant and relatively organized information, we're ready to proceed by converting such lists into dictionaries objects..."
   ]
  },
  {
   "cell_type": "code",
   "execution_count": 22,
   "metadata": {},
   "outputs": [],
   "source": [
    "def Dictionaries(list1):\n",
    "    d={}\n",
    "    temp =[]\n",
    "    for i in list1:\n",
    "        temp=i.split(' : ')\n",
    "        d[temp[0]]=temp[1]\n",
    "    return d"
   ]
  },
  {
   "cell_type": "code",
   "execution_count": 23,
   "metadata": {},
   "outputs": [],
   "source": [
    "l  =l.apply(Dictionaries)"
   ]
  },
  {
   "cell_type": "markdown",
   "metadata": {},
   "source": [
    "###### Once turned into dictionaries, we can easily treat our data like pandas Series as well!"
   ]
  },
  {
   "cell_type": "code",
   "execution_count": 24,
   "metadata": {},
   "outputs": [
    {
     "data": {
      "text/plain": [
       "E-mail Address          msanchez@rtvamerica.com\n",
       "Business Phone                       7862206482\n",
       "Mobile Phone                         2024685300\n",
       "Business Street              175 SW 7th Street \n",
       "Business City                             Miami\n",
       "Business State                               FL\n",
       "Business Postal Code                      33130\n",
       "dtype: object"
      ]
     },
     "execution_count": 24,
     "metadata": {},
     "output_type": "execute_result"
    }
   ],
   "source": [
    "# Example: Contact 329\n",
    "pd.Series(l.loc[329])"
   ]
  },
  {
   "cell_type": "code",
   "execution_count": 25,
   "metadata": {},
   "outputs": [
    {
     "data": {
      "text/plain": [
       "490"
      ]
     },
     "execution_count": 25,
     "metadata": {},
     "output_type": "execute_result"
    }
   ],
   "source": [
    "len(l)"
   ]
  },
  {
   "cell_type": "markdown",
   "metadata": {},
   "source": [
    "###### Finally, we just need to run one last command in order to merge our newly-discovered info. into our old dataframe. For that, we going to be using Pandas' built-in method called 'update'. This method will be vastly used throughout our cleaning process as it is much convenient to incorporate our changes into our target dataset."
   ]
  },
  {
   "cell_type": "code",
   "execution_count": 26,
   "metadata": {},
   "outputs": [
    {
     "data": {
      "text/plain": [
       "Contact                 Marcelo Sanchez\n",
       "Business Phone                      NaN\n",
       "Mobile Phone                        NaN\n",
       "Business Street                     NaN\n",
       "Business City                       NaN\n",
       "Business State                      NaN\n",
       "Business Postal Code                NaN\n",
       "Name: 329, dtype: object"
      ]
     },
     "execution_count": 26,
     "metadata": {},
     "output_type": "execute_result"
    }
   ],
   "source": [
    "# Example -Before-:\n",
    "joel.loc[329][['Contact','Business Phone','Mobile Phone','Business Street','Business City','Business State',\n",
    "              'Business Postal Code']]"
   ]
  },
  {
   "cell_type": "code",
   "execution_count": 27,
   "metadata": {},
   "outputs": [],
   "source": [
    "for i in l.index:\n",
    "    joel.loc[i].update(pd.Series(l[i]))"
   ]
  },
  {
   "cell_type": "code",
   "execution_count": 28,
   "metadata": {},
   "outputs": [
    {
     "data": {
      "text/plain": [
       "Contact                    Marcelo Sanchez\n",
       "Business Phone                  7862206482\n",
       "Mobile Phone                    2024685300\n",
       "Business Street         175 SW 7th Street \n",
       "Business City                        Miami\n",
       "Business State                          FL\n",
       "Business Postal Code                 33130\n",
       "Name: 329, dtype: object"
      ]
     },
     "execution_count": 28,
     "metadata": {},
     "output_type": "execute_result"
    }
   ],
   "source": [
    "# Example -After-:\n",
    "joel.loc[329][['Contact','Business Phone','Mobile Phone','Business Street','Business City','Business State',\n",
    "              'Business Postal Code']]"
   ]
  },
  {
   "cell_type": "markdown",
   "metadata": {},
   "source": [
    "###### Now that we've extracted the useful contact information out of the notes containing the 'Contact Imported' substring, we're going to go ahead and turn them into blank:"
   ]
  },
  {
   "cell_type": "code",
   "execution_count": 29,
   "metadata": {},
   "outputs": [],
   "source": [
    "## Deleting Unwanted notes\n",
    "joel.loc[joel['Notes'].str.contains(\"Contact Imported\")==True,'Notes'] = ''"
   ]
  },
  {
   "cell_type": "markdown",
   "metadata": {},
   "source": [
    "___"
   ]
  },
  {
   "cell_type": "markdown",
   "metadata": {},
   "source": [
    "## 2. Records Missing Crucial Data:"
   ]
  },
  {
   "cell_type": "markdown",
   "metadata": {},
   "source": [
    "###### Some records consist of just the contact name or no contact name at all. After speaking with the client, we decided that the best approach would be to just to delete them altogether."
   ]
  },
  {
   "cell_type": "code",
   "execution_count": 30,
   "metadata": {},
   "outputs": [],
   "source": [
    "#Getting rid of records with nothing but missing values on 'First Name','Middle Name' and 'Last Name' fields...\n",
    "joel = joel.dropna(subset=['First Name','Middle Name','Last Name'],how='all')"
   ]
  },
  {
   "cell_type": "code",
   "execution_count": 31,
   "metadata": {},
   "outputs": [],
   "source": [
    "#Getting rid of records with nothing but missing values on all other key fields...\n",
    "joel = joel.dropna(subset=['Business Fax','Business Phone','Business Phone 2','Home Phone','Home Phone 2',\n",
    "                  'Mobile Phone','Other Phone','E-mail Address','E-mail 2 Address','Company','Notes'],how='all')"
   ]
  },
  {
   "cell_type": "markdown",
   "metadata": {},
   "source": [
    "##### &#9678; Current Number of Records:"
   ]
  },
  {
   "cell_type": "code",
   "execution_count": 32,
   "metadata": {},
   "outputs": [
    {
     "data": {
      "text/plain": [
       "9802"
      ]
     },
     "execution_count": 32,
     "metadata": {},
     "output_type": "execute_result"
    }
   ],
   "source": [
    "len(joel.index)"
   ]
  },
  {
   "cell_type": "markdown",
   "metadata": {},
   "source": [
    "---"
   ]
  },
  {
   "cell_type": "markdown",
   "metadata": {},
   "source": [
    "## 3. Converging Data:"
   ]
  },
  {
   "cell_type": "markdown",
   "metadata": {},
   "source": [
    "###### We will be now trying to condense our data inside our dataframe. We wil be moving information from relativaly 'less' important columns like 'Home Phone 2', 'Business Phone 2'  into their respective main field (in this case: 'Home Phone' and 'Business Phone'). However, we will be moving only if theres no data already sitting at the target attribute, to avoid losing info.:"
   ]
  },
  {
   "cell_type": "code",
   "execution_count": 33,
   "metadata": {},
   "outputs": [],
   "source": [
    "## Moving phone data into primary (target) field if there's space:\n",
    "transfer =joel[joel['Home Phone 2'].notnull() & (joel['Home Phone'].isnull())].index\n",
    "joel.loc[transfer,'Home Phone'] = joel.loc[transfer]['Home Phone 2']\n",
    "# Deleting info from source attribute:\n",
    "joel.loc[transfer,'Home Phone 2'] = np.nan"
   ]
  },
  {
   "cell_type": "code",
   "execution_count": 34,
   "metadata": {},
   "outputs": [],
   "source": [
    "## Moving phone data into primary (target) field if there's space:\n",
    "transfer =joel[joel['Business Phone 2'].notnull() & (joel['Business Phone'].isnull())].index\n",
    "joel.loc[transfer,'Business Phone'] = joel.loc[transfer]['Business Phone 2']\n",
    "# Deleting info from source attribute:\n",
    "joel.loc[transfer,'Business Phone 2'] = np.nan"
   ]
  },
  {
   "cell_type": "code",
   "execution_count": 35,
   "metadata": {},
   "outputs": [],
   "source": [
    "## Moving phone data into primary (target) field if there's space:\n",
    "transfer =joel[joel['Home Phone 2'].notnull() & (joel['Other Phone'].isnull())].index\n",
    "joel.loc[transfer,'Other Phone'] = joel.loc[transfer]['Home Phone 2']\n",
    "# Deleting info from source attribute:\n",
    "joel.loc[transfer,'Home Phone 2'] = np.nan"
   ]
  },
  {
   "cell_type": "code",
   "execution_count": 36,
   "metadata": {},
   "outputs": [],
   "source": [
    "## Moving phone data into primary (target) field if there's space:\n",
    "transfer =joel[joel['Other Phone'].notnull() & (joel['Mobile Phone'].isnull())].index\n",
    "joel.loc[transfer,'Mobile Phone'] = joel.loc[transfer]['Other Phone']\n",
    "# Deleting info from source attribute:\n",
    "joel.loc[transfer,'Other Phone'] = np.nan"
   ]
  },
  {
   "cell_type": "code",
   "execution_count": 37,
   "metadata": {},
   "outputs": [],
   "source": [
    "## Moving phone data into primary (target) field if there's space:\n",
    "transfer =joel[joel['E-mail 2 Address'].notnull() & (joel['E-mail Address'].isnull())].index\n",
    "joel.loc[transfer,'E-mail Address'] = joel.loc[transfer]['E-mail 2 Address']\n",
    "# Deleting info from source attribute:\n",
    "joel.loc[transfer,'E-mail 2 Address'] = np.nan"
   ]
  },
  {
   "cell_type": "markdown",
   "metadata": {},
   "source": [
    "### 3.1 Creating Custom Columns:"
   ]
  },
  {
   "cell_type": "markdown",
   "metadata": {},
   "source": [
    "###### Let's also create custom fields which concatenate phones and emails from each record so that it facilitates our job later on..."
   ]
  },
  {
   "cell_type": "markdown",
   "metadata": {},
   "source": [
    "##### I left the counter of elements of the most inclusive column for each merged field I'm creating just to make sure I'm not leaving anything behind  or unchecked"
   ]
  },
  {
   "cell_type": "code",
   "execution_count": 38,
   "metadata": {},
   "outputs": [
    {
     "data": {
      "text/plain": [
       "2437"
      ]
     },
     "execution_count": 38,
     "metadata": {},
     "output_type": "execute_result"
    }
   ],
   "source": [
    "joel['Home Phone'].count()"
   ]
  },
  {
   "cell_type": "code",
   "execution_count": 39,
   "metadata": {},
   "outputs": [
    {
     "data": {
      "text/plain": [
       "2437"
      ]
     },
     "execution_count": 39,
     "metadata": {},
     "output_type": "execute_result"
    }
   ],
   "source": [
    "#Creating Field 'Home Phones' for analysis' sake\n",
    "joel[\"Home Phones\"] = joel[\"Home Phone\"].fillna('') +' '+ joel[\"Home Phone 2\"].fillna('')\n",
    "\n",
    "joel.loc[joel['Home Phones'] == ' ','Home Phones'] = np.nan\n",
    "\n",
    "joel['Home Phones'].count()"
   ]
  },
  {
   "cell_type": "code",
   "execution_count": 40,
   "metadata": {},
   "outputs": [
    {
     "data": {
      "text/plain": [
       "2950"
      ]
     },
     "execution_count": 40,
     "metadata": {},
     "output_type": "execute_result"
    }
   ],
   "source": [
    "joel['Business Phone'].count()"
   ]
  },
  {
   "cell_type": "code",
   "execution_count": 41,
   "metadata": {},
   "outputs": [
    {
     "data": {
      "text/plain": [
       "2950"
      ]
     },
     "execution_count": 41,
     "metadata": {},
     "output_type": "execute_result"
    }
   ],
   "source": [
    "#Creating Field 'Business Phones' for analysis' sake\n",
    "joel[\"Business Phones\"] = joel[\"Business Phone\"].fillna('') +' '+ joel[\"Business Phone 2\"].fillna('')\n",
    "\n",
    "joel.loc[joel['Business Phones'] == ' ','Business Phones'] = np.nan\n",
    "\n",
    "joel['Business Phones'].count()"
   ]
  },
  {
   "cell_type": "code",
   "execution_count": 42,
   "metadata": {},
   "outputs": [
    {
     "data": {
      "text/plain": [
       "4513"
      ]
     },
     "execution_count": 42,
     "metadata": {},
     "output_type": "execute_result"
    }
   ],
   "source": [
    "joel['Mobile Phone'].count()"
   ]
  },
  {
   "cell_type": "code",
   "execution_count": 43,
   "metadata": {},
   "outputs": [
    {
     "data": {
      "text/plain": [
       "4513"
      ]
     },
     "execution_count": 43,
     "metadata": {},
     "output_type": "execute_result"
    }
   ],
   "source": [
    "#Creating Field 'Other Phones' for analysis' sake\n",
    "joel[\"Other Phones\"] = joel[\"Mobile Phone\"].fillna('') +' '+ joel[\"Other Phone\"].fillna('')\n",
    "\n",
    "joel.loc[joel['Other Phones'] == ' ','Other Phones'] = np.nan\n",
    "\n",
    "joel['Other Phones'].count()"
   ]
  },
  {
   "cell_type": "code",
   "execution_count": 44,
   "metadata": {},
   "outputs": [],
   "source": [
    "phones = list(['Contact','Business Phone','Business Phone 2','Home Phone','Home Phone 2','Mobile Phone','Other Phone'])"
   ]
  },
  {
   "cell_type": "code",
   "execution_count": 45,
   "metadata": {},
   "outputs": [
    {
     "data": {
      "text/plain": [
       "5588"
      ]
     },
     "execution_count": 45,
     "metadata": {},
     "output_type": "execute_result"
    }
   ],
   "source": [
    "joel['E-mail Address'].count()"
   ]
  },
  {
   "cell_type": "code",
   "execution_count": 46,
   "metadata": {},
   "outputs": [
    {
     "data": {
      "text/plain": [
       "5588"
      ]
     },
     "execution_count": 46,
     "metadata": {},
     "output_type": "execute_result"
    }
   ],
   "source": [
    "##Creating Field 'E-mail Addresses' for analysis' sake\n",
    "joel[\"E-mail Addresses\"] = joel[\"E-mail Address\"].fillna('') +' '+ joel[\"E-mail 2 Address\"].fillna('')+' '+joel[\"E-mail 3 Address\"].fillna('')\n",
    "\n",
    "joel.loc[joel['E-mail Addresses'] == '  ','E-mail Addresses'] = np.nan\n",
    "\n",
    "joel['E-mail Addresses'].count()"
   ]
  },
  {
   "cell_type": "markdown",
   "metadata": {},
   "source": [
    "## 4. Dealing with Duplicates:"
   ]
  },
  {
   "cell_type": "markdown",
   "metadata": {},
   "source": [
    "##### &#9678; Current Number of Duplicates on Contact"
   ]
  },
  {
   "cell_type": "code",
   "execution_count": 47,
   "metadata": {},
   "outputs": [
    {
     "data": {
      "text/plain": [
       "1421"
      ]
     },
     "execution_count": 47,
     "metadata": {},
     "output_type": "execute_result"
    }
   ],
   "source": [
    "len(joel[joel.duplicated(subset=['Contact'],keep=False)])"
   ]
  },
  {
   "cell_type": "markdown",
   "metadata": {},
   "source": [
    "____"
   ]
  },
  {
   "cell_type": "markdown",
   "metadata": {},
   "source": [
    "###### Let's begin by subsetting our main dataframe into a smaller one containing only records which have the same 'Contact' field information:"
   ]
  },
  {
   "cell_type": "code",
   "execution_count": 48,
   "metadata": {},
   "outputs": [],
   "source": [
    "duplicates = joel[joel.duplicated(subset=['Contact'],keep=False)].sort_values('Contact')"
   ]
  },
  {
   "cell_type": "markdown",
   "metadata": {},
   "source": [
    "##### Next, let's reduce our subset even more! let's identify records with same (duplicated) information also on important fields:"
   ]
  },
  {
   "cell_type": "code",
   "execution_count": 49,
   "metadata": {},
   "outputs": [],
   "source": [
    "duplicates=duplicates[duplicates.duplicated(subset=imp,keep=False)]"
   ]
  },
  {
   "cell_type": "markdown",
   "metadata": {},
   "source": [
    "###### Now that we have taken the subsetted version of our dataframe containing only records with duplicated info on'Contact' AND on important fields besides 'Notes', we will converge all notes into the first occurrence and keep that occurence."
   ]
  },
  {
   "cell_type": "raw",
   "metadata": {},
   "source": [
    "duplicates.columns.values"
   ]
  },
  {
   "cell_type": "markdown",
   "metadata": {},
   "source": [
    "##### To do that, we are first going to find which columns need to be joined, which don't, as well as the ones which need to be aggregated differently: by keeping the first of the duplicate group."
   ]
  },
  {
   "cell_type": "code",
   "execution_count": 50,
   "metadata": {},
   "outputs": [
    {
     "data": {
      "text/plain": [
       "Index(['Title', 'First Name', 'Middle Name', 'Last Name', 'Suffix', 'Company',\n",
       "       'Department', 'Job Title', 'Business Street', 'Business City',\n",
       "       'Business State', 'Business Postal Code', 'Business Country/Region',\n",
       "       'Home Street', 'Home City', 'Home State', 'Home Postal Code',\n",
       "       'Home Country/Region', 'Other Street', 'Other City', 'Other State',\n",
       "       'Other Postal Code', 'Other Country/Region', 'Business Fax',\n",
       "       'Business Phone', 'Business Phone 2', 'Car Phone', 'Company Main Phone',\n",
       "       'Home Fax', 'Home Phone', 'Home Phone 2', 'Mobile Phone', 'Other Phone',\n",
       "       'Pager', 'Anniversary', 'Birthday', 'Children', 'E-mail Address',\n",
       "       'E-mail Type', 'E-mail Display Name', 'E-mail 2 Address',\n",
       "       'E-mail 2 Type', 'E-mail 2 Display Name', 'E-mail 3 Address',\n",
       "       'E-mail 3 Type', 'E-mail 3 Display Name', 'Gender', 'Initials', 'Notes',\n",
       "       'Office Location', 'Priority', 'Private', 'Sensitivity', 'Spouse',\n",
       "       'Web Page', 'Contact', 'Home Phones', 'Business Phones', 'Other Phones',\n",
       "       'E-mail Addresses'],\n",
       "      dtype='object')"
      ]
     },
     "execution_count": 50,
     "metadata": {},
     "output_type": "execute_result"
    }
   ],
   "source": [
    "# Finding columns which have at least five entries:\n",
    "relevant = joel.dropna(axis=1,thresh=5).columns\n",
    "relevant"
   ]
  },
  {
   "cell_type": "code",
   "execution_count": 51,
   "metadata": {},
   "outputs": [],
   "source": [
    "# These are the fields which consist of duplicated information in our current subset.\n",
    "# They won't need to be joined since they only contain redundant info. \n",
    "# They will be aggregated by deleting all occurences except by first inside each duplicate group.\n",
    "\n",
    "firsts = ['Business Phone','Business Phone 2','Home Phone','Home Phone 2','Mobile Phone','Other Phone','E-mail Address',\n",
    "'E-mail 2 Address','E-mail 3 Address']"
   ]
  },
  {
   "cell_type": "code",
   "execution_count": 52,
   "metadata": {},
   "outputs": [],
   "source": [
    "# Reffering to next three commands: \n",
    "# The rest however will be aggregated by joining each entry into a single record, each entry will be separated by ' | '\n",
    "# inside the cell\n",
    "join_these = list(relevant[~relevant.isin(firsts)])"
   ]
  },
  {
   "cell_type": "code",
   "execution_count": 53,
   "metadata": {},
   "outputs": [],
   "source": [
    "# These, however, won't be needed to be joined, either because of their content or because of determinations made by the \n",
    "# client\n",
    "\n",
    "list_to_remove=['First Name', 'Middle Name', 'Last Name','Contact',\n",
    " 'Home Phones',\n",
    " 'Business Phones',\n",
    " 'Other Phones',\n",
    " 'E-mail Addresses','Anniversary','Birthday','E-mail Type', \n",
    "    'Gender','Priority ','Private ','Sensitivity','Priority','Private','E-mail Display Name','Initials']"
   ]
  },
  {
   "cell_type": "code",
   "execution_count": 54,
   "metadata": {},
   "outputs": [],
   "source": [
    "join_these= list(set(join_these).difference(set(list_to_remove)))"
   ]
  },
  {
   "cell_type": "code",
   "execution_count": 55,
   "metadata": {},
   "outputs": [],
   "source": [
    "## Lets create a python dictionary which will give directions to our .agg method as to which type of aggregation ('first' or 'join')\n",
    "# should be used to each attribute. \n",
    "\n",
    "dicts = {}\n",
    "value_1 = 'first'\n",
    "value_2 = lambda x: ' | '.join(x.fillna('').astype(str))\n",
    "\n",
    "for i in firsts:           \n",
    "    dicts[i] = value_1\n",
    "\n",
    "for j in join_these:\n",
    "    dicts[j] = value_2"
   ]
  },
  {
   "cell_type": "code",
   "execution_count": 56,
   "metadata": {},
   "outputs": [],
   "source": [
    "duplicates.reset_index(inplace=True)\n",
    "\n",
    "dicts['index'] = 'first'\n",
    "\n",
    "# The aggregation happens here! Let's cast our dictionary inside the .agg method so it does its magic!\n",
    "#                                                    \\/\n",
    "a= duplicates.groupby('Contact',as_index=False).agg(dicts)\n",
    "                    \n",
    "a.set_index('index',inplace=True)"
   ]
  },
  {
   "cell_type": "code",
   "execution_count": 57,
   "metadata": {},
   "outputs": [],
   "source": [
    "duplicates.set_index('index',inplace=True)"
   ]
  },
  {
   "cell_type": "code",
   "execution_count": 58,
   "metadata": {},
   "outputs": [],
   "source": [
    "# duplcates Left JOIN a\n",
    "duplicates.update(a, join='left', overwrite=True, filter_func=None, raise_conflict=False)"
   ]
  },
  {
   "cell_type": "markdown",
   "metadata": {},
   "source": [
    "###### Let's take a look at our 'duplicates' dataframe"
   ]
  },
  {
   "cell_type": "code",
   "execution_count": 59,
   "metadata": {},
   "outputs": [
    {
     "data": {
      "text/html": [
       "<div>\n",
       "<style scoped>\n",
       "    .dataframe tbody tr th:only-of-type {\n",
       "        vertical-align: middle;\n",
       "    }\n",
       "\n",
       "    .dataframe tbody tr th {\n",
       "        vertical-align: top;\n",
       "    }\n",
       "\n",
       "    .dataframe thead th {\n",
       "        text-align: right;\n",
       "    }\n",
       "</style>\n",
       "<table border=\"1\" class=\"dataframe\">\n",
       "  <thead>\n",
       "    <tr style=\"text-align: right;\">\n",
       "      <th></th>\n",
       "      <th>Title</th>\n",
       "      <th>First Name</th>\n",
       "      <th>Middle Name</th>\n",
       "      <th>Last Name</th>\n",
       "      <th>Suffix</th>\n",
       "      <th>Company</th>\n",
       "      <th>Department</th>\n",
       "      <th>Job Title</th>\n",
       "      <th>Business Street</th>\n",
       "      <th>Business Street 2</th>\n",
       "      <th>...</th>\n",
       "      <th>User 1</th>\n",
       "      <th>User 2</th>\n",
       "      <th>User 3</th>\n",
       "      <th>User 4</th>\n",
       "      <th>Web Page</th>\n",
       "      <th>Contact</th>\n",
       "      <th>Home Phones</th>\n",
       "      <th>Business Phones</th>\n",
       "      <th>Other Phones</th>\n",
       "      <th>E-mail Addresses</th>\n",
       "    </tr>\n",
       "    <tr>\n",
       "      <th>index</th>\n",
       "      <th></th>\n",
       "      <th></th>\n",
       "      <th></th>\n",
       "      <th></th>\n",
       "      <th></th>\n",
       "      <th></th>\n",
       "      <th></th>\n",
       "      <th></th>\n",
       "      <th></th>\n",
       "      <th></th>\n",
       "      <th></th>\n",
       "      <th></th>\n",
       "      <th></th>\n",
       "      <th></th>\n",
       "      <th></th>\n",
       "      <th></th>\n",
       "      <th></th>\n",
       "      <th></th>\n",
       "      <th></th>\n",
       "      <th></th>\n",
       "      <th></th>\n",
       "    </tr>\n",
       "  </thead>\n",
       "  <tbody>\n",
       "    <tr>\n",
       "      <th>3943</th>\n",
       "      <td>|  |</td>\n",
       "      <td>NaN</td>\n",
       "      <td>Service</td>\n",
       "      <td>Center</td>\n",
       "      <td>|  |</td>\n",
       "      <td>U.S.C.I.S. | Immigration &amp; Naturalization Serv...</td>\n",
       "      <td>|  |</td>\n",
       "      <td>|  |</td>\n",
       "      <td>P.O. Box 87485\\nLincoln, NE 68501-7485 | P.O. ...</td>\n",
       "      <td>NaN</td>\n",
       "      <td>...</td>\n",
       "      <td>NaN</td>\n",
       "      <td>NaN</td>\n",
       "      <td>NaN</td>\n",
       "      <td>NaN</td>\n",
       "      <td>|  |</td>\n",
       "      <td>Center</td>\n",
       "      <td>NaN</td>\n",
       "      <td>NaN</td>\n",
       "      <td>NaN</td>\n",
       "      <td>NaN</td>\n",
       "    </tr>\n",
       "    <tr>\n",
       "      <th>4716</th>\n",
       "      <td>NaN</td>\n",
       "      <td>NaN</td>\n",
       "      <td>Forms</td>\n",
       "      <td>Center</td>\n",
       "      <td>NaN</td>\n",
       "      <td>Immigration &amp; Naturalization Service</td>\n",
       "      <td>NaN</td>\n",
       "      <td>NaN</td>\n",
       "      <td>P.O. Box 567\\nWilliston, VT 05495-0567</td>\n",
       "      <td>NaN</td>\n",
       "      <td>...</td>\n",
       "      <td>NaN</td>\n",
       "      <td>NaN</td>\n",
       "      <td>NaN</td>\n",
       "      <td>NaN</td>\n",
       "      <td>NaN</td>\n",
       "      <td>Center</td>\n",
       "      <td>NaN</td>\n",
       "      <td>NaN</td>\n",
       "      <td>NaN</td>\n",
       "      <td>NaN</td>\n",
       "    </tr>\n",
       "    <tr>\n",
       "      <th>2671</th>\n",
       "      <td>NaN</td>\n",
       "      <td>NaN</td>\n",
       "      <td>Backlog Processing</td>\n",
       "      <td>Center</td>\n",
       "      <td>NaN</td>\n",
       "      <td>Employment &amp; Training Administration</td>\n",
       "      <td>NaN</td>\n",
       "      <td>NaN</td>\n",
       "      <td>1 Belmont Ave.\\nSuite 220</td>\n",
       "      <td>NaN</td>\n",
       "      <td>...</td>\n",
       "      <td>NaN</td>\n",
       "      <td>NaN</td>\n",
       "      <td>NaN</td>\n",
       "      <td>NaN</td>\n",
       "      <td>NaN</td>\n",
       "      <td>Center</td>\n",
       "      <td>NaN</td>\n",
       "      <td>NaN</td>\n",
       "      <td>NaN</td>\n",
       "      <td>NaN</td>\n",
       "    </tr>\n",
       "  </tbody>\n",
       "</table>\n",
       "<p>3 rows × 97 columns</p>\n",
       "</div>"
      ],
      "text/plain": [
       "        Title First Name         Middle Name Last Name  Suffix  \\\n",
       "index                                                            \n",
       "3943    |  |         NaN             Service    Center   |  |    \n",
       "4716      NaN        NaN               Forms    Center     NaN   \n",
       "2671      NaN        NaN  Backlog Processing    Center     NaN   \n",
       "\n",
       "                                                 Company Department Job Title  \\\n",
       "index                                                                           \n",
       "3943   U.S.C.I.S. | Immigration & Naturalization Serv...      |  |      |  |    \n",
       "4716                Immigration & Naturalization Service        NaN       NaN   \n",
       "2671                Employment & Training Administration        NaN       NaN   \n",
       "\n",
       "                                         Business Street Business Street 2  \\\n",
       "index                                                                        \n",
       "3943   P.O. Box 87485\\nLincoln, NE 68501-7485 | P.O. ...               NaN   \n",
       "4716              P.O. Box 567\\nWilliston, VT 05495-0567               NaN   \n",
       "2671                           1 Belmont Ave.\\nSuite 220               NaN   \n",
       "\n",
       "            ...        User 1 User 2 User 3 User 4 Web Page  Contact  \\\n",
       "index       ...                                                        \n",
       "3943        ...           NaN    NaN    NaN    NaN    |  |    Center   \n",
       "4716        ...           NaN    NaN    NaN    NaN      NaN   Center   \n",
       "2671        ...           NaN    NaN    NaN    NaN      NaN   Center   \n",
       "\n",
       "      Home Phones Business Phones Other Phones E-mail Addresses  \n",
       "index                                                            \n",
       "3943          NaN             NaN          NaN              NaN  \n",
       "4716          NaN             NaN          NaN              NaN  \n",
       "2671          NaN             NaN          NaN              NaN  \n",
       "\n",
       "[3 rows x 97 columns]"
      ]
     },
     "execution_count": 59,
     "metadata": {},
     "output_type": "execute_result"
    }
   ],
   "source": [
    "# EXAMPLE:\n",
    "duplicates[duplicates.Contact == ' Center']"
   ]
  },
  {
   "cell_type": "markdown",
   "metadata": {},
   "source": [
    "###### Let's take the 'Company' field for instance:"
   ]
  },
  {
   "cell_type": "code",
   "execution_count": 60,
   "metadata": {},
   "outputs": [
    {
     "data": {
      "text/plain": [
       "'U.S.C.I.S. | Immigration & Naturalization Service | Employment & Training Administration'"
      ]
     },
     "execution_count": 60,
     "metadata": {},
     "output_type": "execute_result"
    }
   ],
   "source": [
    "duplicates.loc[3943]['Company']  # All info was joined to a single cell!"
   ]
  },
  {
   "cell_type": "markdown",
   "metadata": {},
   "source": [
    "###### We can see that the data were joined, but it looks like we ended up with some unwanted '|  ' character. let's create a function that uses regular expressions to raise  'True' if a cell contains only '| ' character."
   ]
  },
  {
   "cell_type": "code",
   "execution_count": 61,
   "metadata": {},
   "outputs": [],
   "source": [
    "import re\n",
    ">>> def special_match(strg, search=re.compile(r'[^| .]').search):\n",
    "...     return not bool(search(strg))"
   ]
  },
  {
   "cell_type": "markdown",
   "metadata": {},
   "source": [
    "###### Now lets get rid of those unnecessary entries by applying the following lambda expression:"
   ]
  },
  {
   "cell_type": "code",
   "execution_count": 62,
   "metadata": {},
   "outputs": [],
   "source": [
    "duplicates = duplicates.applymap(lambda x: np.nan if (isinstance(x,str) and special_match(x) == True) else x)"
   ]
  },
  {
   "cell_type": "code",
   "execution_count": 63,
   "metadata": {},
   "outputs": [
    {
     "data": {
      "text/html": [
       "<div>\n",
       "<style scoped>\n",
       "    .dataframe tbody tr th:only-of-type {\n",
       "        vertical-align: middle;\n",
       "    }\n",
       "\n",
       "    .dataframe tbody tr th {\n",
       "        vertical-align: top;\n",
       "    }\n",
       "\n",
       "    .dataframe thead th {\n",
       "        text-align: right;\n",
       "    }\n",
       "</style>\n",
       "<table border=\"1\" class=\"dataframe\">\n",
       "  <thead>\n",
       "    <tr style=\"text-align: right;\">\n",
       "      <th></th>\n",
       "      <th>Business City</th>\n",
       "      <th>Company</th>\n",
       "      <th>Title</th>\n",
       "      <th>Other Country/Region</th>\n",
       "      <th>Children</th>\n",
       "      <th>Pager</th>\n",
       "      <th>Business Fax</th>\n",
       "      <th>Office Location</th>\n",
       "      <th>Home State</th>\n",
       "      <th>E-mail 2 Type</th>\n",
       "      <th>...</th>\n",
       "      <th>Spouse</th>\n",
       "      <th>Business Postal Code</th>\n",
       "      <th>Other State</th>\n",
       "      <th>Home City</th>\n",
       "      <th>Business Country/Region</th>\n",
       "      <th>Notes</th>\n",
       "      <th>Home Country/Region</th>\n",
       "      <th>Home Fax</th>\n",
       "      <th>Other City</th>\n",
       "      <th>Suffix</th>\n",
       "    </tr>\n",
       "    <tr>\n",
       "      <th>index</th>\n",
       "      <th></th>\n",
       "      <th></th>\n",
       "      <th></th>\n",
       "      <th></th>\n",
       "      <th></th>\n",
       "      <th></th>\n",
       "      <th></th>\n",
       "      <th></th>\n",
       "      <th></th>\n",
       "      <th></th>\n",
       "      <th></th>\n",
       "      <th></th>\n",
       "      <th></th>\n",
       "      <th></th>\n",
       "      <th></th>\n",
       "      <th></th>\n",
       "      <th></th>\n",
       "      <th></th>\n",
       "      <th></th>\n",
       "      <th></th>\n",
       "      <th></th>\n",
       "    </tr>\n",
       "  </thead>\n",
       "  <tbody>\n",
       "    <tr>\n",
       "      <th>3943</th>\n",
       "      <td>|  | Bala Cynwyd</td>\n",
       "      <td>U.S.C.I.S. | Immigration &amp; Naturalization Serv...</td>\n",
       "      <td>NaN</td>\n",
       "      <td>NaN</td>\n",
       "      <td>NaN</td>\n",
       "      <td>NaN</td>\n",
       "      <td>|  | +1 (484) 270-1615</td>\n",
       "      <td>NaN</td>\n",
       "      <td>NaN</td>\n",
       "      <td>NaN</td>\n",
       "      <td>...</td>\n",
       "      <td>NaN</td>\n",
       "      <td>|  | 19004</td>\n",
       "      <td>NaN</td>\n",
       "      <td>NaN</td>\n",
       "      <td>NaN</td>\n",
       "      <td>Sunday, September 15, 2013 7:20 PM:\\nCenter, N...</td>\n",
       "      <td>NaN</td>\n",
       "      <td>NaN</td>\n",
       "      <td>NaN</td>\n",
       "      <td>NaN</td>\n",
       "    </tr>\n",
       "    <tr>\n",
       "      <th>4716</th>\n",
       "      <td>NaN</td>\n",
       "      <td>Immigration &amp; Naturalization Service</td>\n",
       "      <td>NaN</td>\n",
       "      <td>NaN</td>\n",
       "      <td>NaN</td>\n",
       "      <td>NaN</td>\n",
       "      <td>NaN</td>\n",
       "      <td>NaN</td>\n",
       "      <td>NaN</td>\n",
       "      <td>NaN</td>\n",
       "      <td>...</td>\n",
       "      <td>NaN</td>\n",
       "      <td>NaN</td>\n",
       "      <td>NaN</td>\n",
       "      <td>NaN</td>\n",
       "      <td>NaN</td>\n",
       "      <td>Sunday, September 15, 2013 7:20 PM:\\nCenter, E...</td>\n",
       "      <td>NaN</td>\n",
       "      <td>NaN</td>\n",
       "      <td>NaN</td>\n",
       "      <td>NaN</td>\n",
       "    </tr>\n",
       "    <tr>\n",
       "      <th>2671</th>\n",
       "      <td>Bala Cynwyd</td>\n",
       "      <td>Employment &amp; Training Administration</td>\n",
       "      <td>NaN</td>\n",
       "      <td>NaN</td>\n",
       "      <td>NaN</td>\n",
       "      <td>NaN</td>\n",
       "      <td>+1 (484) 270-1615</td>\n",
       "      <td>NaN</td>\n",
       "      <td>NaN</td>\n",
       "      <td>NaN</td>\n",
       "      <td>...</td>\n",
       "      <td>NaN</td>\n",
       "      <td>19004</td>\n",
       "      <td>NaN</td>\n",
       "      <td>NaN</td>\n",
       "      <td>NaN</td>\n",
       "      <td>Sunday, September 15, 2013 8:09 PM:\\n&lt;!DOCTYPE...</td>\n",
       "      <td>NaN</td>\n",
       "      <td>NaN</td>\n",
       "      <td>NaN</td>\n",
       "      <td>NaN</td>\n",
       "    </tr>\n",
       "  </tbody>\n",
       "</table>\n",
       "<p>3 rows × 34 columns</p>\n",
       "</div>"
      ],
      "text/plain": [
       "           Business City                                            Company  \\\n",
       "index                                                                         \n",
       "3943    |  | Bala Cynwyd  U.S.C.I.S. | Immigration & Naturalization Serv...   \n",
       "4716                 NaN               Immigration & Naturalization Service   \n",
       "2671         Bala Cynwyd               Employment & Training Administration   \n",
       "\n",
       "      Title  Other Country/Region Children Pager             Business Fax  \\\n",
       "index                                                                       \n",
       "3943    NaN                   NaN      NaN   NaN   |  | +1 (484) 270-1615   \n",
       "4716    NaN                   NaN      NaN   NaN                      NaN   \n",
       "2671    NaN                   NaN      NaN   NaN        +1 (484) 270-1615   \n",
       "\n",
       "       Office Location Home State E-mail 2 Type  ...   Spouse  \\\n",
       "index                                            ...            \n",
       "3943               NaN        NaN           NaN  ...      NaN   \n",
       "4716               NaN        NaN           NaN  ...      NaN   \n",
       "2671               NaN        NaN           NaN  ...      NaN   \n",
       "\n",
       "      Business Postal Code Other State Home City Business Country/Region  \\\n",
       "index                                                                      \n",
       "3943            |  | 19004         NaN       NaN                     NaN   \n",
       "4716                   NaN         NaN       NaN                     NaN   \n",
       "2671                 19004         NaN       NaN                     NaN   \n",
       "\n",
       "                                                   Notes  Home Country/Region  \\\n",
       "index                                                                           \n",
       "3943   Sunday, September 15, 2013 7:20 PM:\\nCenter, N...                  NaN   \n",
       "4716   Sunday, September 15, 2013 7:20 PM:\\nCenter, E...                  NaN   \n",
       "2671   Sunday, September 15, 2013 8:09 PM:\\n<!DOCTYPE...                  NaN   \n",
       "\n",
       "       Home Fax Other City Suffix  \n",
       "index                              \n",
       "3943        NaN        NaN    NaN  \n",
       "4716        NaN        NaN    NaN  \n",
       "2671        NaN        NaN    NaN  \n",
       "\n",
       "[3 rows x 34 columns]"
      ]
     },
     "execution_count": 63,
     "metadata": {},
     "output_type": "execute_result"
    }
   ],
   "source": [
    "# EXAMPLE:\n",
    "duplicates[duplicates.Contact == ' Center'][join_these]"
   ]
  },
  {
   "cell_type": "code",
   "execution_count": 64,
   "metadata": {},
   "outputs": [],
   "source": [
    "# Let's also create a lambda function that uses a regular expression in order to remove repeated character pattern \n",
    "# in a string (for preventing redundant info after the aggregation)\n",
    "import re\n",
    "duplicates[join_these] = duplicates[join_these].applymap(lambda x: re.sub(r'(.+?)\\1+', r'\\1', x) if isinstance(x,str)  else x)"
   ]
  },
  {
   "cell_type": "markdown",
   "metadata": {},
   "source": [
    "____"
   ]
  },
  {
   "cell_type": "markdown",
   "metadata": {},
   "source": [
    "###### OK! Now, let's see how we got rid of many duplicates like these ones:"
   ]
  },
  {
   "cell_type": "code",
   "execution_count": 65,
   "metadata": {},
   "outputs": [
    {
     "data": {
      "text/html": [
       "<div>\n",
       "<style scoped>\n",
       "    .dataframe tbody tr th:only-of-type {\n",
       "        vertical-align: middle;\n",
       "    }\n",
       "\n",
       "    .dataframe tbody tr th {\n",
       "        vertical-align: top;\n",
       "    }\n",
       "\n",
       "    .dataframe thead th {\n",
       "        text-align: right;\n",
       "    }\n",
       "</style>\n",
       "<table border=\"1\" class=\"dataframe\">\n",
       "  <thead>\n",
       "    <tr style=\"text-align: right;\">\n",
       "      <th></th>\n",
       "      <th>Contact</th>\n",
       "      <th>Business Phone</th>\n",
       "      <th>Business Phone 2</th>\n",
       "      <th>Home Phone</th>\n",
       "      <th>Home Phone 2</th>\n",
       "      <th>Mobile Phone</th>\n",
       "      <th>Other Phone</th>\n",
       "      <th>E-mail Address</th>\n",
       "      <th>E-mail 2 Address</th>\n",
       "      <th>E-mail 3 Address</th>\n",
       "      <th>Notes</th>\n",
       "    </tr>\n",
       "  </thead>\n",
       "  <tbody>\n",
       "    <tr>\n",
       "      <th>721</th>\n",
       "      <td>Tatiana Goncalves</td>\n",
       "      <td>NaN</td>\n",
       "      <td>NaN</td>\n",
       "      <td>NaN</td>\n",
       "      <td>NaN</td>\n",
       "      <td>(754) 368-0417</td>\n",
       "      <td>NaN</td>\n",
       "      <td>taty.goncalves@hotmail.com</td>\n",
       "      <td>NaN</td>\n",
       "      <td>NaN</td>\n",
       "      <td>Works with\\r\\n\\r\\n</td>\n",
       "    </tr>\n",
       "    <tr>\n",
       "      <th>722</th>\n",
       "      <td>Tatiana Goncalves</td>\n",
       "      <td>NaN</td>\n",
       "      <td>NaN</td>\n",
       "      <td>NaN</td>\n",
       "      <td>NaN</td>\n",
       "      <td>(754) 368-0417</td>\n",
       "      <td>NaN</td>\n",
       "      <td>taty.goncalves@hotmail.com</td>\n",
       "      <td>NaN</td>\n",
       "      <td>NaN</td>\n",
       "      <td>Works with\\r\\n\\r\\n</td>\n",
       "    </tr>\n",
       "    <tr>\n",
       "      <th>723</th>\n",
       "      <td>Tatiana Goncalves</td>\n",
       "      <td>NaN</td>\n",
       "      <td>NaN</td>\n",
       "      <td>NaN</td>\n",
       "      <td>NaN</td>\n",
       "      <td>(754) 368-0417</td>\n",
       "      <td>NaN</td>\n",
       "      <td>taty.goncalves@hotmail.com</td>\n",
       "      <td>NaN</td>\n",
       "      <td>NaN</td>\n",
       "      <td>Works with\\r\\n\\r\\n</td>\n",
       "    </tr>\n",
       "    <tr>\n",
       "      <th>724</th>\n",
       "      <td>Tatiana Goncalves</td>\n",
       "      <td>NaN</td>\n",
       "      <td>NaN</td>\n",
       "      <td>NaN</td>\n",
       "      <td>NaN</td>\n",
       "      <td>(754) 368-0417</td>\n",
       "      <td>NaN</td>\n",
       "      <td>taty.goncalves@hotmail.com</td>\n",
       "      <td>NaN</td>\n",
       "      <td>NaN</td>\n",
       "      <td>Works with\\r\\n\\r\\n</td>\n",
       "    </tr>\n",
       "    <tr>\n",
       "      <th>725</th>\n",
       "      <td>Tatiana Goncalves</td>\n",
       "      <td>NaN</td>\n",
       "      <td>NaN</td>\n",
       "      <td>NaN</td>\n",
       "      <td>NaN</td>\n",
       "      <td>(754) 368-0417</td>\n",
       "      <td>NaN</td>\n",
       "      <td>taty.goncalves@hotmail.com</td>\n",
       "      <td>NaN</td>\n",
       "      <td>NaN</td>\n",
       "      <td>Works with\\r\\n\\r\\n</td>\n",
       "    </tr>\n",
       "    <tr>\n",
       "      <th>726</th>\n",
       "      <td>Tatiana Goncalves</td>\n",
       "      <td>NaN</td>\n",
       "      <td>NaN</td>\n",
       "      <td>NaN</td>\n",
       "      <td>NaN</td>\n",
       "      <td>(754) 368-0417</td>\n",
       "      <td>NaN</td>\n",
       "      <td>taty.goncalves@hotmail.com</td>\n",
       "      <td>NaN</td>\n",
       "      <td>NaN</td>\n",
       "      <td>Works with\\r\\n\\r\\n</td>\n",
       "    </tr>\n",
       "    <tr>\n",
       "      <th>727</th>\n",
       "      <td>Tatiana Goncalves</td>\n",
       "      <td>NaN</td>\n",
       "      <td>NaN</td>\n",
       "      <td>NaN</td>\n",
       "      <td>NaN</td>\n",
       "      <td>(754) 368-0417</td>\n",
       "      <td>NaN</td>\n",
       "      <td>taty.goncalves@hotmail.com</td>\n",
       "      <td>NaN</td>\n",
       "      <td>NaN</td>\n",
       "      <td>Works with\\r\\n\\r\\n</td>\n",
       "    </tr>\n",
       "    <tr>\n",
       "      <th>728</th>\n",
       "      <td>Tatiana Goncalves</td>\n",
       "      <td>NaN</td>\n",
       "      <td>NaN</td>\n",
       "      <td>NaN</td>\n",
       "      <td>NaN</td>\n",
       "      <td>(754) 368-0417</td>\n",
       "      <td>NaN</td>\n",
       "      <td>taty.goncalves@hotmail.com</td>\n",
       "      <td>NaN</td>\n",
       "      <td>NaN</td>\n",
       "      <td>Works with\\r\\n\\r\\n</td>\n",
       "    </tr>\n",
       "    <tr>\n",
       "      <th>729</th>\n",
       "      <td>Tatiana Goncalves</td>\n",
       "      <td>NaN</td>\n",
       "      <td>NaN</td>\n",
       "      <td>NaN</td>\n",
       "      <td>NaN</td>\n",
       "      <td>(754) 368-0417</td>\n",
       "      <td>NaN</td>\n",
       "      <td>taty.goncalves@hotmail.com</td>\n",
       "      <td>NaN</td>\n",
       "      <td>NaN</td>\n",
       "      <td>Works with Urbano.\\r\\n\\r\\n</td>\n",
       "    </tr>\n",
       "    <tr>\n",
       "      <th>730</th>\n",
       "      <td>Tatiana Goncalves</td>\n",
       "      <td>NaN</td>\n",
       "      <td>NaN</td>\n",
       "      <td>NaN</td>\n",
       "      <td>NaN</td>\n",
       "      <td>(754) 368-0417</td>\n",
       "      <td>NaN</td>\n",
       "      <td>taty.goncalves@hotmail.com</td>\n",
       "      <td>NaN</td>\n",
       "      <td>NaN</td>\n",
       "      <td>Works with\\r\\n\\r\\n</td>\n",
       "    </tr>\n",
       "    <tr>\n",
       "      <th>731</th>\n",
       "      <td>Tatiana Goncalves</td>\n",
       "      <td>NaN</td>\n",
       "      <td>NaN</td>\n",
       "      <td>NaN</td>\n",
       "      <td>NaN</td>\n",
       "      <td>(754) 368-0417</td>\n",
       "      <td>NaN</td>\n",
       "      <td>taty.goncalves@hotmail.com</td>\n",
       "      <td>NaN</td>\n",
       "      <td>NaN</td>\n",
       "      <td>Works with\\r\\n\\r\\n</td>\n",
       "    </tr>\n",
       "    <tr>\n",
       "      <th>732</th>\n",
       "      <td>Tatiana Goncalves</td>\n",
       "      <td>NaN</td>\n",
       "      <td>NaN</td>\n",
       "      <td>NaN</td>\n",
       "      <td>NaN</td>\n",
       "      <td>(754) 368-0417</td>\n",
       "      <td>NaN</td>\n",
       "      <td>taty.goncalves@hotmail.com</td>\n",
       "      <td>NaN</td>\n",
       "      <td>NaN</td>\n",
       "      <td>Works with\\r\\n\\r\\n</td>\n",
       "    </tr>\n",
       "    <tr>\n",
       "      <th>733</th>\n",
       "      <td>Tatiana Goncalves</td>\n",
       "      <td>NaN</td>\n",
       "      <td>NaN</td>\n",
       "      <td>NaN</td>\n",
       "      <td>NaN</td>\n",
       "      <td>(754) 368-0417</td>\n",
       "      <td>NaN</td>\n",
       "      <td>taty.goncalves@hotmail.com</td>\n",
       "      <td>NaN</td>\n",
       "      <td>NaN</td>\n",
       "      <td>Works with Urbano.\\r\\n\\r\\n</td>\n",
       "    </tr>\n",
       "    <tr>\n",
       "      <th>734</th>\n",
       "      <td>Tatiana Goncalves</td>\n",
       "      <td>NaN</td>\n",
       "      <td>NaN</td>\n",
       "      <td>NaN</td>\n",
       "      <td>NaN</td>\n",
       "      <td>(754) 368-0417</td>\n",
       "      <td>NaN</td>\n",
       "      <td>taty.goncalves@hotmail.com</td>\n",
       "      <td>NaN</td>\n",
       "      <td>NaN</td>\n",
       "      <td>Monday, May 7, 2018 11:07 AM:\\r\\nIncubator CCB...</td>\n",
       "    </tr>\n",
       "    <tr>\n",
       "      <th>735</th>\n",
       "      <td>Tatiana Goncalves</td>\n",
       "      <td>NaN</td>\n",
       "      <td>NaN</td>\n",
       "      <td>NaN</td>\n",
       "      <td>NaN</td>\n",
       "      <td>(754) 368-0417</td>\n",
       "      <td>NaN</td>\n",
       "      <td>taty.goncalves@hotmail.com</td>\n",
       "      <td>NaN</td>\n",
       "      <td>NaN</td>\n",
       "      <td>Works with\\r\\n\\r\\n</td>\n",
       "    </tr>\n",
       "  </tbody>\n",
       "</table>\n",
       "</div>"
      ],
      "text/plain": [
       "               Contact Business Phone Business Phone 2 Home Phone  \\\n",
       "721  Tatiana Goncalves            NaN              NaN        NaN   \n",
       "722  Tatiana Goncalves            NaN              NaN        NaN   \n",
       "723  Tatiana Goncalves            NaN              NaN        NaN   \n",
       "724  Tatiana Goncalves            NaN              NaN        NaN   \n",
       "725  Tatiana Goncalves            NaN              NaN        NaN   \n",
       "726  Tatiana Goncalves            NaN              NaN        NaN   \n",
       "727  Tatiana Goncalves            NaN              NaN        NaN   \n",
       "728  Tatiana Goncalves            NaN              NaN        NaN   \n",
       "729  Tatiana Goncalves            NaN              NaN        NaN   \n",
       "730  Tatiana Goncalves            NaN              NaN        NaN   \n",
       "731  Tatiana Goncalves            NaN              NaN        NaN   \n",
       "732  Tatiana Goncalves            NaN              NaN        NaN   \n",
       "733  Tatiana Goncalves            NaN              NaN        NaN   \n",
       "734  Tatiana Goncalves            NaN              NaN        NaN   \n",
       "735  Tatiana Goncalves            NaN              NaN        NaN   \n",
       "\n",
       "    Home Phone 2    Mobile Phone Other Phone              E-mail Address  \\\n",
       "721          NaN  (754) 368-0417         NaN  taty.goncalves@hotmail.com   \n",
       "722          NaN  (754) 368-0417         NaN  taty.goncalves@hotmail.com   \n",
       "723          NaN  (754) 368-0417         NaN  taty.goncalves@hotmail.com   \n",
       "724          NaN  (754) 368-0417         NaN  taty.goncalves@hotmail.com   \n",
       "725          NaN  (754) 368-0417         NaN  taty.goncalves@hotmail.com   \n",
       "726          NaN  (754) 368-0417         NaN  taty.goncalves@hotmail.com   \n",
       "727          NaN  (754) 368-0417         NaN  taty.goncalves@hotmail.com   \n",
       "728          NaN  (754) 368-0417         NaN  taty.goncalves@hotmail.com   \n",
       "729          NaN  (754) 368-0417         NaN  taty.goncalves@hotmail.com   \n",
       "730          NaN  (754) 368-0417         NaN  taty.goncalves@hotmail.com   \n",
       "731          NaN  (754) 368-0417         NaN  taty.goncalves@hotmail.com   \n",
       "732          NaN  (754) 368-0417         NaN  taty.goncalves@hotmail.com   \n",
       "733          NaN  (754) 368-0417         NaN  taty.goncalves@hotmail.com   \n",
       "734          NaN  (754) 368-0417         NaN  taty.goncalves@hotmail.com   \n",
       "735          NaN  (754) 368-0417         NaN  taty.goncalves@hotmail.com   \n",
       "\n",
       "    E-mail 2 Address E-mail 3 Address  \\\n",
       "721              NaN              NaN   \n",
       "722              NaN              NaN   \n",
       "723              NaN              NaN   \n",
       "724              NaN              NaN   \n",
       "725              NaN              NaN   \n",
       "726              NaN              NaN   \n",
       "727              NaN              NaN   \n",
       "728              NaN              NaN   \n",
       "729              NaN              NaN   \n",
       "730              NaN              NaN   \n",
       "731              NaN              NaN   \n",
       "732              NaN              NaN   \n",
       "733              NaN              NaN   \n",
       "734              NaN              NaN   \n",
       "735              NaN              NaN   \n",
       "\n",
       "                                                 Notes  \n",
       "721                                 Works with\\r\\n\\r\\n  \n",
       "722                                 Works with\\r\\n\\r\\n  \n",
       "723                                 Works with\\r\\n\\r\\n  \n",
       "724                                 Works with\\r\\n\\r\\n  \n",
       "725                                 Works with\\r\\n\\r\\n  \n",
       "726                                 Works with\\r\\n\\r\\n  \n",
       "727                                 Works with\\r\\n\\r\\n  \n",
       "728                                 Works with\\r\\n\\r\\n  \n",
       "729                         Works with Urbano.\\r\\n\\r\\n  \n",
       "730                                 Works with\\r\\n\\r\\n  \n",
       "731                                 Works with\\r\\n\\r\\n  \n",
       "732                                 Works with\\r\\n\\r\\n  \n",
       "733                         Works with Urbano.\\r\\n\\r\\n  \n",
       "734  Monday, May 7, 2018 11:07 AM:\\r\\nIncubator CCB...  \n",
       "735                                 Works with\\r\\n\\r\\n  "
      ]
     },
     "execution_count": 65,
     "metadata": {},
     "output_type": "execute_result"
    }
   ],
   "source": [
    "## Example -Before- :\n",
    "joel[joel['Contact']=='Tatiana Goncalves'][imp2]"
   ]
  },
  {
   "cell_type": "markdown",
   "metadata": {},
   "source": [
    "###### Let's use the '.update' method to carry our changes to our main df 'joel'"
   ]
  },
  {
   "cell_type": "code",
   "execution_count": 66,
   "metadata": {},
   "outputs": [],
   "source": [
    "# test Left JOIN nodupes_phone\n",
    "joel.update(duplicates, join='left', overwrite=True, filter_func=None, raise_conflict=False)"
   ]
  },
  {
   "cell_type": "code",
   "execution_count": 67,
   "metadata": {},
   "outputs": [],
   "source": [
    "# Drop the duplicates using column 'Contact' as reference but only keep the most filled rows\n",
    "duplicates_2= duplicates.drop_duplicates(subset=['Contact'],keep='first')\n",
    "\n",
    "joel.drop(duplicates.index.difference(duplicates_2.index),inplace=True)"
   ]
  },
  {
   "cell_type": "code",
   "execution_count": 68,
   "metadata": {},
   "outputs": [
    {
     "data": {
      "text/html": [
       "<div>\n",
       "<style scoped>\n",
       "    .dataframe tbody tr th:only-of-type {\n",
       "        vertical-align: middle;\n",
       "    }\n",
       "\n",
       "    .dataframe tbody tr th {\n",
       "        vertical-align: top;\n",
       "    }\n",
       "\n",
       "    .dataframe thead th {\n",
       "        text-align: right;\n",
       "    }\n",
       "</style>\n",
       "<table border=\"1\" class=\"dataframe\">\n",
       "  <thead>\n",
       "    <tr style=\"text-align: right;\">\n",
       "      <th></th>\n",
       "      <th>Contact</th>\n",
       "      <th>Business Phone</th>\n",
       "      <th>Business Phone 2</th>\n",
       "      <th>Home Phone</th>\n",
       "      <th>Home Phone 2</th>\n",
       "      <th>Mobile Phone</th>\n",
       "      <th>Other Phone</th>\n",
       "      <th>E-mail Address</th>\n",
       "      <th>E-mail 2 Address</th>\n",
       "      <th>E-mail 3 Address</th>\n",
       "      <th>Notes</th>\n",
       "    </tr>\n",
       "  </thead>\n",
       "  <tbody>\n",
       "    <tr>\n",
       "      <th>726</th>\n",
       "      <td>Tatiana Goncalves</td>\n",
       "      <td>NaN</td>\n",
       "      <td>NaN</td>\n",
       "      <td>NaN</td>\n",
       "      <td>NaN</td>\n",
       "      <td>(754) 368-0417</td>\n",
       "      <td>NaN</td>\n",
       "      <td>taty.goncalves@hotmail.com</td>\n",
       "      <td>NaN</td>\n",
       "      <td>NaN</td>\n",
       "      <td>Works with\\r\\n\\r\\n | Works with\\r\\n\\r\\n | Work...</td>\n",
       "    </tr>\n",
       "  </tbody>\n",
       "</table>\n",
       "</div>"
      ],
      "text/plain": [
       "               Contact Business Phone Business Phone 2 Home Phone  \\\n",
       "726  Tatiana Goncalves            NaN              NaN        NaN   \n",
       "\n",
       "    Home Phone 2    Mobile Phone Other Phone              E-mail Address  \\\n",
       "726          NaN  (754) 368-0417         NaN  taty.goncalves@hotmail.com   \n",
       "\n",
       "    E-mail 2 Address E-mail 3 Address  \\\n",
       "726              NaN              NaN   \n",
       "\n",
       "                                                 Notes  \n",
       "726  Works with\\r\\n\\r\\n | Works with\\r\\n\\r\\n | Work...  "
      ]
     },
     "execution_count": 68,
     "metadata": {},
     "output_type": "execute_result"
    }
   ],
   "source": [
    "## Example -After- :\n",
    "joel[joel['Contact']=='Tatiana Goncalves'][imp2]\n"
   ]
  },
  {
   "cell_type": "markdown",
   "metadata": {},
   "source": [
    "_____"
   ]
  },
  {
   "cell_type": "markdown",
   "metadata": {},
   "source": [
    "##### &#9678; Current Number of Duplicates on 'Contact':"
   ]
  },
  {
   "cell_type": "code",
   "execution_count": 69,
   "metadata": {},
   "outputs": [
    {
     "data": {
      "text/plain": [
       "926"
      ]
     },
     "execution_count": 69,
     "metadata": {},
     "output_type": "execute_result"
    }
   ],
   "source": [
    "len(joel[joel.duplicated(subset=['Contact'],keep=False)])"
   ]
  },
  {
   "cell_type": "markdown",
   "metadata": {},
   "source": [
    "____"
   ]
  },
  {
   "cell_type": "markdown",
   "metadata": {},
   "source": [
    "##### As I began a deeper exploration of this dataset, I came across lots of almost identical duplicated records. That is, they had similar data on Contact names but presented divergent information on other fields such as E-mails, Business Phones, Home Phones and Mobile Phone. In the following subsections, we will be performing a series of methods to promote condensation of inforrmation into a single record within a group of 'duplicated' data."
   ]
  },
  {
   "cell_type": "markdown",
   "metadata": {},
   "source": [
    "#### Typical Example of this phenomena:"
   ]
  },
  {
   "cell_type": "code",
   "execution_count": 70,
   "metadata": {},
   "outputs": [
    {
     "data": {
      "text/html": [
       "<div>\n",
       "<style scoped>\n",
       "    .dataframe tbody tr th:only-of-type {\n",
       "        vertical-align: middle;\n",
       "    }\n",
       "\n",
       "    .dataframe tbody tr th {\n",
       "        vertical-align: top;\n",
       "    }\n",
       "\n",
       "    .dataframe thead th {\n",
       "        text-align: right;\n",
       "    }\n",
       "</style>\n",
       "<table border=\"1\" class=\"dataframe\">\n",
       "  <thead>\n",
       "    <tr style=\"text-align: right;\">\n",
       "      <th></th>\n",
       "      <th>Contact</th>\n",
       "      <th>Business Phone</th>\n",
       "      <th>Business Phone 2</th>\n",
       "      <th>Home Phone</th>\n",
       "      <th>Home Phone 2</th>\n",
       "      <th>Mobile Phone</th>\n",
       "      <th>Other Phone</th>\n",
       "      <th>E-mail Address</th>\n",
       "      <th>E-mail 2 Address</th>\n",
       "      <th>E-mail 3 Address</th>\n",
       "      <th>Notes</th>\n",
       "    </tr>\n",
       "  </thead>\n",
       "  <tbody>\n",
       "    <tr>\n",
       "      <th>5529</th>\n",
       "      <td>Matthew Adams</td>\n",
       "      <td>(561) 272-8037</td>\n",
       "      <td>NaN</td>\n",
       "      <td>NaN</td>\n",
       "      <td>NaN</td>\n",
       "      <td>+1 (561) 654-6288</td>\n",
       "      <td>NaN</td>\n",
       "      <td>mattadams97@hotmail.com</td>\n",
       "      <td>NaN</td>\n",
       "      <td>NaN</td>\n",
       "      <td>Sunday, September 15, 2013 7:19 PM:\\nMatthew D...</td>\n",
       "    </tr>\n",
       "    <tr>\n",
       "      <th>6406</th>\n",
       "      <td>Matthew Adams</td>\n",
       "      <td>NaN</td>\n",
       "      <td>NaN</td>\n",
       "      <td>NaN</td>\n",
       "      <td>NaN</td>\n",
       "      <td>(561) 542-5720</td>\n",
       "      <td>NaN</td>\n",
       "      <td>mattadams14@gmail.com</td>\n",
       "      <td>NaN</td>\n",
       "      <td>NaN</td>\n",
       "      <td>NaN</td>\n",
       "    </tr>\n",
       "  </tbody>\n",
       "</table>\n",
       "</div>"
      ],
      "text/plain": [
       "            Contact  Business Phone Business Phone 2 Home Phone Home Phone 2  \\\n",
       "5529  Matthew Adams  (561) 272-8037              NaN        NaN          NaN   \n",
       "6406  Matthew Adams             NaN              NaN        NaN          NaN   \n",
       "\n",
       "           Mobile Phone Other Phone           E-mail Address E-mail 2 Address  \\\n",
       "5529  +1 (561) 654-6288         NaN  mattadams97@hotmail.com              NaN   \n",
       "6406     (561) 542-5720         NaN    mattadams14@gmail.com              NaN   \n",
       "\n",
       "     E-mail 3 Address                                              Notes  \n",
       "5529              NaN  Sunday, September 15, 2013 7:19 PM:\\nMatthew D...  \n",
       "6406              NaN                                                NaN  "
      ]
     },
     "execution_count": 70,
     "metadata": {},
     "output_type": "execute_result"
    }
   ],
   "source": [
    "joel[joel.Contact.str.contains('Matthew Adams')][imp2]"
   ]
  },
  {
   "cell_type": "markdown",
   "metadata": {},
   "source": [
    "### 4.1 Records with non-duplicated Mails and with duplicated name:"
   ]
  },
  {
   "cell_type": "code",
   "execution_count": 71,
   "metadata": {},
   "outputs": [],
   "source": [
    "nodupes_mail = joel[((~joel.duplicated(subset=['E-mail Address'], keep='last')) |(~joel.duplicated(subset=['E-mail Address'], keep='first')) | (joel['E-mail Address'].isnull())) &((joel.duplicated(subset=['Contact'],keep=False)))]\n"
   ]
  },
  {
   "cell_type": "markdown",
   "metadata": {},
   "source": [
    "### 4.1.1  Dealing with Pairs"
   ]
  },
  {
   "cell_type": "markdown",
   "metadata": {},
   "source": [
    "#### After identifying the overall redundant Names, we're going to first filter out those records which have only pairs of duplictates, so that we can move not similar e-mails in order to condense all information into a single record.\n"
   ]
  },
  {
   "cell_type": "code",
   "execution_count": 72,
   "metadata": {},
   "outputs": [],
   "source": [
    "pair = nodupes_mail.groupby(nodupes_mail['Contact'].values.tolist(),as_index=False).size() ==2\n",
    "lista = list(pair[pair==True].index)\n",
    "\n",
    "\n",
    "# Function to identify pairs of duplicated records\n",
    "def pairs(x):\n",
    "    if x in lista:\n",
    "        return True"
   ]
  },
  {
   "cell_type": "code",
   "execution_count": 73,
   "metadata": {},
   "outputs": [],
   "source": [
    "# Applying the function into the 'Contact' column and subsequently filtering our current subset:\n",
    "\n",
    "nodupes_mail = nodupes_mail[nodupes_mail['Contact'].apply(pairs) == True]"
   ]
  },
  {
   "cell_type": "markdown",
   "metadata": {},
   "source": [
    "###### Since we now have only pairs of records which have duplicated names and different e-mail addresses, we can safely move data from 'E-mail' to 'E-mail 2'."
   ]
  },
  {
   "cell_type": "code",
   "execution_count": 74,
   "metadata": {},
   "outputs": [],
   "source": [
    "## Moving those e-mails From 'E-mail' Field to 'E-mail 2' field\n",
    "\n",
    "nodupes_mail['E-mail 2 Address'] = nodupes_mail['E-mail Address'][nodupes_mail.duplicated(subset=\n",
    "['Contact'], keep=False)]"
   ]
  },
  {
   "cell_type": "markdown",
   "metadata": {},
   "source": [
    "###### We're taking the approach of sorting by a 'count' column which counts the number of cells with no information on importante fields (imp2) for each row. That way, we make sure we're merging information into the most filled row of each duplicate group."
   ]
  },
  {
   "cell_type": "code",
   "execution_count": 75,
   "metadata": {},
   "outputs": [],
   "source": [
    "#sorting:\n",
    "nodupes_mail['count'] = pd.isnull(nodupes_mail[imp2]).sum(1)\n",
    "nodupes_mail= nodupes_mail.sort_values(['Contact','count','E-mail Address'],na_position='last')\n"
   ]
  },
  {
   "cell_type": "markdown",
   "metadata": {},
   "source": [
    "###### Now we're going to go ahead and use the shift method to move up one cell on the E-mail 2 Address. That way we get the second address into our first record, which is the most filled one since we previously sorted by our 'count' column."
   ]
  },
  {
   "cell_type": "code",
   "execution_count": 76,
   "metadata": {},
   "outputs": [],
   "source": [
    "## Part 2.Moving  those e-mails From 'E-mail 2 Address' to the upper records (same Person)\n",
    "### DISCLAIMER: MUST RUN THE FOLLOWING CODE ONLY ONCE!!\n",
    "\n",
    "nodupes_mail['E-mail 2 Address'] = nodupes_mail.groupby(['Contact'])['E-mail 2 Address'].shift(-1)"
   ]
  },
  {
   "cell_type": "markdown",
   "metadata": {},
   "source": [
    "___"
   ]
  },
  {
   "cell_type": "markdown",
   "metadata": {},
   "source": [
    "#### Joining back to original dataset:"
   ]
  },
  {
   "cell_type": "code",
   "execution_count": 77,
   "metadata": {},
   "outputs": [
    {
     "data": {
      "text/html": [
       "<div>\n",
       "<style scoped>\n",
       "    .dataframe tbody tr th:only-of-type {\n",
       "        vertical-align: middle;\n",
       "    }\n",
       "\n",
       "    .dataframe tbody tr th {\n",
       "        vertical-align: top;\n",
       "    }\n",
       "\n",
       "    .dataframe thead th {\n",
       "        text-align: right;\n",
       "    }\n",
       "</style>\n",
       "<table border=\"1\" class=\"dataframe\">\n",
       "  <thead>\n",
       "    <tr style=\"text-align: right;\">\n",
       "      <th></th>\n",
       "      <th>Contact</th>\n",
       "      <th>Business Phone</th>\n",
       "      <th>Business Phone 2</th>\n",
       "      <th>Home Phone</th>\n",
       "      <th>Home Phone 2</th>\n",
       "      <th>Mobile Phone</th>\n",
       "      <th>Other Phone</th>\n",
       "      <th>E-mail Address</th>\n",
       "      <th>E-mail 2 Address</th>\n",
       "      <th>E-mail 3 Address</th>\n",
       "      <th>Notes</th>\n",
       "    </tr>\n",
       "  </thead>\n",
       "  <tbody>\n",
       "    <tr>\n",
       "      <th>24</th>\n",
       "      <td>Miguel de Oliveira</td>\n",
       "      <td>NaN</td>\n",
       "      <td>NaN</td>\n",
       "      <td>NaN</td>\n",
       "      <td>NaN</td>\n",
       "      <td>(407) 467-8843</td>\n",
       "      <td>NaN</td>\n",
       "      <td>maoliveira@earthlink.net</td>\n",
       "      <td>NaN</td>\n",
       "      <td>NaN</td>\n",
       "      <td>Amigo de Joey Volpato\\r\\n\\r\\nCCBTV\\r\\n\\r\\nNot ...</td>\n",
       "    </tr>\n",
       "    <tr>\n",
       "      <th>25</th>\n",
       "      <td>Miguel de Oliveira</td>\n",
       "      <td>NaN</td>\n",
       "      <td>NaN</td>\n",
       "      <td>NaN</td>\n",
       "      <td>NaN</td>\n",
       "      <td>01155966451901</td>\n",
       "      <td>NaN</td>\n",
       "      <td>miguel1956@uol.com.br</td>\n",
       "      <td>NaN</td>\n",
       "      <td>NaN</td>\n",
       "      <td>Olivia Ilmar Dantas da Silva Oliveira\\n\\nVeiu ...</td>\n",
       "    </tr>\n",
       "  </tbody>\n",
       "</table>\n",
       "</div>"
      ],
      "text/plain": [
       "               Contact Business Phone Business Phone 2 Home Phone  \\\n",
       "24  Miguel de Oliveira            NaN              NaN        NaN   \n",
       "25  Miguel de Oliveira            NaN              NaN        NaN   \n",
       "\n",
       "   Home Phone 2    Mobile Phone Other Phone            E-mail Address  \\\n",
       "24          NaN  (407) 467-8843         NaN  maoliveira@earthlink.net   \n",
       "25          NaN  01155966451901         NaN     miguel1956@uol.com.br   \n",
       "\n",
       "   E-mail 2 Address E-mail 3 Address  \\\n",
       "24              NaN              NaN   \n",
       "25              NaN              NaN   \n",
       "\n",
       "                                                Notes  \n",
       "24  Amigo de Joey Volpato\\r\\n\\r\\nCCBTV\\r\\n\\r\\nNot ...  \n",
       "25  Olivia Ilmar Dantas da Silva Oliveira\\n\\nVeiu ...  "
      ]
     },
     "execution_count": 77,
     "metadata": {},
     "output_type": "execute_result"
    }
   ],
   "source": [
    "#test -Before-:\n",
    "joel[joel['Contact']=='Miguel de Oliveira'][imp2]"
   ]
  },
  {
   "cell_type": "code",
   "execution_count": 78,
   "metadata": {},
   "outputs": [],
   "source": [
    "# act Left JOIN nodupes_phone\n",
    "joel.update(nodupes_mail, join='left', overwrite=True, filter_func=None, raise_conflict=False)"
   ]
  },
  {
   "cell_type": "code",
   "execution_count": 79,
   "metadata": {},
   "outputs": [
    {
     "data": {
      "text/html": [
       "<div>\n",
       "<style scoped>\n",
       "    .dataframe tbody tr th:only-of-type {\n",
       "        vertical-align: middle;\n",
       "    }\n",
       "\n",
       "    .dataframe tbody tr th {\n",
       "        vertical-align: top;\n",
       "    }\n",
       "\n",
       "    .dataframe thead th {\n",
       "        text-align: right;\n",
       "    }\n",
       "</style>\n",
       "<table border=\"1\" class=\"dataframe\">\n",
       "  <thead>\n",
       "    <tr style=\"text-align: right;\">\n",
       "      <th></th>\n",
       "      <th>Contact</th>\n",
       "      <th>Business Phone</th>\n",
       "      <th>Business Phone 2</th>\n",
       "      <th>Home Phone</th>\n",
       "      <th>Home Phone 2</th>\n",
       "      <th>Mobile Phone</th>\n",
       "      <th>Other Phone</th>\n",
       "      <th>E-mail Address</th>\n",
       "      <th>E-mail 2 Address</th>\n",
       "      <th>E-mail 3 Address</th>\n",
       "      <th>Notes</th>\n",
       "    </tr>\n",
       "  </thead>\n",
       "  <tbody>\n",
       "    <tr>\n",
       "      <th>24</th>\n",
       "      <td>Miguel de Oliveira</td>\n",
       "      <td>NaN</td>\n",
       "      <td>NaN</td>\n",
       "      <td>NaN</td>\n",
       "      <td>NaN</td>\n",
       "      <td>(407) 467-8843</td>\n",
       "      <td>NaN</td>\n",
       "      <td>maoliveira@earthlink.net</td>\n",
       "      <td>miguel1956@uol.com.br</td>\n",
       "      <td>NaN</td>\n",
       "      <td>Amigo de Joey Volpato\\r\\n\\r\\nCCBTV\\r\\n\\r\\nNot ...</td>\n",
       "    </tr>\n",
       "    <tr>\n",
       "      <th>25</th>\n",
       "      <td>Miguel de Oliveira</td>\n",
       "      <td>NaN</td>\n",
       "      <td>NaN</td>\n",
       "      <td>NaN</td>\n",
       "      <td>NaN</td>\n",
       "      <td>01155966451901</td>\n",
       "      <td>NaN</td>\n",
       "      <td>miguel1956@uol.com.br</td>\n",
       "      <td>NaN</td>\n",
       "      <td>NaN</td>\n",
       "      <td>Olivia Ilmar Dantas da Silva Oliveira\\n\\nVeiu ...</td>\n",
       "    </tr>\n",
       "  </tbody>\n",
       "</table>\n",
       "</div>"
      ],
      "text/plain": [
       "               Contact Business Phone Business Phone 2 Home Phone  \\\n",
       "24  Miguel de Oliveira            NaN              NaN        NaN   \n",
       "25  Miguel de Oliveira            NaN              NaN        NaN   \n",
       "\n",
       "   Home Phone 2    Mobile Phone Other Phone            E-mail Address  \\\n",
       "24          NaN  (407) 467-8843         NaN  maoliveira@earthlink.net   \n",
       "25          NaN  01155966451901         NaN     miguel1956@uol.com.br   \n",
       "\n",
       "         E-mail 2 Address E-mail 3 Address  \\\n",
       "24  miguel1956@uol.com.br              NaN   \n",
       "25                    NaN              NaN   \n",
       "\n",
       "                                                Notes  \n",
       "24  Amigo de Joey Volpato\\r\\n\\r\\nCCBTV\\r\\n\\r\\nNot ...  \n",
       "25  Olivia Ilmar Dantas da Silva Oliveira\\n\\nVeiu ...  "
      ]
     },
     "execution_count": 79,
     "metadata": {},
     "output_type": "execute_result"
    }
   ],
   "source": [
    "#test -After-: (We are currently concerned only with E-mail addresses)\n",
    "joel[joel['Contact']=='Miguel de Oliveira'][imp2]"
   ]
  },
  {
   "cell_type": "markdown",
   "metadata": {},
   "source": [
    "### 4.1.2 Dealing with trios"
   ]
  },
  {
   "cell_type": "markdown",
   "metadata": {},
   "source": [
    "###### Now we're going to be dealing with trios of redundant records (on Contact name). I've taken this approach due to limitations of Outlook itself as it only offers three fields for E-mails. For bigger groups, We will be dealing with them on the later sections..."
   ]
  },
  {
   "cell_type": "code",
   "execution_count": 80,
   "metadata": {},
   "outputs": [],
   "source": [
    "nodupes_mail = joel[((~joel.duplicated(subset=['E-mail Addresses'], keep='last')) | (~joel.duplicated(subset=['E-mail Addresses'], keep='first')) | (joel['E-mail Addresses'].isnull()))  &((joel.duplicated(subset=['Contact'],keep=False)))]\n"
   ]
  },
  {
   "cell_type": "code",
   "execution_count": 81,
   "metadata": {},
   "outputs": [],
   "source": [
    "pair = nodupes_mail.groupby(nodupes_mail['Contact'].tolist(),as_index=False).size() ==3\n",
    "lista = list(pair[pair==True].index)\n",
    "nodupes_mail = nodupes_mail[nodupes_mail['Contact'].apply(pairs) == True]"
   ]
  },
  {
   "cell_type": "markdown",
   "metadata": {},
   "source": [
    "----"
   ]
  },
  {
   "cell_type": "markdown",
   "metadata": {},
   "source": [
    "###### We're going to be pretty much taking the same steps that we've taken for dealing with duplicates. The only difference being that now we have to include 'E-mail 3 Address' into the equation!"
   ]
  },
  {
   "cell_type": "code",
   "execution_count": 82,
   "metadata": {},
   "outputs": [],
   "source": [
    "## Moving those emails From 'E-mail Address' Field to 'E-mail 2 Address' field\n",
    "nodupes_mail['E-mail 2 Address'] = nodupes_mail['E-mail Address'][nodupes_mail.duplicated(subset=\n",
    "['Contact'], keep=False)]\n",
    "## Moving those emails From 'E-mail 2 Address' Field to 'E-mail 3 Address' field\n",
    "nodupes_mail['E-mail 3 Address'] = nodupes_mail['E-mail 2 Address']\n",
    "#sorting:\n",
    "nodupes_mail['count'] = pd.isnull(nodupes_mail[imp2]).sum(1)\n",
    "nodupes_mail= nodupes_mail.sort_values(['Contact','count','E-mail Address'],na_position='last')\n",
    "nodupes_mail.drop('count',1,inplace=True)\n",
    "#Shifting Values:\n",
    "### DISCLAIMER: MUST RUN THE FOLLOWING CODE ONLY ONCE!!\n",
    "nodupes_mail['E-mail 2 Address'] = nodupes_mail.groupby(['Contact'])['E-mail 2 Address'].shift(-1)\n",
    "nodupes_mail['E-mail 3 Address'] = nodupes_mail.groupby(['Contact'])['E-mail 3 Address'].shift(-2)"
   ]
  },
  {
   "cell_type": "markdown",
   "metadata": {},
   "source": [
    "#### Joining back to original dataset:"
   ]
  },
  {
   "cell_type": "code",
   "execution_count": 83,
   "metadata": {},
   "outputs": [
    {
     "data": {
      "text/html": [
       "<div>\n",
       "<style scoped>\n",
       "    .dataframe tbody tr th:only-of-type {\n",
       "        vertical-align: middle;\n",
       "    }\n",
       "\n",
       "    .dataframe tbody tr th {\n",
       "        vertical-align: top;\n",
       "    }\n",
       "\n",
       "    .dataframe thead th {\n",
       "        text-align: right;\n",
       "    }\n",
       "</style>\n",
       "<table border=\"1\" class=\"dataframe\">\n",
       "  <thead>\n",
       "    <tr style=\"text-align: right;\">\n",
       "      <th></th>\n",
       "      <th>Contact</th>\n",
       "      <th>Business Phone</th>\n",
       "      <th>Business Phone 2</th>\n",
       "      <th>Home Phone</th>\n",
       "      <th>Home Phone 2</th>\n",
       "      <th>Mobile Phone</th>\n",
       "      <th>Other Phone</th>\n",
       "      <th>E-mail Address</th>\n",
       "      <th>E-mail 2 Address</th>\n",
       "      <th>E-mail 3 Address</th>\n",
       "    </tr>\n",
       "  </thead>\n",
       "  <tbody>\n",
       "    <tr>\n",
       "      <th>8758</th>\n",
       "      <td>Selma Smith</td>\n",
       "      <td>NaN</td>\n",
       "      <td>NaN</td>\n",
       "      <td>NaN</td>\n",
       "      <td>NaN</td>\n",
       "      <td>NaN</td>\n",
       "      <td>NaN</td>\n",
       "      <td>Alohaselma@yahoo.com</td>\n",
       "      <td>NaN</td>\n",
       "      <td>NaN</td>\n",
       "    </tr>\n",
       "    <tr>\n",
       "      <th>10342</th>\n",
       "      <td>Selma Smith</td>\n",
       "      <td>NaN</td>\n",
       "      <td>NaN</td>\n",
       "      <td>NaN</td>\n",
       "      <td>NaN</td>\n",
       "      <td>NaN</td>\n",
       "      <td>NaN</td>\n",
       "      <td>selfiorini@msn.com</td>\n",
       "      <td>NaN</td>\n",
       "      <td>NaN</td>\n",
       "    </tr>\n",
       "    <tr>\n",
       "      <th>11465</th>\n",
       "      <td>Selma Smith</td>\n",
       "      <td>NaN</td>\n",
       "      <td>NaN</td>\n",
       "      <td>NaN</td>\n",
       "      <td>NaN</td>\n",
       "      <td>NaN</td>\n",
       "      <td>NaN</td>\n",
       "      <td>selsmith66@yahoo.com</td>\n",
       "      <td>NaN</td>\n",
       "      <td>NaN</td>\n",
       "    </tr>\n",
       "  </tbody>\n",
       "</table>\n",
       "</div>"
      ],
      "text/plain": [
       "           Contact Business Phone Business Phone 2 Home Phone Home Phone 2  \\\n",
       "8758   Selma Smith            NaN              NaN        NaN          NaN   \n",
       "10342  Selma Smith            NaN              NaN        NaN          NaN   \n",
       "11465  Selma Smith            NaN              NaN        NaN          NaN   \n",
       "\n",
       "      Mobile Phone Other Phone        E-mail Address E-mail 2 Address  \\\n",
       "8758           NaN         NaN  Alohaselma@yahoo.com              NaN   \n",
       "10342          NaN         NaN    selfiorini@msn.com              NaN   \n",
       "11465          NaN         NaN  selsmith66@yahoo.com              NaN   \n",
       "\n",
       "      E-mail 3 Address  \n",
       "8758               NaN  \n",
       "10342              NaN  \n",
       "11465              NaN  "
      ]
     },
     "execution_count": 83,
     "metadata": {},
     "output_type": "execute_result"
    }
   ],
   "source": [
    "#test -Before-:\n",
    "joel[joel['Contact']=='Selma Smith'][imp]"
   ]
  },
  {
   "cell_type": "code",
   "execution_count": 84,
   "metadata": {},
   "outputs": [],
   "source": [
    "# act Left JOIN nodupes_mail\n",
    "joel.update(nodupes_mail, join='left', overwrite=True, filter_func=None, raise_conflict=False)"
   ]
  },
  {
   "cell_type": "code",
   "execution_count": 85,
   "metadata": {},
   "outputs": [
    {
     "data": {
      "text/html": [
       "<div>\n",
       "<style scoped>\n",
       "    .dataframe tbody tr th:only-of-type {\n",
       "        vertical-align: middle;\n",
       "    }\n",
       "\n",
       "    .dataframe tbody tr th {\n",
       "        vertical-align: top;\n",
       "    }\n",
       "\n",
       "    .dataframe thead th {\n",
       "        text-align: right;\n",
       "    }\n",
       "</style>\n",
       "<table border=\"1\" class=\"dataframe\">\n",
       "  <thead>\n",
       "    <tr style=\"text-align: right;\">\n",
       "      <th></th>\n",
       "      <th>Contact</th>\n",
       "      <th>Business Phone</th>\n",
       "      <th>Business Phone 2</th>\n",
       "      <th>Home Phone</th>\n",
       "      <th>Home Phone 2</th>\n",
       "      <th>Mobile Phone</th>\n",
       "      <th>Other Phone</th>\n",
       "      <th>E-mail Address</th>\n",
       "      <th>E-mail 2 Address</th>\n",
       "      <th>E-mail 3 Address</th>\n",
       "      <th>Notes</th>\n",
       "    </tr>\n",
       "  </thead>\n",
       "  <tbody>\n",
       "    <tr>\n",
       "      <th>8758</th>\n",
       "      <td>Selma Smith</td>\n",
       "      <td>NaN</td>\n",
       "      <td>NaN</td>\n",
       "      <td>NaN</td>\n",
       "      <td>NaN</td>\n",
       "      <td>NaN</td>\n",
       "      <td>NaN</td>\n",
       "      <td>Alohaselma@yahoo.com</td>\n",
       "      <td>selfiorini@msn.com</td>\n",
       "      <td>selsmith66@yahoo.com</td>\n",
       "      <td>NaN</td>\n",
       "    </tr>\n",
       "    <tr>\n",
       "      <th>10342</th>\n",
       "      <td>Selma Smith</td>\n",
       "      <td>NaN</td>\n",
       "      <td>NaN</td>\n",
       "      <td>NaN</td>\n",
       "      <td>NaN</td>\n",
       "      <td>NaN</td>\n",
       "      <td>NaN</td>\n",
       "      <td>selfiorini@msn.com</td>\n",
       "      <td>selsmith66@yahoo.com</td>\n",
       "      <td>NaN</td>\n",
       "      <td>NaN</td>\n",
       "    </tr>\n",
       "    <tr>\n",
       "      <th>11465</th>\n",
       "      <td>Selma Smith</td>\n",
       "      <td>NaN</td>\n",
       "      <td>NaN</td>\n",
       "      <td>NaN</td>\n",
       "      <td>NaN</td>\n",
       "      <td>NaN</td>\n",
       "      <td>NaN</td>\n",
       "      <td>selsmith66@yahoo.com</td>\n",
       "      <td>NaN</td>\n",
       "      <td>NaN</td>\n",
       "      <td>NaN</td>\n",
       "    </tr>\n",
       "  </tbody>\n",
       "</table>\n",
       "</div>"
      ],
      "text/plain": [
       "           Contact Business Phone Business Phone 2 Home Phone Home Phone 2  \\\n",
       "8758   Selma Smith            NaN              NaN        NaN          NaN   \n",
       "10342  Selma Smith            NaN              NaN        NaN          NaN   \n",
       "11465  Selma Smith            NaN              NaN        NaN          NaN   \n",
       "\n",
       "      Mobile Phone Other Phone        E-mail Address      E-mail 2 Address  \\\n",
       "8758           NaN         NaN  Alohaselma@yahoo.com    selfiorini@msn.com   \n",
       "10342          NaN         NaN    selfiorini@msn.com  selsmith66@yahoo.com   \n",
       "11465          NaN         NaN  selsmith66@yahoo.com                   NaN   \n",
       "\n",
       "           E-mail 3 Address Notes  \n",
       "8758   selsmith66@yahoo.com   NaN  \n",
       "10342                   NaN   NaN  \n",
       "11465                   NaN   NaN  "
      ]
     },
     "execution_count": 85,
     "metadata": {},
     "output_type": "execute_result"
    }
   ],
   "source": [
    "#test -After-:\n",
    "joel[joel['Contact']=='Selma Smith'][imp2]"
   ]
  },
  {
   "cell_type": "markdown",
   "metadata": {},
   "source": [
    "### 4.2 Records with non-duplicated Phones and with duplicated name:"
   ]
  },
  {
   "cell_type": "markdown",
   "metadata": {},
   "source": [
    "###### Now we're going to be doing the same but with phone information. This will be a long subsection since we have many attributes for phone numbers:"
   ]
  },
  {
   "cell_type": "code",
   "execution_count": 86,
   "metadata": {},
   "outputs": [
    {
     "data": {
      "text/plain": [
       "['Contact',\n",
       " 'Business Phone',\n",
       " 'Business Phone 2',\n",
       " 'Home Phone',\n",
       " 'Home Phone 2',\n",
       " 'Mobile Phone',\n",
       " 'Other Phone']"
      ]
     },
     "execution_count": 86,
     "metadata": {},
     "output_type": "execute_result"
    }
   ],
   "source": [
    "phones"
   ]
  },
  {
   "cell_type": "markdown",
   "metadata": {},
   "source": [
    "### 4.2.1  Dealing with Pairs"
   ]
  },
  {
   "cell_type": "code",
   "execution_count": 87,
   "metadata": {},
   "outputs": [],
   "source": [
    "# Function to identify pairs of duplicated records\n",
    "def pairs(x):\n",
    "    if x in lista:\n",
    "        return True"
   ]
  },
  {
   "cell_type": "markdown",
   "metadata": {},
   "source": [
    "# EYE - jack of all trades"
   ]
  },
  {
   "cell_type": "markdown",
   "metadata": {},
   "source": [
    "#### Due to the particularities of the dataset, we will be merging non-similar phone information of paired duplicates by moving and spreading data into the corresponding pair of each phone field in a single contact record. \n",
    "##### Each phone field has its correspondent equivalent for a second entry, for instance: 'Business Phone' has 'Business Phone 2', 'Home Phone' has 'Home Phone 2', 'Mobile Phone' has 'Other Phone'. 'Other Phone' will be treated as a \"jack-of-all-trades\" type of field\".\n",
    "##### Examples will be provided all the way through so this doesn't get overwhelming."
   ]
  },
  {
   "cell_type": "markdown",
   "metadata": {},
   "source": [
    "#### Business Phones"
   ]
  },
  {
   "cell_type": "code",
   "execution_count": 88,
   "metadata": {},
   "outputs": [],
   "source": [
    "nodupes_phone_bus = joel[((~joel.duplicated(subset=['Business Phones'], keep='last'))  |(~joel.duplicated(subset=['Business Phones'], keep='first')) | (joel['Business Phones'].isnull())) & ((joel.duplicated(subset=['Contact'],keep=False)))]"
   ]
  },
  {
   "cell_type": "code",
   "execution_count": 89,
   "metadata": {},
   "outputs": [],
   "source": [
    "pair = nodupes_phone_bus.groupby(nodupes_phone_bus['Contact'].tolist(),as_index=False).size() ==2\n",
    "lista = list(pair[pair==True].index)\n",
    "nodupes_phone_bus = nodupes_phone_bus[nodupes_phone_bus['Contact'].apply(pairs) == True]"
   ]
  },
  {
   "cell_type": "code",
   "execution_count": 90,
   "metadata": {},
   "outputs": [],
   "source": [
    "## Moving those Phones From 'Business Phone' Field to 'Business Phone 2' field\n",
    "nodupes_phone_bus['Business Phone 2'] = nodupes_phone_bus['Business Phone'][nodupes_phone_bus.duplicated(subset=\n",
    "['Contact'], keep=False)]"
   ]
  },
  {
   "cell_type": "markdown",
   "metadata": {},
   "source": [
    "###### We're taking the approach of sorting by a 'count' column which counts the number of cells with no information for each row. That way, we make sure we're merging information into the most filled row of each duplicate group"
   ]
  },
  {
   "cell_type": "code",
   "execution_count": 91,
   "metadata": {},
   "outputs": [],
   "source": [
    "#sorting:\n",
    "nodupes_phone_bus['count'] = pd.isnull(nodupes_phone_bus[imp2]).sum(1)\n",
    "nodupes_phone_bus= nodupes_phone_bus.sort_values(['Contact','count','Business Phone'],na_position='last')\n"
   ]
  },
  {
   "cell_type": "code",
   "execution_count": 92,
   "metadata": {},
   "outputs": [],
   "source": [
    "## Part 2.Moving  those Phones From 'M-Phone' to the upper records (same Person)\n",
    "### DISCLAIMER: MUST RUN THE FOLLOWING CODE ONLY ONCE!!\n",
    "nodupes_phone_bus['Business Phone 2'] = nodupes_phone_bus.groupby(['Contact'])['Business Phone 2'].shift(-1)"
   ]
  },
  {
   "cell_type": "markdown",
   "metadata": {},
   "source": [
    "___"
   ]
  },
  {
   "cell_type": "markdown",
   "metadata": {},
   "source": [
    "# EYE"
   ]
  },
  {
   "cell_type": "code",
   "execution_count": 93,
   "metadata": {},
   "outputs": [
    {
     "data": {
      "text/html": [
       "<div>\n",
       "<style scoped>\n",
       "    .dataframe tbody tr th:only-of-type {\n",
       "        vertical-align: middle;\n",
       "    }\n",
       "\n",
       "    .dataframe tbody tr th {\n",
       "        vertical-align: top;\n",
       "    }\n",
       "\n",
       "    .dataframe thead th {\n",
       "        text-align: right;\n",
       "    }\n",
       "</style>\n",
       "<table border=\"1\" class=\"dataframe\">\n",
       "  <thead>\n",
       "    <tr style=\"text-align: right;\">\n",
       "      <th></th>\n",
       "      <th>Contact</th>\n",
       "      <th>Business Phone</th>\n",
       "      <th>Business Phone 2</th>\n",
       "      <th>Home Phone</th>\n",
       "      <th>Home Phone 2</th>\n",
       "      <th>Mobile Phone</th>\n",
       "      <th>Other Phone</th>\n",
       "    </tr>\n",
       "  </thead>\n",
       "  <tbody>\n",
       "    <tr>\n",
       "      <th>2604</th>\n",
       "      <td>Bezerra</td>\n",
       "      <td>(727) 216-7979</td>\n",
       "      <td>NaN</td>\n",
       "      <td>+1 (727) 812-8874</td>\n",
       "      <td>NaN</td>\n",
       "      <td>NaN</td>\n",
       "      <td>NaN</td>\n",
       "    </tr>\n",
       "    <tr>\n",
       "      <th>3566</th>\n",
       "      <td>Bezerra</td>\n",
       "      <td>(305) 254-6672</td>\n",
       "      <td>NaN</td>\n",
       "      <td>(305) 254-6672</td>\n",
       "      <td>NaN</td>\n",
       "      <td>(305) 281-8691</td>\n",
       "      <td>+1 (305) 254-6672</td>\n",
       "    </tr>\n",
       "  </tbody>\n",
       "</table>\n",
       "</div>"
      ],
      "text/plain": [
       "       Contact  Business Phone Business Phone 2         Home Phone  \\\n",
       "2604   Bezerra  (727) 216-7979              NaN  +1 (727) 812-8874   \n",
       "3566   Bezerra  (305) 254-6672              NaN     (305) 254-6672   \n",
       "\n",
       "     Home Phone 2    Mobile Phone        Other Phone  \n",
       "2604          NaN             NaN                NaN  \n",
       "3566          NaN  (305) 281-8691  +1 (305) 254-6672  "
      ]
     },
     "execution_count": 93,
     "metadata": {},
     "output_type": "execute_result"
    }
   ],
   "source": [
    "#Example -before-:\n",
    "joel[joel['Contact']==' Bezerra'][phones]"
   ]
  },
  {
   "cell_type": "code",
   "execution_count": 94,
   "metadata": {},
   "outputs": [],
   "source": [
    "# joel Left JOIN nodupes_phone_bus\n",
    "joel.update(nodupes_phone_bus, join='left', overwrite=True, filter_func=None, raise_conflict=False)"
   ]
  },
  {
   "cell_type": "code",
   "execution_count": 95,
   "metadata": {},
   "outputs": [
    {
     "data": {
      "text/html": [
       "<div>\n",
       "<style scoped>\n",
       "    .dataframe tbody tr th:only-of-type {\n",
       "        vertical-align: middle;\n",
       "    }\n",
       "\n",
       "    .dataframe tbody tr th {\n",
       "        vertical-align: top;\n",
       "    }\n",
       "\n",
       "    .dataframe thead th {\n",
       "        text-align: right;\n",
       "    }\n",
       "</style>\n",
       "<table border=\"1\" class=\"dataframe\">\n",
       "  <thead>\n",
       "    <tr style=\"text-align: right;\">\n",
       "      <th></th>\n",
       "      <th>Contact</th>\n",
       "      <th>Business Phone</th>\n",
       "      <th>Business Phone 2</th>\n",
       "      <th>Home Phone</th>\n",
       "      <th>Home Phone 2</th>\n",
       "      <th>Mobile Phone</th>\n",
       "      <th>Other Phone</th>\n",
       "    </tr>\n",
       "  </thead>\n",
       "  <tbody>\n",
       "    <tr>\n",
       "      <th>2604</th>\n",
       "      <td>Bezerra</td>\n",
       "      <td>(727) 216-7979</td>\n",
       "      <td>NaN</td>\n",
       "      <td>+1 (727) 812-8874</td>\n",
       "      <td>NaN</td>\n",
       "      <td>NaN</td>\n",
       "      <td>NaN</td>\n",
       "    </tr>\n",
       "    <tr>\n",
       "      <th>3566</th>\n",
       "      <td>Bezerra</td>\n",
       "      <td>(305) 254-6672</td>\n",
       "      <td>(727) 216-7979</td>\n",
       "      <td>(305) 254-6672</td>\n",
       "      <td>NaN</td>\n",
       "      <td>(305) 281-8691</td>\n",
       "      <td>+1 (305) 254-6672</td>\n",
       "    </tr>\n",
       "  </tbody>\n",
       "</table>\n",
       "</div>"
      ],
      "text/plain": [
       "       Contact  Business Phone Business Phone 2         Home Phone  \\\n",
       "2604   Bezerra  (727) 216-7979              NaN  +1 (727) 812-8874   \n",
       "3566   Bezerra  (305) 254-6672   (727) 216-7979     (305) 254-6672   \n",
       "\n",
       "     Home Phone 2    Mobile Phone        Other Phone  \n",
       "2604          NaN             NaN                NaN  \n",
       "3566          NaN  (305) 281-8691  +1 (305) 254-6672  "
      ]
     },
     "execution_count": 95,
     "metadata": {},
     "output_type": "execute_result"
    }
   ],
   "source": [
    "#Example -after- (concerned only with 'Business Phone' at the moment):\n",
    "joel[joel['Contact']==' Bezerra'][phones]"
   ]
  },
  {
   "cell_type": "markdown",
   "metadata": {},
   "source": [
    "___"
   ]
  },
  {
   "cell_type": "markdown",
   "metadata": {},
   "source": [
    "#### Home Phones"
   ]
  },
  {
   "cell_type": "code",
   "execution_count": 96,
   "metadata": {},
   "outputs": [],
   "source": [
    "nodupes_phone_hom = joel[((~joel.duplicated(subset=['Home Phones'], keep='last')) | (~joel.duplicated(subset=['Home Phones'], keep='first')) | (joel['Home Phones'].isnull())) & ((joel.duplicated(subset=['Contact'],keep=False)))]"
   ]
  },
  {
   "cell_type": "code",
   "execution_count": 97,
   "metadata": {},
   "outputs": [],
   "source": [
    "pair = nodupes_phone_hom.groupby(nodupes_phone_hom['Contact'].tolist(),as_index=False).size() ==2\n",
    "lista = list(pair[pair==True].index)\n",
    "nodupes_phone_hom = nodupes_phone_hom[nodupes_phone_hom['Contact'].apply(pairs) == True]"
   ]
  },
  {
   "cell_type": "code",
   "execution_count": 98,
   "metadata": {},
   "outputs": [],
   "source": [
    "## Moving those Phones From 'Home Phone' Field to 'Home Phone 2' field\n",
    "nodupes_phone_hom['Home Phone 2'] = nodupes_phone_hom['Home Phone'][nodupes_phone_hom.duplicated(subset=\n",
    "['Contact'], keep=False)]"
   ]
  },
  {
   "cell_type": "code",
   "execution_count": 99,
   "metadata": {},
   "outputs": [],
   "source": [
    "#sorting:\n",
    "nodupes_phone_hom['count'] = pd.isnull(nodupes_phone_hom[imp2]).sum(1)\n",
    "nodupes_phone_hom= nodupes_phone_hom.sort_values(['Contact','count','Home Phone'],na_position='last')\n"
   ]
  },
  {
   "cell_type": "code",
   "execution_count": 100,
   "metadata": {},
   "outputs": [],
   "source": [
    "## Part 2.Moving  those Phones From 'M-Phone' to the upper records (same Person)\n",
    "### DISCLAIMER: MUST RUN THE FOLLOWING CODE ONLY ONCE!!\n",
    "nodupes_phone_hom['Home Phone 2'] = nodupes_phone_hom.groupby(['Contact'])['Home Phone 2'].shift(-1)"
   ]
  },
  {
   "cell_type": "markdown",
   "metadata": {},
   "source": [
    "___"
   ]
  },
  {
   "cell_type": "code",
   "execution_count": 101,
   "metadata": {},
   "outputs": [
    {
     "data": {
      "text/html": [
       "<div>\n",
       "<style scoped>\n",
       "    .dataframe tbody tr th:only-of-type {\n",
       "        vertical-align: middle;\n",
       "    }\n",
       "\n",
       "    .dataframe tbody tr th {\n",
       "        vertical-align: top;\n",
       "    }\n",
       "\n",
       "    .dataframe thead th {\n",
       "        text-align: right;\n",
       "    }\n",
       "</style>\n",
       "<table border=\"1\" class=\"dataframe\">\n",
       "  <thead>\n",
       "    <tr style=\"text-align: right;\">\n",
       "      <th></th>\n",
       "      <th>Contact</th>\n",
       "      <th>Business Phone</th>\n",
       "      <th>Business Phone 2</th>\n",
       "      <th>Home Phone</th>\n",
       "      <th>Home Phone 2</th>\n",
       "      <th>Mobile Phone</th>\n",
       "      <th>Other Phone</th>\n",
       "    </tr>\n",
       "  </thead>\n",
       "  <tbody>\n",
       "    <tr>\n",
       "      <th>5427</th>\n",
       "      <td>Victor Hugo</td>\n",
       "      <td>NaN</td>\n",
       "      <td>NaN</td>\n",
       "      <td>4075484101</td>\n",
       "      <td>NaN</td>\n",
       "      <td>NaN</td>\n",
       "      <td>NaN</td>\n",
       "    </tr>\n",
       "    <tr>\n",
       "      <th>6055</th>\n",
       "      <td>Victor Hugo</td>\n",
       "      <td>NaN</td>\n",
       "      <td>NaN</td>\n",
       "      <td>+55 24 99925-5410</td>\n",
       "      <td>NaN</td>\n",
       "      <td>NaN</td>\n",
       "      <td>NaN</td>\n",
       "    </tr>\n",
       "  </tbody>\n",
       "</table>\n",
       "</div>"
      ],
      "text/plain": [
       "          Contact Business Phone Business Phone 2         Home Phone  \\\n",
       "5427  Victor Hugo            NaN              NaN         4075484101   \n",
       "6055  Victor Hugo            NaN              NaN  +55 24 99925-5410   \n",
       "\n",
       "     Home Phone 2 Mobile Phone Other Phone  \n",
       "5427          NaN          NaN         NaN  \n",
       "6055          NaN          NaN         NaN  "
      ]
     },
     "execution_count": 101,
     "metadata": {},
     "output_type": "execute_result"
    }
   ],
   "source": [
    "#Example -before-:\n",
    "joel[joel['Contact']=='Victor Hugo'][phones]"
   ]
  },
  {
   "cell_type": "code",
   "execution_count": 102,
   "metadata": {},
   "outputs": [],
   "source": [
    "# joel Left JOIN nodupes_phone_hom\n",
    "joel.update(nodupes_phone_hom, join='left', overwrite=True, filter_func=None, raise_conflict=False)"
   ]
  },
  {
   "cell_type": "code",
   "execution_count": 103,
   "metadata": {},
   "outputs": [
    {
     "data": {
      "text/html": [
       "<div>\n",
       "<style scoped>\n",
       "    .dataframe tbody tr th:only-of-type {\n",
       "        vertical-align: middle;\n",
       "    }\n",
       "\n",
       "    .dataframe tbody tr th {\n",
       "        vertical-align: top;\n",
       "    }\n",
       "\n",
       "    .dataframe thead th {\n",
       "        text-align: right;\n",
       "    }\n",
       "</style>\n",
       "<table border=\"1\" class=\"dataframe\">\n",
       "  <thead>\n",
       "    <tr style=\"text-align: right;\">\n",
       "      <th></th>\n",
       "      <th>Contact</th>\n",
       "      <th>Business Phone</th>\n",
       "      <th>Business Phone 2</th>\n",
       "      <th>Home Phone</th>\n",
       "      <th>Home Phone 2</th>\n",
       "      <th>Mobile Phone</th>\n",
       "      <th>Other Phone</th>\n",
       "    </tr>\n",
       "  </thead>\n",
       "  <tbody>\n",
       "    <tr>\n",
       "      <th>5427</th>\n",
       "      <td>Victor Hugo</td>\n",
       "      <td>NaN</td>\n",
       "      <td>NaN</td>\n",
       "      <td>4075484101</td>\n",
       "      <td>+55 24 99925-5410</td>\n",
       "      <td>NaN</td>\n",
       "      <td>NaN</td>\n",
       "    </tr>\n",
       "    <tr>\n",
       "      <th>6055</th>\n",
       "      <td>Victor Hugo</td>\n",
       "      <td>NaN</td>\n",
       "      <td>NaN</td>\n",
       "      <td>+55 24 99925-5410</td>\n",
       "      <td>NaN</td>\n",
       "      <td>NaN</td>\n",
       "      <td>NaN</td>\n",
       "    </tr>\n",
       "  </tbody>\n",
       "</table>\n",
       "</div>"
      ],
      "text/plain": [
       "          Contact Business Phone Business Phone 2         Home Phone  \\\n",
       "5427  Victor Hugo            NaN              NaN         4075484101   \n",
       "6055  Victor Hugo            NaN              NaN  +55 24 99925-5410   \n",
       "\n",
       "           Home Phone 2 Mobile Phone Other Phone  \n",
       "5427  +55 24 99925-5410          NaN         NaN  \n",
       "6055                NaN          NaN         NaN  "
      ]
     },
     "execution_count": 103,
     "metadata": {},
     "output_type": "execute_result"
    }
   ],
   "source": [
    "#Example -after-:\n",
    "joel[joel['Contact']=='Victor Hugo'][phones]"
   ]
  },
  {
   "cell_type": "markdown",
   "metadata": {},
   "source": [
    "___\n"
   ]
  },
  {
   "cell_type": "markdown",
   "metadata": {},
   "source": [
    "#### Mobile and Other Phones"
   ]
  },
  {
   "cell_type": "code",
   "execution_count": 104,
   "metadata": {},
   "outputs": [],
   "source": [
    "nodupes_phone_other = joel[((~joel.duplicated(subset=['Other Phones'], keep='last')) | (~joel.duplicated(subset=['Other Phones'], keep='first')) | (joel['Other Phones'].isnull())) & ((joel.duplicated(subset=['Contact'],keep=False)))]"
   ]
  },
  {
   "cell_type": "code",
   "execution_count": 105,
   "metadata": {},
   "outputs": [],
   "source": [
    "pair = nodupes_phone_other.groupby(nodupes_phone_other['Contact'].tolist(),as_index=False).size() ==2\n",
    "lista = list(pair[pair==True].index)\n",
    "nodupes_phone_other = nodupes_phone_other[nodupes_phone_other['Contact'].apply(pairs) == True]"
   ]
  },
  {
   "cell_type": "code",
   "execution_count": 106,
   "metadata": {},
   "outputs": [],
   "source": [
    "## Moving those Phones From 'Mobile Phone' Field to 'Other Phone' field\n",
    "nodupes_phone_other['Other Phone'] = nodupes_phone_other['Mobile Phone'][nodupes_phone_other.duplicated(subset=\n",
    "['Contact'], keep=False)]"
   ]
  },
  {
   "cell_type": "code",
   "execution_count": 107,
   "metadata": {},
   "outputs": [],
   "source": [
    "#sorting:\n",
    "nodupes_phone_other['count'] = pd.isnull(nodupes_phone_other[imp2]).sum(1)\n",
    "nodupes_phone_other= nodupes_phone_other.sort_values(['Contact','count','Mobile Phone'],na_position='last')\n"
   ]
  },
  {
   "cell_type": "code",
   "execution_count": 108,
   "metadata": {},
   "outputs": [],
   "source": [
    "## Part 2.Moving  those Phones From 'M-Phone' to the upper records (same Person)\n",
    "### DISCLAIMER: MUST RUN THE FOLLOWING CODE ONLY ONCE!!\n",
    "nodupes_phone_other['Other Phone'] = nodupes_phone_other.groupby(['Contact'])['Other Phone'].shift(-1)"
   ]
  },
  {
   "cell_type": "markdown",
   "metadata": {},
   "source": [
    "___"
   ]
  },
  {
   "cell_type": "code",
   "execution_count": 109,
   "metadata": {},
   "outputs": [
    {
     "data": {
      "text/html": [
       "<div>\n",
       "<style scoped>\n",
       "    .dataframe tbody tr th:only-of-type {\n",
       "        vertical-align: middle;\n",
       "    }\n",
       "\n",
       "    .dataframe tbody tr th {\n",
       "        vertical-align: top;\n",
       "    }\n",
       "\n",
       "    .dataframe thead th {\n",
       "        text-align: right;\n",
       "    }\n",
       "</style>\n",
       "<table border=\"1\" class=\"dataframe\">\n",
       "  <thead>\n",
       "    <tr style=\"text-align: right;\">\n",
       "      <th></th>\n",
       "      <th>Contact</th>\n",
       "      <th>Business Phone</th>\n",
       "      <th>Business Phone 2</th>\n",
       "      <th>Home Phone</th>\n",
       "      <th>Home Phone 2</th>\n",
       "      <th>Mobile Phone</th>\n",
       "      <th>Other Phone</th>\n",
       "    </tr>\n",
       "  </thead>\n",
       "  <tbody>\n",
       "    <tr>\n",
       "      <th>706</th>\n",
       "      <td>Maria Abreu</td>\n",
       "      <td>NaN</td>\n",
       "      <td>NaN</td>\n",
       "      <td>NaN</td>\n",
       "      <td>NaN</td>\n",
       "      <td>(786) 599-7994</td>\n",
       "      <td>NaN</td>\n",
       "    </tr>\n",
       "    <tr>\n",
       "      <th>7685</th>\n",
       "      <td>Maria Abreu</td>\n",
       "      <td>NaN</td>\n",
       "      <td>NaN</td>\n",
       "      <td>NaN</td>\n",
       "      <td>NaN</td>\n",
       "      <td>+1 (407) 963-8598</td>\n",
       "      <td>NaN</td>\n",
       "    </tr>\n",
       "  </tbody>\n",
       "</table>\n",
       "</div>"
      ],
      "text/plain": [
       "          Contact Business Phone Business Phone 2 Home Phone Home Phone 2  \\\n",
       "706   Maria Abreu            NaN              NaN        NaN          NaN   \n",
       "7685  Maria Abreu            NaN              NaN        NaN          NaN   \n",
       "\n",
       "           Mobile Phone Other Phone  \n",
       "706      (786) 599-7994         NaN  \n",
       "7685  +1 (407) 963-8598         NaN  "
      ]
     },
     "execution_count": 109,
     "metadata": {},
     "output_type": "execute_result"
    }
   ],
   "source": [
    "#Example -Before-:\n",
    "joel[joel['Contact']=='Maria Abreu'][phones]"
   ]
  },
  {
   "cell_type": "code",
   "execution_count": 110,
   "metadata": {},
   "outputs": [],
   "source": [
    "# joel Left JOIN nodupes_phone_other\n",
    "joel.update(nodupes_phone_other, join='left', overwrite=True, filter_func=None, raise_conflict=False)"
   ]
  },
  {
   "cell_type": "code",
   "execution_count": 111,
   "metadata": {},
   "outputs": [
    {
     "data": {
      "text/html": [
       "<div>\n",
       "<style scoped>\n",
       "    .dataframe tbody tr th:only-of-type {\n",
       "        vertical-align: middle;\n",
       "    }\n",
       "\n",
       "    .dataframe tbody tr th {\n",
       "        vertical-align: top;\n",
       "    }\n",
       "\n",
       "    .dataframe thead th {\n",
       "        text-align: right;\n",
       "    }\n",
       "</style>\n",
       "<table border=\"1\" class=\"dataframe\">\n",
       "  <thead>\n",
       "    <tr style=\"text-align: right;\">\n",
       "      <th></th>\n",
       "      <th>Contact</th>\n",
       "      <th>Business Phone</th>\n",
       "      <th>Business Phone 2</th>\n",
       "      <th>Home Phone</th>\n",
       "      <th>Home Phone 2</th>\n",
       "      <th>Mobile Phone</th>\n",
       "      <th>Other Phone</th>\n",
       "    </tr>\n",
       "  </thead>\n",
       "  <tbody>\n",
       "    <tr>\n",
       "      <th>706</th>\n",
       "      <td>Maria Abreu</td>\n",
       "      <td>NaN</td>\n",
       "      <td>NaN</td>\n",
       "      <td>NaN</td>\n",
       "      <td>NaN</td>\n",
       "      <td>(786) 599-7994</td>\n",
       "      <td>+1 (407) 963-8598</td>\n",
       "    </tr>\n",
       "    <tr>\n",
       "      <th>7685</th>\n",
       "      <td>Maria Abreu</td>\n",
       "      <td>NaN</td>\n",
       "      <td>NaN</td>\n",
       "      <td>NaN</td>\n",
       "      <td>NaN</td>\n",
       "      <td>+1 (407) 963-8598</td>\n",
       "      <td>NaN</td>\n",
       "    </tr>\n",
       "  </tbody>\n",
       "</table>\n",
       "</div>"
      ],
      "text/plain": [
       "          Contact Business Phone Business Phone 2 Home Phone Home Phone 2  \\\n",
       "706   Maria Abreu            NaN              NaN        NaN          NaN   \n",
       "7685  Maria Abreu            NaN              NaN        NaN          NaN   \n",
       "\n",
       "           Mobile Phone        Other Phone  \n",
       "706      (786) 599-7994  +1 (407) 963-8598  \n",
       "7685  +1 (407) 963-8598                NaN  "
      ]
     },
     "execution_count": 111,
     "metadata": {},
     "output_type": "execute_result"
    }
   ],
   "source": [
    "#Example -After-:\n",
    "joel[joel['Contact']=='Maria Abreu'][phones]"
   ]
  },
  {
   "cell_type": "markdown",
   "metadata": {},
   "source": [
    "#### Result of complete condensing:"
   ]
  },
  {
   "cell_type": "markdown",
   "metadata": {},
   "source": [
    "#### We will be reviewing other complete condensing examples at the end."
   ]
  },
  {
   "cell_type": "code",
   "execution_count": 112,
   "metadata": {},
   "outputs": [
    {
     "data": {
      "text/html": [
       "<div>\n",
       "<style scoped>\n",
       "    .dataframe tbody tr th:only-of-type {\n",
       "        vertical-align: middle;\n",
       "    }\n",
       "\n",
       "    .dataframe tbody tr th {\n",
       "        vertical-align: top;\n",
       "    }\n",
       "\n",
       "    .dataframe thead th {\n",
       "        text-align: right;\n",
       "    }\n",
       "</style>\n",
       "<table border=\"1\" class=\"dataframe\">\n",
       "  <thead>\n",
       "    <tr style=\"text-align: right;\">\n",
       "      <th></th>\n",
       "      <th>Contact</th>\n",
       "      <th>Business Phone</th>\n",
       "      <th>Business Phone 2</th>\n",
       "      <th>Home Phone</th>\n",
       "      <th>Home Phone 2</th>\n",
       "      <th>Mobile Phone</th>\n",
       "      <th>Other Phone</th>\n",
       "    </tr>\n",
       "  </thead>\n",
       "  <tbody>\n",
       "    <tr>\n",
       "      <th>2604</th>\n",
       "      <td>Bezerra</td>\n",
       "      <td>(727) 216-7979</td>\n",
       "      <td>NaN</td>\n",
       "      <td>+1 (727) 812-8874</td>\n",
       "      <td>NaN</td>\n",
       "      <td>NaN</td>\n",
       "      <td>NaN</td>\n",
       "    </tr>\n",
       "    <tr>\n",
       "      <th>3566</th>\n",
       "      <td>Bezerra</td>\n",
       "      <td>(305) 254-6672</td>\n",
       "      <td>(727) 216-7979</td>\n",
       "      <td>(305) 254-6672</td>\n",
       "      <td>+1 (727) 812-8874</td>\n",
       "      <td>(305) 281-8691</td>\n",
       "      <td>+1 (305) 254-6672</td>\n",
       "    </tr>\n",
       "  </tbody>\n",
       "</table>\n",
       "</div>"
      ],
      "text/plain": [
       "       Contact  Business Phone Business Phone 2         Home Phone  \\\n",
       "2604   Bezerra  (727) 216-7979              NaN  +1 (727) 812-8874   \n",
       "3566   Bezerra  (305) 254-6672   (727) 216-7979     (305) 254-6672   \n",
       "\n",
       "           Home Phone 2    Mobile Phone        Other Phone  \n",
       "2604                NaN             NaN                NaN  \n",
       "3566  +1 (727) 812-8874  (305) 281-8691  +1 (305) 254-6672  "
      ]
     },
     "execution_count": 112,
     "metadata": {},
     "output_type": "execute_result"
    }
   ],
   "source": [
    "#Example -after-:\n",
    "joel[joel['Contact']==' Bezerra'][phones]"
   ]
  },
  {
   "cell_type": "markdown",
   "metadata": {},
   "source": [
    "___"
   ]
  },
  {
   "cell_type": "markdown",
   "metadata": {},
   "source": [
    "##### In order to accomodate trios of different numbers for redundant contacts, we're going to merge the numbers into trios of non-conflicted fields. It will be the same as the pairs approach but with the addition of dumping the third phone into the 'Other Phone' attribute. Save for the last field 'Mobile Phone'. On this one we're going to have to improvise! We're going to move the second number into 'Other Phone' and then we will be dumping the third phone into 'Business 2 Phone' "
   ]
  },
  {
   "cell_type": "markdown",
   "metadata": {},
   "source": [
    "### 4.2.2 Exceptions: Dealing with trios"
   ]
  },
  {
   "cell_type": "markdown",
   "metadata": {},
   "source": [
    "#### Business Phone to Business Phone 2 and Other Phone"
   ]
  },
  {
   "cell_type": "code",
   "execution_count": 113,
   "metadata": {},
   "outputs": [],
   "source": [
    "nodupes_phone_bus = joel[((~joel.duplicated(subset=['Business Phones'], keep='last')) | (~joel.duplicated(subset=['Business Phones'], keep='first')) | (joel['Business Phones'].isnull())) & ((joel.duplicated(subset=['Contact'],keep=False)))]"
   ]
  },
  {
   "cell_type": "code",
   "execution_count": 114,
   "metadata": {},
   "outputs": [],
   "source": [
    "# Function to identify pairs of duplicated records\n",
    "def pairs(x):\n",
    "    if x in lista:\n",
    "        return True"
   ]
  },
  {
   "cell_type": "code",
   "execution_count": 115,
   "metadata": {},
   "outputs": [],
   "source": [
    "pair = nodupes_phone_bus.groupby(nodupes_phone_bus['Contact'].tolist(),as_index=False).size() ==3\n",
    "lista = list(pair[pair==True].index)\n",
    "nodupes_phone_bus = nodupes_phone_bus[nodupes_phone_bus['Contact'].apply(pairs) == True]"
   ]
  },
  {
   "cell_type": "markdown",
   "metadata": {},
   "source": [
    "___"
   ]
  },
  {
   "cell_type": "code",
   "execution_count": 116,
   "metadata": {},
   "outputs": [],
   "source": [
    "## Moving those Phones From 'Business Phone' Field to 'Business Phone 2' field\n",
    "nodupes_phone_bus['Business Phone 2'] = nodupes_phone_bus['Business Phone'][nodupes_phone_bus.duplicated(subset=\n",
    "['Contact'], keep=False)]\n",
    "## Moving those Phones From 'Business Phone 2' Field to 'Other Phone' field\n",
    "nodupes_phone_bus['Other Phone'] = nodupes_phone_bus['Business Phone 2']\n",
    "#sorting:\n",
    "nodupes_phone_bus['count'] = pd.isnull(nodupes_phone_bus[imp2]).sum(1)\n",
    "nodupes_phone_bus= nodupes_phone_bus.sort_values(['Contact','count','Business Phone'],na_position='last')\n",
    "nodupes_phone_bus.drop('count',1,inplace=True)\n",
    "#Shifting Values:\n",
    "### DISCLAIMER: MUST RUN THE FOLLOWING CODE ONLY ONCE!!\n",
    "nodupes_phone_bus['Business Phone 2'] = nodupes_phone_bus.groupby(['Contact'])['Business Phone 2'].shift(-1)\n",
    "nodupes_phone_bus['Other Phone'] = nodupes_phone_bus.groupby(['Contact'])['Other Phone'].shift(-2)"
   ]
  },
  {
   "cell_type": "markdown",
   "metadata": {},
   "source": [
    "#### Joining back to original Data set and deleting less useful rows:"
   ]
  },
  {
   "cell_type": "code",
   "execution_count": 117,
   "metadata": {},
   "outputs": [
    {
     "data": {
      "text/html": [
       "<div>\n",
       "<style scoped>\n",
       "    .dataframe tbody tr th:only-of-type {\n",
       "        vertical-align: middle;\n",
       "    }\n",
       "\n",
       "    .dataframe tbody tr th {\n",
       "        vertical-align: top;\n",
       "    }\n",
       "\n",
       "    .dataframe thead th {\n",
       "        text-align: right;\n",
       "    }\n",
       "</style>\n",
       "<table border=\"1\" class=\"dataframe\">\n",
       "  <thead>\n",
       "    <tr style=\"text-align: right;\">\n",
       "      <th></th>\n",
       "      <th>Contact</th>\n",
       "      <th>Business Phone</th>\n",
       "      <th>Business Phone 2</th>\n",
       "      <th>Other Phone</th>\n",
       "      <th>E-mail Address</th>\n",
       "      <th>E-mail 2 Address</th>\n",
       "      <th>E-mail 3 Address</th>\n",
       "    </tr>\n",
       "  </thead>\n",
       "  <tbody>\n",
       "    <tr>\n",
       "      <th>2167</th>\n",
       "      <td>Arruda</td>\n",
       "      <td>(305) 801-9035</td>\n",
       "      <td>NaN</td>\n",
       "      <td>NaN</td>\n",
       "      <td>arruda@itamaraty.gov.br</td>\n",
       "      <td>u27comandante@yahoo.com.br</td>\n",
       "      <td>fernando.arruda@gmail.com</td>\n",
       "    </tr>\n",
       "    <tr>\n",
       "      <th>2642</th>\n",
       "      <td>Arruda</td>\n",
       "      <td>(305) 285-6222</td>\n",
       "      <td>NaN</td>\n",
       "      <td>NaN</td>\n",
       "      <td>fernando.arruda@itamaraty.gov.br</td>\n",
       "      <td>arruda@itamaraty.gov.br</td>\n",
       "      <td>u27comandante@yahoo.com.br</td>\n",
       "    </tr>\n",
       "    <tr>\n",
       "      <th>4872</th>\n",
       "      <td>Arruda</td>\n",
       "      <td>21 21047256</td>\n",
       "      <td>NaN</td>\n",
       "      <td>NaN</td>\n",
       "      <td>u27comandante@yahoo.com.br</td>\n",
       "      <td>NaN</td>\n",
       "      <td>NaN</td>\n",
       "    </tr>\n",
       "  </tbody>\n",
       "</table>\n",
       "</div>"
      ],
      "text/plain": [
       "      Contact  Business Phone Business Phone 2 Other Phone  \\\n",
       "2167   Arruda  (305) 801-9035              NaN         NaN   \n",
       "2642   Arruda  (305) 285-6222              NaN         NaN   \n",
       "4872   Arruda     21 21047256              NaN         NaN   \n",
       "\n",
       "                        E-mail Address            E-mail 2 Address  \\\n",
       "2167           arruda@itamaraty.gov.br  u27comandante@yahoo.com.br   \n",
       "2642  fernando.arruda@itamaraty.gov.br     arruda@itamaraty.gov.br   \n",
       "4872        u27comandante@yahoo.com.br                         NaN   \n",
       "\n",
       "                E-mail 3 Address  \n",
       "2167   fernando.arruda@gmail.com  \n",
       "2642  u27comandante@yahoo.com.br  \n",
       "4872                         NaN  "
      ]
     },
     "execution_count": 117,
     "metadata": {},
     "output_type": "execute_result"
    }
   ],
   "source": [
    "#test -Before-:\n",
    "joel[joel['Contact']==' Arruda'][['Contact','Business Phone',\n",
    "                                'Business Phone 2','Other Phone','E-mail Address','E-mail 2 Address','E-mail 3 Address']]"
   ]
  },
  {
   "cell_type": "code",
   "execution_count": 118,
   "metadata": {},
   "outputs": [],
   "source": [
    "# joel Left JOIN nodupes_phone_bus\n",
    "joel.update(nodupes_phone_bus, join='left', overwrite=True, filter_func=None, raise_conflict=False)"
   ]
  },
  {
   "cell_type": "code",
   "execution_count": 119,
   "metadata": {},
   "outputs": [
    {
     "data": {
      "text/html": [
       "<div>\n",
       "<style scoped>\n",
       "    .dataframe tbody tr th:only-of-type {\n",
       "        vertical-align: middle;\n",
       "    }\n",
       "\n",
       "    .dataframe tbody tr th {\n",
       "        vertical-align: top;\n",
       "    }\n",
       "\n",
       "    .dataframe thead th {\n",
       "        text-align: right;\n",
       "    }\n",
       "</style>\n",
       "<table border=\"1\" class=\"dataframe\">\n",
       "  <thead>\n",
       "    <tr style=\"text-align: right;\">\n",
       "      <th></th>\n",
       "      <th>Contact</th>\n",
       "      <th>Business Phone</th>\n",
       "      <th>Business Phone 2</th>\n",
       "      <th>Other Phone</th>\n",
       "      <th>E-mail Address</th>\n",
       "      <th>E-mail 2 Address</th>\n",
       "      <th>E-mail 3 Address</th>\n",
       "    </tr>\n",
       "  </thead>\n",
       "  <tbody>\n",
       "    <tr>\n",
       "      <th>2167</th>\n",
       "      <td>Arruda</td>\n",
       "      <td>(305) 801-9035</td>\n",
       "      <td>21 21047256</td>\n",
       "      <td>NaN</td>\n",
       "      <td>arruda@itamaraty.gov.br</td>\n",
       "      <td>u27comandante@yahoo.com.br</td>\n",
       "      <td>fernando.arruda@gmail.com</td>\n",
       "    </tr>\n",
       "    <tr>\n",
       "      <th>2642</th>\n",
       "      <td>Arruda</td>\n",
       "      <td>(305) 285-6222</td>\n",
       "      <td>(305) 801-9035</td>\n",
       "      <td>21 21047256</td>\n",
       "      <td>fernando.arruda@itamaraty.gov.br</td>\n",
       "      <td>arruda@itamaraty.gov.br</td>\n",
       "      <td>u27comandante@yahoo.com.br</td>\n",
       "    </tr>\n",
       "    <tr>\n",
       "      <th>4872</th>\n",
       "      <td>Arruda</td>\n",
       "      <td>21 21047256</td>\n",
       "      <td>NaN</td>\n",
       "      <td>NaN</td>\n",
       "      <td>u27comandante@yahoo.com.br</td>\n",
       "      <td>NaN</td>\n",
       "      <td>NaN</td>\n",
       "    </tr>\n",
       "  </tbody>\n",
       "</table>\n",
       "</div>"
      ],
      "text/plain": [
       "      Contact  Business Phone Business Phone 2  Other Phone  \\\n",
       "2167   Arruda  (305) 801-9035      21 21047256          NaN   \n",
       "2642   Arruda  (305) 285-6222   (305) 801-9035  21 21047256   \n",
       "4872   Arruda     21 21047256              NaN          NaN   \n",
       "\n",
       "                        E-mail Address            E-mail 2 Address  \\\n",
       "2167           arruda@itamaraty.gov.br  u27comandante@yahoo.com.br   \n",
       "2642  fernando.arruda@itamaraty.gov.br     arruda@itamaraty.gov.br   \n",
       "4872        u27comandante@yahoo.com.br                         NaN   \n",
       "\n",
       "                E-mail 3 Address  \n",
       "2167   fernando.arruda@gmail.com  \n",
       "2642  u27comandante@yahoo.com.br  \n",
       "4872                         NaN  "
      ]
     },
     "execution_count": 119,
     "metadata": {},
     "output_type": "execute_result"
    }
   ],
   "source": [
    "#test -After-:\n",
    "joel[joel['Contact']==' Arruda'][['Contact','Business Phone',\n",
    "                                    'Business Phone 2','Other Phone','E-mail Address','E-mail 2 Address','E-mail 3 Address']]"
   ]
  },
  {
   "cell_type": "markdown",
   "metadata": {},
   "source": [
    "---"
   ]
  },
  {
   "cell_type": "markdown",
   "metadata": {},
   "source": [
    "#### Home Phone to Home Phone 2 and Other Phone"
   ]
  },
  {
   "cell_type": "code",
   "execution_count": 120,
   "metadata": {},
   "outputs": [],
   "source": [
    "nodupes_phone_hom = joel[((~joel.duplicated(subset=['Home Phones'], keep='last')) | (~joel.duplicated(subset=['Home Phones'], keep='first')) | (joel['Home Phones'].isnull())) & ((joel.duplicated(subset=['Contact'],keep=False)))]"
   ]
  },
  {
   "cell_type": "code",
   "execution_count": 121,
   "metadata": {},
   "outputs": [],
   "source": [
    "pair = nodupes_phone_hom.groupby(nodupes_phone_hom['Contact'].tolist(),as_index=False).size() ==3\n",
    "lista = list(pair[pair==True].index)\n",
    "nodupes_phone_hom = nodupes_phone_hom[nodupes_phone_hom['Contact'].apply(pairs) == True]"
   ]
  },
  {
   "cell_type": "code",
   "execution_count": 122,
   "metadata": {},
   "outputs": [],
   "source": [
    "## Moving those Phones From 'Home Phone' Field to 'Home Phone 2' field\n",
    "nodupes_phone_hom['Home Phone 2'] = nodupes_phone_hom['Home Phone'][nodupes_phone_hom.duplicated(subset=\n",
    "['Contact'], keep=False)]\n",
    "## Moving those Phones From 'Home Phone 2' Field to 'Other Phone' field\n",
    "nodupes_phone_hom['Other Phone'] = nodupes_phone_hom['Home Phone 2']\n",
    "#sorting:\n",
    "nodupes_phone_hom['count'] = pd.isnull(nodupes_phone_hom[imp2]).sum(1)\n",
    "nodupes_phone_hom= nodupes_phone_hom.sort_values(['Contact','count','Home Phone'],na_position='last')\n",
    "nodupes_phone_hom.drop('count',1,inplace=True)\n",
    "#Shifting Values:\n",
    "### DISCLAIMER: MUST RUN THE FOLLOWING CODE ONLY ONCE!!\n",
    "nodupes_phone_hom['Home Phone 2'] = nodupes_phone_hom.groupby(['Contact'])['Home Phone 2'].shift(-1)\n",
    "nodupes_phone_hom['Other Phone'] = nodupes_phone_hom.groupby(['Contact'])['Other Phone'].shift(-2)"
   ]
  },
  {
   "cell_type": "code",
   "execution_count": 123,
   "metadata": {},
   "outputs": [
    {
     "data": {
      "text/html": [
       "<div>\n",
       "<style scoped>\n",
       "    .dataframe tbody tr th:only-of-type {\n",
       "        vertical-align: middle;\n",
       "    }\n",
       "\n",
       "    .dataframe tbody tr th {\n",
       "        vertical-align: top;\n",
       "    }\n",
       "\n",
       "    .dataframe thead th {\n",
       "        text-align: right;\n",
       "    }\n",
       "</style>\n",
       "<table border=\"1\" class=\"dataframe\">\n",
       "  <thead>\n",
       "    <tr style=\"text-align: right;\">\n",
       "      <th></th>\n",
       "      <th>Contact</th>\n",
       "      <th>Home Phone</th>\n",
       "      <th>Home Phone 2</th>\n",
       "      <th>Other Phone</th>\n",
       "      <th>E-mail Address</th>\n",
       "      <th>E-mail 2 Address</th>\n",
       "      <th>E-mail 3 Address</th>\n",
       "    </tr>\n",
       "  </thead>\n",
       "  <tbody>\n",
       "    <tr>\n",
       "      <th>2603</th>\n",
       "      <td>Maia</td>\n",
       "      <td>+1 (508) 229-8219</td>\n",
       "      <td>NaN</td>\n",
       "      <td>NaN</td>\n",
       "      <td>paulomercatto@terra.com.br</td>\n",
       "      <td>leonardo.maia@cibt.com</td>\n",
       "      <td>NaN</td>\n",
       "    </tr>\n",
       "    <tr>\n",
       "      <th>3107</th>\n",
       "      <td>Maia</td>\n",
       "      <td>800992428</td>\n",
       "      <td>NaN</td>\n",
       "      <td>NaN</td>\n",
       "      <td>leonardo.maia@cibt.com</td>\n",
       "      <td>NaN</td>\n",
       "      <td>NaN</td>\n",
       "    </tr>\n",
       "    <tr>\n",
       "      <th>3802</th>\n",
       "      <td>Maia</td>\n",
       "      <td>NaN</td>\n",
       "      <td>NaN</td>\n",
       "      <td>NaN</td>\n",
       "      <td>NaN</td>\n",
       "      <td>NaN</td>\n",
       "      <td>NaN</td>\n",
       "    </tr>\n",
       "  </tbody>\n",
       "</table>\n",
       "</div>"
      ],
      "text/plain": [
       "     Contact         Home Phone Home Phone 2 Other Phone  \\\n",
       "2603    Maia  +1 (508) 229-8219          NaN         NaN   \n",
       "3107    Maia          800992428          NaN         NaN   \n",
       "3802    Maia                NaN          NaN         NaN   \n",
       "\n",
       "                  E-mail Address        E-mail 2 Address E-mail 3 Address  \n",
       "2603  paulomercatto@terra.com.br  leonardo.maia@cibt.com              NaN  \n",
       "3107      leonardo.maia@cibt.com                     NaN              NaN  \n",
       "3802                         NaN                     NaN              NaN  "
      ]
     },
     "execution_count": 123,
     "metadata": {},
     "output_type": "execute_result"
    }
   ],
   "source": [
    "#Test - Before:\n",
    "joel[joel.Contact==' Maia'][['Contact','Home Phone','Home Phone 2','Other Phone','E-mail Address','E-mail 2 Address',\n",
    "                   'E-mail 3 Address']]"
   ]
  },
  {
   "cell_type": "code",
   "execution_count": 124,
   "metadata": {},
   "outputs": [],
   "source": [
    "# joel Left JOIN nodupes_phone_hom\n",
    "joel.update(nodupes_phone_hom, join='left', overwrite=True, filter_func=None, raise_conflict=False)"
   ]
  },
  {
   "cell_type": "code",
   "execution_count": 125,
   "metadata": {},
   "outputs": [
    {
     "data": {
      "text/html": [
       "<div>\n",
       "<style scoped>\n",
       "    .dataframe tbody tr th:only-of-type {\n",
       "        vertical-align: middle;\n",
       "    }\n",
       "\n",
       "    .dataframe tbody tr th {\n",
       "        vertical-align: top;\n",
       "    }\n",
       "\n",
       "    .dataframe thead th {\n",
       "        text-align: right;\n",
       "    }\n",
       "</style>\n",
       "<table border=\"1\" class=\"dataframe\">\n",
       "  <thead>\n",
       "    <tr style=\"text-align: right;\">\n",
       "      <th></th>\n",
       "      <th>Contact</th>\n",
       "      <th>Home Phone</th>\n",
       "      <th>Home Phone 2</th>\n",
       "      <th>Other Phone</th>\n",
       "      <th>E-mail Address</th>\n",
       "      <th>E-mail 2 Address</th>\n",
       "      <th>E-mail 3 Address</th>\n",
       "    </tr>\n",
       "  </thead>\n",
       "  <tbody>\n",
       "    <tr>\n",
       "      <th>2603</th>\n",
       "      <td>Maia</td>\n",
       "      <td>+1 (508) 229-8219</td>\n",
       "      <td>800992428</td>\n",
       "      <td>NaN</td>\n",
       "      <td>paulomercatto@terra.com.br</td>\n",
       "      <td>leonardo.maia@cibt.com</td>\n",
       "      <td>NaN</td>\n",
       "    </tr>\n",
       "    <tr>\n",
       "      <th>3107</th>\n",
       "      <td>Maia</td>\n",
       "      <td>800992428</td>\n",
       "      <td>NaN</td>\n",
       "      <td>NaN</td>\n",
       "      <td>leonardo.maia@cibt.com</td>\n",
       "      <td>NaN</td>\n",
       "      <td>NaN</td>\n",
       "    </tr>\n",
       "    <tr>\n",
       "      <th>3802</th>\n",
       "      <td>Maia</td>\n",
       "      <td>NaN</td>\n",
       "      <td>NaN</td>\n",
       "      <td>NaN</td>\n",
       "      <td>NaN</td>\n",
       "      <td>NaN</td>\n",
       "      <td>NaN</td>\n",
       "    </tr>\n",
       "  </tbody>\n",
       "</table>\n",
       "</div>"
      ],
      "text/plain": [
       "     Contact         Home Phone Home Phone 2 Other Phone  \\\n",
       "2603    Maia  +1 (508) 229-8219    800992428         NaN   \n",
       "3107    Maia          800992428          NaN         NaN   \n",
       "3802    Maia                NaN          NaN         NaN   \n",
       "\n",
       "                  E-mail Address        E-mail 2 Address E-mail 3 Address  \n",
       "2603  paulomercatto@terra.com.br  leonardo.maia@cibt.com              NaN  \n",
       "3107      leonardo.maia@cibt.com                     NaN              NaN  \n",
       "3802                         NaN                     NaN              NaN  "
      ]
     },
     "execution_count": 125,
     "metadata": {},
     "output_type": "execute_result"
    }
   ],
   "source": [
    "#Test - After:\n",
    "joel[joel.Contact==' Maia'][['Contact','Home Phone','Home Phone 2','Other Phone','E-mail Address','E-mail 2 Address',\n",
    "                   'E-mail 3 Address']]"
   ]
  },
  {
   "cell_type": "markdown",
   "metadata": {},
   "source": [
    "___"
   ]
  },
  {
   "cell_type": "markdown",
   "metadata": {},
   "source": [
    "#### Mobile Phone to Other Phone and Business Phone 2"
   ]
  },
  {
   "cell_type": "code",
   "execution_count": 126,
   "metadata": {},
   "outputs": [],
   "source": [
    "nodupes_phone_other = joel[((~joel.duplicated(subset=['Other Phones'], keep='last')) | (~joel.duplicated(subset=['Other Phones'], keep='first')) | (joel['Other Phones'].isnull())) & ((joel.duplicated(subset=['Contact'],keep=False)))]"
   ]
  },
  {
   "cell_type": "code",
   "execution_count": 127,
   "metadata": {},
   "outputs": [],
   "source": [
    "pair = nodupes_phone_other.groupby(nodupes_phone_other['Contact'].tolist(),as_index=False).size() ==3\n",
    "lista = list(pair[pair==True].index)\n",
    "nodupes_phone_other = nodupes_phone_other[nodupes_phone_other['Contact'].apply(pairs) == True]"
   ]
  },
  {
   "cell_type": "code",
   "execution_count": 128,
   "metadata": {},
   "outputs": [],
   "source": [
    "## Moving those Phones From 'Mobile Phone' Field to 'Other Phone' field\n",
    "nodupes_phone_other['Other Phone'] = nodupes_phone_other['Mobile Phone'][nodupes_phone_other.duplicated(subset=\n",
    "['Contact'], keep=False)]\n",
    "## Moving those Phones From 'Other Phone' Field to 'Business Phone 2' field\n",
    "nodupes_phone_other['Business Phone 2'] = nodupes_phone_other['Other Phone']\n",
    "#sorting:\n",
    "nodupes_phone_other['count'] = pd.isnull(nodupes_phone_other[imp2]).sum(1)\n",
    "nodupes_phone_other= nodupes_phone_other.sort_values(['Contact','count','Mobile Phone'],na_position='last')\n",
    "nodupes_phone_other.drop('count',1,inplace=True)\n",
    "#Shifting Values:\n",
    "### DISCLAIMER: MUST RUN THE FOLLOWING CODE ONLY ONCE!!\n",
    "nodupes_phone_other['Other Phone'] = nodupes_phone_other.groupby(['Contact'])['Other Phone'].shift(-1)\n",
    "nodupes_phone_other['Business Phone 2'] = nodupes_phone_other.groupby(['Contact'])['Business Phone 2'].shift(-2)"
   ]
  },
  {
   "cell_type": "code",
   "execution_count": 129,
   "metadata": {},
   "outputs": [
    {
     "data": {
      "text/html": [
       "<div>\n",
       "<style scoped>\n",
       "    .dataframe tbody tr th:only-of-type {\n",
       "        vertical-align: middle;\n",
       "    }\n",
       "\n",
       "    .dataframe tbody tr th {\n",
       "        vertical-align: top;\n",
       "    }\n",
       "\n",
       "    .dataframe thead th {\n",
       "        text-align: right;\n",
       "    }\n",
       "</style>\n",
       "<table border=\"1\" class=\"dataframe\">\n",
       "  <thead>\n",
       "    <tr style=\"text-align: right;\">\n",
       "      <th></th>\n",
       "      <th>Contact</th>\n",
       "      <th>Mobile Phone</th>\n",
       "      <th>Other Phone</th>\n",
       "      <th>Business Phone 2</th>\n",
       "    </tr>\n",
       "  </thead>\n",
       "  <tbody>\n",
       "    <tr>\n",
       "      <th>146</th>\n",
       "      <td>Valentin Samorukov</td>\n",
       "      <td>011 7 916 801-19-10</td>\n",
       "      <td>NaN</td>\n",
       "      <td>NaN</td>\n",
       "    </tr>\n",
       "    <tr>\n",
       "      <th>5658</th>\n",
       "      <td>Valentin Samorukov</td>\n",
       "      <td>+1 954-274-3671</td>\n",
       "      <td>NaN</td>\n",
       "      <td>NaN</td>\n",
       "    </tr>\n",
       "    <tr>\n",
       "      <th>6706</th>\n",
       "      <td>Valentin Samorukov</td>\n",
       "      <td>(786) 201-6169</td>\n",
       "      <td>NaN</td>\n",
       "      <td>NaN</td>\n",
       "    </tr>\n",
       "  </tbody>\n",
       "</table>\n",
       "</div>"
      ],
      "text/plain": [
       "                 Contact         Mobile Phone Other Phone Business Phone 2\n",
       "146   Valentin Samorukov  011 7 916 801-19-10         NaN              NaN\n",
       "5658  Valentin Samorukov      +1 954-274-3671         NaN              NaN\n",
       "6706  Valentin Samorukov       (786) 201-6169         NaN              NaN"
      ]
     },
     "execution_count": 129,
     "metadata": {},
     "output_type": "execute_result"
    }
   ],
   "source": [
    "# Test: Before\n",
    "joel[joel['Contact'].isin(['Valentin Samorukov'])][['Contact','Mobile Phone'\n",
    "                ,'Other Phone','Business Phone 2']].sort_values('Contact')"
   ]
  },
  {
   "cell_type": "markdown",
   "metadata": {},
   "source": [
    "#### Joining back to original Data set and deleting less useful rows:"
   ]
  },
  {
   "cell_type": "code",
   "execution_count": 130,
   "metadata": {},
   "outputs": [],
   "source": [
    "# joel Left JOIN nodupes_phone_bus\n",
    "joel.update(nodupes_phone_other, join='left', overwrite=True, filter_func=None, raise_conflict=False)"
   ]
  },
  {
   "cell_type": "code",
   "execution_count": 131,
   "metadata": {},
   "outputs": [
    {
     "data": {
      "text/html": [
       "<div>\n",
       "<style scoped>\n",
       "    .dataframe tbody tr th:only-of-type {\n",
       "        vertical-align: middle;\n",
       "    }\n",
       "\n",
       "    .dataframe tbody tr th {\n",
       "        vertical-align: top;\n",
       "    }\n",
       "\n",
       "    .dataframe thead th {\n",
       "        text-align: right;\n",
       "    }\n",
       "</style>\n",
       "<table border=\"1\" class=\"dataframe\">\n",
       "  <thead>\n",
       "    <tr style=\"text-align: right;\">\n",
       "      <th></th>\n",
       "      <th>Contact</th>\n",
       "      <th>Mobile Phone</th>\n",
       "      <th>Other Phone</th>\n",
       "      <th>Business Phone 2</th>\n",
       "      <th>E-mail Address</th>\n",
       "      <th>E-mail 2 Address</th>\n",
       "      <th>E-mail 3 Address</th>\n",
       "    </tr>\n",
       "  </thead>\n",
       "  <tbody>\n",
       "    <tr>\n",
       "      <th>146</th>\n",
       "      <td>Valentin Samorukov</td>\n",
       "      <td>011 7 916 801-19-10</td>\n",
       "      <td>NaN</td>\n",
       "      <td>NaN</td>\n",
       "      <td>val.samorukov@gmail.com</td>\n",
       "      <td>NaN</td>\n",
       "      <td>NaN</td>\n",
       "    </tr>\n",
       "    <tr>\n",
       "      <th>5658</th>\n",
       "      <td>Valentin Samorukov</td>\n",
       "      <td>+1 954-274-3671</td>\n",
       "      <td>011 7 916 801-19-10</td>\n",
       "      <td>NaN</td>\n",
       "      <td>NaN</td>\n",
       "      <td>NaN</td>\n",
       "      <td>NaN</td>\n",
       "    </tr>\n",
       "    <tr>\n",
       "      <th>6706</th>\n",
       "      <td>Valentin Samorukov</td>\n",
       "      <td>(786) 201-6169</td>\n",
       "      <td>+1 954-274-3671</td>\n",
       "      <td>011 7 916 801-19-10</td>\n",
       "      <td>samorucorp@mail.ru</td>\n",
       "      <td>val.samorukov@gmail.com</td>\n",
       "      <td>NaN</td>\n",
       "    </tr>\n",
       "  </tbody>\n",
       "</table>\n",
       "</div>"
      ],
      "text/plain": [
       "                 Contact         Mobile Phone          Other Phone  \\\n",
       "146   Valentin Samorukov  011 7 916 801-19-10                  NaN   \n",
       "5658  Valentin Samorukov      +1 954-274-3671  011 7 916 801-19-10   \n",
       "6706  Valentin Samorukov       (786) 201-6169      +1 954-274-3671   \n",
       "\n",
       "         Business Phone 2           E-mail Address         E-mail 2 Address  \\\n",
       "146                   NaN  val.samorukov@gmail.com                      NaN   \n",
       "5658                  NaN                      NaN                      NaN   \n",
       "6706  011 7 916 801-19-10       samorucorp@mail.ru  val.samorukov@gmail.com   \n",
       "\n",
       "     E-mail 3 Address  \n",
       "146               NaN  \n",
       "5658              NaN  \n",
       "6706              NaN  "
      ]
     },
     "execution_count": 131,
     "metadata": {},
     "output_type": "execute_result"
    }
   ],
   "source": [
    "# Test: After\n",
    "joel[joel['Contact'].isin(['Valentin Samorukov'])][['Contact','Mobile Phone'\n",
    "                ,'Other Phone','Business Phone 2','E-mail Address','E-mail 2 Address',\n",
    "                                                   'E-mail 3 Address']].sort_values('Contact')"
   ]
  },
  {
   "cell_type": "markdown",
   "metadata": {},
   "source": [
    "---"
   ]
  },
  {
   "cell_type": "markdown",
   "metadata": {},
   "source": [
    "### 4.3 Excluding Records with duplicated names (pairs and trios):"
   ]
  },
  {
   "cell_type": "markdown",
   "metadata": {},
   "source": [
    "##### Until now, we haven't deleted a single duplicate record. However, we will be doing this in the upcoming section.                                                   In order to prevent data loss, we will be using our well-known methodology which counts the number of blank fields for each records. Sorting the records by this counter in ascending order will prove to be conveninent after grouping the duplicates as we end up with the most filled records as the first occurence inside the group. After that, we will proceed by excluding the ones underneath the first occurence."
   ]
  },
  {
   "cell_type": "code",
   "execution_count": 132,
   "metadata": {},
   "outputs": [],
   "source": [
    "## Finding once again records with duplicated contact name:\n",
    "\n",
    "dupes = joel[(joel.duplicated(subset=['Contact'], keep=False))]                                                 "
   ]
  },
  {
   "cell_type": "code",
   "execution_count": 133,
   "metadata": {},
   "outputs": [],
   "source": [
    "# Function to identify pairs and trios of duplicated records\n",
    "\n",
    "pair = dupes.groupby(dupes['Contact'].tolist(),as_index=False).size() <4\n",
    "lista = list(pair[pair==True].index)\n",
    "dupes = dupes[dupes['Contact'].apply(pairs) == True]"
   ]
  },
  {
   "cell_type": "markdown",
   "metadata": {},
   "source": [
    "###### We can see that out of the 826 records on this subset, only 384 are unique in their name. That means that more than half of the records are somewhat redundant!"
   ]
  },
  {
   "cell_type": "code",
   "execution_count": 134,
   "metadata": {},
   "outputs": [
    {
     "data": {
      "text/plain": [
       "826"
      ]
     },
     "execution_count": 134,
     "metadata": {},
     "output_type": "execute_result"
    }
   ],
   "source": [
    "len(dupes)"
   ]
  },
  {
   "cell_type": "code",
   "execution_count": 135,
   "metadata": {},
   "outputs": [
    {
     "data": {
      "text/plain": [
       "384"
      ]
     },
     "execution_count": 135,
     "metadata": {},
     "output_type": "execute_result"
    }
   ],
   "source": [
    "dupes['Contact'].nunique()"
   ]
  },
  {
   "cell_type": "code",
   "execution_count": 136,
   "metadata": {},
   "outputs": [],
   "source": [
    "dupes['count'] = pd.isnull(dupes[imp2]).sum(1)\n",
    "dupes = dupes.sort_values(['count'])"
   ]
  },
  {
   "cell_type": "markdown",
   "metadata": {},
   "source": [
    "##### But before we delete our records, We first need to merge all notes from each record group into that first, more-filled observation. "
   ]
  },
  {
   "cell_type": "code",
   "execution_count": 137,
   "metadata": {},
   "outputs": [],
   "source": [
    "dupes.reset_index(inplace=True)\n",
    "\n",
    "a= dupes.groupby('Contact',as_index=False).agg(dicts)\n",
    "                    \n",
    "a.set_index('index',inplace=True)"
   ]
  },
  {
   "cell_type": "code",
   "execution_count": 138,
   "metadata": {},
   "outputs": [],
   "source": [
    "dupes.set_index('index',inplace=True)"
   ]
  },
  {
   "cell_type": "code",
   "execution_count": 139,
   "metadata": {},
   "outputs": [],
   "source": [
    "# dupes Left JOIN a\n",
    "dupes.update(a, join='left', overwrite=True, filter_func=None, raise_conflict=False)"
   ]
  },
  {
   "cell_type": "code",
   "execution_count": 140,
   "metadata": {},
   "outputs": [],
   "source": [
    "dupes = dupes.applymap(lambda x: np.nan if (isinstance(x,str) and special_match(x) == True) else x)"
   ]
  },
  {
   "cell_type": "code",
   "execution_count": 141,
   "metadata": {},
   "outputs": [],
   "source": [
    "# Remove repeated character pattern in a string (for preventing redundant info after the aggregation)\n",
    "import re\n",
    "dupes[join_these] = dupes[join_these].applymap(lambda x: re.sub(r'(.+?)\\1+', r'\\1', x) if isinstance(x,str)  else x)"
   ]
  },
  {
   "cell_type": "code",
   "execution_count": 142,
   "metadata": {},
   "outputs": [
    {
     "data": {
      "text/html": [
       "<div>\n",
       "<style scoped>\n",
       "    .dataframe tbody tr th:only-of-type {\n",
       "        vertical-align: middle;\n",
       "    }\n",
       "\n",
       "    .dataframe tbody tr th {\n",
       "        vertical-align: top;\n",
       "    }\n",
       "\n",
       "    .dataframe thead th {\n",
       "        text-align: right;\n",
       "    }\n",
       "</style>\n",
       "<table border=\"1\" class=\"dataframe\">\n",
       "  <thead>\n",
       "    <tr style=\"text-align: right;\">\n",
       "      <th></th>\n",
       "      <th>Contact</th>\n",
       "      <th>Business Phone</th>\n",
       "      <th>Business Phone 2</th>\n",
       "      <th>Home Phone</th>\n",
       "      <th>Home Phone 2</th>\n",
       "      <th>Mobile Phone</th>\n",
       "      <th>Other Phone</th>\n",
       "      <th>E-mail Address</th>\n",
       "      <th>E-mail 2 Address</th>\n",
       "      <th>E-mail 3 Address</th>\n",
       "      <th>Notes</th>\n",
       "    </tr>\n",
       "  </thead>\n",
       "  <tbody>\n",
       "    <tr>\n",
       "      <th>24</th>\n",
       "      <td>Miguel de Oliveira</td>\n",
       "      <td>NaN</td>\n",
       "      <td>NaN</td>\n",
       "      <td>NaN</td>\n",
       "      <td>NaN</td>\n",
       "      <td>(407) 467-8843</td>\n",
       "      <td>01155966451901</td>\n",
       "      <td>maoliveira@earthlink.net</td>\n",
       "      <td>miguel1956@uol.com.br</td>\n",
       "      <td>NaN</td>\n",
       "      <td>Amigo de Joey Volpato\\r\\n\\r\\nCCBTV\\r\\n\\r\\nNot ...</td>\n",
       "    </tr>\n",
       "    <tr>\n",
       "      <th>25</th>\n",
       "      <td>Miguel de Oliveira</td>\n",
       "      <td>NaN</td>\n",
       "      <td>NaN</td>\n",
       "      <td>NaN</td>\n",
       "      <td>NaN</td>\n",
       "      <td>01155966451901</td>\n",
       "      <td>NaN</td>\n",
       "      <td>miguel1956@uol.com.br</td>\n",
       "      <td>NaN</td>\n",
       "      <td>NaN</td>\n",
       "      <td>Olivia Ilmar Dantas da Silva Oliveira\\n\\nVeiu ...</td>\n",
       "    </tr>\n",
       "  </tbody>\n",
       "</table>\n",
       "</div>"
      ],
      "text/plain": [
       "               Contact Business Phone Business Phone 2 Home Phone  \\\n",
       "24  Miguel de Oliveira            NaN              NaN        NaN   \n",
       "25  Miguel de Oliveira            NaN              NaN        NaN   \n",
       "\n",
       "   Home Phone 2    Mobile Phone     Other Phone            E-mail Address  \\\n",
       "24          NaN  (407) 467-8843  01155966451901  maoliveira@earthlink.net   \n",
       "25          NaN  01155966451901             NaN     miguel1956@uol.com.br   \n",
       "\n",
       "         E-mail 2 Address E-mail 3 Address  \\\n",
       "24  miguel1956@uol.com.br              NaN   \n",
       "25                    NaN              NaN   \n",
       "\n",
       "                                                Notes  \n",
       "24  Amigo de Joey Volpato\\r\\n\\r\\nCCBTV\\r\\n\\r\\nNot ...  \n",
       "25  Olivia Ilmar Dantas da Silva Oliveira\\n\\nVeiu ...  "
      ]
     },
     "execution_count": 142,
     "metadata": {},
     "output_type": "execute_result"
    }
   ],
   "source": [
    "# Test -Before-:\n",
    "joel[joel['Contact']=='Miguel de Oliveira'][imp2]"
   ]
  },
  {
   "cell_type": "code",
   "execution_count": 143,
   "metadata": {},
   "outputs": [
    {
     "data": {
      "text/html": [
       "<div>\n",
       "<style scoped>\n",
       "    .dataframe tbody tr th:only-of-type {\n",
       "        vertical-align: middle;\n",
       "    }\n",
       "\n",
       "    .dataframe tbody tr th {\n",
       "        vertical-align: top;\n",
       "    }\n",
       "\n",
       "    .dataframe thead th {\n",
       "        text-align: right;\n",
       "    }\n",
       "</style>\n",
       "<table border=\"1\" class=\"dataframe\">\n",
       "  <thead>\n",
       "    <tr style=\"text-align: right;\">\n",
       "      <th></th>\n",
       "      <th>Contact</th>\n",
       "      <th>Business Phone</th>\n",
       "      <th>Business Phone 2</th>\n",
       "      <th>Home Phone</th>\n",
       "      <th>Home Phone 2</th>\n",
       "      <th>Mobile Phone</th>\n",
       "      <th>Other Phone</th>\n",
       "      <th>E-mail Address</th>\n",
       "      <th>E-mail 2 Address</th>\n",
       "      <th>E-mail 3 Address</th>\n",
       "      <th>Notes</th>\n",
       "    </tr>\n",
       "  </thead>\n",
       "  <tbody>\n",
       "    <tr>\n",
       "      <th>2403</th>\n",
       "      <td>Alcantara</td>\n",
       "      <td>NaN</td>\n",
       "      <td>NaN</td>\n",
       "      <td>NaN</td>\n",
       "      <td>NaN</td>\n",
       "      <td>NaN</td>\n",
       "      <td>NaN</td>\n",
       "      <td>tony@commtogo.com</td>\n",
       "      <td>wellingtonalc@hotmaiol.com</td>\n",
       "      <td>NaN</td>\n",
       "      <td>Sunday, September 15, 2013 8:07 PM:\\nWednesday...</td>\n",
       "    </tr>\n",
       "    <tr>\n",
       "      <th>4624</th>\n",
       "      <td>Alcantara</td>\n",
       "      <td>NaN</td>\n",
       "      <td>NaN</td>\n",
       "      <td>NaN</td>\n",
       "      <td>NaN</td>\n",
       "      <td>(904) 759-0478</td>\n",
       "      <td>NaN</td>\n",
       "      <td>wellingtonalc@hotmaiol.com</td>\n",
       "      <td>NaN</td>\n",
       "      <td>NaN</td>\n",
       "      <td>NaN</td>\n",
       "    </tr>\n",
       "  </tbody>\n",
       "</table>\n",
       "</div>"
      ],
      "text/plain": [
       "         Contact Business Phone Business Phone 2 Home Phone Home Phone 2  \\\n",
       "2403   Alcantara            NaN              NaN        NaN          NaN   \n",
       "4624   Alcantara            NaN              NaN        NaN          NaN   \n",
       "\n",
       "        Mobile Phone Other Phone              E-mail Address  \\\n",
       "2403             NaN         NaN           tony@commtogo.com   \n",
       "4624  (904) 759-0478         NaN  wellingtonalc@hotmaiol.com   \n",
       "\n",
       "                E-mail 2 Address E-mail 3 Address  \\\n",
       "2403  wellingtonalc@hotmaiol.com              NaN   \n",
       "4624                         NaN              NaN   \n",
       "\n",
       "                                                  Notes  \n",
       "2403  Sunday, September 15, 2013 8:07 PM:\\nWednesday...  \n",
       "4624                                                NaN  "
      ]
     },
     "execution_count": 143,
     "metadata": {},
     "output_type": "execute_result"
    }
   ],
   "source": [
    "# Test -Before-:\n",
    "joel[joel['Contact']==' Alcantara'][imp2]"
   ]
  },
  {
   "cell_type": "code",
   "execution_count": 144,
   "metadata": {},
   "outputs": [],
   "source": [
    "# joel Left JOIN dupes\n",
    "joel.update(dupes, join='left', overwrite=True, filter_func=None, raise_conflict=False)"
   ]
  },
  {
   "cell_type": "code",
   "execution_count": 145,
   "metadata": {},
   "outputs": [],
   "source": [
    "#drop the duplicates using column 'Contact' and 'E-mail' as reference but only keep the most filled rows\n",
    "dupes_2= dupes.drop_duplicates(subset=['Contact'],keep='first')\n",
    "\n",
    "joel.drop(dupes.index.difference(dupes_2.index),inplace=True)"
   ]
  },
  {
   "cell_type": "code",
   "execution_count": 146,
   "metadata": {},
   "outputs": [
    {
     "data": {
      "text/html": [
       "<div>\n",
       "<style scoped>\n",
       "    .dataframe tbody tr th:only-of-type {\n",
       "        vertical-align: middle;\n",
       "    }\n",
       "\n",
       "    .dataframe tbody tr th {\n",
       "        vertical-align: top;\n",
       "    }\n",
       "\n",
       "    .dataframe thead th {\n",
       "        text-align: right;\n",
       "    }\n",
       "</style>\n",
       "<table border=\"1\" class=\"dataframe\">\n",
       "  <thead>\n",
       "    <tr style=\"text-align: right;\">\n",
       "      <th></th>\n",
       "      <th>Contact</th>\n",
       "      <th>Business Phone</th>\n",
       "      <th>Business Phone 2</th>\n",
       "      <th>Home Phone</th>\n",
       "      <th>Home Phone 2</th>\n",
       "      <th>Mobile Phone</th>\n",
       "      <th>Other Phone</th>\n",
       "      <th>E-mail Address</th>\n",
       "      <th>E-mail 2 Address</th>\n",
       "      <th>E-mail 3 Address</th>\n",
       "      <th>Notes</th>\n",
       "    </tr>\n",
       "  </thead>\n",
       "  <tbody>\n",
       "    <tr>\n",
       "      <th>24</th>\n",
       "      <td>Miguel de Oliveira</td>\n",
       "      <td>NaN</td>\n",
       "      <td>NaN</td>\n",
       "      <td>NaN</td>\n",
       "      <td>NaN</td>\n",
       "      <td>(407) 467-8843</td>\n",
       "      <td>01155966451901</td>\n",
       "      <td>maoliveira@earthlink.net</td>\n",
       "      <td>miguel1956@uol.com.br</td>\n",
       "      <td>NaN</td>\n",
       "      <td>Amigo de Joey Volpato\\r\\n\\r\\nCBTV\\r\\n\\r\\nNot o...</td>\n",
       "    </tr>\n",
       "  </tbody>\n",
       "</table>\n",
       "</div>"
      ],
      "text/plain": [
       "               Contact Business Phone Business Phone 2 Home Phone  \\\n",
       "24  Miguel de Oliveira            NaN              NaN        NaN   \n",
       "\n",
       "   Home Phone 2    Mobile Phone     Other Phone            E-mail Address  \\\n",
       "24          NaN  (407) 467-8843  01155966451901  maoliveira@earthlink.net   \n",
       "\n",
       "         E-mail 2 Address E-mail 3 Address  \\\n",
       "24  miguel1956@uol.com.br              NaN   \n",
       "\n",
       "                                                Notes  \n",
       "24  Amigo de Joey Volpato\\r\\n\\r\\nCBTV\\r\\n\\r\\nNot o...  "
      ]
     },
     "execution_count": 146,
     "metadata": {},
     "output_type": "execute_result"
    }
   ],
   "source": [
    "# Test -After-\n",
    "joel[joel['Contact']=='Miguel de Oliveira'][imp2]"
   ]
  },
  {
   "cell_type": "code",
   "execution_count": 147,
   "metadata": {},
   "outputs": [
    {
     "data": {
      "text/plain": [
       "'Amigo de Joey Volpato\\r\\n\\r\\nCBTV\\r\\n\\r\\nNot on Linked In\\r\\n\\r\\nCalvario City Church\\r\\nCcorl.org\\r\\nPastor Miguel & Angelica de Oliveira\\r\\nIntercesion Pastors, Portuguese Ministry\\r\\n250 W Oak Ridge Road\\r\\nOrlando, FL 32809\\r\\n\\r\\n\\r\\n | Olivia Ilmar Dantas da Silva Oliveira\\n\\nVeiu de Orlando\\n\\nFilho de 26 anos de idade. \\n\\nFilho quer visto, foi recusado 3 vezes, mexa com venda compra de caros, pais agradáveis, talvez querem investir 50 mil, pode ser em nome do filho?\\n'"
      ]
     },
     "execution_count": 147,
     "metadata": {},
     "output_type": "execute_result"
    }
   ],
   "source": [
    "joel.loc[joel[joel['Contact']=='Miguel de Oliveira'].index.item()]['Notes']"
   ]
  },
  {
   "cell_type": "code",
   "execution_count": 148,
   "metadata": {},
   "outputs": [
    {
     "data": {
      "text/html": [
       "<div>\n",
       "<style scoped>\n",
       "    .dataframe tbody tr th:only-of-type {\n",
       "        vertical-align: middle;\n",
       "    }\n",
       "\n",
       "    .dataframe tbody tr th {\n",
       "        vertical-align: top;\n",
       "    }\n",
       "\n",
       "    .dataframe thead th {\n",
       "        text-align: right;\n",
       "    }\n",
       "</style>\n",
       "<table border=\"1\" class=\"dataframe\">\n",
       "  <thead>\n",
       "    <tr style=\"text-align: right;\">\n",
       "      <th></th>\n",
       "      <th>Contact</th>\n",
       "      <th>Business Phone</th>\n",
       "      <th>Business Phone 2</th>\n",
       "      <th>Home Phone</th>\n",
       "      <th>Home Phone 2</th>\n",
       "      <th>Mobile Phone</th>\n",
       "      <th>Other Phone</th>\n",
       "      <th>E-mail Address</th>\n",
       "      <th>E-mail 2 Address</th>\n",
       "      <th>E-mail 3 Address</th>\n",
       "      <th>Notes</th>\n",
       "    </tr>\n",
       "  </thead>\n",
       "  <tbody>\n",
       "    <tr>\n",
       "      <th>2403</th>\n",
       "      <td>Alcantara</td>\n",
       "      <td>NaN</td>\n",
       "      <td>NaN</td>\n",
       "      <td>NaN</td>\n",
       "      <td>NaN</td>\n",
       "      <td>(904) 759-0478</td>\n",
       "      <td>NaN</td>\n",
       "      <td>tony@commtogo.com</td>\n",
       "      <td>wellingtonalc@hotmaiol.com</td>\n",
       "      <td>NaN</td>\n",
       "      <td>Sunday, September 15, 2013 8:07 PM:\\nWednesday...</td>\n",
       "    </tr>\n",
       "  </tbody>\n",
       "</table>\n",
       "</div>"
      ],
      "text/plain": [
       "         Contact Business Phone Business Phone 2 Home Phone Home Phone 2  \\\n",
       "2403   Alcantara            NaN              NaN        NaN          NaN   \n",
       "\n",
       "        Mobile Phone Other Phone     E-mail Address  \\\n",
       "2403  (904) 759-0478         NaN  tony@commtogo.com   \n",
       "\n",
       "                E-mail 2 Address E-mail 3 Address  \\\n",
       "2403  wellingtonalc@hotmaiol.com              NaN   \n",
       "\n",
       "                                                  Notes  \n",
       "2403  Sunday, September 15, 2013 8:07 PM:\\nWednesday...  "
      ]
     },
     "execution_count": 148,
     "metadata": {},
     "output_type": "execute_result"
    }
   ],
   "source": [
    "# Test -After-:\n",
    "joel[joel['Contact']==' Alcantara'][imp2]"
   ]
  },
  {
   "cell_type": "markdown",
   "metadata": {},
   "source": [
    "___"
   ]
  },
  {
   "cell_type": "markdown",
   "metadata": {},
   "source": [
    "##### &#9678; Current Number of Records:"
   ]
  },
  {
   "cell_type": "code",
   "execution_count": 149,
   "metadata": {},
   "outputs": [
    {
     "data": {
      "text/plain": [
       "9074"
      ]
     },
     "execution_count": 149,
     "metadata": {},
     "output_type": "execute_result"
    }
   ],
   "source": [
    "len(joel.index)"
   ]
  },
  {
   "cell_type": "markdown",
   "metadata": {},
   "source": [
    "---"
   ]
  },
  {
   "cell_type": "markdown",
   "metadata": {},
   "source": [
    "## 5. Data on wrong Fields:"
   ]
  },
  {
   "cell_type": "markdown",
   "metadata": {},
   "source": [
    "##### In this section, we will be moving information that somehow got mistakenly inputted into another field to the one that it is supposed to be."
   ]
  },
  {
   "cell_type": "markdown",
   "metadata": {},
   "source": [
    "##### Functions for finding non-alphabetical data on supposedly alphabetical fields and non-numeric data on supposedly Numerical fields "
   ]
  },
  {
   "cell_type": "code",
   "execution_count": 150,
   "metadata": {},
   "outputs": [],
   "source": [
    "## Function for finding if string is numerical or not:\n",
    "def numeric(x):\n",
    "    if pd.isna(x) == False:\n",
    "        x = x.replace(' ','').replace('+','').replace('(','').replace(')','').replace('-','')\n",
    "        return x.isnumeric()\n",
    "\n",
    "\n",
    "## Function for finding if string is aplhabetical or not\n",
    "def alpha(x):\n",
    "    if pd.isna(x) == False:\n",
    "        x= x.replace(\".\",\"\").replace(' ',\"\").replace(\"'\",\"\").replace(\"`\",\"\")\n",
    "        x= x.replace(\"-\",\"\").replace('?',\"\").replace('(','').replace(')','').replace('\"','')\n",
    "        x= x.replace(':','').replace('&','').replace(\",\",'').replace('/','')\n",
    "        return x.isalpha()"
   ]
  },
  {
   "cell_type": "markdown",
   "metadata": {},
   "source": [
    "### 5.1 Non-alphabetical Data on 'Contact'"
   ]
  },
  {
   "cell_type": "code",
   "execution_count": 151,
   "metadata": {},
   "outputs": [],
   "source": [
    "#Non alphabetical on 'Contact'\n",
    "nonalpha = joel[joel['Contact'].apply(alpha) == False]\n",
    "\n",
    "imp = ['Contact','Business Phone','Business Phone 2','Home Phone','Home Phone 2','Mobile Phone','Other Phone',\n",
    " 'E-mail Address','E-mail 2 Address']"
   ]
  },
  {
   "cell_type": "code",
   "execution_count": 152,
   "metadata": {},
   "outputs": [
    {
     "data": {
      "text/plain": [
       "116"
      ]
     },
     "execution_count": 152,
     "metadata": {},
     "output_type": "execute_result"
    }
   ],
   "source": [
    "len(nonalpha)"
   ]
  },
  {
   "cell_type": "code",
   "execution_count": 153,
   "metadata": {},
   "outputs": [
    {
     "data": {
      "text/plain": [
       "40"
      ]
     },
     "execution_count": 153,
     "metadata": {},
     "output_type": "execute_result"
    }
   ],
   "source": [
    "## Filtering only emails on 'Contact' field\n",
    "ContactMail = joel[joel['Contact'].str.contains(\"@\")==True]\n",
    "len(ContactMail)"
   ]
  },
  {
   "cell_type": "code",
   "execution_count": 154,
   "metadata": {},
   "outputs": [],
   "source": [
    "## Moving those mails From 'Contact' Field to 'E-mail 2 Address' field\n",
    "ContactMail.loc[:]['E-mail 2 Address'] = ContactMail['Contact']"
   ]
  },
  {
   "cell_type": "code",
   "execution_count": 155,
   "metadata": {},
   "outputs": [
    {
     "data": {
      "text/html": [
       "<div>\n",
       "<style scoped>\n",
       "    .dataframe tbody tr th:only-of-type {\n",
       "        vertical-align: middle;\n",
       "    }\n",
       "\n",
       "    .dataframe tbody tr th {\n",
       "        vertical-align: top;\n",
       "    }\n",
       "\n",
       "    .dataframe thead th {\n",
       "        text-align: right;\n",
       "    }\n",
       "</style>\n",
       "<table border=\"1\" class=\"dataframe\">\n",
       "  <thead>\n",
       "    <tr style=\"text-align: right;\">\n",
       "      <th></th>\n",
       "      <th>Contact</th>\n",
       "      <th>Business Phone</th>\n",
       "      <th>Business Phone 2</th>\n",
       "      <th>Home Phone</th>\n",
       "      <th>Home Phone 2</th>\n",
       "      <th>Mobile Phone</th>\n",
       "      <th>Other Phone</th>\n",
       "      <th>E-mail Address</th>\n",
       "      <th>E-mail 2 Address</th>\n",
       "      <th>E-mail 3 Address</th>\n",
       "      <th>Notes</th>\n",
       "    </tr>\n",
       "  </thead>\n",
       "  <tbody>\n",
       "    <tr>\n",
       "      <th>164</th>\n",
       "      <td>webmaster@aa.com</td>\n",
       "      <td>NaN</td>\n",
       "      <td>NaN</td>\n",
       "      <td>NaN</td>\n",
       "      <td>NaN</td>\n",
       "      <td>NaN</td>\n",
       "      <td>NaN</td>\n",
       "      <td>webmaster@aa.com</td>\n",
       "      <td>webmaster@aa.com</td>\n",
       "      <td>NaN</td>\n",
       "      <td></td>\n",
       "    </tr>\n",
       "    <tr>\n",
       "      <th>175</th>\n",
       "      <td>ts@gmail.com</td>\n",
       "      <td>NaN</td>\n",
       "      <td>NaN</td>\n",
       "      <td>NaN</td>\n",
       "      <td>NaN</td>\n",
       "      <td>NaN</td>\n",
       "      <td>NaN</td>\n",
       "      <td>ts@gmail.com</td>\n",
       "      <td>ts@gmail.com</td>\n",
       "      <td>NaN</td>\n",
       "      <td></td>\n",
       "    </tr>\n",
       "    <tr>\n",
       "      <th>195</th>\n",
       "      <td>support@bberry.com</td>\n",
       "      <td>NaN</td>\n",
       "      <td>NaN</td>\n",
       "      <td>NaN</td>\n",
       "      <td>NaN</td>\n",
       "      <td>NaN</td>\n",
       "      <td>NaN</td>\n",
       "      <td>support@bberry.com</td>\n",
       "      <td>support@bberry.com</td>\n",
       "      <td>NaN</td>\n",
       "      <td></td>\n",
       "    </tr>\n",
       "    <tr>\n",
       "      <th>219</th>\n",
       "      <td>sarah.regensdor@gmail.com</td>\n",
       "      <td>NaN</td>\n",
       "      <td>NaN</td>\n",
       "      <td>NaN</td>\n",
       "      <td>NaN</td>\n",
       "      <td>NaN</td>\n",
       "      <td>NaN</td>\n",
       "      <td>sarah.regensdor@gmail.com</td>\n",
       "      <td>sarah.regensdor@gmail.com</td>\n",
       "      <td>NaN</td>\n",
       "      <td></td>\n",
       "    </tr>\n",
       "    <tr>\n",
       "      <th>260</th>\n",
       "      <td>pbockweg@bellsouth.net</td>\n",
       "      <td>NaN</td>\n",
       "      <td>NaN</td>\n",
       "      <td>NaN</td>\n",
       "      <td>NaN</td>\n",
       "      <td>NaN</td>\n",
       "      <td>NaN</td>\n",
       "      <td>pbockweg@bellsouth.net</td>\n",
       "      <td>pbockweg@bellsouth.net</td>\n",
       "      <td>NaN</td>\n",
       "      <td></td>\n",
       "    </tr>\n",
       "    <tr>\n",
       "      <th>290</th>\n",
       "      <td>mlh@hotmail.com</td>\n",
       "      <td>NaN</td>\n",
       "      <td>NaN</td>\n",
       "      <td>NaN</td>\n",
       "      <td>NaN</td>\n",
       "      <td>NaN</td>\n",
       "      <td>NaN</td>\n",
       "      <td>mlh@hotmail.com</td>\n",
       "      <td>mlh@hotmail.com</td>\n",
       "      <td>NaN</td>\n",
       "      <td></td>\n",
       "    </tr>\n",
       "    <tr>\n",
       "      <th>430</th>\n",
       "      <td>joel@jslaw.com</td>\n",
       "      <td>NaN</td>\n",
       "      <td>NaN</td>\n",
       "      <td>NaN</td>\n",
       "      <td>NaN</td>\n",
       "      <td>NaN</td>\n",
       "      <td>NaN</td>\n",
       "      <td>joel@jslaw.com</td>\n",
       "      <td>joel@jslaw.com</td>\n",
       "      <td>NaN</td>\n",
       "      <td></td>\n",
       "    </tr>\n",
       "    <tr>\n",
       "      <th>436</th>\n",
       "      <td>joao_c_vicente@hotmail.com</td>\n",
       "      <td>NaN</td>\n",
       "      <td>NaN</td>\n",
       "      <td>NaN</td>\n",
       "      <td>NaN</td>\n",
       "      <td>NaN</td>\n",
       "      <td>NaN</td>\n",
       "      <td>joao_c_vicente@hotmail.com</td>\n",
       "      <td>joao_c_vicente@hotmail.com</td>\n",
       "      <td>NaN</td>\n",
       "      <td></td>\n",
       "    </tr>\n",
       "    <tr>\n",
       "      <th>493</th>\n",
       "      <td>help@mgo.com</td>\n",
       "      <td>NaN</td>\n",
       "      <td>NaN</td>\n",
       "      <td>NaN</td>\n",
       "      <td>NaN</td>\n",
       "      <td>NaN</td>\n",
       "      <td>NaN</td>\n",
       "      <td>help@mgo.com</td>\n",
       "      <td>help@mgo.com</td>\n",
       "      <td>NaN</td>\n",
       "      <td></td>\n",
       "    </tr>\n",
       "    <tr>\n",
       "      <th>494</th>\n",
       "      <td>hartism@comcast.net</td>\n",
       "      <td>NaN</td>\n",
       "      <td>NaN</td>\n",
       "      <td>NaN</td>\n",
       "      <td>NaN</td>\n",
       "      <td>NaN</td>\n",
       "      <td>NaN</td>\n",
       "      <td>hartism@comcast.net</td>\n",
       "      <td>hartism@comcast.net</td>\n",
       "      <td>NaN</td>\n",
       "      <td></td>\n",
       "    </tr>\n",
       "    <tr>\n",
       "      <th>612</th>\n",
       "      <td>benjamin@lapidismosaics.com</td>\n",
       "      <td>NaN</td>\n",
       "      <td>NaN</td>\n",
       "      <td>NaN</td>\n",
       "      <td>NaN</td>\n",
       "      <td>NaN</td>\n",
       "      <td>NaN</td>\n",
       "      <td>benjamin@lapidis.net</td>\n",
       "      <td>benjamin@lapidismosaics.com</td>\n",
       "      <td>NaN</td>\n",
       "      <td></td>\n",
       "    </tr>\n",
       "    <tr>\n",
       "      <th>4813</th>\n",
       "      <td>M@rt!ns</td>\n",
       "      <td>NaN</td>\n",
       "      <td>NaN</td>\n",
       "      <td>NaN</td>\n",
       "      <td>NaN</td>\n",
       "      <td>(561) 818-1114</td>\n",
       "      <td>NaN</td>\n",
       "      <td>NaN</td>\n",
       "      <td>M@rt!ns</td>\n",
       "      <td>NaN</td>\n",
       "      <td>Casada a 16 anos ja, dois filhos maravilhosos...</td>\n",
       "    </tr>\n",
       "    <tr>\n",
       "      <th>5674</th>\n",
       "      <td>trisha@versowealth. com</td>\n",
       "      <td>904-242-7900</td>\n",
       "      <td>NaN</td>\n",
       "      <td>NaN</td>\n",
       "      <td>NaN</td>\n",
       "      <td>NaN</td>\n",
       "      <td>NaN</td>\n",
       "      <td>trisha@versowealth.com</td>\n",
       "      <td>trisha@versowealth. com</td>\n",
       "      <td>NaN</td>\n",
       "      <td>Sunday, September 15, 2013 8:09 PM:\\n&lt;!DOCTYPE...</td>\n",
       "    </tr>\n",
       "    <tr>\n",
       "      <th>5796</th>\n",
       "      <td>JoelStewartPA@Gmail</td>\n",
       "      <td>(305) 766-7825</td>\n",
       "      <td>(786) 464-8600</td>\n",
       "      <td>(954) 950-5532</td>\n",
       "      <td>NaN</td>\n",
       "      <td>(954) 772-7600</td>\n",
       "      <td>(954) 654-3424</td>\n",
       "      <td>js.miami@gmail.com</td>\n",
       "      <td>JoelStewartPA@Gmail</td>\n",
       "      <td>joelstewartpa@gmail.com</td>\n",
       "      <td>Sunday, November 29, 2015 7:48 PM:\\r\\nQwerty1@...</td>\n",
       "    </tr>\n",
       "    <tr>\n",
       "      <th>5837</th>\n",
       "      <td>joelstewartpa@gmail.com</td>\n",
       "      <td>NaN</td>\n",
       "      <td>NaN</td>\n",
       "      <td>NaN</td>\n",
       "      <td>NaN</td>\n",
       "      <td>NaN</td>\n",
       "      <td>NaN</td>\n",
       "      <td>NaN</td>\n",
       "      <td>joelstewartpa@gmail.com</td>\n",
       "      <td>NaN</td>\n",
       "      <td>Username: joelstewartpa@gmail.com\\nPassword: Q...</td>\n",
       "    </tr>\n",
       "    <tr>\n",
       "      <th>6931</th>\n",
       "      <td>support@bberry com</td>\n",
       "      <td>NaN</td>\n",
       "      <td>NaN</td>\n",
       "      <td>NaN</td>\n",
       "      <td>NaN</td>\n",
       "      <td>NaN</td>\n",
       "      <td>NaN</td>\n",
       "      <td>support@bberry.com</td>\n",
       "      <td>support@bberry com</td>\n",
       "      <td>NaN</td>\n",
       "      <td>NaN</td>\n",
       "    </tr>\n",
       "    <tr>\n",
       "      <th>7191</th>\n",
       "      <td>benjamin@lapidismosaics com</td>\n",
       "      <td>NaN</td>\n",
       "      <td>NaN</td>\n",
       "      <td>NaN</td>\n",
       "      <td>NaN</td>\n",
       "      <td>NaN</td>\n",
       "      <td>NaN</td>\n",
       "      <td>benjamin@lapidis.net</td>\n",
       "      <td>benjamin@lapidismosaics com</td>\n",
       "      <td>NaN</td>\n",
       "      <td>NaN</td>\n",
       "    </tr>\n",
       "    <tr>\n",
       "      <th>7750</th>\n",
       "      <td>Kbaier@fowler-white com</td>\n",
       "      <td>NaN</td>\n",
       "      <td>NaN</td>\n",
       "      <td>NaN</td>\n",
       "      <td>NaN</td>\n",
       "      <td>NaN</td>\n",
       "      <td>NaN</td>\n",
       "      <td>kbaier@fowler-white.com</td>\n",
       "      <td>Kbaier@fowler-white com</td>\n",
       "      <td>NaN</td>\n",
       "      <td>NaN</td>\n",
       "    </tr>\n",
       "    <tr>\n",
       "      <th>7972</th>\n",
       "      <td>jean@jeancomputer com</td>\n",
       "      <td>NaN</td>\n",
       "      <td>NaN</td>\n",
       "      <td>NaN</td>\n",
       "      <td>NaN</td>\n",
       "      <td>813-416-1991</td>\n",
       "      <td>NaN</td>\n",
       "      <td>jean@jeancomputer.com</td>\n",
       "      <td>jean@jeancomputer com</td>\n",
       "      <td>NaN</td>\n",
       "      <td>Sunday, September 15, 2013 8:09 PM:\\n&lt;!DOCTYPE...</td>\n",
       "    </tr>\n",
       "    <tr>\n",
       "      <th>7980</th>\n",
       "      <td>mlh@hotmail com</td>\n",
       "      <td>NaN</td>\n",
       "      <td>NaN</td>\n",
       "      <td>NaN</td>\n",
       "      <td>NaN</td>\n",
       "      <td>NaN</td>\n",
       "      <td>NaN</td>\n",
       "      <td>mlh@hotmail.com</td>\n",
       "      <td>mlh@hotmail com</td>\n",
       "      <td>NaN</td>\n",
       "      <td>NaN</td>\n",
       "    </tr>\n",
       "  </tbody>\n",
       "</table>\n",
       "</div>"
      ],
      "text/plain": [
       "                           Contact  Business Phone Business Phone 2  \\\n",
       "164              webmaster@aa.com              NaN              NaN   \n",
       "175                  ts@gmail.com              NaN              NaN   \n",
       "195            support@bberry.com              NaN              NaN   \n",
       "219     sarah.regensdor@gmail.com              NaN              NaN   \n",
       "260        pbockweg@bellsouth.net              NaN              NaN   \n",
       "290               mlh@hotmail.com              NaN              NaN   \n",
       "430                joel@jslaw.com              NaN              NaN   \n",
       "436    joao_c_vicente@hotmail.com              NaN              NaN   \n",
       "493                  help@mgo.com              NaN              NaN   \n",
       "494           hartism@comcast.net              NaN              NaN   \n",
       "612   benjamin@lapidismosaics.com              NaN              NaN   \n",
       "4813                       M@rt!ns             NaN              NaN   \n",
       "5674       trisha@versowealth. com    904-242-7900              NaN   \n",
       "5796          JoelStewartPA@Gmail   (305) 766-7825   (786) 464-8600   \n",
       "5837      joelstewartpa@gmail.com              NaN              NaN   \n",
       "6931            support@bberry com             NaN              NaN   \n",
       "7191   benjamin@lapidismosaics com             NaN              NaN   \n",
       "7750       Kbaier@fowler-white com             NaN              NaN   \n",
       "7972         jean@jeancomputer com             NaN              NaN   \n",
       "7980               mlh@hotmail com             NaN              NaN   \n",
       "\n",
       "          Home Phone Home Phone 2    Mobile Phone     Other Phone  \\\n",
       "164              NaN          NaN             NaN             NaN   \n",
       "175              NaN          NaN             NaN             NaN   \n",
       "195              NaN          NaN             NaN             NaN   \n",
       "219              NaN          NaN             NaN             NaN   \n",
       "260              NaN          NaN             NaN             NaN   \n",
       "290              NaN          NaN             NaN             NaN   \n",
       "430              NaN          NaN             NaN             NaN   \n",
       "436              NaN          NaN             NaN             NaN   \n",
       "493              NaN          NaN             NaN             NaN   \n",
       "494              NaN          NaN             NaN             NaN   \n",
       "612              NaN          NaN             NaN             NaN   \n",
       "4813             NaN          NaN  (561) 818-1114             NaN   \n",
       "5674             NaN          NaN             NaN             NaN   \n",
       "5796  (954) 950-5532          NaN  (954) 772-7600  (954) 654-3424   \n",
       "5837             NaN          NaN             NaN             NaN   \n",
       "6931             NaN          NaN             NaN             NaN   \n",
       "7191             NaN          NaN             NaN             NaN   \n",
       "7750             NaN          NaN             NaN             NaN   \n",
       "7972             NaN          NaN    813-416-1991             NaN   \n",
       "7980             NaN          NaN             NaN             NaN   \n",
       "\n",
       "                  E-mail Address              E-mail 2 Address  \\\n",
       "164             webmaster@aa.com             webmaster@aa.com    \n",
       "175                 ts@gmail.com                 ts@gmail.com    \n",
       "195           support@bberry.com           support@bberry.com    \n",
       "219    sarah.regensdor@gmail.com    sarah.regensdor@gmail.com    \n",
       "260       pbockweg@bellsouth.net       pbockweg@bellsouth.net    \n",
       "290              mlh@hotmail.com              mlh@hotmail.com    \n",
       "430               joel@jslaw.com               joel@jslaw.com    \n",
       "436   joao_c_vicente@hotmail.com   joao_c_vicente@hotmail.com    \n",
       "493                 help@mgo.com                 help@mgo.com    \n",
       "494          hartism@comcast.net          hartism@comcast.net    \n",
       "612         benjamin@lapidis.net  benjamin@lapidismosaics.com    \n",
       "4813                         NaN                       M@rt!ns   \n",
       "5674      trisha@versowealth.com       trisha@versowealth. com   \n",
       "5796          js.miami@gmail.com          JoelStewartPA@Gmail    \n",
       "5837                         NaN      joelstewartpa@gmail.com    \n",
       "6931          support@bberry.com            support@bberry com   \n",
       "7191        benjamin@lapidis.net   benjamin@lapidismosaics com   \n",
       "7750     kbaier@fowler-white.com       Kbaier@fowler-white com   \n",
       "7972       jean@jeancomputer.com         jean@jeancomputer com   \n",
       "7980             mlh@hotmail.com               mlh@hotmail com   \n",
       "\n",
       "             E-mail 3 Address  \\\n",
       "164                       NaN   \n",
       "175                       NaN   \n",
       "195                       NaN   \n",
       "219                       NaN   \n",
       "260                       NaN   \n",
       "290                       NaN   \n",
       "430                       NaN   \n",
       "436                       NaN   \n",
       "493                       NaN   \n",
       "494                       NaN   \n",
       "612                       NaN   \n",
       "4813                      NaN   \n",
       "5674                      NaN   \n",
       "5796  joelstewartpa@gmail.com   \n",
       "5837                      NaN   \n",
       "6931                      NaN   \n",
       "7191                      NaN   \n",
       "7750                      NaN   \n",
       "7972                      NaN   \n",
       "7980                      NaN   \n",
       "\n",
       "                                                  Notes  \n",
       "164                                                      \n",
       "175                                                      \n",
       "195                                                      \n",
       "219                                                      \n",
       "260                                                      \n",
       "290                                                      \n",
       "430                                                      \n",
       "436                                                      \n",
       "493                                                      \n",
       "494                                                      \n",
       "612                                                      \n",
       "4813   Casada a 16 anos ja, dois filhos maravilhosos...  \n",
       "5674  Sunday, September 15, 2013 8:09 PM:\\n<!DOCTYPE...  \n",
       "5796  Sunday, November 29, 2015 7:48 PM:\\r\\nQwerty1@...  \n",
       "5837  Username: joelstewartpa@gmail.com\\nPassword: Q...  \n",
       "6931                                                NaN  \n",
       "7191                                                NaN  \n",
       "7750                                                NaN  \n",
       "7972  Sunday, September 15, 2013 8:09 PM:\\n<!DOCTYPE...  \n",
       "7980                                                NaN  "
      ]
     },
     "execution_count": 155,
     "metadata": {},
     "output_type": "execute_result"
    }
   ],
   "source": [
    "ContactMail[imp2].head(20)"
   ]
  },
  {
   "cell_type": "code",
   "execution_count": 156,
   "metadata": {},
   "outputs": [],
   "source": [
    "# act Left JOIN PhoneMail\n",
    "joel.update(ContactMail, join='left', overwrite=True, filter_func=None, raise_conflict=False)"
   ]
  },
  {
   "cell_type": "code",
   "execution_count": 157,
   "metadata": {},
   "outputs": [],
   "source": [
    "# Excluding Contacts that don't have at least one Phone Number:\n",
    "ContactMail_2 = ContactMail.drop(ContactMail.loc[(ContactMail['Business Phones'].isnull()) & (ContactMail['Home Phones'].isnull()) &(ContactMail['Other Phones'].isnull())].index)"
   ]
  },
  {
   "cell_type": "code",
   "execution_count": 158,
   "metadata": {},
   "outputs": [],
   "source": [
    "joel.drop(ContactMail.index.difference(ContactMail_2.index),inplace=True)"
   ]
  },
  {
   "cell_type": "markdown",
   "metadata": {},
   "source": [
    "###### Go over these with client and see the best way to deal with those Records"
   ]
  },
  {
   "cell_type": "code",
   "execution_count": 159,
   "metadata": {},
   "outputs": [
    {
     "data": {
      "text/html": [
       "<div>\n",
       "<style scoped>\n",
       "    .dataframe tbody tr th:only-of-type {\n",
       "        vertical-align: middle;\n",
       "    }\n",
       "\n",
       "    .dataframe tbody tr th {\n",
       "        vertical-align: top;\n",
       "    }\n",
       "\n",
       "    .dataframe thead th {\n",
       "        text-align: right;\n",
       "    }\n",
       "</style>\n",
       "<table border=\"1\" class=\"dataframe\">\n",
       "  <thead>\n",
       "    <tr style=\"text-align: right;\">\n",
       "      <th></th>\n",
       "      <th>Contact</th>\n",
       "      <th>Business Phone</th>\n",
       "      <th>Business Phone 2</th>\n",
       "      <th>Home Phone</th>\n",
       "      <th>Home Phone 2</th>\n",
       "      <th>Mobile Phone</th>\n",
       "      <th>Other Phone</th>\n",
       "      <th>E-mail Address</th>\n",
       "      <th>E-mail 2 Address</th>\n",
       "      <th>E-mail 3 Address</th>\n",
       "      <th>Notes</th>\n",
       "    </tr>\n",
       "  </thead>\n",
       "  <tbody>\n",
       "    <tr>\n",
       "      <th>8</th>\n",
       "      <td>5466331116904942 12/15</td>\n",
       "      <td>NaN</td>\n",
       "      <td>NaN</td>\n",
       "      <td>NaN</td>\n",
       "      <td>NaN</td>\n",
       "      <td>NaN</td>\n",
       "      <td>NaN</td>\n",
       "      <td>NaN</td>\n",
       "      <td>NaN</td>\n",
       "      <td>NaN</td>\n",
       "      <td>Js.miami@gmail.com&lt;mailto:Js.miami@gmail.com &lt;...</td>\n",
       "    </tr>\n",
       "    <tr>\n",
       "      <th>42</th>\n",
       "      <td>Marcia Godinho954-468-7866</td>\n",
       "      <td>NaN</td>\n",
       "      <td>NaN</td>\n",
       "      <td>NaN</td>\n",
       "      <td>NaN</td>\n",
       "      <td>9544687866</td>\n",
       "      <td>NaN</td>\n",
       "      <td>NaN</td>\n",
       "      <td>NaN</td>\n",
       "      <td>NaN</td>\n",
       "      <td>Paralegal</td>\n",
       "    </tr>\n",
       "    <tr>\n",
       "      <th>124</th>\n",
       "      <td>Bibhor «Bob ' Upreti</td>\n",
       "      <td>9492990559</td>\n",
       "      <td>NaN</td>\n",
       "      <td>NaN</td>\n",
       "      <td>NaN</td>\n",
       "      <td>NaN</td>\n",
       "      <td>NaN</td>\n",
       "      <td>bob@eb5investors.com</td>\n",
       "      <td>NaN</td>\n",
       "      <td>NaN</td>\n",
       "      <td>NaN</td>\n",
       "    </tr>\n",
       "    <tr>\n",
       "      <th>151</th>\n",
       "      <td>????? ??????</td>\n",
       "      <td>NaN</td>\n",
       "      <td>NaN</td>\n",
       "      <td>NaN</td>\n",
       "      <td>NaN</td>\n",
       "      <td>NaN</td>\n",
       "      <td>NaN</td>\n",
       "      <td>joelstewart@rambler.ru</td>\n",
       "      <td>NaN</td>\n",
       "      <td>NaN</td>\n",
       "      <td></td>\n",
       "    </tr>\n",
       "    <tr>\n",
       "      <th>202</th>\n",
       "      <td>Stanley Roth 2 Mindy</td>\n",
       "      <td>NaN</td>\n",
       "      <td>NaN</td>\n",
       "      <td>631-752-9696</td>\n",
       "      <td>NaN</td>\n",
       "      <td>NaN</td>\n",
       "      <td>NaN</td>\n",
       "      <td>NaN</td>\n",
       "      <td>NaN</td>\n",
       "      <td>NaN</td>\n",
       "      <td></td>\n",
       "    </tr>\n",
       "    <tr>\n",
       "      <th>313</th>\n",
       "      <td>Mark_y Morais</td>\n",
       "      <td>NaN</td>\n",
       "      <td>NaN</td>\n",
       "      <td>NaN</td>\n",
       "      <td>NaN</td>\n",
       "      <td>17862223692</td>\n",
       "      <td>NaN</td>\n",
       "      <td>NaN</td>\n",
       "      <td>NaN</td>\n",
       "      <td>NaN</td>\n",
       "      <td></td>\n",
       "    </tr>\n",
       "    <tr>\n",
       "      <th>338</th>\n",
       "      <td>Manuel + Cora Ejercito</td>\n",
       "      <td>NaN</td>\n",
       "      <td>NaN</td>\n",
       "      <td>NaN</td>\n",
       "      <td>NaN</td>\n",
       "      <td>NaN</td>\n",
       "      <td>NaN</td>\n",
       "      <td>coraejercito@gmail.com</td>\n",
       "      <td>NaN</td>\n",
       "      <td>NaN</td>\n",
       "      <td></td>\n",
       "    </tr>\n",
       "    <tr>\n",
       "      <th>396</th>\n",
       "      <td>Jérôme Jérôme]</td>\n",
       "      <td>NaN</td>\n",
       "      <td>NaN</td>\n",
       "      <td>NaN</td>\n",
       "      <td>NaN</td>\n",
       "      <td>NaN</td>\n",
       "      <td>NaN</td>\n",
       "      <td>famille.jackson@free.fr</td>\n",
       "      <td>NaN</td>\n",
       "      <td>NaN</td>\n",
       "      <td></td>\n",
       "    </tr>\n",
       "    <tr>\n",
       "      <th>624</th>\n",
       "      <td>Ariane Ariane]</td>\n",
       "      <td>NaN</td>\n",
       "      <td>NaN</td>\n",
       "      <td>NaN</td>\n",
       "      <td>NaN</td>\n",
       "      <td>NaN</td>\n",
       "      <td>NaN</td>\n",
       "      <td>arianebruneton@orange.fr</td>\n",
       "      <td>NaN</td>\n",
       "      <td>NaN</td>\n",
       "      <td></td>\n",
       "    </tr>\n",
       "    <tr>\n",
       "      <th>841</th>\n",
       "      <td>RÃSOUF</td>\n",
       "      <td>NaN</td>\n",
       "      <td>NaN</td>\n",
       "      <td>NaN</td>\n",
       "      <td>NaN</td>\n",
       "      <td>NaN</td>\n",
       "      <td>NaN</td>\n",
       "      <td>louis.resouf@hec.ca</td>\n",
       "      <td>NaN</td>\n",
       "      <td>NaN</td>\n",
       "      <td>NaN</td>\n",
       "    </tr>\n",
       "    <tr>\n",
       "      <th>895</th>\n",
       "      <td>BrandÃ£o</td>\n",
       "      <td>NaN</td>\n",
       "      <td>NaN</td>\n",
       "      <td>NaN</td>\n",
       "      <td>NaN</td>\n",
       "      <td>NaN</td>\n",
       "      <td>NaN</td>\n",
       "      <td>brandao.adriana@gmail.com</td>\n",
       "      <td>NaN</td>\n",
       "      <td>NaN</td>\n",
       "      <td>NaN</td>\n",
       "    </tr>\n",
       "    <tr>\n",
       "      <th>1139</th>\n",
       "      <td>da ConceiÃ§Ã£o Gomes</td>\n",
       "      <td>NaN</td>\n",
       "      <td>NaN</td>\n",
       "      <td>NaN</td>\n",
       "      <td>NaN</td>\n",
       "      <td>(561) 628-2126</td>\n",
       "      <td>NaN</td>\n",
       "      <td>NaN</td>\n",
       "      <td>NaN</td>\n",
       "      <td>NaN</td>\n",
       "      <td>Sunday, September 15, 2013 7:21 PM:\\nMaria da ...</td>\n",
       "    </tr>\n",
       "    <tr>\n",
       "      <th>1144</th>\n",
       "      <td>DÃÂ¡ngelo</td>\n",
       "      <td>NaN</td>\n",
       "      <td>NaN</td>\n",
       "      <td>+1 (305) 651-9311</td>\n",
       "      <td>NaN</td>\n",
       "      <td>NaN</td>\n",
       "      <td>NaN</td>\n",
       "      <td>NaN</td>\n",
       "      <td>NaN</td>\n",
       "      <td>NaN</td>\n",
       "      <td>Sunday, September 15, 2013 7:21 PM:\\nGoffredo ...</td>\n",
       "    </tr>\n",
       "    <tr>\n",
       "      <th>1226</th>\n",
       "      <td>JÃÅ nior</td>\n",
       "      <td>NaN</td>\n",
       "      <td>NaN</td>\n",
       "      <td>NaN</td>\n",
       "      <td>NaN</td>\n",
       "      <td>NaN</td>\n",
       "      <td>NaN</td>\n",
       "      <td>NaN</td>\n",
       "      <td>NaN</td>\n",
       "      <td>NaN</td>\n",
       "      <td>Sunday, September 15, 2013 7:25 PM:\\nCarlos Ga...</td>\n",
       "    </tr>\n",
       "    <tr>\n",
       "      <th>1454</th>\n",
       "      <td>Alvesâ¸</td>\n",
       "      <td>NaN</td>\n",
       "      <td>NaN</td>\n",
       "      <td>NaN</td>\n",
       "      <td>NaN</td>\n",
       "      <td>NaN</td>\n",
       "      <td>NaN</td>\n",
       "      <td>NaN</td>\n",
       "      <td>NaN</td>\n",
       "      <td>NaN</td>\n",
       "      <td>Sunday, September 15, 2013 8:08 PM:\\nWednesday...</td>\n",
       "    </tr>\n",
       "    <tr>\n",
       "      <th>1552</th>\n",
       "      <td></td>\n",
       "      <td>NaN</td>\n",
       "      <td>NaN</td>\n",
       "      <td>NaN</td>\n",
       "      <td>NaN</td>\n",
       "      <td>+1 (2o3)536-9169</td>\n",
       "      <td>NaN</td>\n",
       "      <td>NaN</td>\n",
       "      <td>NaN</td>\n",
       "      <td>NaN</td>\n",
       "      <td>Sunday, September 15, 2013 8:11 PM:\\n&lt;!DOCTYPE...</td>\n",
       "    </tr>\n",
       "    <tr>\n",
       "      <th>1903</th>\n",
       "      <td>ValadÃ£o</td>\n",
       "      <td>(415) 285-3337</td>\n",
       "      <td>NaN</td>\n",
       "      <td>NaN</td>\n",
       "      <td>NaN</td>\n",
       "      <td>NaN</td>\n",
       "      <td>NaN</td>\n",
       "      <td>NaN</td>\n",
       "      <td>NaN</td>\n",
       "      <td>NaN</td>\n",
       "      <td>NaN</td>\n",
       "    </tr>\n",
       "    <tr>\n",
       "      <th>1951</th>\n",
       "      <td>SantÃna</td>\n",
       "      <td>NaN</td>\n",
       "      <td>NaN</td>\n",
       "      <td>NaN</td>\n",
       "      <td>NaN</td>\n",
       "      <td>NaN</td>\n",
       "      <td>NaN</td>\n",
       "      <td>renato.levanteze@itamaraty.gov.br</td>\n",
       "      <td>NaN</td>\n",
       "      <td>NaN</td>\n",
       "      <td>Aloyisio DAC</td>\n",
       "    </tr>\n",
       "    <tr>\n",
       "      <th>2129</th>\n",
       "      <td>CastaÃ±o</td>\n",
       "      <td>NaN</td>\n",
       "      <td>NaN</td>\n",
       "      <td>NaN</td>\n",
       "      <td>NaN</td>\n",
       "      <td>(786) 487-0170</td>\n",
       "      <td>NaN</td>\n",
       "      <td>cartucas@hotmail.com</td>\n",
       "      <td>NaN</td>\n",
       "      <td>NaN</td>\n",
       "      <td>NaN</td>\n",
       "    </tr>\n",
       "    <tr>\n",
       "      <th>2257</th>\n",
       "      <td>da Rocha GalvÃ£o</td>\n",
       "      <td>NaN</td>\n",
       "      <td>NaN</td>\n",
       "      <td>NaN</td>\n",
       "      <td>NaN</td>\n",
       "      <td>(305) 902-8087</td>\n",
       "      <td>NaN</td>\n",
       "      <td>eduardo.galvao@itamaraty.gov.br</td>\n",
       "      <td>NaN</td>\n",
       "      <td>NaN</td>\n",
       "      <td>NaN</td>\n",
       "    </tr>\n",
       "    <tr>\n",
       "      <th>2266</th>\n",
       "      <td>539</td>\n",
       "      <td>NaN</td>\n",
       "      <td>NaN</td>\n",
       "      <td>NaN</td>\n",
       "      <td>NaN</td>\n",
       "      <td>NaN</td>\n",
       "      <td>NaN</td>\n",
       "      <td>NaN</td>\n",
       "      <td>NaN</td>\n",
       "      <td>NaN</td>\n",
       "      <td>AA Citicard-Citibank-4229\\nwww.citcards.com\\ni...</td>\n",
       "    </tr>\n",
       "    <tr>\n",
       "      <th>2595</th>\n",
       "      <td>RancaÃ±o</td>\n",
       "      <td>NaN</td>\n",
       "      <td>NaN</td>\n",
       "      <td>NaN</td>\n",
       "      <td>NaN</td>\n",
       "      <td>(305) 316-7871</td>\n",
       "      <td>NaN</td>\n",
       "      <td>juan.m.rancano@chase.com</td>\n",
       "      <td>NaN</td>\n",
       "      <td>NaN</td>\n",
       "      <td>NaN</td>\n",
       "    </tr>\n",
       "    <tr>\n",
       "      <th>2639</th>\n",
       "      <td>Ð¡Ð°Ð¼Ð¾ÑÑÐºÐ¾Ð²</td>\n",
       "      <td>NaN</td>\n",
       "      <td>NaN</td>\n",
       "      <td>NaN</td>\n",
       "      <td>NaN</td>\n",
       "      <td>011 7 916 801-19-10</td>\n",
       "      <td>NaN</td>\n",
       "      <td>val.samorukov@gmail.com</td>\n",
       "      <td>NaN</td>\n",
       "      <td>NaN</td>\n",
       "      <td>NaN</td>\n",
       "    </tr>\n",
       "    <tr>\n",
       "      <th>2729</th>\n",
       "      <td>ValadÃÂ³o</td>\n",
       "      <td>NaN</td>\n",
       "      <td>NaN</td>\n",
       "      <td>+1 (415) 285-3337</td>\n",
       "      <td>NaN</td>\n",
       "      <td>NaN</td>\n",
       "      <td>NaN</td>\n",
       "      <td>NaN</td>\n",
       "      <td>NaN</td>\n",
       "      <td>NaN</td>\n",
       "      <td>Sunday, September 15, 2013 8:14 PM:\\n&lt;!DOCTYPE...</td>\n",
       "    </tr>\n",
       "    <tr>\n",
       "      <th>3408</th>\n",
       "      <td>ValadÃÂ£o</td>\n",
       "      <td>NaN</td>\n",
       "      <td>NaN</td>\n",
       "      <td>+1 (415) 285-3337</td>\n",
       "      <td>NaN</td>\n",
       "      <td>NaN</td>\n",
       "      <td>NaN</td>\n",
       "      <td>NaN</td>\n",
       "      <td>NaN</td>\n",
       "      <td>NaN</td>\n",
       "      <td>Sunday, September 15, 2013 7:29 PM:\\nJales Mac...</td>\n",
       "    </tr>\n",
       "    <tr>\n",
       "      <th>3419</th>\n",
       "      <td>NÃºÃ±ez</td>\n",
       "      <td>NaN</td>\n",
       "      <td>NaN</td>\n",
       "      <td>NaN</td>\n",
       "      <td>NaN</td>\n",
       "      <td>NaN</td>\n",
       "      <td>NaN</td>\n",
       "      <td>mail@lawnunez.com</td>\n",
       "      <td>NaN</td>\n",
       "      <td>NaN</td>\n",
       "      <td>NaN</td>\n",
       "    </tr>\n",
       "    <tr>\n",
       "      <th>3850</th>\n",
       "      <td>06/19</td>\n",
       "      <td>NaN</td>\n",
       "      <td>NaN</td>\n",
       "      <td>NaN</td>\n",
       "      <td>NaN</td>\n",
       "      <td>NaN</td>\n",
       "      <td>NaN</td>\n",
       "      <td>NaN</td>\n",
       "      <td>NaN</td>\n",
       "      <td>NaN</td>\n",
       "      <td>citibank.com Master Card\\n\\nID therese177bellt...</td>\n",
       "    </tr>\n",
       "    <tr>\n",
       "      <th>4055</th>\n",
       "      <td>DÐ±ngelo</td>\n",
       "      <td>(305) 651-9311</td>\n",
       "      <td>NaN</td>\n",
       "      <td>NaN</td>\n",
       "      <td>NaN</td>\n",
       "      <td>NaN</td>\n",
       "      <td>NaN</td>\n",
       "      <td>NaN</td>\n",
       "      <td>NaN</td>\n",
       "      <td>NaN</td>\n",
       "      <td>NaN</td>\n",
       "    </tr>\n",
       "    <tr>\n",
       "      <th>4127</th>\n",
       "      <td>Jrâ¸</td>\n",
       "      <td>(954) 822-2032</td>\n",
       "      <td>NaN</td>\n",
       "      <td>NaN</td>\n",
       "      <td>NaN</td>\n",
       "      <td>NaN</td>\n",
       "      <td>NaN</td>\n",
       "      <td>NaN</td>\n",
       "      <td>NaN</td>\n",
       "      <td>NaN</td>\n",
       "      <td>NaN</td>\n",
       "    </tr>\n",
       "    <tr>\n",
       "      <th>4592</th>\n",
       "      <td>com&gt;</td>\n",
       "      <td>NaN</td>\n",
       "      <td>NaN</td>\n",
       "      <td>NaN</td>\n",
       "      <td>NaN</td>\n",
       "      <td>NaN</td>\n",
       "      <td>NaN</td>\n",
       "      <td>tp@fcuonline.com</td>\n",
       "      <td>NaN</td>\n",
       "      <td>NaN</td>\n",
       "      <td>NaN</td>\n",
       "    </tr>\n",
       "    <tr>\n",
       "      <th>...</th>\n",
       "      <td>...</td>\n",
       "      <td>...</td>\n",
       "      <td>...</td>\n",
       "      <td>...</td>\n",
       "      <td>...</td>\n",
       "      <td>...</td>\n",
       "      <td>...</td>\n",
       "      <td>...</td>\n",
       "      <td>...</td>\n",
       "      <td>...</td>\n",
       "      <td>...</td>\n",
       "    </tr>\n",
       "    <tr>\n",
       "      <th>6953</th>\n",
       "      <td>ÐÑ</td>\n",
       "      <td>NaN</td>\n",
       "      <td>NaN</td>\n",
       "      <td>NaN</td>\n",
       "      <td>NaN</td>\n",
       "      <td>NaN</td>\n",
       "      <td>NaN</td>\n",
       "      <td>NaN</td>\n",
       "      <td>NaN</td>\n",
       "      <td>NaN</td>\n",
       "      <td>Sunday, September 15, 2013 8:10 PM:\\n&lt;!DOCTYPE...</td>\n",
       "    </tr>\n",
       "    <tr>\n",
       "      <th>7132</th>\n",
       "      <td>AA TS 5466160326437888 06/19</td>\n",
       "      <td>NaN</td>\n",
       "      <td>NaN</td>\n",
       "      <td>NaN</td>\n",
       "      <td>NaN</td>\n",
       "      <td>NaN</td>\n",
       "      <td>NaN</td>\n",
       "      <td>NaN</td>\n",
       "      <td>NaN</td>\n",
       "      <td>NaN</td>\n",
       "      <td>citibank.com Master Card\\n\\nID therese177bellt...</td>\n",
       "    </tr>\n",
       "    <tr>\n",
       "      <th>7177</th>\n",
       "      <td>1 - 560 Quillen</td>\n",
       "      <td>NaN</td>\n",
       "      <td>NaN</td>\n",
       "      <td>+1 954-202-0297</td>\n",
       "      <td>NaN</td>\n",
       "      <td>NaN</td>\n",
       "      <td>NaN</td>\n",
       "      <td>NaN</td>\n",
       "      <td>NaN</td>\n",
       "      <td>NaN</td>\n",
       "      <td>Richard Quillen</td>\n",
       "    </tr>\n",
       "    <tr>\n",
       "      <th>7527</th>\n",
       "      <td>5551614 _ Leon_ Rey _ Personal Sent E_mails com&gt;</td>\n",
       "      <td>NaN</td>\n",
       "      <td>NaN</td>\n",
       "      <td>NaN</td>\n",
       "      <td>NaN</td>\n",
       "      <td>NaN</td>\n",
       "      <td>NaN</td>\n",
       "      <td>{F1216397}.ACTIVE@QFLIWCOM1.us.firm.fowlerwhit...</td>\n",
       "      <td>NaN</td>\n",
       "      <td>NaN</td>\n",
       "      <td>NaN</td>\n",
       "    </tr>\n",
       "    <tr>\n",
       "      <th>7536</th>\n",
       "      <td>NouÃ© Isabelle</td>\n",
       "      <td>NaN</td>\n",
       "      <td>NaN</td>\n",
       "      <td>NaN</td>\n",
       "      <td>NaN</td>\n",
       "      <td>NaN</td>\n",
       "      <td>NaN</td>\n",
       "      <td>NaN</td>\n",
       "      <td>NaN</td>\n",
       "      <td>NaN</td>\n",
       "      <td>Sunday, September 15, 2013 8:10 PM:\\n&lt;!DOCTYPE...</td>\n",
       "    </tr>\n",
       "    <tr>\n",
       "      <th>7593</th>\n",
       "      <td>Microsoft Office Business 365 com</td>\n",
       "      <td>NaN</td>\n",
       "      <td>NaN</td>\n",
       "      <td>NaN</td>\n",
       "      <td>NaN</td>\n",
       "      <td>NaN</td>\n",
       "      <td>NaN</td>\n",
       "      <td>NaN</td>\n",
       "      <td>NaN</td>\n",
       "      <td>NaN</td>\n",
       "      <td>Access your Office 365: portal.microsoftonline...</td>\n",
       "    </tr>\n",
       "    <tr>\n",
       "      <th>7744</th>\n",
       "      <td>1 - 430 Edwards</td>\n",
       "      <td>954-351-9101</td>\n",
       "      <td>NaN</td>\n",
       "      <td>+1 954-781-3624</td>\n",
       "      <td>NaN</td>\n",
       "      <td>+1 954-784-7470</td>\n",
       "      <td>NaN</td>\n",
       "      <td>NaN</td>\n",
       "      <td>NaN</td>\n",
       "      <td>NaN</td>\n",
       "      <td>Sunday, September 15, 2013 8:10 PM:\\n&lt;!DOCTYPE...</td>\n",
       "    </tr>\n",
       "    <tr>\n",
       "      <th>7767</th>\n",
       "      <td>Jales ValadÃ£o</td>\n",
       "      <td>NaN</td>\n",
       "      <td>NaN</td>\n",
       "      <td>+1 (415) 285-3337</td>\n",
       "      <td>NaN</td>\n",
       "      <td>NaN</td>\n",
       "      <td>NaN</td>\n",
       "      <td>NaN</td>\n",
       "      <td>NaN</td>\n",
       "      <td>NaN</td>\n",
       "      <td>Sunday, September 15, 2013 7:29 PM:\\nJales Mac...</td>\n",
       "    </tr>\n",
       "    <tr>\n",
       "      <th>7882</th>\n",
       "      <td>e4gs Interactive</td>\n",
       "      <td>NaN</td>\n",
       "      <td>NaN</td>\n",
       "      <td>NaN</td>\n",
       "      <td>NaN</td>\n",
       "      <td>NaN</td>\n",
       "      <td>NaN</td>\n",
       "      <td>NaN</td>\n",
       "      <td>NaN</td>\n",
       "      <td>NaN</td>\n",
       "      <td>Sunday, September 15, 2013 7:25 PM:\\ne4gs Inte...</td>\n",
       "    </tr>\n",
       "    <tr>\n",
       "      <th>7972</th>\n",
       "      <td>jean@jeancomputer com</td>\n",
       "      <td>NaN</td>\n",
       "      <td>NaN</td>\n",
       "      <td>NaN</td>\n",
       "      <td>NaN</td>\n",
       "      <td>813-416-1991</td>\n",
       "      <td>NaN</td>\n",
       "      <td>jean@jeancomputer.com</td>\n",
       "      <td>jean@jeancomputer com</td>\n",
       "      <td>NaN</td>\n",
       "      <td>Sunday, September 15, 2013 8:09 PM:\\n&lt;!DOCTYPE...</td>\n",
       "    </tr>\n",
       "    <tr>\n",
       "      <th>8067</th>\n",
       "      <td>mxenick@LCGCapital. com</td>\n",
       "      <td>813-226-2800</td>\n",
       "      <td>NaN</td>\n",
       "      <td>NaN</td>\n",
       "      <td>NaN</td>\n",
       "      <td>813-340-8737</td>\n",
       "      <td>NaN</td>\n",
       "      <td>mxenick@LCGCapital.com</td>\n",
       "      <td>mxenick@LCGCapital. com</td>\n",
       "      <td>NaN</td>\n",
       "      <td>Sunday, September 15, 2013 8:09 PM:\\n&lt;!DOCTYPE...</td>\n",
       "    </tr>\n",
       "    <tr>\n",
       "      <th>8480</th>\n",
       "      <td>RigÃ£o Pottker</td>\n",
       "      <td>(970) 366-8836</td>\n",
       "      <td>NaN</td>\n",
       "      <td>+1 (970) 945-4228</td>\n",
       "      <td>NaN</td>\n",
       "      <td>+1 (970) 366-8836</td>\n",
       "      <td>NaN</td>\n",
       "      <td>fabernetica@yahoo.com</td>\n",
       "      <td>sabernetica@yahoo.com</td>\n",
       "      <td>NaN</td>\n",
       "      <td>Sunday, September 15, 2013 7:28 PM:\\nRigão Rig...</td>\n",
       "    </tr>\n",
       "    <tr>\n",
       "      <th>8593</th>\n",
       "      <td>Orbitz_CheapTickets</td>\n",
       "      <td>NaN</td>\n",
       "      <td>NaN</td>\n",
       "      <td>NaN</td>\n",
       "      <td>NaN</td>\n",
       "      <td>NaN</td>\n",
       "      <td>NaN</td>\n",
       "      <td>Orbitz_CheapTix@worldaccess.com</td>\n",
       "      <td>NaN</td>\n",
       "      <td>NaN</td>\n",
       "      <td>NaN</td>\n",
       "    </tr>\n",
       "    <tr>\n",
       "      <th>8658</th>\n",
       "      <td>usa@yachtblueusa. com</td>\n",
       "      <td>(305) 877-0297</td>\n",
       "      <td>NaN</td>\n",
       "      <td>NaN</td>\n",
       "      <td>NaN</td>\n",
       "      <td>(305) 774-2941</td>\n",
       "      <td>NaN</td>\n",
       "      <td>usa@yachtblueusa.com</td>\n",
       "      <td>usa@yachtblueusa. com</td>\n",
       "      <td>NaN</td>\n",
       "      <td>Sunday, September 15, 2013 7:20 PM:\\nusa@yacht...</td>\n",
       "    </tr>\n",
       "    <tr>\n",
       "      <th>8674</th>\n",
       "      <td>fghannadian@ut. edu</td>\n",
       "      <td>(813) 258-7230</td>\n",
       "      <td>NaN</td>\n",
       "      <td>NaN</td>\n",
       "      <td>NaN</td>\n",
       "      <td>NaN</td>\n",
       "      <td>NaN</td>\n",
       "      <td>fghannadian@ut.edu</td>\n",
       "      <td>fghannadian@ut. edu</td>\n",
       "      <td>NaN</td>\n",
       "      <td>Sunday, September 15, 2013 8:10 PM:\\n&lt;!DOCTYPE...</td>\n",
       "    </tr>\n",
       "    <tr>\n",
       "      <th>8739</th>\n",
       "      <td>Jales ValadÐ³o</td>\n",
       "      <td>NaN</td>\n",
       "      <td>NaN</td>\n",
       "      <td>+1 415-285-3337</td>\n",
       "      <td>NaN</td>\n",
       "      <td>NaN</td>\n",
       "      <td>NaN</td>\n",
       "      <td>NaN</td>\n",
       "      <td>NaN</td>\n",
       "      <td>NaN</td>\n",
       "      <td>Sunday, September 15, 2013 8:14 PM:\\n&lt;!DOCTYPE...</td>\n",
       "    </tr>\n",
       "    <tr>\n",
       "      <th>8959</th>\n",
       "      <td>ÐÐ²Ð³ÐµÐ½Ð¸Ð¹</td>\n",
       "      <td>NaN</td>\n",
       "      <td>NaN</td>\n",
       "      <td>NaN</td>\n",
       "      <td>NaN</td>\n",
       "      <td>NaN</td>\n",
       "      <td>NaN</td>\n",
       "      <td>NaN</td>\n",
       "      <td>NaN</td>\n",
       "      <td>NaN</td>\n",
       "      <td>Sunday, September 15, 2013 8:09 PM:\\n&lt;!DOCTYPE...</td>\n",
       "    </tr>\n",
       "    <tr>\n",
       "      <th>9028</th>\n",
       "      <td>QuickBooks Pro 2015 License Number</td>\n",
       "      <td>NaN</td>\n",
       "      <td>NaN</td>\n",
       "      <td>NaN</td>\n",
       "      <td>NaN</td>\n",
       "      <td>NaN</td>\n",
       "      <td>NaN</td>\n",
       "      <td>NaN</td>\n",
       "      <td>NaN</td>\n",
       "      <td>NaN</td>\n",
       "      <td>QuickBooks Pro 2015\\nLicense Number:\\n4279-772...</td>\n",
       "    </tr>\n",
       "    <tr>\n",
       "      <th>9126</th>\n",
       "      <td>Milton Mecozzi Sr. com&gt;</td>\n",
       "      <td>NaN</td>\n",
       "      <td>NaN</td>\n",
       "      <td>NaN</td>\n",
       "      <td>NaN</td>\n",
       "      <td>NaN</td>\n",
       "      <td>NaN</td>\n",
       "      <td>miltonsr@mecozzi.com</td>\n",
       "      <td>NaN</td>\n",
       "      <td>NaN</td>\n",
       "      <td>NaN</td>\n",
       "    </tr>\n",
       "    <tr>\n",
       "      <th>9397</th>\n",
       "      <td>AA 539</td>\n",
       "      <td>NaN</td>\n",
       "      <td>NaN</td>\n",
       "      <td>NaN</td>\n",
       "      <td>NaN</td>\n",
       "      <td>NaN</td>\n",
       "      <td>NaN</td>\n",
       "      <td>NaN</td>\n",
       "      <td>NaN</td>\n",
       "      <td>NaN</td>\n",
       "      <td>AA Citicard-Citibank-4229\\nwww.citcards.com\\ni...</td>\n",
       "    </tr>\n",
       "    <tr>\n",
       "      <th>9898</th>\n",
       "      <td>ACT 2013 V16 Serial number and Activation code</td>\n",
       "      <td>NaN</td>\n",
       "      <td>NaN</td>\n",
       "      <td>NaN</td>\n",
       "      <td>NaN</td>\n",
       "      <td>NaN</td>\n",
       "      <td>NaN</td>\n",
       "      <td>NaN</td>\n",
       "      <td>NaN</td>\n",
       "      <td>NaN</td>\n",
       "      <td>Serial number: DFAX9-A62QJ-J3WGE-N666J \\nActiv...</td>\n",
       "    </tr>\n",
       "    <tr>\n",
       "      <th>10325</th>\n",
       "      <td>efmello1@hotmail.com</td>\n",
       "      <td>NaN</td>\n",
       "      <td>NaN</td>\n",
       "      <td>NaN</td>\n",
       "      <td>NaN</td>\n",
       "      <td>+1 (954) 708-0845</td>\n",
       "      <td>NaN</td>\n",
       "      <td>efmello1@hotmail.com</td>\n",
       "      <td>efmello1@hotmail.com</td>\n",
       "      <td>NaN</td>\n",
       "      <td>Sunday, September 15, 2013 7:21 PM:\\nEmerson F...</td>\n",
       "    </tr>\n",
       "    <tr>\n",
       "      <th>10644</th>\n",
       "      <td>sales@carportoftampa. com</td>\n",
       "      <td>(813) 554-3216</td>\n",
       "      <td>NaN</td>\n",
       "      <td>NaN</td>\n",
       "      <td>NaN</td>\n",
       "      <td>(813) 353-3756</td>\n",
       "      <td>NaN</td>\n",
       "      <td>sales@carportoftampa.com</td>\n",
       "      <td>sales@carportoftampa. com</td>\n",
       "      <td>NaN</td>\n",
       "      <td>Sunday, September 15, 2013 8:09 PM:\\n&lt;!DOCTYPE...</td>\n",
       "    </tr>\n",
       "    <tr>\n",
       "      <th>10647</th>\n",
       "      <td>jpyburn@tampaport. com</td>\n",
       "      <td>(813) 905-5122</td>\n",
       "      <td>NaN</td>\n",
       "      <td>NaN</td>\n",
       "      <td>NaN</td>\n",
       "      <td>NaN</td>\n",
       "      <td>NaN</td>\n",
       "      <td>jpyburn@tampaport.com</td>\n",
       "      <td>jpyburn@tampaport. com</td>\n",
       "      <td>NaN</td>\n",
       "      <td>Sunday, September 15, 2013 8:09 PM:\\n&lt;!DOCTYPE...</td>\n",
       "    </tr>\n",
       "    <tr>\n",
       "      <th>10788</th>\n",
       "      <td>ValÃ©ria Guilherme</td>\n",
       "      <td>NaN</td>\n",
       "      <td>NaN</td>\n",
       "      <td>+1 332-211-788</td>\n",
       "      <td>NaN</td>\n",
       "      <td>NaN</td>\n",
       "      <td>NaN</td>\n",
       "      <td>NaN</td>\n",
       "      <td>NaN</td>\n",
       "      <td>NaN</td>\n",
       "      <td>Sunday, September 15, 2013 7:50 PM:\\n&lt;!DOCTYPE...</td>\n",
       "    </tr>\n",
       "    <tr>\n",
       "      <th>11163</th>\n",
       "      <td>Carlos JÑnior</td>\n",
       "      <td>NaN</td>\n",
       "      <td>NaN</td>\n",
       "      <td>NaN</td>\n",
       "      <td>NaN</td>\n",
       "      <td>NaN</td>\n",
       "      <td>NaN</td>\n",
       "      <td>NaN</td>\n",
       "      <td>NaN</td>\n",
       "      <td>NaN</td>\n",
       "      <td>Sunday, September 15, 2013 7:25 PM:\\nCarlos Ga...</td>\n",
       "    </tr>\n",
       "    <tr>\n",
       "      <th>11277</th>\n",
       "      <td>Goffredo DÃ¡ngelo</td>\n",
       "      <td>NaN</td>\n",
       "      <td>NaN</td>\n",
       "      <td>+1 (305) 651-9311</td>\n",
       "      <td>NaN</td>\n",
       "      <td>NaN</td>\n",
       "      <td>NaN</td>\n",
       "      <td>NaN</td>\n",
       "      <td>NaN</td>\n",
       "      <td>NaN</td>\n",
       "      <td>Sunday, September 15, 2013 7:21 PM:\\nGoffredo ...</td>\n",
       "    </tr>\n",
       "    <tr>\n",
       "      <th>11637</th>\n",
       "      <td>ChipsAway%2FChipMaster</td>\n",
       "      <td>NaN</td>\n",
       "      <td>NaN</td>\n",
       "      <td>NaN</td>\n",
       "      <td>NaN</td>\n",
       "      <td>NaN</td>\n",
       "      <td>NaN</td>\n",
       "      <td>chipmaster.corp@comcast.net</td>\n",
       "      <td>NaN</td>\n",
       "      <td>NaN</td>\n",
       "      <td>NaN</td>\n",
       "    </tr>\n",
       "    <tr>\n",
       "      <th>12020</th>\n",
       "      <td>Marcy 304 Spirit</td>\n",
       "      <td>NaN</td>\n",
       "      <td>NaN</td>\n",
       "      <td>NaN</td>\n",
       "      <td>NaN</td>\n",
       "      <td>954 2957967</td>\n",
       "      <td>NaN</td>\n",
       "      <td>freespirit1210@me.com</td>\n",
       "      <td>NaN</td>\n",
       "      <td>NaN</td>\n",
       "      <td>NaN</td>\n",
       "    </tr>\n",
       "    <tr>\n",
       "      <th>12078</th>\n",
       "      <td>Gisa  Dalolmo</td>\n",
       "      <td>NaN</td>\n",
       "      <td>NaN</td>\n",
       "      <td>NaN</td>\n",
       "      <td>NaN</td>\n",
       "      <td>NaN</td>\n",
       "      <td>NaN</td>\n",
       "      <td>NaN</td>\n",
       "      <td>NaN</td>\n",
       "      <td>NaN</td>\n",
       "      <td>Namorada de Tarcisio Matheus Rodriguez Alencastro</td>\n",
       "    </tr>\n",
       "  </tbody>\n",
       "</table>\n",
       "<p>86 rows × 11 columns</p>\n",
       "</div>"
      ],
      "text/plain": [
       "                                                Contact  Business Phone  \\\n",
       "8                                5466331116904942 12/15             NaN   \n",
       "42                           Marcia Godinho954-468-7866             NaN   \n",
       "124                                Bibhor «Bob ' Upreti      9492990559   \n",
       "151                                        ????? ??????             NaN   \n",
       "202                               Stanley Roth 2 Mindy              NaN   \n",
       "313                                       Mark_y Morais             NaN   \n",
       "338                              Manuel + Cora Ejercito             NaN   \n",
       "396                                      Jérôme Jérôme]             NaN   \n",
       "624                                      Ariane Ariane]             NaN   \n",
       "841                                             RÃSOUF             NaN   \n",
       "895                                            BrandÃ£o             NaN   \n",
       "1139                               da ConceiÃ§Ã£o Gomes             NaN   \n",
       "1144                                         DÃÂ¡ngelo             NaN   \n",
       "1226                                          JÃÅ nior             NaN   \n",
       "1454                                            Alvesâ¸             NaN   \n",
       "1552                                                                NaN   \n",
       "1903                                           ValadÃ£o  (415) 285-3337   \n",
       "1951                                           SantÃna             NaN   \n",
       "2129                                           CastaÃ±o             NaN   \n",
       "2257                                   da Rocha GalvÃ£o             NaN   \n",
       "2266                                                539             NaN   \n",
       "2595                                           RancaÃ±o             NaN   \n",
       "2639                                 Ð¡Ð°Ð¼Ð¾ÑÑÐºÐ¾Ð²             NaN   \n",
       "2729                                         ValadÃÂ³o             NaN   \n",
       "3408                                         ValadÃÂ£o             NaN   \n",
       "3419                                            NÃºÃ±ez             NaN   \n",
       "3850                                              06/19             NaN   \n",
       "4055                                           DÐ±ngelo  (305) 651-9311   \n",
       "4127                                               Jrâ¸  (954) 822-2032   \n",
       "4592                                               com>             NaN   \n",
       "...                                                 ...             ...   \n",
       "6953                                              ÐÑ              NaN   \n",
       "7132                       AA TS 5466160326437888 06/19             NaN   \n",
       "7177                                    1 - 560 Quillen             NaN   \n",
       "7527   5551614 _ Leon_ Rey _ Personal Sent E_mails com>             NaN   \n",
       "7536                                     NouÃ© Isabelle             NaN   \n",
       "7593                  Microsoft Office Business 365 com             NaN   \n",
       "7744                                    1 - 430 Edwards    954-351-9101   \n",
       "7767                                     Jales ValadÃ£o             NaN   \n",
       "7882                                   e4gs Interactive             NaN   \n",
       "7972                              jean@jeancomputer com             NaN   \n",
       "8067                            mxenick@LCGCapital. com    813-226-2800   \n",
       "8480                                     RigÃ£o Pottker  (970) 366-8836   \n",
       "8593                               Orbitz_CheapTickets              NaN   \n",
       "8658                              usa@yachtblueusa. com  (305) 877-0297   \n",
       "8674                                fghannadian@ut. edu  (813) 258-7230   \n",
       "8739                                     Jales ValadÐ³o             NaN   \n",
       "8959                                     ÐÐ²Ð³ÐµÐ½Ð¸Ð¹             NaN   \n",
       "9028                QuickBooks Pro 2015 License Number              NaN   \n",
       "9126                            Milton Mecozzi Sr. com>             NaN   \n",
       "9397                                             AA 539             NaN   \n",
       "9898     ACT 2013 V16 Serial number and Activation code             NaN   \n",
       "10325                             efmello1@hotmail.com              NaN   \n",
       "10644                         sales@carportoftampa. com  (813) 554-3216   \n",
       "10647                            jpyburn@tampaport. com  (813) 905-5122   \n",
       "10788                                ValÃ©ria Guilherme             NaN   \n",
       "11163                                    Carlos JÑnior             NaN   \n",
       "11277                                 Goffredo DÃ¡ngelo             NaN   \n",
       "11637                           ChipsAway%2FChipMaster              NaN   \n",
       "12020                                  Marcy 304 Spirit             NaN   \n",
       "12078                                    Gisa  Dalolmo             NaN   \n",
       "\n",
       "      Business Phone 2         Home Phone Home Phone 2         Mobile Phone  \\\n",
       "8                  NaN                NaN          NaN                  NaN   \n",
       "42                 NaN                NaN          NaN           9544687866   \n",
       "124                NaN                NaN          NaN                  NaN   \n",
       "151                NaN                NaN          NaN                  NaN   \n",
       "202                NaN       631-752-9696          NaN                  NaN   \n",
       "313                NaN                NaN          NaN          17862223692   \n",
       "338                NaN                NaN          NaN                  NaN   \n",
       "396                NaN                NaN          NaN                  NaN   \n",
       "624                NaN                NaN          NaN                  NaN   \n",
       "841                NaN                NaN          NaN                  NaN   \n",
       "895                NaN                NaN          NaN                  NaN   \n",
       "1139               NaN                NaN          NaN       (561) 628-2126   \n",
       "1144               NaN  +1 (305) 651-9311          NaN                  NaN   \n",
       "1226               NaN                NaN          NaN                  NaN   \n",
       "1454               NaN                NaN          NaN                  NaN   \n",
       "1552               NaN                NaN          NaN     +1 (2o3)536-9169   \n",
       "1903               NaN                NaN          NaN                  NaN   \n",
       "1951               NaN                NaN          NaN                  NaN   \n",
       "2129               NaN                NaN          NaN       (786) 487-0170   \n",
       "2257               NaN                NaN          NaN       (305) 902-8087   \n",
       "2266               NaN                NaN          NaN                  NaN   \n",
       "2595               NaN                NaN          NaN       (305) 316-7871   \n",
       "2639               NaN                NaN          NaN  011 7 916 801-19-10   \n",
       "2729               NaN  +1 (415) 285-3337          NaN                  NaN   \n",
       "3408               NaN  +1 (415) 285-3337          NaN                  NaN   \n",
       "3419               NaN                NaN          NaN                  NaN   \n",
       "3850               NaN                NaN          NaN                  NaN   \n",
       "4055               NaN                NaN          NaN                  NaN   \n",
       "4127               NaN                NaN          NaN                  NaN   \n",
       "4592               NaN                NaN          NaN                  NaN   \n",
       "...                ...                ...          ...                  ...   \n",
       "6953               NaN                NaN          NaN                  NaN   \n",
       "7132               NaN                NaN          NaN                  NaN   \n",
       "7177               NaN    +1 954-202-0297          NaN                  NaN   \n",
       "7527               NaN                NaN          NaN                  NaN   \n",
       "7536               NaN                NaN          NaN                  NaN   \n",
       "7593               NaN                NaN          NaN                  NaN   \n",
       "7744               NaN    +1 954-781-3624          NaN      +1 954-784-7470   \n",
       "7767               NaN  +1 (415) 285-3337          NaN                  NaN   \n",
       "7882               NaN                NaN          NaN                  NaN   \n",
       "7972               NaN                NaN          NaN         813-416-1991   \n",
       "8067               NaN                NaN          NaN         813-340-8737   \n",
       "8480               NaN  +1 (970) 945-4228          NaN    +1 (970) 366-8836   \n",
       "8593               NaN                NaN          NaN                  NaN   \n",
       "8658               NaN                NaN          NaN       (305) 774-2941   \n",
       "8674               NaN                NaN          NaN                  NaN   \n",
       "8739               NaN    +1 415-285-3337          NaN                  NaN   \n",
       "8959               NaN                NaN          NaN                  NaN   \n",
       "9028               NaN                NaN          NaN                  NaN   \n",
       "9126               NaN                NaN          NaN                  NaN   \n",
       "9397               NaN                NaN          NaN                  NaN   \n",
       "9898               NaN                NaN          NaN                  NaN   \n",
       "10325              NaN                NaN          NaN    +1 (954) 708-0845   \n",
       "10644              NaN                NaN          NaN       (813) 353-3756   \n",
       "10647              NaN                NaN          NaN                  NaN   \n",
       "10788              NaN     +1 332-211-788          NaN                  NaN   \n",
       "11163              NaN                NaN          NaN                  NaN   \n",
       "11277              NaN  +1 (305) 651-9311          NaN                  NaN   \n",
       "11637              NaN                NaN          NaN                  NaN   \n",
       "12020              NaN                NaN          NaN          954 2957967   \n",
       "12078              NaN                NaN          NaN                  NaN   \n",
       "\n",
       "      Other Phone                                     E-mail Address  \\\n",
       "8             NaN                                                NaN   \n",
       "42            NaN                                                NaN   \n",
       "124           NaN                               bob@eb5investors.com   \n",
       "151           NaN                             joelstewart@rambler.ru   \n",
       "202           NaN                                                NaN   \n",
       "313           NaN                                                NaN   \n",
       "338           NaN                             coraejercito@gmail.com   \n",
       "396           NaN                            famille.jackson@free.fr   \n",
       "624           NaN                           arianebruneton@orange.fr   \n",
       "841           NaN                                louis.resouf@hec.ca   \n",
       "895           NaN                          brandao.adriana@gmail.com   \n",
       "1139          NaN                                                NaN   \n",
       "1144          NaN                                                NaN   \n",
       "1226          NaN                                                NaN   \n",
       "1454          NaN                                                NaN   \n",
       "1552          NaN                                                NaN   \n",
       "1903          NaN                                                NaN   \n",
       "1951          NaN                  renato.levanteze@itamaraty.gov.br   \n",
       "2129          NaN                               cartucas@hotmail.com   \n",
       "2257          NaN                    eduardo.galvao@itamaraty.gov.br   \n",
       "2266          NaN                                                NaN   \n",
       "2595          NaN                           juan.m.rancano@chase.com   \n",
       "2639          NaN                            val.samorukov@gmail.com   \n",
       "2729          NaN                                                NaN   \n",
       "3408          NaN                                                NaN   \n",
       "3419          NaN                                  mail@lawnunez.com   \n",
       "3850          NaN                                                NaN   \n",
       "4055          NaN                                                NaN   \n",
       "4127          NaN                                                NaN   \n",
       "4592          NaN                                   tp@fcuonline.com   \n",
       "...           ...                                                ...   \n",
       "6953          NaN                                                NaN   \n",
       "7132          NaN                                                NaN   \n",
       "7177          NaN                                                NaN   \n",
       "7527          NaN  {F1216397}.ACTIVE@QFLIWCOM1.us.firm.fowlerwhit...   \n",
       "7536          NaN                                                NaN   \n",
       "7593          NaN                                                NaN   \n",
       "7744          NaN                                                NaN   \n",
       "7767          NaN                                                NaN   \n",
       "7882          NaN                                                NaN   \n",
       "7972          NaN                              jean@jeancomputer.com   \n",
       "8067          NaN                             mxenick@LCGCapital.com   \n",
       "8480          NaN                              fabernetica@yahoo.com   \n",
       "8593          NaN                    Orbitz_CheapTix@worldaccess.com   \n",
       "8658          NaN                               usa@yachtblueusa.com   \n",
       "8674          NaN                                 fghannadian@ut.edu   \n",
       "8739          NaN                                                NaN   \n",
       "8959          NaN                                                NaN   \n",
       "9028          NaN                                                NaN   \n",
       "9126          NaN                               miltonsr@mecozzi.com   \n",
       "9397          NaN                                                NaN   \n",
       "9898          NaN                                                NaN   \n",
       "10325         NaN                               efmello1@hotmail.com   \n",
       "10644         NaN                           sales@carportoftampa.com   \n",
       "10647         NaN                              jpyburn@tampaport.com   \n",
       "10788         NaN                                                NaN   \n",
       "11163         NaN                                                NaN   \n",
       "11277         NaN                                                NaN   \n",
       "11637         NaN                        chipmaster.corp@comcast.net   \n",
       "12020         NaN                              freespirit1210@me.com   \n",
       "12078         NaN                                                NaN   \n",
       "\n",
       "                E-mail 2 Address E-mail 3 Address  \\\n",
       "8                            NaN              NaN   \n",
       "42                           NaN              NaN   \n",
       "124                          NaN              NaN   \n",
       "151                          NaN              NaN   \n",
       "202                          NaN              NaN   \n",
       "313                          NaN              NaN   \n",
       "338                          NaN              NaN   \n",
       "396                          NaN              NaN   \n",
       "624                          NaN              NaN   \n",
       "841                          NaN              NaN   \n",
       "895                          NaN              NaN   \n",
       "1139                         NaN              NaN   \n",
       "1144                         NaN              NaN   \n",
       "1226                         NaN              NaN   \n",
       "1454                         NaN              NaN   \n",
       "1552                         NaN              NaN   \n",
       "1903                         NaN              NaN   \n",
       "1951                         NaN              NaN   \n",
       "2129                         NaN              NaN   \n",
       "2257                         NaN              NaN   \n",
       "2266                         NaN              NaN   \n",
       "2595                         NaN              NaN   \n",
       "2639                         NaN              NaN   \n",
       "2729                         NaN              NaN   \n",
       "3408                         NaN              NaN   \n",
       "3419                         NaN              NaN   \n",
       "3850                         NaN              NaN   \n",
       "4055                         NaN              NaN   \n",
       "4127                         NaN              NaN   \n",
       "4592                         NaN              NaN   \n",
       "...                          ...              ...   \n",
       "6953                         NaN              NaN   \n",
       "7132                         NaN              NaN   \n",
       "7177                         NaN              NaN   \n",
       "7527                         NaN              NaN   \n",
       "7536                         NaN              NaN   \n",
       "7593                         NaN              NaN   \n",
       "7744                         NaN              NaN   \n",
       "7767                         NaN              NaN   \n",
       "7882                         NaN              NaN   \n",
       "7972       jean@jeancomputer com              NaN   \n",
       "8067     mxenick@LCGCapital. com              NaN   \n",
       "8480       sabernetica@yahoo.com              NaN   \n",
       "8593                         NaN              NaN   \n",
       "8658       usa@yachtblueusa. com              NaN   \n",
       "8674         fghannadian@ut. edu              NaN   \n",
       "8739                         NaN              NaN   \n",
       "8959                         NaN              NaN   \n",
       "9028                         NaN              NaN   \n",
       "9126                         NaN              NaN   \n",
       "9397                         NaN              NaN   \n",
       "9898                         NaN              NaN   \n",
       "10325      efmello1@hotmail.com               NaN   \n",
       "10644  sales@carportoftampa. com              NaN   \n",
       "10647     jpyburn@tampaport. com              NaN   \n",
       "10788                        NaN              NaN   \n",
       "11163                        NaN              NaN   \n",
       "11277                        NaN              NaN   \n",
       "11637                        NaN              NaN   \n",
       "12020                        NaN              NaN   \n",
       "12078                        NaN              NaN   \n",
       "\n",
       "                                                   Notes  \n",
       "8      Js.miami@gmail.com<mailto:Js.miami@gmail.com <...  \n",
       "42                                             Paralegal  \n",
       "124                                                  NaN  \n",
       "151                                                       \n",
       "202                                                       \n",
       "313                                                       \n",
       "338                                                       \n",
       "396                                                       \n",
       "624                                                       \n",
       "841                                                  NaN  \n",
       "895                                                  NaN  \n",
       "1139   Sunday, September 15, 2013 7:21 PM:\\nMaria da ...  \n",
       "1144   Sunday, September 15, 2013 7:21 PM:\\nGoffredo ...  \n",
       "1226   Sunday, September 15, 2013 7:25 PM:\\nCarlos Ga...  \n",
       "1454   Sunday, September 15, 2013 8:08 PM:\\nWednesday...  \n",
       "1552   Sunday, September 15, 2013 8:11 PM:\\n<!DOCTYPE...  \n",
       "1903                                                 NaN  \n",
       "1951                                        Aloyisio DAC  \n",
       "2129                                                 NaN  \n",
       "2257                                                 NaN  \n",
       "2266   AA Citicard-Citibank-4229\\nwww.citcards.com\\ni...  \n",
       "2595                                                 NaN  \n",
       "2639                                                 NaN  \n",
       "2729   Sunday, September 15, 2013 8:14 PM:\\n<!DOCTYPE...  \n",
       "3408   Sunday, September 15, 2013 7:29 PM:\\nJales Mac...  \n",
       "3419                                                 NaN  \n",
       "3850   citibank.com Master Card\\n\\nID therese177bellt...  \n",
       "4055                                                 NaN  \n",
       "4127                                                 NaN  \n",
       "4592                                                 NaN  \n",
       "...                                                  ...  \n",
       "6953   Sunday, September 15, 2013 8:10 PM:\\n<!DOCTYPE...  \n",
       "7132   citibank.com Master Card\\n\\nID therese177bellt...  \n",
       "7177                                     Richard Quillen  \n",
       "7527                                                 NaN  \n",
       "7536   Sunday, September 15, 2013 8:10 PM:\\n<!DOCTYPE...  \n",
       "7593   Access your Office 365: portal.microsoftonline...  \n",
       "7744   Sunday, September 15, 2013 8:10 PM:\\n<!DOCTYPE...  \n",
       "7767   Sunday, September 15, 2013 7:29 PM:\\nJales Mac...  \n",
       "7882   Sunday, September 15, 2013 7:25 PM:\\ne4gs Inte...  \n",
       "7972   Sunday, September 15, 2013 8:09 PM:\\n<!DOCTYPE...  \n",
       "8067   Sunday, September 15, 2013 8:09 PM:\\n<!DOCTYPE...  \n",
       "8480   Sunday, September 15, 2013 7:28 PM:\\nRigão Rig...  \n",
       "8593                                                 NaN  \n",
       "8658   Sunday, September 15, 2013 7:20 PM:\\nusa@yacht...  \n",
       "8674   Sunday, September 15, 2013 8:10 PM:\\n<!DOCTYPE...  \n",
       "8739   Sunday, September 15, 2013 8:14 PM:\\n<!DOCTYPE...  \n",
       "8959   Sunday, September 15, 2013 8:09 PM:\\n<!DOCTYPE...  \n",
       "9028   QuickBooks Pro 2015\\nLicense Number:\\n4279-772...  \n",
       "9126                                                 NaN  \n",
       "9397   AA Citicard-Citibank-4229\\nwww.citcards.com\\ni...  \n",
       "9898   Serial number: DFAX9-A62QJ-J3WGE-N666J \\nActiv...  \n",
       "10325  Sunday, September 15, 2013 7:21 PM:\\nEmerson F...  \n",
       "10644  Sunday, September 15, 2013 8:09 PM:\\n<!DOCTYPE...  \n",
       "10647  Sunday, September 15, 2013 8:09 PM:\\n<!DOCTYPE...  \n",
       "10788  Sunday, September 15, 2013 7:50 PM:\\n<!DOCTYPE...  \n",
       "11163  Sunday, September 15, 2013 7:25 PM:\\nCarlos Ga...  \n",
       "11277  Sunday, September 15, 2013 7:21 PM:\\nGoffredo ...  \n",
       "11637                                                NaN  \n",
       "12020                                                NaN  \n",
       "12078  Namorada de Tarcisio Matheus Rodriguez Alencastro  \n",
       "\n",
       "[86 rows x 11 columns]"
      ]
     },
     "execution_count": 159,
     "metadata": {},
     "output_type": "execute_result"
    }
   ],
   "source": [
    "nonalpha = joel[joel['Contact'].apply(alpha) == False]\n",
    "nonalpha[imp2]"
   ]
  },
  {
   "cell_type": "markdown",
   "metadata": {},
   "source": [
    "##### Fixing the encoding:"
   ]
  },
  {
   "cell_type": "code",
   "execution_count": 160,
   "metadata": {},
   "outputs": [],
   "source": [
    "def decoder(name):\n",
    "    if name[0]==' ':\n",
    "        name = name.replace(' ','',1)       \n",
    "    else:\n",
    "        name = name\n",
    "    name= name.encode('Latin-1',errors='ignore').decode('utf-8',errors='ignore')\n",
    "    return name\n",
    "    \n",
    "    "
   ]
  },
  {
   "cell_type": "code",
   "execution_count": 161,
   "metadata": {},
   "outputs": [],
   "source": [
    "nonalpha.loc[:]['Contact'] = nonalpha['Contact'].apply(decoder)"
   ]
  },
  {
   "cell_type": "code",
   "execution_count": 162,
   "metadata": {},
   "outputs": [],
   "source": [
    "# act Left JOIN nonalpha\n",
    "joel.update(nonalpha, join='left', overwrite=True, filter_func=None, raise_conflict=False)"
   ]
  },
  {
   "cell_type": "code",
   "execution_count": 163,
   "metadata": {},
   "outputs": [],
   "source": [
    "nonalpha = joel[joel['Contact'].apply(alpha) == False]"
   ]
  },
  {
   "cell_type": "markdown",
   "metadata": {},
   "source": [
    "###### Some Names needed to be decoded twice..."
   ]
  },
  {
   "cell_type": "code",
   "execution_count": 164,
   "metadata": {},
   "outputs": [
    {
     "data": {
      "text/html": [
       "<div>\n",
       "<style scoped>\n",
       "    .dataframe tbody tr th:only-of-type {\n",
       "        vertical-align: middle;\n",
       "    }\n",
       "\n",
       "    .dataframe tbody tr th {\n",
       "        vertical-align: top;\n",
       "    }\n",
       "\n",
       "    .dataframe thead th {\n",
       "        text-align: right;\n",
       "    }\n",
       "</style>\n",
       "<table border=\"1\" class=\"dataframe\">\n",
       "  <thead>\n",
       "    <tr style=\"text-align: right;\">\n",
       "      <th></th>\n",
       "      <th>Contact</th>\n",
       "      <th>Business Phone</th>\n",
       "      <th>Business Phone 2</th>\n",
       "      <th>Home Phone</th>\n",
       "      <th>Home Phone 2</th>\n",
       "      <th>Mobile Phone</th>\n",
       "      <th>Other Phone</th>\n",
       "      <th>E-mail Address</th>\n",
       "      <th>E-mail 2 Address</th>\n",
       "      <th>E-mail 3 Address</th>\n",
       "      <th>Notes</th>\n",
       "    </tr>\n",
       "  </thead>\n",
       "  <tbody>\n",
       "    <tr>\n",
       "      <th>8</th>\n",
       "      <td>5466331116904942 12/15</td>\n",
       "      <td>NaN</td>\n",
       "      <td>NaN</td>\n",
       "      <td>NaN</td>\n",
       "      <td>NaN</td>\n",
       "      <td>NaN</td>\n",
       "      <td>NaN</td>\n",
       "      <td>NaN</td>\n",
       "      <td>NaN</td>\n",
       "      <td>NaN</td>\n",
       "      <td>Js.miami@gmail.com&lt;mailto:Js.miami@gmail.com &lt;...</td>\n",
       "    </tr>\n",
       "    <tr>\n",
       "      <th>42</th>\n",
       "      <td>Marcia Godinho954-468-7866</td>\n",
       "      <td>NaN</td>\n",
       "      <td>NaN</td>\n",
       "      <td>NaN</td>\n",
       "      <td>NaN</td>\n",
       "      <td>9544687866</td>\n",
       "      <td>NaN</td>\n",
       "      <td>NaN</td>\n",
       "      <td>NaN</td>\n",
       "      <td>NaN</td>\n",
       "      <td>Paralegal</td>\n",
       "    </tr>\n",
       "    <tr>\n",
       "      <th>151</th>\n",
       "      <td>????? ??????</td>\n",
       "      <td>NaN</td>\n",
       "      <td>NaN</td>\n",
       "      <td>NaN</td>\n",
       "      <td>NaN</td>\n",
       "      <td>NaN</td>\n",
       "      <td>NaN</td>\n",
       "      <td>joelstewart@rambler.ru</td>\n",
       "      <td>NaN</td>\n",
       "      <td>NaN</td>\n",
       "      <td></td>\n",
       "    </tr>\n",
       "    <tr>\n",
       "      <th>202</th>\n",
       "      <td>Stanley Roth 2 Mindy</td>\n",
       "      <td>NaN</td>\n",
       "      <td>NaN</td>\n",
       "      <td>631-752-9696</td>\n",
       "      <td>NaN</td>\n",
       "      <td>NaN</td>\n",
       "      <td>NaN</td>\n",
       "      <td>NaN</td>\n",
       "      <td>NaN</td>\n",
       "      <td>NaN</td>\n",
       "      <td></td>\n",
       "    </tr>\n",
       "    <tr>\n",
       "      <th>313</th>\n",
       "      <td>Mark_y Morais</td>\n",
       "      <td>NaN</td>\n",
       "      <td>NaN</td>\n",
       "      <td>NaN</td>\n",
       "      <td>NaN</td>\n",
       "      <td>17862223692</td>\n",
       "      <td>NaN</td>\n",
       "      <td>NaN</td>\n",
       "      <td>NaN</td>\n",
       "      <td>NaN</td>\n",
       "      <td></td>\n",
       "    </tr>\n",
       "    <tr>\n",
       "      <th>338</th>\n",
       "      <td>Manuel + Cora Ejercito</td>\n",
       "      <td>NaN</td>\n",
       "      <td>NaN</td>\n",
       "      <td>NaN</td>\n",
       "      <td>NaN</td>\n",
       "      <td>NaN</td>\n",
       "      <td>NaN</td>\n",
       "      <td>coraejercito@gmail.com</td>\n",
       "      <td>NaN</td>\n",
       "      <td>NaN</td>\n",
       "      <td></td>\n",
       "    </tr>\n",
       "    <tr>\n",
       "      <th>396</th>\n",
       "      <td>Jrme Jrme]</td>\n",
       "      <td>NaN</td>\n",
       "      <td>NaN</td>\n",
       "      <td>NaN</td>\n",
       "      <td>NaN</td>\n",
       "      <td>NaN</td>\n",
       "      <td>NaN</td>\n",
       "      <td>famille.jackson@free.fr</td>\n",
       "      <td>NaN</td>\n",
       "      <td>NaN</td>\n",
       "      <td></td>\n",
       "    </tr>\n",
       "    <tr>\n",
       "      <th>624</th>\n",
       "      <td>Ariane Ariane]</td>\n",
       "      <td>NaN</td>\n",
       "      <td>NaN</td>\n",
       "      <td>NaN</td>\n",
       "      <td>NaN</td>\n",
       "      <td>NaN</td>\n",
       "      <td>NaN</td>\n",
       "      <td>arianebruneton@orange.fr</td>\n",
       "      <td>NaN</td>\n",
       "      <td>NaN</td>\n",
       "      <td></td>\n",
       "    </tr>\n",
       "    <tr>\n",
       "      <th>1144</th>\n",
       "      <td>DÃ¡ngelo</td>\n",
       "      <td>NaN</td>\n",
       "      <td>NaN</td>\n",
       "      <td>+1 (305) 651-9311</td>\n",
       "      <td>NaN</td>\n",
       "      <td>NaN</td>\n",
       "      <td>NaN</td>\n",
       "      <td>NaN</td>\n",
       "      <td>NaN</td>\n",
       "      <td>NaN</td>\n",
       "      <td>Sunday, September 15, 2013 7:21 PM:\\nGoffredo ...</td>\n",
       "    </tr>\n",
       "    <tr>\n",
       "      <th>1552</th>\n",
       "      <td></td>\n",
       "      <td>NaN</td>\n",
       "      <td>NaN</td>\n",
       "      <td>NaN</td>\n",
       "      <td>NaN</td>\n",
       "      <td>+1 (2o3)536-9169</td>\n",
       "      <td>NaN</td>\n",
       "      <td>NaN</td>\n",
       "      <td>NaN</td>\n",
       "      <td>NaN</td>\n",
       "      <td>Sunday, September 15, 2013 8:11 PM:\\n&lt;!DOCTYPE...</td>\n",
       "    </tr>\n",
       "    <tr>\n",
       "      <th>2266</th>\n",
       "      <td>539</td>\n",
       "      <td>NaN</td>\n",
       "      <td>NaN</td>\n",
       "      <td>NaN</td>\n",
       "      <td>NaN</td>\n",
       "      <td>NaN</td>\n",
       "      <td>NaN</td>\n",
       "      <td>NaN</td>\n",
       "      <td>NaN</td>\n",
       "      <td>NaN</td>\n",
       "      <td>AA Citicard-Citibank-4229\\nwww.citcards.com\\ni...</td>\n",
       "    </tr>\n",
       "    <tr>\n",
       "      <th>2729</th>\n",
       "      <td>ValadÐ³o</td>\n",
       "      <td>NaN</td>\n",
       "      <td>NaN</td>\n",
       "      <td>+1 (415) 285-3337</td>\n",
       "      <td>NaN</td>\n",
       "      <td>NaN</td>\n",
       "      <td>NaN</td>\n",
       "      <td>NaN</td>\n",
       "      <td>NaN</td>\n",
       "      <td>NaN</td>\n",
       "      <td>Sunday, September 15, 2013 8:14 PM:\\n&lt;!DOCTYPE...</td>\n",
       "    </tr>\n",
       "    <tr>\n",
       "      <th>3408</th>\n",
       "      <td>ValadÃ£o</td>\n",
       "      <td>NaN</td>\n",
       "      <td>NaN</td>\n",
       "      <td>+1 (415) 285-3337</td>\n",
       "      <td>NaN</td>\n",
       "      <td>NaN</td>\n",
       "      <td>NaN</td>\n",
       "      <td>NaN</td>\n",
       "      <td>NaN</td>\n",
       "      <td>NaN</td>\n",
       "      <td>Sunday, September 15, 2013 7:29 PM:\\nJales Mac...</td>\n",
       "    </tr>\n",
       "    <tr>\n",
       "      <th>3850</th>\n",
       "      <td>06/19</td>\n",
       "      <td>NaN</td>\n",
       "      <td>NaN</td>\n",
       "      <td>NaN</td>\n",
       "      <td>NaN</td>\n",
       "      <td>NaN</td>\n",
       "      <td>NaN</td>\n",
       "      <td>NaN</td>\n",
       "      <td>NaN</td>\n",
       "      <td>NaN</td>\n",
       "      <td>citibank.com Master Card\\n\\nID therese177bellt...</td>\n",
       "    </tr>\n",
       "    <tr>\n",
       "      <th>4592</th>\n",
       "      <td>com&gt;</td>\n",
       "      <td>NaN</td>\n",
       "      <td>NaN</td>\n",
       "      <td>NaN</td>\n",
       "      <td>NaN</td>\n",
       "      <td>NaN</td>\n",
       "      <td>NaN</td>\n",
       "      <td>tp@fcuonline.com</td>\n",
       "      <td>NaN</td>\n",
       "      <td>NaN</td>\n",
       "      <td>NaN</td>\n",
       "    </tr>\n",
       "    <tr>\n",
       "      <th>4738</th>\n",
       "      <td>S3</td>\n",
       "      <td>NaN</td>\n",
       "      <td>NaN</td>\n",
       "      <td>NaN</td>\n",
       "      <td>NaN</td>\n",
       "      <td>NaN</td>\n",
       "      <td>NaN</td>\n",
       "      <td>NaN</td>\n",
       "      <td>NaN</td>\n",
       "      <td>NaN</td>\n",
       "      <td>If S7 is off, calls are forwarded to Gear.\\r\\n...</td>\n",
       "    </tr>\n",
       "    <tr>\n",
       "      <th>4740</th>\n",
       "      <td>5. 0</td>\n",
       "      <td>NaN</td>\n",
       "      <td>NaN</td>\n",
       "      <td>+1 (800) 833-6687</td>\n",
       "      <td>NaN</td>\n",
       "      <td>+1 (206) 628-2757</td>\n",
       "      <td>NaN</td>\n",
       "      <td>NaN</td>\n",
       "      <td>NaN</td>\n",
       "      <td>NaN</td>\n",
       "      <td>Sunday, September 15, 2013 7:19 PM:\\nPage Make...</td>\n",
       "    </tr>\n",
       "    <tr>\n",
       "      <th>4813</th>\n",
       "      <td>M@rt!ns</td>\n",
       "      <td>NaN</td>\n",
       "      <td>NaN</td>\n",
       "      <td>NaN</td>\n",
       "      <td>NaN</td>\n",
       "      <td>(561) 818-1114</td>\n",
       "      <td>NaN</td>\n",
       "      <td>NaN</td>\n",
       "      <td>M@rt!ns</td>\n",
       "      <td>NaN</td>\n",
       "      <td>Casada a 16 anos ja, dois filhos maravilhosos...</td>\n",
       "    </tr>\n",
       "    <tr>\n",
       "      <th>5000</th>\n",
       "      <td>05/20</td>\n",
       "      <td>NaN</td>\n",
       "      <td>NaN</td>\n",
       "      <td>NaN</td>\n",
       "      <td>NaN</td>\n",
       "      <td>NaN</td>\n",
       "      <td>NaN</td>\n",
       "      <td>NaN</td>\n",
       "      <td>NaN</td>\n",
       "      <td>NaN</td>\n",
       "      <td>0236324331\\r\\n\\r\\nmolly9\\r\\n\\r\\nTerry 21706400...</td>\n",
       "    </tr>\n",
       "    <tr>\n",
       "      <th>5047</th>\n",
       "      <td>008</td>\n",
       "      <td>NaN</td>\n",
       "      <td>NaN</td>\n",
       "      <td>NaN</td>\n",
       "      <td>NaN</td>\n",
       "      <td>(888) 888-888</td>\n",
       "      <td>NaN</td>\n",
       "      <td>NaN</td>\n",
       "      <td>NaN</td>\n",
       "      <td>NaN</td>\n",
       "      <td>NaN</td>\n",
       "    </tr>\n",
       "    <tr>\n",
       "      <th>5104</th>\n",
       "      <td>R7800</td>\n",
       "      <td>NaN</td>\n",
       "      <td>NaN</td>\n",
       "      <td>NaN</td>\n",
       "      <td>NaN</td>\n",
       "      <td>NaN</td>\n",
       "      <td>NaN</td>\n",
       "      <td>NaN</td>\n",
       "      <td>NaN</td>\n",
       "      <td>NaN</td>\n",
       "      <td>http://192.168.111.1/\\nUsername: admin\\nPasswo...</td>\n",
       "    </tr>\n",
       "    <tr>\n",
       "      <th>5190</th>\n",
       "      <td>12/15</td>\n",
       "      <td>NaN</td>\n",
       "      <td>NaN</td>\n",
       "      <td>NaN</td>\n",
       "      <td>NaN</td>\n",
       "      <td>NaN</td>\n",
       "      <td>NaN</td>\n",
       "      <td>NaN</td>\n",
       "      <td>NaN</td>\n",
       "      <td>NaN</td>\n",
       "      <td>Js.miami@gmail.com&lt;mailto:Js.miami@gmail.co...</td>\n",
       "    </tr>\n",
       "    <tr>\n",
       "      <th>5390</th>\n",
       "      <td>Carlos_J. Gurreonero</td>\n",
       "      <td>4072195931</td>\n",
       "      <td>NaN</td>\n",
       "      <td>NaN</td>\n",
       "      <td>NaN</td>\n",
       "      <td>NaN</td>\n",
       "      <td>NaN</td>\n",
       "      <td>NaN</td>\n",
       "      <td>NaN</td>\n",
       "      <td>NaN</td>\n",
       "      <td>NaN</td>\n",
       "    </tr>\n",
       "    <tr>\n",
       "      <th>5481</th>\n",
       "      <td>Router Netgear Nighthawk (ORL) R7800</td>\n",
       "      <td>NaN</td>\n",
       "      <td>NaN</td>\n",
       "      <td>NaN</td>\n",
       "      <td>NaN</td>\n",
       "      <td>NaN</td>\n",
       "      <td>NaN</td>\n",
       "      <td>NaN</td>\n",
       "      <td>NaN</td>\n",
       "      <td>NaN</td>\n",
       "      <td>http://192.168.111.1/\\nUsername: admin\\nPasswo...</td>\n",
       "    </tr>\n",
       "    <tr>\n",
       "      <th>5500</th>\n",
       "      <td>Test 007 Test</td>\n",
       "      <td>NaN</td>\n",
       "      <td>NaN</td>\n",
       "      <td>NaN</td>\n",
       "      <td>NaN</td>\n",
       "      <td>(999) 999-99</td>\n",
       "      <td>NaN</td>\n",
       "      <td>NaN</td>\n",
       "      <td>NaN</td>\n",
       "      <td>NaN</td>\n",
       "      <td>NaN</td>\n",
       "    </tr>\n",
       "    <tr>\n",
       "      <th>5549</th>\n",
       "      <td>Test 008</td>\n",
       "      <td>NaN</td>\n",
       "      <td>NaN</td>\n",
       "      <td>NaN</td>\n",
       "      <td>NaN</td>\n",
       "      <td>(888) 888-888</td>\n",
       "      <td>NaN</td>\n",
       "      <td>NaN</td>\n",
       "      <td>NaN</td>\n",
       "      <td>NaN</td>\n",
       "      <td>NaN</td>\n",
       "    </tr>\n",
       "    <tr>\n",
       "      <th>5551</th>\n",
       "      <td>TEST 006</td>\n",
       "      <td>NaN</td>\n",
       "      <td>NaN</td>\n",
       "      <td>NaN</td>\n",
       "      <td>NaN</td>\n",
       "      <td>NaN</td>\n",
       "      <td>NaN</td>\n",
       "      <td>NaN</td>\n",
       "      <td>NaN</td>\n",
       "      <td>NaN</td>\n",
       "      <td>TTTTEST\\r\\n</td>\n",
       "    </tr>\n",
       "    <tr>\n",
       "      <th>5607</th>\n",
       "      <td>0326324331 05/20</td>\n",
       "      <td>NaN</td>\n",
       "      <td>NaN</td>\n",
       "      <td>NaN</td>\n",
       "      <td>NaN</td>\n",
       "      <td>NaN</td>\n",
       "      <td>NaN</td>\n",
       "      <td>NaN</td>\n",
       "      <td>NaN</td>\n",
       "      <td>NaN</td>\n",
       "      <td>0236324331\\r\\rmolly9\\r\\rRobin at MCO\\r\\r\\rTerr...</td>\n",
       "    </tr>\n",
       "    <tr>\n",
       "      <th>5645</th>\n",
       "      <td>Microsoft Office 365 Personal (only for John L...</td>\n",
       "      <td>NaN</td>\n",
       "      <td>NaN</td>\n",
       "      <td>NaN</td>\n",
       "      <td>NaN</td>\n",
       "      <td>NaN</td>\n",
       "      <td>NaN</td>\n",
       "      <td>NaN</td>\n",
       "      <td>NaN</td>\n",
       "      <td>NaN</td>\n",
       "      <td>https://stores.office.com/myaccount/home.aspx?...</td>\n",
       "    </tr>\n",
       "    <tr>\n",
       "      <th>5674</th>\n",
       "      <td>trisha@versowealth. com</td>\n",
       "      <td>904-242-7900</td>\n",
       "      <td>NaN</td>\n",
       "      <td>NaN</td>\n",
       "      <td>NaN</td>\n",
       "      <td>NaN</td>\n",
       "      <td>NaN</td>\n",
       "      <td>trisha@versowealth.com</td>\n",
       "      <td>trisha@versowealth. com</td>\n",
       "      <td>NaN</td>\n",
       "      <td>Sunday, September 15, 2013 8:09 PM:\\n&lt;!DOCTYPE...</td>\n",
       "    </tr>\n",
       "    <tr>\n",
       "      <th>5720</th>\n",
       "      <td>Microsoft Office Business 365 JoelStewartPA.com</td>\n",
       "      <td>NaN</td>\n",
       "      <td>NaN</td>\n",
       "      <td>NaN</td>\n",
       "      <td>NaN</td>\n",
       "      <td>NaN</td>\n",
       "      <td>NaN</td>\n",
       "      <td>NaN</td>\n",
       "      <td>NaN</td>\n",
       "      <td>NaN</td>\n",
       "      <td>Office 365 sign-in page\\nhttps://portal.office...</td>\n",
       "    </tr>\n",
       "    <tr>\n",
       "      <th>5796</th>\n",
       "      <td>JoelStewartPA@Gmail</td>\n",
       "      <td>(305) 766-7825</td>\n",
       "      <td>(786) 464-8600</td>\n",
       "      <td>(954) 950-5532</td>\n",
       "      <td>NaN</td>\n",
       "      <td>(954) 772-7600</td>\n",
       "      <td>(954) 654-3424</td>\n",
       "      <td>js.miami@gmail.com</td>\n",
       "      <td>JoelStewartPA@Gmail</td>\n",
       "      <td>joelstewartpa@gmail.com</td>\n",
       "      <td>Sunday, November 29, 2015 7:48 PM:\\r\\nQwerty1@...</td>\n",
       "    </tr>\n",
       "    <tr>\n",
       "      <th>5836</th>\n",
       "      <td>Samsung S3</td>\n",
       "      <td>NaN</td>\n",
       "      <td>NaN</td>\n",
       "      <td>NaN</td>\n",
       "      <td>NaN</td>\n",
       "      <td>NaN</td>\n",
       "      <td>NaN</td>\n",
       "      <td>NaN</td>\n",
       "      <td>NaN</td>\n",
       "      <td>NaN</td>\n",
       "      <td>If S7 is off, calls are forwarded to Gear.\\r\\n...</td>\n",
       "    </tr>\n",
       "    <tr>\n",
       "      <th>6035</th>\n",
       "      <td>Anthony Portigliatti com&gt;</td>\n",
       "      <td>NaN</td>\n",
       "      <td>NaN</td>\n",
       "      <td>NaN</td>\n",
       "      <td>NaN</td>\n",
       "      <td>NaN</td>\n",
       "      <td>NaN</td>\n",
       "      <td>tp@fcuonline.com</td>\n",
       "      <td>NaN</td>\n",
       "      <td>NaN</td>\n",
       "      <td>NaN</td>\n",
       "    </tr>\n",
       "    <tr>\n",
       "      <th>6077</th>\n",
       "      <td>Router Netgear Nighthawk (FLL) R7800</td>\n",
       "      <td>NaN</td>\n",
       "      <td>NaN</td>\n",
       "      <td>NaN</td>\n",
       "      <td>NaN</td>\n",
       "      <td>NaN</td>\n",
       "      <td>NaN</td>\n",
       "      <td>NaN</td>\n",
       "      <td>NaN</td>\n",
       "      <td>NaN</td>\n",
       "      <td>http://192.168.11.1/\\nUsername: admin\\nPasswor...</td>\n",
       "    </tr>\n",
       "    <tr>\n",
       "      <th>6100</th>\n",
       "      <td>99-EU-00021040- Peter Ludwig Gratzer</td>\n",
       "      <td>305-797-5484</td>\n",
       "      <td>NaN</td>\n",
       "      <td>+1 954-723-0359</td>\n",
       "      <td>NaN</td>\n",
       "      <td>+1 305-791-2715</td>\n",
       "      <td>NaN</td>\n",
       "      <td>NaN</td>\n",
       "      <td>NaN</td>\n",
       "      <td>NaN</td>\n",
       "      <td>Sunday, September 15, 2013 7:14 PM:\\n&lt;!DOCTYPE...</td>\n",
       "    </tr>\n",
       "    <tr>\n",
       "      <th>6363</th>\n",
       "      <td>508-649-1319 Jair</td>\n",
       "      <td>NaN</td>\n",
       "      <td>NaN</td>\n",
       "      <td>NaN</td>\n",
       "      <td>NaN</td>\n",
       "      <td>NaN</td>\n",
       "      <td>NaN</td>\n",
       "      <td>nelsoncanuto@hotmail.com</td>\n",
       "      <td>NaN</td>\n",
       "      <td>NaN</td>\n",
       "      <td>Pode ser alguem de Boston?\\n</td>\n",
       "    </tr>\n",
       "    <tr>\n",
       "      <th>6517</th>\n",
       "      <td>Manuel + Ejercito</td>\n",
       "      <td>NaN</td>\n",
       "      <td>NaN</td>\n",
       "      <td>NaN</td>\n",
       "      <td>NaN</td>\n",
       "      <td>(562) 290-2181</td>\n",
       "      <td>NaN</td>\n",
       "      <td>lengejercito@hotmail.com</td>\n",
       "      <td>coraejercito@gmail.com</td>\n",
       "      <td>NaN</td>\n",
       "      <td>NaN</td>\n",
       "    </tr>\n",
       "    <tr>\n",
       "      <th>6791</th>\n",
       "      <td>quilmes2001</td>\n",
       "      <td>NaN</td>\n",
       "      <td>NaN</td>\n",
       "      <td>NaN</td>\n",
       "      <td>NaN</td>\n",
       "      <td>NaN</td>\n",
       "      <td>NaN</td>\n",
       "      <td>Quilmes2001@aol.com</td>\n",
       "      <td>NaN</td>\n",
       "      <td>NaN</td>\n",
       "      <td>NaN</td>\n",
       "    </tr>\n",
       "    <tr>\n",
       "      <th>7132</th>\n",
       "      <td>AA TS 5466160326437888 06/19</td>\n",
       "      <td>NaN</td>\n",
       "      <td>NaN</td>\n",
       "      <td>NaN</td>\n",
       "      <td>NaN</td>\n",
       "      <td>NaN</td>\n",
       "      <td>NaN</td>\n",
       "      <td>NaN</td>\n",
       "      <td>NaN</td>\n",
       "      <td>NaN</td>\n",
       "      <td>citibank.com Master Card\\n\\nID therese177bellt...</td>\n",
       "    </tr>\n",
       "    <tr>\n",
       "      <th>7177</th>\n",
       "      <td>1 - 560 Quillen</td>\n",
       "      <td>NaN</td>\n",
       "      <td>NaN</td>\n",
       "      <td>+1 954-202-0297</td>\n",
       "      <td>NaN</td>\n",
       "      <td>NaN</td>\n",
       "      <td>NaN</td>\n",
       "      <td>NaN</td>\n",
       "      <td>NaN</td>\n",
       "      <td>NaN</td>\n",
       "      <td>Richard Quillen</td>\n",
       "    </tr>\n",
       "    <tr>\n",
       "      <th>7527</th>\n",
       "      <td>5551614 _ Leon_ Rey _ Personal Sent E_mails com&gt;</td>\n",
       "      <td>NaN</td>\n",
       "      <td>NaN</td>\n",
       "      <td>NaN</td>\n",
       "      <td>NaN</td>\n",
       "      <td>NaN</td>\n",
       "      <td>NaN</td>\n",
       "      <td>{F1216397}.ACTIVE@QFLIWCOM1.us.firm.fowlerwhit...</td>\n",
       "      <td>NaN</td>\n",
       "      <td>NaN</td>\n",
       "      <td>NaN</td>\n",
       "    </tr>\n",
       "    <tr>\n",
       "      <th>7593</th>\n",
       "      <td>Microsoft Office Business 365 com</td>\n",
       "      <td>NaN</td>\n",
       "      <td>NaN</td>\n",
       "      <td>NaN</td>\n",
       "      <td>NaN</td>\n",
       "      <td>NaN</td>\n",
       "      <td>NaN</td>\n",
       "      <td>NaN</td>\n",
       "      <td>NaN</td>\n",
       "      <td>NaN</td>\n",
       "      <td>Access your Office 365: portal.microsoftonline...</td>\n",
       "    </tr>\n",
       "    <tr>\n",
       "      <th>7744</th>\n",
       "      <td>1 - 430 Edwards</td>\n",
       "      <td>954-351-9101</td>\n",
       "      <td>NaN</td>\n",
       "      <td>+1 954-781-3624</td>\n",
       "      <td>NaN</td>\n",
       "      <td>+1 954-784-7470</td>\n",
       "      <td>NaN</td>\n",
       "      <td>NaN</td>\n",
       "      <td>NaN</td>\n",
       "      <td>NaN</td>\n",
       "      <td>Sunday, September 15, 2013 8:10 PM:\\n&lt;!DOCTYPE...</td>\n",
       "    </tr>\n",
       "    <tr>\n",
       "      <th>7882</th>\n",
       "      <td>e4gs Interactive</td>\n",
       "      <td>NaN</td>\n",
       "      <td>NaN</td>\n",
       "      <td>NaN</td>\n",
       "      <td>NaN</td>\n",
       "      <td>NaN</td>\n",
       "      <td>NaN</td>\n",
       "      <td>NaN</td>\n",
       "      <td>NaN</td>\n",
       "      <td>NaN</td>\n",
       "      <td>Sunday, September 15, 2013 7:25 PM:\\ne4gs Inte...</td>\n",
       "    </tr>\n",
       "    <tr>\n",
       "      <th>7972</th>\n",
       "      <td>jean@jeancomputer com</td>\n",
       "      <td>NaN</td>\n",
       "      <td>NaN</td>\n",
       "      <td>NaN</td>\n",
       "      <td>NaN</td>\n",
       "      <td>813-416-1991</td>\n",
       "      <td>NaN</td>\n",
       "      <td>jean@jeancomputer.com</td>\n",
       "      <td>jean@jeancomputer com</td>\n",
       "      <td>NaN</td>\n",
       "      <td>Sunday, September 15, 2013 8:09 PM:\\n&lt;!DOCTYPE...</td>\n",
       "    </tr>\n",
       "    <tr>\n",
       "      <th>8067</th>\n",
       "      <td>mxenick@LCGCapital. com</td>\n",
       "      <td>813-226-2800</td>\n",
       "      <td>NaN</td>\n",
       "      <td>NaN</td>\n",
       "      <td>NaN</td>\n",
       "      <td>813-340-8737</td>\n",
       "      <td>NaN</td>\n",
       "      <td>mxenick@LCGCapital.com</td>\n",
       "      <td>mxenick@LCGCapital. com</td>\n",
       "      <td>NaN</td>\n",
       "      <td>Sunday, September 15, 2013 8:09 PM:\\n&lt;!DOCTYPE...</td>\n",
       "    </tr>\n",
       "    <tr>\n",
       "      <th>8593</th>\n",
       "      <td>Orbitz_CheapTickets</td>\n",
       "      <td>NaN</td>\n",
       "      <td>NaN</td>\n",
       "      <td>NaN</td>\n",
       "      <td>NaN</td>\n",
       "      <td>NaN</td>\n",
       "      <td>NaN</td>\n",
       "      <td>Orbitz_CheapTix@worldaccess.com</td>\n",
       "      <td>NaN</td>\n",
       "      <td>NaN</td>\n",
       "      <td>NaN</td>\n",
       "    </tr>\n",
       "    <tr>\n",
       "      <th>8658</th>\n",
       "      <td>usa@yachtblueusa. com</td>\n",
       "      <td>(305) 877-0297</td>\n",
       "      <td>NaN</td>\n",
       "      <td>NaN</td>\n",
       "      <td>NaN</td>\n",
       "      <td>(305) 774-2941</td>\n",
       "      <td>NaN</td>\n",
       "      <td>usa@yachtblueusa.com</td>\n",
       "      <td>usa@yachtblueusa. com</td>\n",
       "      <td>NaN</td>\n",
       "      <td>Sunday, September 15, 2013 7:20 PM:\\nusa@yacht...</td>\n",
       "    </tr>\n",
       "    <tr>\n",
       "      <th>8674</th>\n",
       "      <td>fghannadian@ut. edu</td>\n",
       "      <td>(813) 258-7230</td>\n",
       "      <td>NaN</td>\n",
       "      <td>NaN</td>\n",
       "      <td>NaN</td>\n",
       "      <td>NaN</td>\n",
       "      <td>NaN</td>\n",
       "      <td>fghannadian@ut.edu</td>\n",
       "      <td>fghannadian@ut. edu</td>\n",
       "      <td>NaN</td>\n",
       "      <td>Sunday, September 15, 2013 8:10 PM:\\n&lt;!DOCTYPE...</td>\n",
       "    </tr>\n",
       "    <tr>\n",
       "      <th>9028</th>\n",
       "      <td>QuickBooks Pro 2015 License Number</td>\n",
       "      <td>NaN</td>\n",
       "      <td>NaN</td>\n",
       "      <td>NaN</td>\n",
       "      <td>NaN</td>\n",
       "      <td>NaN</td>\n",
       "      <td>NaN</td>\n",
       "      <td>NaN</td>\n",
       "      <td>NaN</td>\n",
       "      <td>NaN</td>\n",
       "      <td>QuickBooks Pro 2015\\nLicense Number:\\n4279-772...</td>\n",
       "    </tr>\n",
       "    <tr>\n",
       "      <th>9126</th>\n",
       "      <td>Milton Mecozzi Sr. com&gt;</td>\n",
       "      <td>NaN</td>\n",
       "      <td>NaN</td>\n",
       "      <td>NaN</td>\n",
       "      <td>NaN</td>\n",
       "      <td>NaN</td>\n",
       "      <td>NaN</td>\n",
       "      <td>miltonsr@mecozzi.com</td>\n",
       "      <td>NaN</td>\n",
       "      <td>NaN</td>\n",
       "      <td>NaN</td>\n",
       "    </tr>\n",
       "    <tr>\n",
       "      <th>9397</th>\n",
       "      <td>AA 539</td>\n",
       "      <td>NaN</td>\n",
       "      <td>NaN</td>\n",
       "      <td>NaN</td>\n",
       "      <td>NaN</td>\n",
       "      <td>NaN</td>\n",
       "      <td>NaN</td>\n",
       "      <td>NaN</td>\n",
       "      <td>NaN</td>\n",
       "      <td>NaN</td>\n",
       "      <td>AA Citicard-Citibank-4229\\nwww.citcards.com\\ni...</td>\n",
       "    </tr>\n",
       "    <tr>\n",
       "      <th>9898</th>\n",
       "      <td>ACT 2013 V16 Serial number and Activation code</td>\n",
       "      <td>NaN</td>\n",
       "      <td>NaN</td>\n",
       "      <td>NaN</td>\n",
       "      <td>NaN</td>\n",
       "      <td>NaN</td>\n",
       "      <td>NaN</td>\n",
       "      <td>NaN</td>\n",
       "      <td>NaN</td>\n",
       "      <td>NaN</td>\n",
       "      <td>Serial number: DFAX9-A62QJ-J3WGE-N666J \\nActiv...</td>\n",
       "    </tr>\n",
       "    <tr>\n",
       "      <th>10325</th>\n",
       "      <td>efmello1@hotmail.com</td>\n",
       "      <td>NaN</td>\n",
       "      <td>NaN</td>\n",
       "      <td>NaN</td>\n",
       "      <td>NaN</td>\n",
       "      <td>+1 (954) 708-0845</td>\n",
       "      <td>NaN</td>\n",
       "      <td>efmello1@hotmail.com</td>\n",
       "      <td>efmello1@hotmail.com</td>\n",
       "      <td>NaN</td>\n",
       "      <td>Sunday, September 15, 2013 7:21 PM:\\nEmerson F...</td>\n",
       "    </tr>\n",
       "    <tr>\n",
       "      <th>10644</th>\n",
       "      <td>sales@carportoftampa. com</td>\n",
       "      <td>(813) 554-3216</td>\n",
       "      <td>NaN</td>\n",
       "      <td>NaN</td>\n",
       "      <td>NaN</td>\n",
       "      <td>(813) 353-3756</td>\n",
       "      <td>NaN</td>\n",
       "      <td>sales@carportoftampa.com</td>\n",
       "      <td>sales@carportoftampa. com</td>\n",
       "      <td>NaN</td>\n",
       "      <td>Sunday, September 15, 2013 8:09 PM:\\n&lt;!DOCTYPE...</td>\n",
       "    </tr>\n",
       "    <tr>\n",
       "      <th>10647</th>\n",
       "      <td>jpyburn@tampaport. com</td>\n",
       "      <td>(813) 905-5122</td>\n",
       "      <td>NaN</td>\n",
       "      <td>NaN</td>\n",
       "      <td>NaN</td>\n",
       "      <td>NaN</td>\n",
       "      <td>NaN</td>\n",
       "      <td>jpyburn@tampaport.com</td>\n",
       "      <td>jpyburn@tampaport. com</td>\n",
       "      <td>NaN</td>\n",
       "      <td>Sunday, September 15, 2013 8:09 PM:\\n&lt;!DOCTYPE...</td>\n",
       "    </tr>\n",
       "    <tr>\n",
       "      <th>11637</th>\n",
       "      <td>ChipsAway%2FChipMaster</td>\n",
       "      <td>NaN</td>\n",
       "      <td>NaN</td>\n",
       "      <td>NaN</td>\n",
       "      <td>NaN</td>\n",
       "      <td>NaN</td>\n",
       "      <td>NaN</td>\n",
       "      <td>chipmaster.corp@comcast.net</td>\n",
       "      <td>NaN</td>\n",
       "      <td>NaN</td>\n",
       "      <td>NaN</td>\n",
       "    </tr>\n",
       "    <tr>\n",
       "      <th>12020</th>\n",
       "      <td>Marcy 304 Spirit</td>\n",
       "      <td>NaN</td>\n",
       "      <td>NaN</td>\n",
       "      <td>NaN</td>\n",
       "      <td>NaN</td>\n",
       "      <td>954 2957967</td>\n",
       "      <td>NaN</td>\n",
       "      <td>freespirit1210@me.com</td>\n",
       "      <td>NaN</td>\n",
       "      <td>NaN</td>\n",
       "      <td>NaN</td>\n",
       "    </tr>\n",
       "  </tbody>\n",
       "</table>\n",
       "</div>"
      ],
      "text/plain": [
       "                                                 Contact  Business Phone  \\\n",
       "8                                 5466331116904942 12/15             NaN   \n",
       "42                            Marcia Godinho954-468-7866             NaN   \n",
       "151                                         ????? ??????             NaN   \n",
       "202                                Stanley Roth 2 Mindy              NaN   \n",
       "313                                        Mark_y Morais             NaN   \n",
       "338                               Manuel + Cora Ejercito             NaN   \n",
       "396                                           Jrme Jrme]             NaN   \n",
       "624                                       Ariane Ariane]             NaN   \n",
       "1144                                            DÃ¡ngelo             NaN   \n",
       "1552                                                                 NaN   \n",
       "2266                                                 539             NaN   \n",
       "2729                                            ValadÐ³o             NaN   \n",
       "3408                                            ValadÃ£o             NaN   \n",
       "3850                                               06/19             NaN   \n",
       "4592                                                com>             NaN   \n",
       "4738                                                  S3             NaN   \n",
       "4740                                                5. 0             NaN   \n",
       "4813                                             M@rt!ns             NaN   \n",
       "5000                                               05/20             NaN   \n",
       "5047                                                 008             NaN   \n",
       "5104                                               R7800             NaN   \n",
       "5190                                               12/15             NaN   \n",
       "5390                                Carlos_J. Gurreonero      4072195931   \n",
       "5481                Router Netgear Nighthawk (ORL) R7800             NaN   \n",
       "5500                                       Test 007 Test             NaN   \n",
       "5549                                            Test 008             NaN   \n",
       "5551                                            TEST 006             NaN   \n",
       "5607                                    0326324331 05/20             NaN   \n",
       "5645   Microsoft Office 365 Personal (only for John L...             NaN   \n",
       "5674                             trisha@versowealth. com    904-242-7900   \n",
       "5720     Microsoft Office Business 365 JoelStewartPA.com             NaN   \n",
       "5796                                JoelStewartPA@Gmail   (305) 766-7825   \n",
       "5836                                          Samsung S3             NaN   \n",
       "6035                           Anthony Portigliatti com>             NaN   \n",
       "6077                Router Netgear Nighthawk (FLL) R7800             NaN   \n",
       "6100                99-EU-00021040- Peter Ludwig Gratzer    305-797-5484   \n",
       "6363                                   508-649-1319 Jair             NaN   \n",
       "6517                                   Manuel + Ejercito             NaN   \n",
       "6791                                        quilmes2001              NaN   \n",
       "7132                        AA TS 5466160326437888 06/19             NaN   \n",
       "7177                                     1 - 560 Quillen             NaN   \n",
       "7527    5551614 _ Leon_ Rey _ Personal Sent E_mails com>             NaN   \n",
       "7593                   Microsoft Office Business 365 com             NaN   \n",
       "7744                                     1 - 430 Edwards    954-351-9101   \n",
       "7882                                    e4gs Interactive             NaN   \n",
       "7972                               jean@jeancomputer com             NaN   \n",
       "8067                             mxenick@LCGCapital. com    813-226-2800   \n",
       "8593                                Orbitz_CheapTickets              NaN   \n",
       "8658                               usa@yachtblueusa. com  (305) 877-0297   \n",
       "8674                                 fghannadian@ut. edu  (813) 258-7230   \n",
       "9028                 QuickBooks Pro 2015 License Number              NaN   \n",
       "9126                             Milton Mecozzi Sr. com>             NaN   \n",
       "9397                                              AA 539             NaN   \n",
       "9898      ACT 2013 V16 Serial number and Activation code             NaN   \n",
       "10325                              efmello1@hotmail.com              NaN   \n",
       "10644                          sales@carportoftampa. com  (813) 554-3216   \n",
       "10647                             jpyburn@tampaport. com  (813) 905-5122   \n",
       "11637                            ChipsAway%2FChipMaster              NaN   \n",
       "12020                                   Marcy 304 Spirit             NaN   \n",
       "\n",
       "      Business Phone 2         Home Phone Home Phone 2       Mobile Phone  \\\n",
       "8                  NaN                NaN          NaN                NaN   \n",
       "42                 NaN                NaN          NaN         9544687866   \n",
       "151                NaN                NaN          NaN                NaN   \n",
       "202                NaN       631-752-9696          NaN                NaN   \n",
       "313                NaN                NaN          NaN        17862223692   \n",
       "338                NaN                NaN          NaN                NaN   \n",
       "396                NaN                NaN          NaN                NaN   \n",
       "624                NaN                NaN          NaN                NaN   \n",
       "1144               NaN  +1 (305) 651-9311          NaN                NaN   \n",
       "1552               NaN                NaN          NaN   +1 (2o3)536-9169   \n",
       "2266               NaN                NaN          NaN                NaN   \n",
       "2729               NaN  +1 (415) 285-3337          NaN                NaN   \n",
       "3408               NaN  +1 (415) 285-3337          NaN                NaN   \n",
       "3850               NaN                NaN          NaN                NaN   \n",
       "4592               NaN                NaN          NaN                NaN   \n",
       "4738               NaN                NaN          NaN                NaN   \n",
       "4740               NaN  +1 (800) 833-6687          NaN  +1 (206) 628-2757   \n",
       "4813               NaN                NaN          NaN     (561) 818-1114   \n",
       "5000               NaN                NaN          NaN                NaN   \n",
       "5047               NaN                NaN          NaN      (888) 888-888   \n",
       "5104               NaN                NaN          NaN                NaN   \n",
       "5190               NaN                NaN          NaN                NaN   \n",
       "5390               NaN                NaN          NaN                NaN   \n",
       "5481               NaN                NaN          NaN                NaN   \n",
       "5500               NaN                NaN          NaN       (999) 999-99   \n",
       "5549               NaN                NaN          NaN      (888) 888-888   \n",
       "5551               NaN                NaN          NaN                NaN   \n",
       "5607               NaN                NaN          NaN                NaN   \n",
       "5645               NaN                NaN          NaN                NaN   \n",
       "5674               NaN                NaN          NaN                NaN   \n",
       "5720               NaN                NaN          NaN                NaN   \n",
       "5796    (786) 464-8600     (954) 950-5532          NaN     (954) 772-7600   \n",
       "5836               NaN                NaN          NaN                NaN   \n",
       "6035               NaN                NaN          NaN                NaN   \n",
       "6077               NaN                NaN          NaN                NaN   \n",
       "6100               NaN    +1 954-723-0359          NaN    +1 305-791-2715   \n",
       "6363               NaN                NaN          NaN                NaN   \n",
       "6517               NaN                NaN          NaN     (562) 290-2181   \n",
       "6791               NaN                NaN          NaN                NaN   \n",
       "7132               NaN                NaN          NaN                NaN   \n",
       "7177               NaN    +1 954-202-0297          NaN                NaN   \n",
       "7527               NaN                NaN          NaN                NaN   \n",
       "7593               NaN                NaN          NaN                NaN   \n",
       "7744               NaN    +1 954-781-3624          NaN    +1 954-784-7470   \n",
       "7882               NaN                NaN          NaN                NaN   \n",
       "7972               NaN                NaN          NaN       813-416-1991   \n",
       "8067               NaN                NaN          NaN       813-340-8737   \n",
       "8593               NaN                NaN          NaN                NaN   \n",
       "8658               NaN                NaN          NaN     (305) 774-2941   \n",
       "8674               NaN                NaN          NaN                NaN   \n",
       "9028               NaN                NaN          NaN                NaN   \n",
       "9126               NaN                NaN          NaN                NaN   \n",
       "9397               NaN                NaN          NaN                NaN   \n",
       "9898               NaN                NaN          NaN                NaN   \n",
       "10325              NaN                NaN          NaN  +1 (954) 708-0845   \n",
       "10644              NaN                NaN          NaN     (813) 353-3756   \n",
       "10647              NaN                NaN          NaN                NaN   \n",
       "11637              NaN                NaN          NaN                NaN   \n",
       "12020              NaN                NaN          NaN        954 2957967   \n",
       "\n",
       "          Other Phone                                     E-mail Address  \\\n",
       "8                 NaN                                                NaN   \n",
       "42                NaN                                                NaN   \n",
       "151               NaN                             joelstewart@rambler.ru   \n",
       "202               NaN                                                NaN   \n",
       "313               NaN                                                NaN   \n",
       "338               NaN                             coraejercito@gmail.com   \n",
       "396               NaN                            famille.jackson@free.fr   \n",
       "624               NaN                           arianebruneton@orange.fr   \n",
       "1144              NaN                                                NaN   \n",
       "1552              NaN                                                NaN   \n",
       "2266              NaN                                                NaN   \n",
       "2729              NaN                                                NaN   \n",
       "3408              NaN                                                NaN   \n",
       "3850              NaN                                                NaN   \n",
       "4592              NaN                                   tp@fcuonline.com   \n",
       "4738              NaN                                                NaN   \n",
       "4740              NaN                                                NaN   \n",
       "4813              NaN                                                NaN   \n",
       "5000              NaN                                                NaN   \n",
       "5047              NaN                                                NaN   \n",
       "5104              NaN                                                NaN   \n",
       "5190              NaN                                                NaN   \n",
       "5390              NaN                                                NaN   \n",
       "5481              NaN                                                NaN   \n",
       "5500              NaN                                                NaN   \n",
       "5549              NaN                                                NaN   \n",
       "5551              NaN                                                NaN   \n",
       "5607              NaN                                                NaN   \n",
       "5645              NaN                                                NaN   \n",
       "5674              NaN                             trisha@versowealth.com   \n",
       "5720              NaN                                                NaN   \n",
       "5796   (954) 654-3424                                 js.miami@gmail.com   \n",
       "5836              NaN                                                NaN   \n",
       "6035              NaN                                   tp@fcuonline.com   \n",
       "6077              NaN                                                NaN   \n",
       "6100              NaN                                                NaN   \n",
       "6363              NaN                           nelsoncanuto@hotmail.com   \n",
       "6517              NaN                           lengejercito@hotmail.com   \n",
       "6791              NaN                                Quilmes2001@aol.com   \n",
       "7132              NaN                                                NaN   \n",
       "7177              NaN                                                NaN   \n",
       "7527              NaN  {F1216397}.ACTIVE@QFLIWCOM1.us.firm.fowlerwhit...   \n",
       "7593              NaN                                                NaN   \n",
       "7744              NaN                                                NaN   \n",
       "7882              NaN                                                NaN   \n",
       "7972              NaN                              jean@jeancomputer.com   \n",
       "8067              NaN                             mxenick@LCGCapital.com   \n",
       "8593              NaN                    Orbitz_CheapTix@worldaccess.com   \n",
       "8658              NaN                               usa@yachtblueusa.com   \n",
       "8674              NaN                                 fghannadian@ut.edu   \n",
       "9028              NaN                                                NaN   \n",
       "9126              NaN                               miltonsr@mecozzi.com   \n",
       "9397              NaN                                                NaN   \n",
       "9898              NaN                                                NaN   \n",
       "10325             NaN                               efmello1@hotmail.com   \n",
       "10644             NaN                           sales@carportoftampa.com   \n",
       "10647             NaN                              jpyburn@tampaport.com   \n",
       "11637             NaN                        chipmaster.corp@comcast.net   \n",
       "12020             NaN                              freespirit1210@me.com   \n",
       "\n",
       "                E-mail 2 Address         E-mail 3 Address  \\\n",
       "8                            NaN                      NaN   \n",
       "42                           NaN                      NaN   \n",
       "151                          NaN                      NaN   \n",
       "202                          NaN                      NaN   \n",
       "313                          NaN                      NaN   \n",
       "338                          NaN                      NaN   \n",
       "396                          NaN                      NaN   \n",
       "624                          NaN                      NaN   \n",
       "1144                         NaN                      NaN   \n",
       "1552                         NaN                      NaN   \n",
       "2266                         NaN                      NaN   \n",
       "2729                         NaN                      NaN   \n",
       "3408                         NaN                      NaN   \n",
       "3850                         NaN                      NaN   \n",
       "4592                         NaN                      NaN   \n",
       "4738                         NaN                      NaN   \n",
       "4740                         NaN                      NaN   \n",
       "4813                     M@rt!ns                      NaN   \n",
       "5000                         NaN                      NaN   \n",
       "5047                         NaN                      NaN   \n",
       "5104                         NaN                      NaN   \n",
       "5190                         NaN                      NaN   \n",
       "5390                         NaN                      NaN   \n",
       "5481                         NaN                      NaN   \n",
       "5500                         NaN                      NaN   \n",
       "5549                         NaN                      NaN   \n",
       "5551                         NaN                      NaN   \n",
       "5607                         NaN                      NaN   \n",
       "5645                         NaN                      NaN   \n",
       "5674     trisha@versowealth. com                      NaN   \n",
       "5720                         NaN                      NaN   \n",
       "5796        JoelStewartPA@Gmail   joelstewartpa@gmail.com   \n",
       "5836                         NaN                      NaN   \n",
       "6035                         NaN                      NaN   \n",
       "6077                         NaN                      NaN   \n",
       "6100                         NaN                      NaN   \n",
       "6363                         NaN                      NaN   \n",
       "6517      coraejercito@gmail.com                      NaN   \n",
       "6791                         NaN                      NaN   \n",
       "7132                         NaN                      NaN   \n",
       "7177                         NaN                      NaN   \n",
       "7527                         NaN                      NaN   \n",
       "7593                         NaN                      NaN   \n",
       "7744                         NaN                      NaN   \n",
       "7882                         NaN                      NaN   \n",
       "7972       jean@jeancomputer com                      NaN   \n",
       "8067     mxenick@LCGCapital. com                      NaN   \n",
       "8593                         NaN                      NaN   \n",
       "8658       usa@yachtblueusa. com                      NaN   \n",
       "8674         fghannadian@ut. edu                      NaN   \n",
       "9028                         NaN                      NaN   \n",
       "9126                         NaN                      NaN   \n",
       "9397                         NaN                      NaN   \n",
       "9898                         NaN                      NaN   \n",
       "10325      efmello1@hotmail.com                       NaN   \n",
       "10644  sales@carportoftampa. com                      NaN   \n",
       "10647     jpyburn@tampaport. com                      NaN   \n",
       "11637                        NaN                      NaN   \n",
       "12020                        NaN                      NaN   \n",
       "\n",
       "                                                   Notes  \n",
       "8      Js.miami@gmail.com<mailto:Js.miami@gmail.com <...  \n",
       "42                                             Paralegal  \n",
       "151                                                       \n",
       "202                                                       \n",
       "313                                                       \n",
       "338                                                       \n",
       "396                                                       \n",
       "624                                                       \n",
       "1144   Sunday, September 15, 2013 7:21 PM:\\nGoffredo ...  \n",
       "1552   Sunday, September 15, 2013 8:11 PM:\\n<!DOCTYPE...  \n",
       "2266   AA Citicard-Citibank-4229\\nwww.citcards.com\\ni...  \n",
       "2729   Sunday, September 15, 2013 8:14 PM:\\n<!DOCTYPE...  \n",
       "3408   Sunday, September 15, 2013 7:29 PM:\\nJales Mac...  \n",
       "3850   citibank.com Master Card\\n\\nID therese177bellt...  \n",
       "4592                                                 NaN  \n",
       "4738   If S7 is off, calls are forwarded to Gear.\\r\\n...  \n",
       "4740   Sunday, September 15, 2013 7:19 PM:\\nPage Make...  \n",
       "4813    Casada a 16 anos ja, dois filhos maravilhosos...  \n",
       "5000   0236324331\\r\\n\\r\\nmolly9\\r\\n\\r\\nTerry 21706400...  \n",
       "5047                                                 NaN  \n",
       "5104   http://192.168.111.1/\\nUsername: admin\\nPasswo...  \n",
       "5190      Js.miami@gmail.com<mailto:Js.miami@gmail.co...  \n",
       "5390                                                 NaN  \n",
       "5481   http://192.168.111.1/\\nUsername: admin\\nPasswo...  \n",
       "5500                                                 NaN  \n",
       "5549                                                 NaN  \n",
       "5551                                         TTTTEST\\r\\n  \n",
       "5607   0236324331\\r\\rmolly9\\r\\rRobin at MCO\\r\\r\\rTerr...  \n",
       "5645   https://stores.office.com/myaccount/home.aspx?...  \n",
       "5674   Sunday, September 15, 2013 8:09 PM:\\n<!DOCTYPE...  \n",
       "5720   Office 365 sign-in page\\nhttps://portal.office...  \n",
       "5796   Sunday, November 29, 2015 7:48 PM:\\r\\nQwerty1@...  \n",
       "5836   If S7 is off, calls are forwarded to Gear.\\r\\n...  \n",
       "6035                                                 NaN  \n",
       "6077   http://192.168.11.1/\\nUsername: admin\\nPasswor...  \n",
       "6100   Sunday, September 15, 2013 7:14 PM:\\n<!DOCTYPE...  \n",
       "6363                        Pode ser alguem de Boston?\\n  \n",
       "6517                                                 NaN  \n",
       "6791                                                 NaN  \n",
       "7132   citibank.com Master Card\\n\\nID therese177bellt...  \n",
       "7177                                     Richard Quillen  \n",
       "7527                                                 NaN  \n",
       "7593   Access your Office 365: portal.microsoftonline...  \n",
       "7744   Sunday, September 15, 2013 8:10 PM:\\n<!DOCTYPE...  \n",
       "7882   Sunday, September 15, 2013 7:25 PM:\\ne4gs Inte...  \n",
       "7972   Sunday, September 15, 2013 8:09 PM:\\n<!DOCTYPE...  \n",
       "8067   Sunday, September 15, 2013 8:09 PM:\\n<!DOCTYPE...  \n",
       "8593                                                 NaN  \n",
       "8658   Sunday, September 15, 2013 7:20 PM:\\nusa@yacht...  \n",
       "8674   Sunday, September 15, 2013 8:10 PM:\\n<!DOCTYPE...  \n",
       "9028   QuickBooks Pro 2015\\nLicense Number:\\n4279-772...  \n",
       "9126                                                 NaN  \n",
       "9397   AA Citicard-Citibank-4229\\nwww.citcards.com\\ni...  \n",
       "9898   Serial number: DFAX9-A62QJ-J3WGE-N666J \\nActiv...  \n",
       "10325  Sunday, September 15, 2013 7:21 PM:\\nEmerson F...  \n",
       "10644  Sunday, September 15, 2013 8:09 PM:\\n<!DOCTYPE...  \n",
       "10647  Sunday, September 15, 2013 8:09 PM:\\n<!DOCTYPE...  \n",
       "11637                                                NaN  \n",
       "12020                                                NaN  "
      ]
     },
     "execution_count": 164,
     "metadata": {},
     "output_type": "execute_result"
    }
   ],
   "source": [
    "nonalpha[imp2]"
   ]
  },
  {
   "cell_type": "code",
   "execution_count": 165,
   "metadata": {},
   "outputs": [
    {
     "data": {
      "text/plain": [
       "1144    DÃ¡ngelo\n",
       "Name: Contact, dtype: object"
      ]
     },
     "execution_count": 165,
     "metadata": {},
     "output_type": "execute_result"
    }
   ],
   "source": [
    "# Example -After-:\n",
    "nonalpha[nonalpha['Home Phone']=='+1 (305) 651-9311']['Contact']"
   ]
  },
  {
   "cell_type": "raw",
   "metadata": {},
   "source": [
    "# Example -Before-:\n",
    "nonalpha.loc[1144,'Contact']"
   ]
  },
  {
   "cell_type": "code",
   "execution_count": 166,
   "metadata": {},
   "outputs": [],
   "source": [
    "def decoder2(name):\n",
    "    name= name.encode('Latin-1').decode('utf-8',errors='ignore')\n",
    "    return name\n",
    "    "
   ]
  },
  {
   "cell_type": "code",
   "execution_count": 167,
   "metadata": {},
   "outputs": [],
   "source": [
    "nonalpha.loc[:]['Contact'] = nonalpha['Contact'].apply(decoder2)"
   ]
  },
  {
   "cell_type": "code",
   "execution_count": 168,
   "metadata": {},
   "outputs": [
    {
     "data": {
      "text/plain": [
       "1144    Dángelo\n",
       "Name: Contact, dtype: object"
      ]
     },
     "execution_count": 168,
     "metadata": {},
     "output_type": "execute_result"
    }
   ],
   "source": [
    "# Example -After-:\n",
    "nonalpha[nonalpha['Home Phone']=='+1 (305) 651-9311']['Contact']"
   ]
  },
  {
   "cell_type": "raw",
   "metadata": {},
   "source": [
    "# Example -After:\n",
    "nonalpha.loc[1144,'Contact']"
   ]
  },
  {
   "cell_type": "code",
   "execution_count": 169,
   "metadata": {},
   "outputs": [],
   "source": [
    "# act Left JOIN nonalpha\n",
    "joel.update(nonalpha, join='left', overwrite=True, filter_func=None, raise_conflict=False)"
   ]
  },
  {
   "cell_type": "code",
   "execution_count": 170,
   "metadata": {},
   "outputs": [
    {
     "data": {
      "text/plain": [
       "1139    da Conceição Gomes\n",
       "895                Brandão\n",
       "2595               Rancaño\n",
       "3419                 Núñez\n",
       "2257       da Rocha Galvão\n",
       "2639             Саморуков\n",
       "7536         Noué Isabelle\n",
       "8959               Евгений\n",
       "1144               Dángelo\n",
       "Name: Contact, dtype: object"
      ]
     },
     "execution_count": 170,
     "metadata": {},
     "output_type": "execute_result"
    }
   ],
   "source": [
    "## Test -After-:\n",
    "joel.loc[[1139,895,2595,3419,2257,2639,7536,8959,1144],'Contact']"
   ]
  },
  {
   "cell_type": "markdown",
   "metadata": {},
   "source": [
    "___"
   ]
  },
  {
   "cell_type": "markdown",
   "metadata": {},
   "source": [
    "## 6  Duplicate Exceptions"
   ]
  },
  {
   "cell_type": "markdown",
   "metadata": {},
   "source": [
    "###### We've successfully taken care of the fully redundant records in section 4. We then proceeded by dealing with doubles and trios of almost-duplicated rows in subsection 4.1 , 4.2 and 4.3. "
   ]
  },
  {
   "cell_type": "markdown",
   "metadata": {},
   "source": [
    "###### At last, we are now going to be dealing with the almost-duplicate records which surpassed the trio status regarding their number of instances inside their 'Contact' name group."
   ]
  },
  {
   "cell_type": "markdown",
   "metadata": {},
   "source": [
    "##### &#9678; Current Number of Duplicates on Contact"
   ]
  },
  {
   "cell_type": "code",
   "execution_count": 171,
   "metadata": {},
   "outputs": [
    {
     "data": {
      "text/plain": [
       "104"
      ]
     },
     "execution_count": 171,
     "metadata": {},
     "output_type": "execute_result"
    }
   ],
   "source": [
    "len(joel[joel.duplicated(subset=['Contact'],keep=False)])"
   ]
  },
  {
   "cell_type": "markdown",
   "metadata": {},
   "source": [
    "___"
   ]
  },
  {
   "cell_type": "code",
   "execution_count": 172,
   "metadata": {},
   "outputs": [],
   "source": [
    "imp = ['Contact',\n",
    " 'Business Phone',\n",
    " 'Business Phone 2',\n",
    " 'Home Phone',\n",
    "    'Home Phone 2',\n",
    " 'Mobile Phone',\n",
    "       'Other Phone',\n",
    " 'E-mail Address',\n",
    " 'E-mail 2 Address',\n",
    "      'count']"
   ]
  },
  {
   "cell_type": "code",
   "execution_count": 173,
   "metadata": {},
   "outputs": [],
   "source": [
    "remaining = joel[joel.duplicated(subset=['Contact'],keep=False)].sort_values('Contact')"
   ]
  },
  {
   "cell_type": "code",
   "execution_count": 174,
   "metadata": {},
   "outputs": [],
   "source": [
    "remaining = joel[joel.duplicated(subset=['Contact'],keep=False)].sort_values('Contact')\n",
    "\n",
    "# Let's get our 'count' in place once again:\n",
    "\n",
    "remaining['count'] = pd.isnull(remaining).sum(1)"
   ]
  },
  {
   "cell_type": "markdown",
   "metadata": {},
   "source": [
    "###### The next sets of duplicated contacts will have its relevant information joined/aggregated into the first occurrence (most filled one). note that we are not able to 'spread' the data between multiple fields simply because, in this particular case, Outlook doesn't offer that many fields."
   ]
  },
  {
   "cell_type": "code",
   "execution_count": 175,
   "metadata": {},
   "outputs": [],
   "source": [
    "save =remaining\n",
    "save['count'] = pd.isnull(save).sum(1)\n",
    "save = save.sort_values(['Contact','count'])\n"
   ]
  },
  {
   "cell_type": "code",
   "execution_count": 176,
   "metadata": {},
   "outputs": [],
   "source": [
    "dicts = {}\n",
    "value_1 = lambda x: '| '.join(x.fillna('').astype(str))\n",
    "\n",
    "for i in firsts + join_these:\n",
    "    dicts[i] = value_1"
   ]
  },
  {
   "cell_type": "code",
   "execution_count": 177,
   "metadata": {},
   "outputs": [],
   "source": [
    "save.reset_index(inplace=True)\n",
    "\n",
    "dicts['index'] = 'first'\n",
    "\n",
    "# Aggregation:\n",
    "\n",
    "a= save.groupby('Contact',as_index=False).agg(dicts)\n",
    "                    \n",
    "a.set_index('index',inplace=True)"
   ]
  },
  {
   "cell_type": "code",
   "execution_count": 178,
   "metadata": {},
   "outputs": [],
   "source": [
    "save.set_index('index',inplace=True)"
   ]
  },
  {
   "cell_type": "code",
   "execution_count": 179,
   "metadata": {},
   "outputs": [],
   "source": [
    "# save Left JOIN a\n",
    "save.update(a, join='left', overwrite=True, filter_func=None, raise_conflict=False)"
   ]
  },
  {
   "cell_type": "raw",
   "metadata": {},
   "source": [
    "save.head()"
   ]
  },
  {
   "cell_type": "code",
   "execution_count": 180,
   "metadata": {},
   "outputs": [],
   "source": [
    "save = save.applymap(lambda x: np.nan if (isinstance(x,str) and special_match(x) == True) else x)"
   ]
  },
  {
   "cell_type": "code",
   "execution_count": 181,
   "metadata": {},
   "outputs": [],
   "source": [
    "# Remove repeated character pattern in a string (for preventing redundant info after the aggregation)\n",
    "\n",
    "import re\n",
    "save[join_these] = save[join_these].applymap(lambda x: re.sub(r'(.+?)\\1+', r'\\1', x) if isinstance(x,str)  else x)"
   ]
  },
  {
   "cell_type": "code",
   "execution_count": 182,
   "metadata": {},
   "outputs": [
    {
     "data": {
      "text/html": [
       "<div>\n",
       "<style scoped>\n",
       "    .dataframe tbody tr th:only-of-type {\n",
       "        vertical-align: middle;\n",
       "    }\n",
       "\n",
       "    .dataframe tbody tr th {\n",
       "        vertical-align: top;\n",
       "    }\n",
       "\n",
       "    .dataframe thead th {\n",
       "        text-align: right;\n",
       "    }\n",
       "</style>\n",
       "<table border=\"1\" class=\"dataframe\">\n",
       "  <thead>\n",
       "    <tr style=\"text-align: right;\">\n",
       "      <th></th>\n",
       "      <th>Contact</th>\n",
       "      <th>Business Phone</th>\n",
       "      <th>Business Phone 2</th>\n",
       "      <th>Home Phone</th>\n",
       "      <th>Home Phone 2</th>\n",
       "      <th>Mobile Phone</th>\n",
       "      <th>Other Phone</th>\n",
       "      <th>E-mail Address</th>\n",
       "      <th>E-mail 2 Address</th>\n",
       "      <th>E-mail 3 Address</th>\n",
       "      <th>Notes</th>\n",
       "    </tr>\n",
       "  </thead>\n",
       "  <tbody>\n",
       "    <tr>\n",
       "      <th>1473</th>\n",
       "      <td>Carvalho</td>\n",
       "      <td>(954) 782-0430</td>\n",
       "      <td>NaN</td>\n",
       "      <td>+1 (954) 788-2391</td>\n",
       "      <td>NaN</td>\n",
       "      <td>NaN</td>\n",
       "      <td>NaN</td>\n",
       "      <td>NaN</td>\n",
       "      <td>NaN</td>\n",
       "      <td>NaN</td>\n",
       "      <td>Sunday, September 15, 2013 8:09 PM:\\n&lt;!DOCTYPE...</td>\n",
       "    </tr>\n",
       "    <tr>\n",
       "      <th>1741</th>\n",
       "      <td>Carvalho</td>\n",
       "      <td>(781) 856-7172</td>\n",
       "      <td>NaN</td>\n",
       "      <td>+1 (781) 856-7172</td>\n",
       "      <td>NaN</td>\n",
       "      <td>(617) 389-1879</td>\n",
       "      <td>NaN</td>\n",
       "      <td>NaN</td>\n",
       "      <td>NaN</td>\n",
       "      <td>NaN</td>\n",
       "      <td>Sunday, September 15, 2013 7:20 PM:\\nCarvalho,...</td>\n",
       "    </tr>\n",
       "    <tr>\n",
       "      <th>1978</th>\n",
       "      <td>Carvalho</td>\n",
       "      <td>(305) 379-7999</td>\n",
       "      <td>NaN</td>\n",
       "      <td>(180) 038-7275</td>\n",
       "      <td>NaN</td>\n",
       "      <td>NaN</td>\n",
       "      <td>NaN</td>\n",
       "      <td>info@gosouth.com</td>\n",
       "      <td>info@remessa.com</td>\n",
       "      <td>NaN</td>\n",
       "      <td>Sunday, September 15, 2013 8:14 PM:\\n&lt;!DOCTYPE...</td>\n",
       "    </tr>\n",
       "    <tr>\n",
       "      <th>2934</th>\n",
       "      <td>Carvalho</td>\n",
       "      <td>(305) 960-8426</td>\n",
       "      <td>NaN</td>\n",
       "      <td>NaN</td>\n",
       "      <td>NaN</td>\n",
       "      <td>(786) 301-3020</td>\n",
       "      <td>NaN</td>\n",
       "      <td>NaN</td>\n",
       "      <td>NaN</td>\n",
       "      <td>NaN</td>\n",
       "      <td>Sunday, September 15, 2013 8:09 PM:\\n&lt;!DOCTYPE...</td>\n",
       "    </tr>\n",
       "    <tr>\n",
       "      <th>3815</th>\n",
       "      <td>Carvalho</td>\n",
       "      <td>(407) 370-5086</td>\n",
       "      <td>NaN</td>\n",
       "      <td>NaN</td>\n",
       "      <td>NaN</td>\n",
       "      <td>(407) 953-3479</td>\n",
       "      <td>NaN</td>\n",
       "      <td>rodrigo@planetuptechnology.com</td>\n",
       "      <td>NaN</td>\n",
       "      <td>NaN</td>\n",
       "      <td>Sunday, September 15, 2013 7:20 PM:\\nRodrigo C...</td>\n",
       "    </tr>\n",
       "    <tr>\n",
       "      <th>5233</th>\n",
       "      <td>Carvalho</td>\n",
       "      <td>(786) 602-9114</td>\n",
       "      <td>NaN</td>\n",
       "      <td>NaN</td>\n",
       "      <td>NaN</td>\n",
       "      <td>NaN</td>\n",
       "      <td>NaN</td>\n",
       "      <td>gabriel@eyeseasolutions.com</td>\n",
       "      <td>NaN</td>\n",
       "      <td>NaN</td>\n",
       "      <td>NaN</td>\n",
       "    </tr>\n",
       "    <tr>\n",
       "      <th>5269</th>\n",
       "      <td>Carvalho</td>\n",
       "      <td>NaN</td>\n",
       "      <td>NaN</td>\n",
       "      <td>+1 (954) 601-6575</td>\n",
       "      <td>NaN</td>\n",
       "      <td>NaN</td>\n",
       "      <td>NaN</td>\n",
       "      <td>NaN</td>\n",
       "      <td>NaN</td>\n",
       "      <td>NaN</td>\n",
       "      <td>NaN</td>\n",
       "    </tr>\n",
       "  </tbody>\n",
       "</table>\n",
       "</div>"
      ],
      "text/plain": [
       "        Contact  Business Phone Business Phone 2         Home Phone  \\\n",
       "1473   Carvalho  (954) 782-0430              NaN  +1 (954) 788-2391   \n",
       "1741   Carvalho  (781) 856-7172              NaN  +1 (781) 856-7172   \n",
       "1978   Carvalho  (305) 379-7999              NaN     (180) 038-7275   \n",
       "2934   Carvalho  (305) 960-8426              NaN                NaN   \n",
       "3815   Carvalho  (407) 370-5086              NaN                NaN   \n",
       "5233   Carvalho  (786) 602-9114              NaN                NaN   \n",
       "5269   Carvalho             NaN              NaN  +1 (954) 601-6575   \n",
       "\n",
       "     Home Phone 2    Mobile Phone Other Phone                  E-mail Address  \\\n",
       "1473          NaN             NaN         NaN                             NaN   \n",
       "1741          NaN  (617) 389-1879         NaN                             NaN   \n",
       "1978          NaN             NaN         NaN                info@gosouth.com   \n",
       "2934          NaN  (786) 301-3020         NaN                             NaN   \n",
       "3815          NaN  (407) 953-3479         NaN  rodrigo@planetuptechnology.com   \n",
       "5233          NaN             NaN         NaN     gabriel@eyeseasolutions.com   \n",
       "5269          NaN             NaN         NaN                             NaN   \n",
       "\n",
       "      E-mail 2 Address E-mail 3 Address  \\\n",
       "1473               NaN              NaN   \n",
       "1741               NaN              NaN   \n",
       "1978  info@remessa.com              NaN   \n",
       "2934               NaN              NaN   \n",
       "3815               NaN              NaN   \n",
       "5233               NaN              NaN   \n",
       "5269               NaN              NaN   \n",
       "\n",
       "                                                  Notes  \n",
       "1473  Sunday, September 15, 2013 8:09 PM:\\n<!DOCTYPE...  \n",
       "1741  Sunday, September 15, 2013 7:20 PM:\\nCarvalho,...  \n",
       "1978  Sunday, September 15, 2013 8:14 PM:\\n<!DOCTYPE...  \n",
       "2934  Sunday, September 15, 2013 8:09 PM:\\n<!DOCTYPE...  \n",
       "3815  Sunday, September 15, 2013 7:20 PM:\\nRodrigo C...  \n",
       "5233                                                NaN  \n",
       "5269                                                NaN  "
      ]
     },
     "execution_count": 182,
     "metadata": {},
     "output_type": "execute_result"
    }
   ],
   "source": [
    "## Example - Before - \n",
    "# (Note that it would be impossible to distribute all emails accordingly).:\n",
    "joel[joel['Contact']==' Carvalho'][imp2]"
   ]
  },
  {
   "cell_type": "raw",
   "metadata": {},
   "source": [
    "## Example - Before - \n",
    "# (Note that it would be impossible to distribute all emails accordingly).:\n",
    "joel.loc[joel['Contact']=='Joel Stewart'][imp2]"
   ]
  },
  {
   "cell_type": "code",
   "execution_count": 183,
   "metadata": {},
   "outputs": [],
   "source": [
    "# joel Left JOIN dupes\n",
    "joel.update(save, join='left', overwrite=True, filter_func=None, raise_conflict=False)"
   ]
  },
  {
   "cell_type": "code",
   "execution_count": 184,
   "metadata": {},
   "outputs": [],
   "source": [
    "#drop the duplicates using column 'Contact' and 'E-mail' as reference but only keep the most filled rows\n",
    "save_2= save.drop_duplicates(subset=['Contact'],keep='first')\n",
    "\n",
    "joel.drop(save.index.difference(save_2.index),inplace=True)"
   ]
  },
  {
   "cell_type": "code",
   "execution_count": 186,
   "metadata": {},
   "outputs": [
    {
     "data": {
      "text/html": [
       "<div>\n",
       "<style scoped>\n",
       "    .dataframe tbody tr th:only-of-type {\n",
       "        vertical-align: middle;\n",
       "    }\n",
       "\n",
       "    .dataframe tbody tr th {\n",
       "        vertical-align: top;\n",
       "    }\n",
       "\n",
       "    .dataframe thead th {\n",
       "        text-align: right;\n",
       "    }\n",
       "</style>\n",
       "<table border=\"1\" class=\"dataframe\">\n",
       "  <thead>\n",
       "    <tr style=\"text-align: right;\">\n",
       "      <th></th>\n",
       "      <th>Contact</th>\n",
       "      <th>Business Phone</th>\n",
       "      <th>Business Phone 2</th>\n",
       "      <th>Home Phone</th>\n",
       "      <th>Home Phone 2</th>\n",
       "      <th>Mobile Phone</th>\n",
       "      <th>Other Phone</th>\n",
       "      <th>E-mail Address</th>\n",
       "      <th>E-mail 2 Address</th>\n",
       "      <th>E-mail 3 Address</th>\n",
       "      <th>Notes</th>\n",
       "    </tr>\n",
       "  </thead>\n",
       "  <tbody>\n",
       "    <tr>\n",
       "      <th>1978</th>\n",
       "      <td>Carvalho</td>\n",
       "      <td>(305) 379-7999| (781) 856-7172| (305) 960-8426...</td>\n",
       "      <td>NaN</td>\n",
       "      <td>(180) 038-7275| +1 (781) 856-7172| | | +1 (954...</td>\n",
       "      <td>NaN</td>\n",
       "      <td>| (617) 389-1879| (786) 301-3020| | | (407) 95...</td>\n",
       "      <td>NaN</td>\n",
       "      <td>info@gosouth.com| | | gabriel@eyeseasolutions....</td>\n",
       "      <td>info@remessa.com| | | | | |</td>\n",
       "      <td>NaN</td>\n",
       "      <td>Sunday, September 15, 2013 8:14 PM:\\n&lt;!DOCTYPE...</td>\n",
       "    </tr>\n",
       "  </tbody>\n",
       "</table>\n",
       "</div>"
      ],
      "text/plain": [
       "        Contact                                     Business Phone  \\\n",
       "1978   Carvalho  (305) 379-7999| (781) 856-7172| (305) 960-8426...   \n",
       "\n",
       "     Business Phone 2                                         Home Phone  \\\n",
       "1978              NaN  (180) 038-7275| +1 (781) 856-7172| | | +1 (954...   \n",
       "\n",
       "     Home Phone 2                                       Mobile Phone  \\\n",
       "1978          NaN  | (617) 389-1879| (786) 301-3020| | | (407) 95...   \n",
       "\n",
       "     Other Phone                                     E-mail Address  \\\n",
       "1978         NaN  info@gosouth.com| | | gabriel@eyeseasolutions....   \n",
       "\n",
       "                  E-mail 2 Address E-mail 3 Address  \\\n",
       "1978  info@remessa.com| | | | | |               NaN   \n",
       "\n",
       "                                                  Notes  \n",
       "1978  Sunday, September 15, 2013 8:14 PM:\\n<!DOCTYPE...  "
      ]
     },
     "execution_count": 186,
     "metadata": {},
     "output_type": "execute_result"
    }
   ],
   "source": [
    "## Example - After - :\n",
    "joel[joel['Contact']==' Carvalho'][imp2]"
   ]
  },
  {
   "cell_type": "markdown",
   "metadata": {},
   "source": [
    "____"
   ]
  },
  {
   "cell_type": "markdown",
   "metadata": {},
   "source": [
    "##### &#9678; Final Number of Duplicates on 'Contact'"
   ]
  },
  {
   "cell_type": "code",
   "execution_count": 187,
   "metadata": {},
   "outputs": [
    {
     "data": {
      "text/plain": [
       "0"
      ]
     },
     "execution_count": 187,
     "metadata": {},
     "output_type": "execute_result"
    }
   ],
   "source": [
    "len(joel[joel.duplicated(subset=['Contact'],keep=False)])"
   ]
  },
  {
   "cell_type": "markdown",
   "metadata": {},
   "source": [
    "##### &#9678;  Final Number of Records"
   ]
  },
  {
   "cell_type": "code",
   "execution_count": 188,
   "metadata": {},
   "outputs": [
    {
     "data": {
      "text/plain": [
       "8962"
      ]
     },
     "execution_count": 188,
     "metadata": {},
     "output_type": "execute_result"
    }
   ],
   "source": [
    "len(joel)"
   ]
  },
  {
   "cell_type": "markdown",
   "metadata": {},
   "source": [
    "____"
   ]
  },
  {
   "cell_type": "markdown",
   "metadata": {},
   "source": [
    "# Results!"
   ]
  },
  {
   "cell_type": "markdown",
   "metadata": {},
   "source": [
    "### Lets recap on all the examples shown on this project in a before/after fashion."
   ]
  },
  {
   "cell_type": "markdown",
   "metadata": {},
   "source": [
    "#### joel_0 will represent the original state of the records"
   ]
  },
  {
   "cell_type": "code",
   "execution_count": 206,
   "metadata": {},
   "outputs": [],
   "source": [
    "joel_0 = pd.read_csv(\"Joel_hotmail.csv\",encoding='Latin-1',dtype='object')"
   ]
  },
  {
   "cell_type": "code",
   "execution_count": 207,
   "metadata": {},
   "outputs": [],
   "source": [
    "joel_0[\"Contact\"] = joel_0[\"First Name\"].fillna('') +' '+ joel_0[\"Last Name\"].fillna('')"
   ]
  },
  {
   "cell_type": "code",
   "execution_count": 208,
   "metadata": {},
   "outputs": [
    {
     "data": {
      "text/html": [
       "<div>\n",
       "<style scoped>\n",
       "    .dataframe tbody tr th:only-of-type {\n",
       "        vertical-align: middle;\n",
       "    }\n",
       "\n",
       "    .dataframe tbody tr th {\n",
       "        vertical-align: top;\n",
       "    }\n",
       "\n",
       "    .dataframe thead th {\n",
       "        text-align: right;\n",
       "    }\n",
       "</style>\n",
       "<table border=\"1\" class=\"dataframe\">\n",
       "  <thead>\n",
       "    <tr style=\"text-align: right;\">\n",
       "      <th></th>\n",
       "      <th>Contact</th>\n",
       "      <th>Business Phone</th>\n",
       "      <th>Business Phone 2</th>\n",
       "      <th>Home Phone</th>\n",
       "      <th>Home Phone 2</th>\n",
       "      <th>Mobile Phone</th>\n",
       "      <th>Other Phone</th>\n",
       "      <th>E-mail Address</th>\n",
       "      <th>E-mail 2 Address</th>\n",
       "      <th>E-mail 3 Address</th>\n",
       "      <th>Notes</th>\n",
       "    </tr>\n",
       "  </thead>\n",
       "  <tbody>\n",
       "    <tr>\n",
       "      <th>721</th>\n",
       "      <td>Tatiana Goncalves</td>\n",
       "      <td>NaN</td>\n",
       "      <td>NaN</td>\n",
       "      <td>NaN</td>\n",
       "      <td>NaN</td>\n",
       "      <td>(754) 368-0417</td>\n",
       "      <td>NaN</td>\n",
       "      <td>taty.goncalves@hotmail.com</td>\n",
       "      <td>NaN</td>\n",
       "      <td>NaN</td>\n",
       "      <td>Works with\\r\\n\\r\\n</td>\n",
       "    </tr>\n",
       "    <tr>\n",
       "      <th>722</th>\n",
       "      <td>Tatiana Goncalves</td>\n",
       "      <td>NaN</td>\n",
       "      <td>NaN</td>\n",
       "      <td>NaN</td>\n",
       "      <td>NaN</td>\n",
       "      <td>(754) 368-0417</td>\n",
       "      <td>NaN</td>\n",
       "      <td>taty.goncalves@hotmail.com</td>\n",
       "      <td>NaN</td>\n",
       "      <td>NaN</td>\n",
       "      <td>Works with\\r\\n\\r\\n</td>\n",
       "    </tr>\n",
       "    <tr>\n",
       "      <th>723</th>\n",
       "      <td>Tatiana Goncalves</td>\n",
       "      <td>NaN</td>\n",
       "      <td>NaN</td>\n",
       "      <td>NaN</td>\n",
       "      <td>NaN</td>\n",
       "      <td>(754) 368-0417</td>\n",
       "      <td>NaN</td>\n",
       "      <td>taty.goncalves@hotmail.com</td>\n",
       "      <td>NaN</td>\n",
       "      <td>NaN</td>\n",
       "      <td>Works with\\r\\n\\r\\n</td>\n",
       "    </tr>\n",
       "    <tr>\n",
       "      <th>724</th>\n",
       "      <td>Tatiana Goncalves</td>\n",
       "      <td>NaN</td>\n",
       "      <td>NaN</td>\n",
       "      <td>NaN</td>\n",
       "      <td>NaN</td>\n",
       "      <td>(754) 368-0417</td>\n",
       "      <td>NaN</td>\n",
       "      <td>taty.goncalves@hotmail.com</td>\n",
       "      <td>NaN</td>\n",
       "      <td>NaN</td>\n",
       "      <td>Works with\\r\\n\\r\\n</td>\n",
       "    </tr>\n",
       "    <tr>\n",
       "      <th>725</th>\n",
       "      <td>Tatiana Goncalves</td>\n",
       "      <td>NaN</td>\n",
       "      <td>NaN</td>\n",
       "      <td>NaN</td>\n",
       "      <td>NaN</td>\n",
       "      <td>(754) 368-0417</td>\n",
       "      <td>NaN</td>\n",
       "      <td>taty.goncalves@hotmail.com</td>\n",
       "      <td>NaN</td>\n",
       "      <td>NaN</td>\n",
       "      <td>Works with\\r\\n\\r\\n</td>\n",
       "    </tr>\n",
       "  </tbody>\n",
       "</table>\n",
       "</div>"
      ],
      "text/plain": [
       "               Contact Business Phone Business Phone 2 Home Phone  \\\n",
       "721  Tatiana Goncalves            NaN              NaN        NaN   \n",
       "722  Tatiana Goncalves            NaN              NaN        NaN   \n",
       "723  Tatiana Goncalves            NaN              NaN        NaN   \n",
       "724  Tatiana Goncalves            NaN              NaN        NaN   \n",
       "725  Tatiana Goncalves            NaN              NaN        NaN   \n",
       "\n",
       "    Home Phone 2    Mobile Phone Other Phone              E-mail Address  \\\n",
       "721          NaN  (754) 368-0417         NaN  taty.goncalves@hotmail.com   \n",
       "722          NaN  (754) 368-0417         NaN  taty.goncalves@hotmail.com   \n",
       "723          NaN  (754) 368-0417         NaN  taty.goncalves@hotmail.com   \n",
       "724          NaN  (754) 368-0417         NaN  taty.goncalves@hotmail.com   \n",
       "725          NaN  (754) 368-0417         NaN  taty.goncalves@hotmail.com   \n",
       "\n",
       "    E-mail 2 Address E-mail 3 Address               Notes  \n",
       "721              NaN              NaN  Works with\\r\\n\\r\\n  \n",
       "722              NaN              NaN  Works with\\r\\n\\r\\n  \n",
       "723              NaN              NaN  Works with\\r\\n\\r\\n  \n",
       "724              NaN              NaN  Works with\\r\\n\\r\\n  \n",
       "725              NaN              NaN  Works with\\r\\n\\r\\n  "
      ]
     },
     "execution_count": 208,
     "metadata": {},
     "output_type": "execute_result"
    }
   ],
   "source": [
    "## Example -Before- :\n",
    "joel_0[joel_0['Contact']=='Tatiana Goncalves'][imp2].head()"
   ]
  },
  {
   "cell_type": "code",
   "execution_count": 209,
   "metadata": {},
   "outputs": [
    {
     "data": {
      "text/html": [
       "<div>\n",
       "<style scoped>\n",
       "    .dataframe tbody tr th:only-of-type {\n",
       "        vertical-align: middle;\n",
       "    }\n",
       "\n",
       "    .dataframe tbody tr th {\n",
       "        vertical-align: top;\n",
       "    }\n",
       "\n",
       "    .dataframe thead th {\n",
       "        text-align: right;\n",
       "    }\n",
       "</style>\n",
       "<table border=\"1\" class=\"dataframe\">\n",
       "  <thead>\n",
       "    <tr style=\"text-align: right;\">\n",
       "      <th></th>\n",
       "      <th>Contact</th>\n",
       "      <th>Business Phone</th>\n",
       "      <th>Business Phone 2</th>\n",
       "      <th>Home Phone</th>\n",
       "      <th>Home Phone 2</th>\n",
       "      <th>Mobile Phone</th>\n",
       "      <th>Other Phone</th>\n",
       "      <th>E-mail Address</th>\n",
       "      <th>E-mail 2 Address</th>\n",
       "      <th>E-mail 3 Address</th>\n",
       "      <th>Notes</th>\n",
       "    </tr>\n",
       "  </thead>\n",
       "  <tbody>\n",
       "    <tr>\n",
       "      <th>12</th>\n",
       "      <td>Tatiana Goncalves</td>\n",
       "      <td>NaN</td>\n",
       "      <td>NaN</td>\n",
       "      <td>NaN</td>\n",
       "      <td>NaN</td>\n",
       "      <td>(754) 368-0417</td>\n",
       "      <td>NaN</td>\n",
       "      <td>taty.goncalves@hotmail.com</td>\n",
       "      <td>NaN</td>\n",
       "      <td>NaN</td>\n",
       "      <td>Works with\\n\\n  Works with Urbano.\\n\\n| Works ...</td>\n",
       "    </tr>\n",
       "  </tbody>\n",
       "</table>\n",
       "</div>"
      ],
      "text/plain": [
       "              Contact Business Phone Business Phone 2 Home Phone Home Phone 2  \\\n",
       "12  Tatiana Goncalves            NaN              NaN        NaN          NaN   \n",
       "\n",
       "      Mobile Phone Other Phone              E-mail Address E-mail 2 Address  \\\n",
       "12  (754) 368-0417         NaN  taty.goncalves@hotmail.com              NaN   \n",
       "\n",
       "   E-mail 3 Address                                              Notes  \n",
       "12              NaN  Works with\\n\\n  Works with Urbano.\\n\\n| Works ...  "
      ]
     },
     "execution_count": 209,
     "metadata": {},
     "output_type": "execute_result"
    }
   ],
   "source": [
    "## Example -After- :\n",
    "joel[joel['Contact']=='Tatiana Goncalves'][imp2]"
   ]
  },
  {
   "cell_type": "markdown",
   "metadata": {},
   "source": [
    "____"
   ]
  },
  {
   "cell_type": "code",
   "execution_count": 210,
   "metadata": {},
   "outputs": [
    {
     "data": {
      "text/html": [
       "<div>\n",
       "<style scoped>\n",
       "    .dataframe tbody tr th:only-of-type {\n",
       "        vertical-align: middle;\n",
       "    }\n",
       "\n",
       "    .dataframe tbody tr th {\n",
       "        vertical-align: top;\n",
       "    }\n",
       "\n",
       "    .dataframe thead th {\n",
       "        text-align: right;\n",
       "    }\n",
       "</style>\n",
       "<table border=\"1\" class=\"dataframe\">\n",
       "  <thead>\n",
       "    <tr style=\"text-align: right;\">\n",
       "      <th></th>\n",
       "      <th>Contact</th>\n",
       "      <th>Business Phone</th>\n",
       "      <th>Business Phone 2</th>\n",
       "      <th>Home Phone</th>\n",
       "      <th>Home Phone 2</th>\n",
       "      <th>Mobile Phone</th>\n",
       "      <th>Other Phone</th>\n",
       "      <th>E-mail Address</th>\n",
       "      <th>E-mail 2 Address</th>\n",
       "      <th>E-mail 3 Address</th>\n",
       "      <th>Notes</th>\n",
       "    </tr>\n",
       "  </thead>\n",
       "  <tbody>\n",
       "    <tr>\n",
       "      <th>3748</th>\n",
       "      <td>Adams</td>\n",
       "      <td>(513) 977-8125</td>\n",
       "      <td>NaN</td>\n",
       "      <td>+1 (513) 651-6489</td>\n",
       "      <td>NaN</td>\n",
       "      <td>NaN</td>\n",
       "      <td>+1 (513) 651-6981</td>\n",
       "      <td>gregory.adams@dinslaw.com</td>\n",
       "      <td>NaN</td>\n",
       "      <td>NaN</td>\n",
       "      <td>Sunday, September 15, 2013 8:07 PM:\\nWednesday...</td>\n",
       "    </tr>\n",
       "    <tr>\n",
       "      <th>5066</th>\n",
       "      <td>Adams</td>\n",
       "      <td>(561) 272-8037</td>\n",
       "      <td>NaN</td>\n",
       "      <td>NaN</td>\n",
       "      <td>NaN</td>\n",
       "      <td>+1 (561) 654-6288</td>\n",
       "      <td>NaN</td>\n",
       "      <td>mattadams97@hotmail.com</td>\n",
       "      <td>NaN</td>\n",
       "      <td>NaN</td>\n",
       "      <td>Sunday, September 15, 2013 7:19 PM:\\nMatthew D...</td>\n",
       "    </tr>\n",
       "  </tbody>\n",
       "</table>\n",
       "</div>"
      ],
      "text/plain": [
       "     Contact  Business Phone Business Phone 2         Home Phone Home Phone 2  \\\n",
       "3748   Adams  (513) 977-8125              NaN  +1 (513) 651-6489          NaN   \n",
       "5066   Adams  (561) 272-8037              NaN                NaN          NaN   \n",
       "\n",
       "           Mobile Phone        Other Phone             E-mail Address  \\\n",
       "3748                NaN  +1 (513) 651-6981  gregory.adams@dinslaw.com   \n",
       "5066  +1 (561) 654-6288                NaN    mattadams97@hotmail.com   \n",
       "\n",
       "     E-mail 2 Address E-mail 3 Address  \\\n",
       "3748              NaN              NaN   \n",
       "5066              NaN              NaN   \n",
       "\n",
       "                                                  Notes  \n",
       "3748  Sunday, September 15, 2013 8:07 PM:\\nWednesday...  \n",
       "5066  Sunday, September 15, 2013 7:19 PM:\\nMatthew D...  "
      ]
     },
     "execution_count": 210,
     "metadata": {},
     "output_type": "execute_result"
    }
   ],
   "source": [
    "## Example -Before- :\n",
    "joel_0[joel_0.Contact==' Adams'][imp2]"
   ]
  },
  {
   "cell_type": "code",
   "execution_count": 211,
   "metadata": {},
   "outputs": [
    {
     "data": {
      "text/html": [
       "<div>\n",
       "<style scoped>\n",
       "    .dataframe tbody tr th:only-of-type {\n",
       "        vertical-align: middle;\n",
       "    }\n",
       "\n",
       "    .dataframe tbody tr th {\n",
       "        vertical-align: top;\n",
       "    }\n",
       "\n",
       "    .dataframe thead th {\n",
       "        text-align: right;\n",
       "    }\n",
       "</style>\n",
       "<table border=\"1\" class=\"dataframe\">\n",
       "  <thead>\n",
       "    <tr style=\"text-align: right;\">\n",
       "      <th></th>\n",
       "      <th>Contact</th>\n",
       "      <th>Business Phone</th>\n",
       "      <th>Business Phone 2</th>\n",
       "      <th>Home Phone</th>\n",
       "      <th>Home Phone 2</th>\n",
       "      <th>Mobile Phone</th>\n",
       "      <th>Other Phone</th>\n",
       "      <th>E-mail Address</th>\n",
       "      <th>E-mail 2 Address</th>\n",
       "      <th>E-mail 3 Address</th>\n",
       "      <th>Notes</th>\n",
       "    </tr>\n",
       "  </thead>\n",
       "  <tbody>\n",
       "  </tbody>\n",
       "</table>\n",
       "</div>"
      ],
      "text/plain": [
       "Empty DataFrame\n",
       "Columns: [Contact, Business Phone, Business Phone 2, Home Phone, Home Phone 2, Mobile Phone, Other Phone, E-mail Address, E-mail 2 Address, E-mail 3 Address, Notes]\n",
       "Index: []"
      ]
     },
     "execution_count": 211,
     "metadata": {},
     "output_type": "execute_result"
    }
   ],
   "source": [
    "## Example -After- :\n",
    "joel[joel.Contact==' Adams'][imp2]"
   ]
  },
  {
   "cell_type": "markdown",
   "metadata": {},
   "source": [
    "___"
   ]
  },
  {
   "cell_type": "code",
   "execution_count": 212,
   "metadata": {},
   "outputs": [
    {
     "data": {
      "text/html": [
       "<div>\n",
       "<style scoped>\n",
       "    .dataframe tbody tr th:only-of-type {\n",
       "        vertical-align: middle;\n",
       "    }\n",
       "\n",
       "    .dataframe tbody tr th {\n",
       "        vertical-align: top;\n",
       "    }\n",
       "\n",
       "    .dataframe thead th {\n",
       "        text-align: right;\n",
       "    }\n",
       "</style>\n",
       "<table border=\"1\" class=\"dataframe\">\n",
       "  <thead>\n",
       "    <tr style=\"text-align: right;\">\n",
       "      <th></th>\n",
       "      <th>Contact</th>\n",
       "      <th>Business Phone</th>\n",
       "      <th>Business Phone 2</th>\n",
       "      <th>Home Phone</th>\n",
       "      <th>Home Phone 2</th>\n",
       "      <th>Mobile Phone</th>\n",
       "      <th>Other Phone</th>\n",
       "      <th>E-mail Address</th>\n",
       "      <th>E-mail 2 Address</th>\n",
       "      <th>E-mail 3 Address</th>\n",
       "      <th>Notes</th>\n",
       "    </tr>\n",
       "  </thead>\n",
       "  <tbody>\n",
       "    <tr>\n",
       "      <th>24</th>\n",
       "      <td>Miguel de Oliveira</td>\n",
       "      <td>NaN</td>\n",
       "      <td>NaN</td>\n",
       "      <td>NaN</td>\n",
       "      <td>NaN</td>\n",
       "      <td>(407) 467-8843</td>\n",
       "      <td>NaN</td>\n",
       "      <td>maoliveira@earthlink.net</td>\n",
       "      <td>NaN</td>\n",
       "      <td>NaN</td>\n",
       "      <td>Amigo de Joey Volpato\\r\\n\\r\\nCCBTV\\r\\n\\r\\nNot ...</td>\n",
       "    </tr>\n",
       "    <tr>\n",
       "      <th>25</th>\n",
       "      <td>Miguel de Oliveira</td>\n",
       "      <td>NaN</td>\n",
       "      <td>NaN</td>\n",
       "      <td>NaN</td>\n",
       "      <td>NaN</td>\n",
       "      <td>01155966451901</td>\n",
       "      <td>NaN</td>\n",
       "      <td>miguel1956@uol.com.br</td>\n",
       "      <td>NaN</td>\n",
       "      <td>NaN</td>\n",
       "      <td>Olivia Ilmar Dantas da Silva Oliveira\\n\\nVeiu ...</td>\n",
       "    </tr>\n",
       "  </tbody>\n",
       "</table>\n",
       "</div>"
      ],
      "text/plain": [
       "               Contact Business Phone Business Phone 2 Home Phone  \\\n",
       "24  Miguel de Oliveira            NaN              NaN        NaN   \n",
       "25  Miguel de Oliveira            NaN              NaN        NaN   \n",
       "\n",
       "   Home Phone 2    Mobile Phone Other Phone            E-mail Address  \\\n",
       "24          NaN  (407) 467-8843         NaN  maoliveira@earthlink.net   \n",
       "25          NaN  01155966451901         NaN     miguel1956@uol.com.br   \n",
       "\n",
       "   E-mail 2 Address E-mail 3 Address  \\\n",
       "24              NaN              NaN   \n",
       "25              NaN              NaN   \n",
       "\n",
       "                                                Notes  \n",
       "24  Amigo de Joey Volpato\\r\\n\\r\\nCCBTV\\r\\n\\r\\nNot ...  \n",
       "25  Olivia Ilmar Dantas da Silva Oliveira\\n\\nVeiu ...  "
      ]
     },
     "execution_count": 212,
     "metadata": {},
     "output_type": "execute_result"
    }
   ],
   "source": [
    "#test -Before-:\n",
    "joel_0[joel_0['Contact']=='Miguel de Oliveira'][imp2]"
   ]
  },
  {
   "cell_type": "code",
   "execution_count": 213,
   "metadata": {},
   "outputs": [
    {
     "data": {
      "text/html": [
       "<div>\n",
       "<style scoped>\n",
       "    .dataframe tbody tr th:only-of-type {\n",
       "        vertical-align: middle;\n",
       "    }\n",
       "\n",
       "    .dataframe tbody tr th {\n",
       "        vertical-align: top;\n",
       "    }\n",
       "\n",
       "    .dataframe thead th {\n",
       "        text-align: right;\n",
       "    }\n",
       "</style>\n",
       "<table border=\"1\" class=\"dataframe\">\n",
       "  <thead>\n",
       "    <tr style=\"text-align: right;\">\n",
       "      <th></th>\n",
       "      <th>Contact</th>\n",
       "      <th>Business Phone</th>\n",
       "      <th>Business Phone 2</th>\n",
       "      <th>Home Phone</th>\n",
       "      <th>Home Phone 2</th>\n",
       "      <th>Mobile Phone</th>\n",
       "      <th>Other Phone</th>\n",
       "      <th>E-mail Address</th>\n",
       "      <th>E-mail 2 Address</th>\n",
       "      <th>E-mail 3 Address</th>\n",
       "      <th>Notes</th>\n",
       "    </tr>\n",
       "  </thead>\n",
       "  <tbody>\n",
       "    <tr>\n",
       "      <th>11927</th>\n",
       "      <td>Miguel de Oliveira</td>\n",
       "      <td>NaN</td>\n",
       "      <td>NaN</td>\n",
       "      <td>NaN</td>\n",
       "      <td>NaN</td>\n",
       "      <td>(407) 467-8843</td>\n",
       "      <td>NaN</td>\n",
       "      <td>maoliveira@earthlink.net</td>\n",
       "      <td>NaN</td>\n",
       "      <td>NaN</td>\n",
       "      <td>Amigo de Joey Volpato\\n\\nCCBTV\\n\\nNot on Linke...</td>\n",
       "    </tr>\n",
       "  </tbody>\n",
       "</table>\n",
       "</div>"
      ],
      "text/plain": [
       "                  Contact Business Phone Business Phone 2 Home Phone  \\\n",
       "11927  Miguel de Oliveira            NaN              NaN        NaN   \n",
       "\n",
       "      Home Phone 2    Mobile Phone Other Phone            E-mail Address  \\\n",
       "11927          NaN  (407) 467-8843         NaN  maoliveira@earthlink.net   \n",
       "\n",
       "      E-mail 2 Address E-mail 3 Address  \\\n",
       "11927              NaN              NaN   \n",
       "\n",
       "                                                   Notes  \n",
       "11927  Amigo de Joey Volpato\\n\\nCCBTV\\n\\nNot on Linke...  "
      ]
     },
     "execution_count": 213,
     "metadata": {},
     "output_type": "execute_result"
    }
   ],
   "source": [
    "#test -After-:\n",
    "joel[joel['Contact']=='Miguel de Oliveira'][imp2]"
   ]
  },
  {
   "cell_type": "markdown",
   "metadata": {},
   "source": [
    "___"
   ]
  },
  {
   "cell_type": "code",
   "execution_count": 214,
   "metadata": {},
   "outputs": [
    {
     "data": {
      "text/html": [
       "<div>\n",
       "<style scoped>\n",
       "    .dataframe tbody tr th:only-of-type {\n",
       "        vertical-align: middle;\n",
       "    }\n",
       "\n",
       "    .dataframe tbody tr th {\n",
       "        vertical-align: top;\n",
       "    }\n",
       "\n",
       "    .dataframe thead th {\n",
       "        text-align: right;\n",
       "    }\n",
       "</style>\n",
       "<table border=\"1\" class=\"dataframe\">\n",
       "  <thead>\n",
       "    <tr style=\"text-align: right;\">\n",
       "      <th></th>\n",
       "      <th>Contact</th>\n",
       "      <th>Business Phone</th>\n",
       "      <th>Business Phone 2</th>\n",
       "      <th>Home Phone</th>\n",
       "      <th>Home Phone 2</th>\n",
       "      <th>Mobile Phone</th>\n",
       "      <th>Other Phone</th>\n",
       "      <th>E-mail Address</th>\n",
       "      <th>E-mail 2 Address</th>\n",
       "      <th>E-mail 3 Address</th>\n",
       "      <th>Notes</th>\n",
       "    </tr>\n",
       "  </thead>\n",
       "  <tbody>\n",
       "    <tr>\n",
       "      <th>8758</th>\n",
       "      <td>Selma Smith</td>\n",
       "      <td>NaN</td>\n",
       "      <td>NaN</td>\n",
       "      <td>NaN</td>\n",
       "      <td>NaN</td>\n",
       "      <td>NaN</td>\n",
       "      <td>NaN</td>\n",
       "      <td>Alohaselma@yahoo.com</td>\n",
       "      <td>NaN</td>\n",
       "      <td>NaN</td>\n",
       "      <td>NaN</td>\n",
       "    </tr>\n",
       "    <tr>\n",
       "      <th>10342</th>\n",
       "      <td>Selma Smith</td>\n",
       "      <td>NaN</td>\n",
       "      <td>NaN</td>\n",
       "      <td>NaN</td>\n",
       "      <td>NaN</td>\n",
       "      <td>NaN</td>\n",
       "      <td>NaN</td>\n",
       "      <td>selfiorini@msn.com</td>\n",
       "      <td>NaN</td>\n",
       "      <td>NaN</td>\n",
       "      <td>NaN</td>\n",
       "    </tr>\n",
       "    <tr>\n",
       "      <th>11465</th>\n",
       "      <td>Selma Smith</td>\n",
       "      <td>NaN</td>\n",
       "      <td>NaN</td>\n",
       "      <td>NaN</td>\n",
       "      <td>NaN</td>\n",
       "      <td>NaN</td>\n",
       "      <td>NaN</td>\n",
       "      <td>selsmith66@yahoo.com</td>\n",
       "      <td>NaN</td>\n",
       "      <td>NaN</td>\n",
       "      <td>NaN</td>\n",
       "    </tr>\n",
       "  </tbody>\n",
       "</table>\n",
       "</div>"
      ],
      "text/plain": [
       "           Contact Business Phone Business Phone 2 Home Phone Home Phone 2  \\\n",
       "8758   Selma Smith            NaN              NaN        NaN          NaN   \n",
       "10342  Selma Smith            NaN              NaN        NaN          NaN   \n",
       "11465  Selma Smith            NaN              NaN        NaN          NaN   \n",
       "\n",
       "      Mobile Phone Other Phone        E-mail Address E-mail 2 Address  \\\n",
       "8758           NaN         NaN  Alohaselma@yahoo.com              NaN   \n",
       "10342          NaN         NaN    selfiorini@msn.com              NaN   \n",
       "11465          NaN         NaN  selsmith66@yahoo.com              NaN   \n",
       "\n",
       "      E-mail 3 Address Notes  \n",
       "8758               NaN   NaN  \n",
       "10342              NaN   NaN  \n",
       "11465              NaN   NaN  "
      ]
     },
     "execution_count": 214,
     "metadata": {},
     "output_type": "execute_result"
    }
   ],
   "source": [
    "#test -Before-:\n",
    "joel_0[joel_0['Contact']=='Selma Smith'][imp2]"
   ]
  },
  {
   "cell_type": "code",
   "execution_count": 215,
   "metadata": {},
   "outputs": [
    {
     "data": {
      "text/html": [
       "<div>\n",
       "<style scoped>\n",
       "    .dataframe tbody tr th:only-of-type {\n",
       "        vertical-align: middle;\n",
       "    }\n",
       "\n",
       "    .dataframe tbody tr th {\n",
       "        vertical-align: top;\n",
       "    }\n",
       "\n",
       "    .dataframe thead th {\n",
       "        text-align: right;\n",
       "    }\n",
       "</style>\n",
       "<table border=\"1\" class=\"dataframe\">\n",
       "  <thead>\n",
       "    <tr style=\"text-align: right;\">\n",
       "      <th></th>\n",
       "      <th>Contact</th>\n",
       "      <th>Business Phone</th>\n",
       "      <th>Business Phone 2</th>\n",
       "      <th>Home Phone</th>\n",
       "      <th>Home Phone 2</th>\n",
       "      <th>Mobile Phone</th>\n",
       "      <th>Other Phone</th>\n",
       "      <th>E-mail Address</th>\n",
       "      <th>E-mail 2 Address</th>\n",
       "      <th>E-mail 3 Address</th>\n",
       "      <th>Notes</th>\n",
       "    </tr>\n",
       "  </thead>\n",
       "  <tbody>\n",
       "    <tr>\n",
       "      <th>8056</th>\n",
       "      <td>Selma Smith</td>\n",
       "      <td>NaN</td>\n",
       "      <td>NaN</td>\n",
       "      <td>NaN</td>\n",
       "      <td>NaN</td>\n",
       "      <td>NaN</td>\n",
       "      <td>NaN</td>\n",
       "      <td>Alohaselma@yahoo.com</td>\n",
       "      <td>selfiorini@msn.com</td>\n",
       "      <td>selsmith66@yahoo.com</td>\n",
       "      <td>NaN</td>\n",
       "    </tr>\n",
       "  </tbody>\n",
       "</table>\n",
       "</div>"
      ],
      "text/plain": [
       "          Contact Business Phone Business Phone 2 Home Phone Home Phone 2  \\\n",
       "8056  Selma Smith            NaN              NaN        NaN          NaN   \n",
       "\n",
       "     Mobile Phone Other Phone        E-mail Address    E-mail 2 Address  \\\n",
       "8056          NaN         NaN  Alohaselma@yahoo.com  selfiorini@msn.com   \n",
       "\n",
       "          E-mail 3 Address Notes  \n",
       "8056  selsmith66@yahoo.com   NaN  "
      ]
     },
     "execution_count": 215,
     "metadata": {},
     "output_type": "execute_result"
    }
   ],
   "source": [
    "#test -After-:\n",
    "joel[joel['Contact']=='Selma Smith'][imp2]"
   ]
  },
  {
   "cell_type": "markdown",
   "metadata": {},
   "source": [
    "___"
   ]
  },
  {
   "cell_type": "code",
   "execution_count": 235,
   "metadata": {},
   "outputs": [
    {
     "data": {
      "text/html": [
       "<div>\n",
       "<style scoped>\n",
       "    .dataframe tbody tr th:only-of-type {\n",
       "        vertical-align: middle;\n",
       "    }\n",
       "\n",
       "    .dataframe tbody tr th {\n",
       "        vertical-align: top;\n",
       "    }\n",
       "\n",
       "    .dataframe thead th {\n",
       "        text-align: right;\n",
       "    }\n",
       "</style>\n",
       "<table border=\"1\" class=\"dataframe\">\n",
       "  <thead>\n",
       "    <tr style=\"text-align: right;\">\n",
       "      <th></th>\n",
       "      <th>Contact</th>\n",
       "      <th>Business Phone</th>\n",
       "      <th>Business Phone 2</th>\n",
       "      <th>Home Phone</th>\n",
       "      <th>Home Phone 2</th>\n",
       "      <th>Mobile Phone</th>\n",
       "      <th>Other Phone</th>\n",
       "      <th>E-mail Address</th>\n",
       "      <th>E-mail 2 Address</th>\n",
       "      <th>E-mail 3 Address</th>\n",
       "      <th>Notes</th>\n",
       "    </tr>\n",
       "  </thead>\n",
       "  <tbody>\n",
       "    <tr>\n",
       "      <th>2604</th>\n",
       "      <td>Bezerra</td>\n",
       "      <td>(727) 216-7979</td>\n",
       "      <td>NaN</td>\n",
       "      <td>+1 (727) 812-8874</td>\n",
       "      <td>NaN</td>\n",
       "      <td>NaN</td>\n",
       "      <td>NaN</td>\n",
       "      <td>zenilton@tbrazilianpost.com</td>\n",
       "      <td>NaN</td>\n",
       "      <td>NaN</td>\n",
       "      <td>Sunday, September 15, 2013 8:14 PM:\\n&lt;!DOCTYPE...</td>\n",
       "    </tr>\n",
       "    <tr>\n",
       "      <th>3566</th>\n",
       "      <td>Bezerra</td>\n",
       "      <td>(305) 254-6672</td>\n",
       "      <td>NaN</td>\n",
       "      <td>(305) 254-6672</td>\n",
       "      <td>+1 (305) 254-6672</td>\n",
       "      <td>(305) 281-8691</td>\n",
       "      <td>NaN</td>\n",
       "      <td>NaN</td>\n",
       "      <td>NaN</td>\n",
       "      <td>NaN</td>\n",
       "      <td>Sunday, September 15, 2013 8:09 PM:\\n&lt;!DOCTYPE...</td>\n",
       "    </tr>\n",
       "  </tbody>\n",
       "</table>\n",
       "</div>"
      ],
      "text/plain": [
       "       Contact  Business Phone Business Phone 2         Home Phone  \\\n",
       "2604   Bezerra  (727) 216-7979              NaN  +1 (727) 812-8874   \n",
       "3566   Bezerra  (305) 254-6672              NaN     (305) 254-6672   \n",
       "\n",
       "           Home Phone 2    Mobile Phone Other Phone  \\\n",
       "2604                NaN             NaN         NaN   \n",
       "3566  +1 (305) 254-6672  (305) 281-8691         NaN   \n",
       "\n",
       "                   E-mail Address E-mail 2 Address E-mail 3 Address  \\\n",
       "2604  zenilton@tbrazilianpost.com              NaN              NaN   \n",
       "3566                          NaN              NaN              NaN   \n",
       "\n",
       "                                                  Notes  \n",
       "2604  Sunday, September 15, 2013 8:14 PM:\\n<!DOCTYPE...  \n",
       "3566  Sunday, September 15, 2013 8:09 PM:\\n<!DOCTYPE...  "
      ]
     },
     "execution_count": 235,
     "metadata": {},
     "output_type": "execute_result"
    }
   ],
   "source": [
    "#Example -Before-:\n",
    "joel_0[joel_0['Contact']==' Bezerra'][imp2]"
   ]
  },
  {
   "cell_type": "code",
   "execution_count": 107,
   "metadata": {},
   "outputs": [
    {
     "data": {
      "text/html": [
       "<div>\n",
       "<style scoped>\n",
       "    .dataframe tbody tr th:only-of-type {\n",
       "        vertical-align: middle;\n",
       "    }\n",
       "\n",
       "    .dataframe tbody tr th {\n",
       "        vertical-align: top;\n",
       "    }\n",
       "\n",
       "    .dataframe thead th {\n",
       "        text-align: right;\n",
       "    }\n",
       "</style>\n",
       "<table border=\"1\" class=\"dataframe\">\n",
       "  <thead>\n",
       "    <tr style=\"text-align: right;\">\n",
       "      <th></th>\n",
       "      <th>Contact</th>\n",
       "      <th>Business Phone</th>\n",
       "      <th>Business Phone 2</th>\n",
       "      <th>Home Phone</th>\n",
       "      <th>Home Phone 2</th>\n",
       "      <th>Mobile Phone</th>\n",
       "      <th>Other Phone</th>\n",
       "      <th>E-mail Address</th>\n",
       "      <th>E-mail 2 Address</th>\n",
       "      <th>E-mail 3 Address</th>\n",
       "      <th>Notes</th>\n",
       "    </tr>\n",
       "  </thead>\n",
       "  <tbody>\n",
       "    <tr>\n",
       "      <th>2604</th>\n",
       "      <td>Bezerra</td>\n",
       "      <td>(727) 216-7979</td>\n",
       "      <td>NaN</td>\n",
       "      <td>+1 (727) 812-8874</td>\n",
       "      <td>NaN</td>\n",
       "      <td>NaN</td>\n",
       "      <td>NaN</td>\n",
       "      <td>zenilton@tbrazilianpost.com</td>\n",
       "      <td>NaN</td>\n",
       "      <td>NaN</td>\n",
       "      <td>Sunday, September 15, 2013 8:14 PM:\\n&lt;!DOCTYPE...</td>\n",
       "    </tr>\n",
       "    <tr>\n",
       "      <th>3566</th>\n",
       "      <td>Bezerra</td>\n",
       "      <td>(305) 254-6672</td>\n",
       "      <td>NaN</td>\n",
       "      <td>(305) 254-6672</td>\n",
       "      <td>+1 (305) 254-6672</td>\n",
       "      <td>(305) 281-8691</td>\n",
       "      <td>NaN</td>\n",
       "      <td>NaN</td>\n",
       "      <td>NaN</td>\n",
       "      <td>NaN</td>\n",
       "      <td>Sunday, September 15, 2013 8:09 PM:\\n&lt;!DOCTYPE...</td>\n",
       "    </tr>\n",
       "  </tbody>\n",
       "</table>\n",
       "</div>"
      ],
      "text/plain": [
       "       Contact  Business Phone Business Phone 2         Home Phone  \\\n",
       "2604   Bezerra  (727) 216-7979              NaN  +1 (727) 812-8874   \n",
       "3566   Bezerra  (305) 254-6672              NaN     (305) 254-6672   \n",
       "\n",
       "           Home Phone 2    Mobile Phone Other Phone  \\\n",
       "2604                NaN             NaN         NaN   \n",
       "3566  +1 (305) 254-6672  (305) 281-8691         NaN   \n",
       "\n",
       "                   E-mail Address E-mail 2 Address E-mail 3 Address  \\\n",
       "2604  zenilton@tbrazilianpost.com              NaN              NaN   \n",
       "3566                          NaN              NaN              NaN   \n",
       "\n",
       "                                                  Notes  \n",
       "2604  Sunday, September 15, 2013 8:14 PM:\\n<!DOCTYPE...  \n",
       "3566  Sunday, September 15, 2013 8:09 PM:\\n<!DOCTYPE...  "
      ]
     },
     "execution_count": 107,
     "metadata": {},
     "output_type": "execute_result"
    }
   ],
   "source": [
    "#Example -After-:\n",
    "joel[joel['Contact']==' Bezerra'][imp2]"
   ]
  },
  {
   "cell_type": "markdown",
   "metadata": {},
   "source": [
    "___"
   ]
  },
  {
   "cell_type": "code",
   "execution_count": 218,
   "metadata": {},
   "outputs": [
    {
     "data": {
      "text/html": [
       "<div>\n",
       "<style scoped>\n",
       "    .dataframe tbody tr th:only-of-type {\n",
       "        vertical-align: middle;\n",
       "    }\n",
       "\n",
       "    .dataframe tbody tr th {\n",
       "        vertical-align: top;\n",
       "    }\n",
       "\n",
       "    .dataframe thead th {\n",
       "        text-align: right;\n",
       "    }\n",
       "</style>\n",
       "<table border=\"1\" class=\"dataframe\">\n",
       "  <thead>\n",
       "    <tr style=\"text-align: right;\">\n",
       "      <th></th>\n",
       "      <th>Contact</th>\n",
       "      <th>Business Phone</th>\n",
       "      <th>Business Phone 2</th>\n",
       "      <th>Home Phone</th>\n",
       "      <th>Home Phone 2</th>\n",
       "      <th>Mobile Phone</th>\n",
       "      <th>Other Phone</th>\n",
       "      <th>E-mail Address</th>\n",
       "      <th>E-mail 2 Address</th>\n",
       "      <th>E-mail 3 Address</th>\n",
       "      <th>Notes</th>\n",
       "    </tr>\n",
       "  </thead>\n",
       "  <tbody>\n",
       "    <tr>\n",
       "      <th>5427</th>\n",
       "      <td>Victor Hugo</td>\n",
       "      <td>NaN</td>\n",
       "      <td>NaN</td>\n",
       "      <td>4075484101</td>\n",
       "      <td>NaN</td>\n",
       "      <td>NaN</td>\n",
       "      <td>NaN</td>\n",
       "      <td>NaN</td>\n",
       "      <td>NaN</td>\n",
       "      <td>NaN</td>\n",
       "      <td>Colega Guilherme.</td>\n",
       "    </tr>\n",
       "    <tr>\n",
       "      <th>6055</th>\n",
       "      <td>Victor Hugo</td>\n",
       "      <td>NaN</td>\n",
       "      <td>NaN</td>\n",
       "      <td>+55 24 99925-5410</td>\n",
       "      <td>NaN</td>\n",
       "      <td>NaN</td>\n",
       "      <td>NaN</td>\n",
       "      <td>NaN</td>\n",
       "      <td>NaN</td>\n",
       "      <td>NaN</td>\n",
       "      <td>NaN</td>\n",
       "    </tr>\n",
       "  </tbody>\n",
       "</table>\n",
       "</div>"
      ],
      "text/plain": [
       "          Contact Business Phone Business Phone 2         Home Phone  \\\n",
       "5427  Victor Hugo            NaN              NaN         4075484101   \n",
       "6055  Victor Hugo            NaN              NaN  +55 24 99925-5410   \n",
       "\n",
       "     Home Phone 2 Mobile Phone Other Phone E-mail Address E-mail 2 Address  \\\n",
       "5427          NaN          NaN         NaN            NaN              NaN   \n",
       "6055          NaN          NaN         NaN            NaN              NaN   \n",
       "\n",
       "     E-mail 3 Address               Notes  \n",
       "5427              NaN  Colega Guilherme.   \n",
       "6055              NaN                 NaN  "
      ]
     },
     "execution_count": 218,
     "metadata": {},
     "output_type": "execute_result"
    }
   ],
   "source": [
    "#Example -Before-:\n",
    "joel_0[joel_0['Contact']=='Victor Hugo'][imp2]"
   ]
  },
  {
   "cell_type": "code",
   "execution_count": 219,
   "metadata": {},
   "outputs": [
    {
     "data": {
      "text/html": [
       "<div>\n",
       "<style scoped>\n",
       "    .dataframe tbody tr th:only-of-type {\n",
       "        vertical-align: middle;\n",
       "    }\n",
       "\n",
       "    .dataframe tbody tr th {\n",
       "        vertical-align: top;\n",
       "    }\n",
       "\n",
       "    .dataframe thead th {\n",
       "        text-align: right;\n",
       "    }\n",
       "</style>\n",
       "<table border=\"1\" class=\"dataframe\">\n",
       "  <thead>\n",
       "    <tr style=\"text-align: right;\">\n",
       "      <th></th>\n",
       "      <th>Contact</th>\n",
       "      <th>Business Phone</th>\n",
       "      <th>Business Phone 2</th>\n",
       "      <th>Home Phone</th>\n",
       "      <th>Home Phone 2</th>\n",
       "      <th>Mobile Phone</th>\n",
       "      <th>Other Phone</th>\n",
       "      <th>E-mail Address</th>\n",
       "      <th>E-mail 2 Address</th>\n",
       "      <th>E-mail 3 Address</th>\n",
       "      <th>Notes</th>\n",
       "    </tr>\n",
       "  </thead>\n",
       "  <tbody>\n",
       "    <tr>\n",
       "      <th>4715</th>\n",
       "      <td>Victor Hugo</td>\n",
       "      <td>NaN</td>\n",
       "      <td>NaN</td>\n",
       "      <td>4075484101</td>\n",
       "      <td>+55 24 99925-5410</td>\n",
       "      <td>NaN</td>\n",
       "      <td>NaN</td>\n",
       "      <td>NaN</td>\n",
       "      <td>NaN</td>\n",
       "      <td>NaN</td>\n",
       "      <td>Colega Guilherme.</td>\n",
       "    </tr>\n",
       "  </tbody>\n",
       "</table>\n",
       "</div>"
      ],
      "text/plain": [
       "          Contact Business Phone Business Phone 2  Home Phone  \\\n",
       "4715  Victor Hugo            NaN              NaN  4075484101   \n",
       "\n",
       "           Home Phone 2 Mobile Phone Other Phone E-mail Address  \\\n",
       "4715  +55 24 99925-5410          NaN         NaN            NaN   \n",
       "\n",
       "     E-mail 2 Address E-mail 3 Address               Notes  \n",
       "4715              NaN              NaN  Colega Guilherme.   "
      ]
     },
     "execution_count": 219,
     "metadata": {},
     "output_type": "execute_result"
    }
   ],
   "source": [
    "#Example -After-:\n",
    "joel[joel['Contact']=='Victor Hugo'][imp2]"
   ]
  },
  {
   "cell_type": "markdown",
   "metadata": {},
   "source": [
    "___"
   ]
  },
  {
   "cell_type": "code",
   "execution_count": 220,
   "metadata": {},
   "outputs": [
    {
     "data": {
      "text/html": [
       "<div>\n",
       "<style scoped>\n",
       "    .dataframe tbody tr th:only-of-type {\n",
       "        vertical-align: middle;\n",
       "    }\n",
       "\n",
       "    .dataframe tbody tr th {\n",
       "        vertical-align: top;\n",
       "    }\n",
       "\n",
       "    .dataframe thead th {\n",
       "        text-align: right;\n",
       "    }\n",
       "</style>\n",
       "<table border=\"1\" class=\"dataframe\">\n",
       "  <thead>\n",
       "    <tr style=\"text-align: right;\">\n",
       "      <th></th>\n",
       "      <th>Contact</th>\n",
       "      <th>Business Phone</th>\n",
       "      <th>Business Phone 2</th>\n",
       "      <th>Home Phone</th>\n",
       "      <th>Home Phone 2</th>\n",
       "      <th>Mobile Phone</th>\n",
       "      <th>Other Phone</th>\n",
       "      <th>E-mail Address</th>\n",
       "      <th>E-mail 2 Address</th>\n",
       "      <th>E-mail 3 Address</th>\n",
       "      <th>Notes</th>\n",
       "    </tr>\n",
       "  </thead>\n",
       "  <tbody>\n",
       "    <tr>\n",
       "      <th>706</th>\n",
       "      <td>Maria Abreu</td>\n",
       "      <td>NaN</td>\n",
       "      <td>NaN</td>\n",
       "      <td>NaN</td>\n",
       "      <td>NaN</td>\n",
       "      <td>(786) 599-7994</td>\n",
       "      <td>NaN</td>\n",
       "      <td>DAbreu@globalgbi.com</td>\n",
       "      <td>NaN</td>\n",
       "      <td>NaN</td>\n",
       "      <td>My address is: 11503 NW 89th St, Unit 109, Dor...</td>\n",
       "    </tr>\n",
       "    <tr>\n",
       "      <th>7685</th>\n",
       "      <td>Maria Abreu</td>\n",
       "      <td>NaN</td>\n",
       "      <td>NaN</td>\n",
       "      <td>NaN</td>\n",
       "      <td>NaN</td>\n",
       "      <td>+1 (407) 963-8598</td>\n",
       "      <td>NaN</td>\n",
       "      <td>NaN</td>\n",
       "      <td>NaN</td>\n",
       "      <td>NaN</td>\n",
       "      <td>Sunday, September 15, 2013 7:19 PM:\\nMaria Ang...</td>\n",
       "    </tr>\n",
       "  </tbody>\n",
       "</table>\n",
       "</div>"
      ],
      "text/plain": [
       "          Contact Business Phone Business Phone 2 Home Phone Home Phone 2  \\\n",
       "706   Maria Abreu            NaN              NaN        NaN          NaN   \n",
       "7685  Maria Abreu            NaN              NaN        NaN          NaN   \n",
       "\n",
       "           Mobile Phone Other Phone        E-mail Address E-mail 2 Address  \\\n",
       "706      (786) 599-7994         NaN  DAbreu@globalgbi.com              NaN   \n",
       "7685  +1 (407) 963-8598         NaN                   NaN              NaN   \n",
       "\n",
       "     E-mail 3 Address                                              Notes  \n",
       "706               NaN  My address is: 11503 NW 89th St, Unit 109, Dor...  \n",
       "7685              NaN  Sunday, September 15, 2013 7:19 PM:\\nMaria Ang...  "
      ]
     },
     "execution_count": 220,
     "metadata": {},
     "output_type": "execute_result"
    }
   ],
   "source": [
    "#Example -Before-:\n",
    "joel_0[joel_0['Contact']=='Maria Abreu'][imp2]"
   ]
  },
  {
   "cell_type": "code",
   "execution_count": 221,
   "metadata": {},
   "outputs": [
    {
     "data": {
      "text/html": [
       "<div>\n",
       "<style scoped>\n",
       "    .dataframe tbody tr th:only-of-type {\n",
       "        vertical-align: middle;\n",
       "    }\n",
       "\n",
       "    .dataframe tbody tr th {\n",
       "        vertical-align: top;\n",
       "    }\n",
       "\n",
       "    .dataframe thead th {\n",
       "        text-align: right;\n",
       "    }\n",
       "</style>\n",
       "<table border=\"1\" class=\"dataframe\">\n",
       "  <thead>\n",
       "    <tr style=\"text-align: right;\">\n",
       "      <th></th>\n",
       "      <th>Contact</th>\n",
       "      <th>Business Phone</th>\n",
       "      <th>Business Phone 2</th>\n",
       "      <th>Home Phone</th>\n",
       "      <th>Home Phone 2</th>\n",
       "      <th>Mobile Phone</th>\n",
       "      <th>Other Phone</th>\n",
       "      <th>E-mail Address</th>\n",
       "      <th>E-mail 2 Address</th>\n",
       "      <th>E-mail 3 Address</th>\n",
       "      <th>Notes</th>\n",
       "    </tr>\n",
       "  </thead>\n",
       "  <tbody>\n",
       "  </tbody>\n",
       "</table>\n",
       "</div>"
      ],
      "text/plain": [
       "Empty DataFrame\n",
       "Columns: [Contact, Business Phone, Business Phone 2, Home Phone, Home Phone 2, Mobile Phone, Other Phone, E-mail Address, E-mail 2 Address, E-mail 3 Address, Notes]\n",
       "Index: []"
      ]
     },
     "execution_count": 221,
     "metadata": {},
     "output_type": "execute_result"
    }
   ],
   "source": [
    "#Example -After-:\n",
    "joel[joel['Contact']=='Maria Abreu'][imp2]"
   ]
  },
  {
   "cell_type": "code",
   "execution_count": 222,
   "metadata": {},
   "outputs": [
    {
     "data": {
      "text/plain": [
       "'Sunday, September 15, 2013 7:50 PM:\\n<!DOCTYPE HTML PUBLIC \"-//W3C//DTD HTML 3.2//EN\">\\n<HTML>\\n<HEAD>\\n<META HTTP-EQUIV=\"Content-Type\" CONTENT=\"text/html; charset=iso-8859-1\">\\n<META NAME=\"Generator\" CONTENT=\"MS Exchange Server version rmj.rmm.rup.rpr\">\\n<TITL'"
      ]
     },
     "execution_count": 222,
     "metadata": {},
     "output_type": "execute_result"
    }
   ],
   "source": [
    "joel.loc[706,'Notes']"
   ]
  },
  {
   "cell_type": "markdown",
   "metadata": {},
   "source": [
    "____"
   ]
  },
  {
   "cell_type": "code",
   "execution_count": 223,
   "metadata": {},
   "outputs": [
    {
     "data": {
      "text/html": [
       "<div>\n",
       "<style scoped>\n",
       "    .dataframe tbody tr th:only-of-type {\n",
       "        vertical-align: middle;\n",
       "    }\n",
       "\n",
       "    .dataframe tbody tr th {\n",
       "        vertical-align: top;\n",
       "    }\n",
       "\n",
       "    .dataframe thead th {\n",
       "        text-align: right;\n",
       "    }\n",
       "</style>\n",
       "<table border=\"1\" class=\"dataframe\">\n",
       "  <thead>\n",
       "    <tr style=\"text-align: right;\">\n",
       "      <th></th>\n",
       "      <th>Contact</th>\n",
       "      <th>Business Phone</th>\n",
       "      <th>Business Phone 2</th>\n",
       "      <th>Home Phone</th>\n",
       "      <th>Home Phone 2</th>\n",
       "      <th>Mobile Phone</th>\n",
       "      <th>Other Phone</th>\n",
       "      <th>E-mail Address</th>\n",
       "      <th>E-mail 2 Address</th>\n",
       "      <th>E-mail 3 Address</th>\n",
       "      <th>Notes</th>\n",
       "    </tr>\n",
       "  </thead>\n",
       "  <tbody>\n",
       "    <tr>\n",
       "      <th>2167</th>\n",
       "      <td>Arruda</td>\n",
       "      <td>(305) 801-9035</td>\n",
       "      <td>NaN</td>\n",
       "      <td>(786) 521-2038</td>\n",
       "      <td>NaN</td>\n",
       "      <td>NaN</td>\n",
       "      <td>NaN</td>\n",
       "      <td>arruda@itamaraty.gov.br</td>\n",
       "      <td>NaN</td>\n",
       "      <td>fernando.arruda@gmail.com</td>\n",
       "      <td>NaN</td>\n",
       "    </tr>\n",
       "    <tr>\n",
       "      <th>2642</th>\n",
       "      <td>Arruda</td>\n",
       "      <td>(305) 285-6222</td>\n",
       "      <td>NaN</td>\n",
       "      <td>(786) 521-2038</td>\n",
       "      <td>NaN</td>\n",
       "      <td>(786) 350-5791</td>\n",
       "      <td>NaN</td>\n",
       "      <td>fernando.arruda@itamaraty.gov.br</td>\n",
       "      <td>Fernando.Arruda@itamaraty.gov.br</td>\n",
       "      <td>NaN</td>\n",
       "      <td>Sunday, September 15, 2013 7:50 PM:\\n\\n-------...</td>\n",
       "    </tr>\n",
       "    <tr>\n",
       "      <th>4872</th>\n",
       "      <td>Arruda</td>\n",
       "      <td>21 21047256</td>\n",
       "      <td>NaN</td>\n",
       "      <td>NaN</td>\n",
       "      <td>NaN</td>\n",
       "      <td>NaN</td>\n",
       "      <td>NaN</td>\n",
       "      <td>u27comandante@yahoo.com.br</td>\n",
       "      <td>NaN</td>\n",
       "      <td>NaN</td>\n",
       "      <td>NaN</td>\n",
       "    </tr>\n",
       "  </tbody>\n",
       "</table>\n",
       "</div>"
      ],
      "text/plain": [
       "      Contact  Business Phone Business Phone 2      Home Phone Home Phone 2  \\\n",
       "2167   Arruda  (305) 801-9035              NaN  (786) 521-2038          NaN   \n",
       "2642   Arruda  (305) 285-6222              NaN  (786) 521-2038          NaN   \n",
       "4872   Arruda     21 21047256              NaN             NaN          NaN   \n",
       "\n",
       "        Mobile Phone Other Phone                    E-mail Address  \\\n",
       "2167             NaN         NaN           arruda@itamaraty.gov.br   \n",
       "2642  (786) 350-5791         NaN  fernando.arruda@itamaraty.gov.br   \n",
       "4872             NaN         NaN        u27comandante@yahoo.com.br   \n",
       "\n",
       "                      E-mail 2 Address           E-mail 3 Address  \\\n",
       "2167                               NaN  fernando.arruda@gmail.com   \n",
       "2642  Fernando.Arruda@itamaraty.gov.br                        NaN   \n",
       "4872                               NaN                        NaN   \n",
       "\n",
       "                                                  Notes  \n",
       "2167                                                NaN  \n",
       "2642  Sunday, September 15, 2013 7:50 PM:\\n\\n-------...  \n",
       "4872                                                NaN  "
      ]
     },
     "execution_count": 223,
     "metadata": {},
     "output_type": "execute_result"
    }
   ],
   "source": [
    "#test -Before-:\n",
    "joel_0[joel_0['Contact']==' Arruda'][imp2]"
   ]
  },
  {
   "cell_type": "code",
   "execution_count": 224,
   "metadata": {},
   "outputs": [
    {
     "data": {
      "text/html": [
       "<div>\n",
       "<style scoped>\n",
       "    .dataframe tbody tr th:only-of-type {\n",
       "        vertical-align: middle;\n",
       "    }\n",
       "\n",
       "    .dataframe tbody tr th {\n",
       "        vertical-align: top;\n",
       "    }\n",
       "\n",
       "    .dataframe thead th {\n",
       "        text-align: right;\n",
       "    }\n",
       "</style>\n",
       "<table border=\"1\" class=\"dataframe\">\n",
       "  <thead>\n",
       "    <tr style=\"text-align: right;\">\n",
       "      <th></th>\n",
       "      <th>Contact</th>\n",
       "      <th>Business Phone</th>\n",
       "      <th>Business Phone 2</th>\n",
       "      <th>Home Phone</th>\n",
       "      <th>Home Phone 2</th>\n",
       "      <th>Mobile Phone</th>\n",
       "      <th>Other Phone</th>\n",
       "      <th>E-mail Address</th>\n",
       "      <th>E-mail 2 Address</th>\n",
       "      <th>E-mail 3 Address</th>\n",
       "      <th>Notes</th>\n",
       "    </tr>\n",
       "  </thead>\n",
       "  <tbody>\n",
       "    <tr>\n",
       "      <th>1926</th>\n",
       "      <td>Arruda</td>\n",
       "      <td>(305) 285-6222</td>\n",
       "      <td>(305) 801-9035</td>\n",
       "      <td>(786) 521-2038</td>\n",
       "      <td>NaN</td>\n",
       "      <td>(786) 350-5791</td>\n",
       "      <td>NaN</td>\n",
       "      <td>fernando.arruda@itamaraty.gov.br</td>\n",
       "      <td>arruda@itamaraty.gov.br</td>\n",
       "      <td>fernando.arruda@gmail.com</td>\n",
       "      <td>Sunday, September 15, 2013 7:50 PM:\\n\\n-------...</td>\n",
       "    </tr>\n",
       "  </tbody>\n",
       "</table>\n",
       "</div>"
      ],
      "text/plain": [
       "      Contact  Business Phone Business Phone 2      Home Phone Home Phone 2  \\\n",
       "1926   Arruda  (305) 285-6222   (305) 801-9035  (786) 521-2038          NaN   \n",
       "\n",
       "        Mobile Phone Other Phone                    E-mail Address  \\\n",
       "1926  (786) 350-5791         NaN  fernando.arruda@itamaraty.gov.br   \n",
       "\n",
       "             E-mail 2 Address           E-mail 3 Address  \\\n",
       "1926  arruda@itamaraty.gov.br  fernando.arruda@gmail.com   \n",
       "\n",
       "                                                  Notes  \n",
       "1926  Sunday, September 15, 2013 7:50 PM:\\n\\n-------...  "
      ]
     },
     "execution_count": 224,
     "metadata": {},
     "output_type": "execute_result"
    }
   ],
   "source": [
    "#test -After-:\n",
    "joel[joel['Contact']==' Arruda'][imp2]"
   ]
  },
  {
   "cell_type": "markdown",
   "metadata": {},
   "source": [
    "___"
   ]
  },
  {
   "cell_type": "code",
   "execution_count": 225,
   "metadata": {},
   "outputs": [
    {
     "data": {
      "text/html": [
       "<div>\n",
       "<style scoped>\n",
       "    .dataframe tbody tr th:only-of-type {\n",
       "        vertical-align: middle;\n",
       "    }\n",
       "\n",
       "    .dataframe tbody tr th {\n",
       "        vertical-align: top;\n",
       "    }\n",
       "\n",
       "    .dataframe thead th {\n",
       "        text-align: right;\n",
       "    }\n",
       "</style>\n",
       "<table border=\"1\" class=\"dataframe\">\n",
       "  <thead>\n",
       "    <tr style=\"text-align: right;\">\n",
       "      <th></th>\n",
       "      <th>Contact</th>\n",
       "      <th>Business Phone</th>\n",
       "      <th>Business Phone 2</th>\n",
       "      <th>Home Phone</th>\n",
       "      <th>Home Phone 2</th>\n",
       "      <th>Mobile Phone</th>\n",
       "      <th>Other Phone</th>\n",
       "      <th>E-mail Address</th>\n",
       "      <th>E-mail 2 Address</th>\n",
       "      <th>E-mail 3 Address</th>\n",
       "      <th>Notes</th>\n",
       "    </tr>\n",
       "  </thead>\n",
       "  <tbody>\n",
       "    <tr>\n",
       "      <th>146</th>\n",
       "      <td>Valentin Samorukov</td>\n",
       "      <td>NaN</td>\n",
       "      <td>NaN</td>\n",
       "      <td>NaN</td>\n",
       "      <td>NaN</td>\n",
       "      <td>011 7 916 801-19-10</td>\n",
       "      <td>NaN</td>\n",
       "      <td>val.samorukov@gmail.com</td>\n",
       "      <td>NaN</td>\n",
       "      <td>NaN</td>\n",
       "      <td>NaN</td>\n",
       "    </tr>\n",
       "    <tr>\n",
       "      <th>5658</th>\n",
       "      <td>Valentin Samorukov</td>\n",
       "      <td>NaN</td>\n",
       "      <td>NaN</td>\n",
       "      <td>NaN</td>\n",
       "      <td>NaN</td>\n",
       "      <td>+1 954-274-3671</td>\n",
       "      <td>NaN</td>\n",
       "      <td>NaN</td>\n",
       "      <td>NaN</td>\n",
       "      <td>NaN</td>\n",
       "      <td>Nadezhda</td>\n",
       "    </tr>\n",
       "    <tr>\n",
       "      <th>6706</th>\n",
       "      <td>Valentin Samorukov</td>\n",
       "      <td>NaN</td>\n",
       "      <td>NaN</td>\n",
       "      <td>NaN</td>\n",
       "      <td>NaN</td>\n",
       "      <td>(786) 201-6169</td>\n",
       "      <td>NaN</td>\n",
       "      <td>samorucorp@mail.ru</td>\n",
       "      <td>NaN</td>\n",
       "      <td>NaN</td>\n",
       "      <td>NaN</td>\n",
       "    </tr>\n",
       "  </tbody>\n",
       "</table>\n",
       "</div>"
      ],
      "text/plain": [
       "                 Contact Business Phone Business Phone 2 Home Phone  \\\n",
       "146   Valentin Samorukov            NaN              NaN        NaN   \n",
       "5658  Valentin Samorukov            NaN              NaN        NaN   \n",
       "6706  Valentin Samorukov            NaN              NaN        NaN   \n",
       "\n",
       "     Home Phone 2         Mobile Phone Other Phone           E-mail Address  \\\n",
       "146           NaN  011 7 916 801-19-10         NaN  val.samorukov@gmail.com   \n",
       "5658          NaN      +1 954-274-3671         NaN                      NaN   \n",
       "6706          NaN       (786) 201-6169         NaN       samorucorp@mail.ru   \n",
       "\n",
       "     E-mail 2 Address E-mail 3 Address     Notes  \n",
       "146               NaN              NaN       NaN  \n",
       "5658              NaN              NaN  Nadezhda  \n",
       "6706              NaN              NaN       NaN  "
      ]
     },
     "execution_count": 225,
     "metadata": {},
     "output_type": "execute_result"
    }
   ],
   "source": [
    "# Test: Before\n",
    "joel_0[joel_0['Contact'].isin(['Valentin Samorukov'])][imp2].sort_values('Contact')"
   ]
  },
  {
   "cell_type": "code",
   "execution_count": 226,
   "metadata": {},
   "outputs": [
    {
     "data": {
      "text/html": [
       "<div>\n",
       "<style scoped>\n",
       "    .dataframe tbody tr th:only-of-type {\n",
       "        vertical-align: middle;\n",
       "    }\n",
       "\n",
       "    .dataframe tbody tr th {\n",
       "        vertical-align: top;\n",
       "    }\n",
       "\n",
       "    .dataframe thead th {\n",
       "        text-align: right;\n",
       "    }\n",
       "</style>\n",
       "<table border=\"1\" class=\"dataframe\">\n",
       "  <thead>\n",
       "    <tr style=\"text-align: right;\">\n",
       "      <th></th>\n",
       "      <th>Contact</th>\n",
       "      <th>Business Phone</th>\n",
       "      <th>Business Phone 2</th>\n",
       "      <th>Home Phone</th>\n",
       "      <th>Home Phone 2</th>\n",
       "      <th>Mobile Phone</th>\n",
       "      <th>Other Phone</th>\n",
       "      <th>E-mail Address</th>\n",
       "      <th>E-mail 2 Address</th>\n",
       "      <th>E-mail 3 Address</th>\n",
       "      <th>Notes</th>\n",
       "    </tr>\n",
       "  </thead>\n",
       "  <tbody>\n",
       "    <tr>\n",
       "      <th>5998</th>\n",
       "      <td>Valentin Samorukov</td>\n",
       "      <td>NaN</td>\n",
       "      <td>011 7 916 801-19-10</td>\n",
       "      <td>NaN</td>\n",
       "      <td>NaN</td>\n",
       "      <td>(786) 201-6169</td>\n",
       "      <td>+1 954-274-3671</td>\n",
       "      <td>samorucorp@mail.ru</td>\n",
       "      <td>val.samorukov@gmail.com</td>\n",
       "      <td>NaN</td>\n",
       "      <td>Nadezhda|</td>\n",
       "    </tr>\n",
       "  </tbody>\n",
       "</table>\n",
       "</div>"
      ],
      "text/plain": [
       "                 Contact Business Phone     Business Phone 2 Home Phone  \\\n",
       "5998  Valentin Samorukov            NaN  011 7 916 801-19-10        NaN   \n",
       "\n",
       "     Home Phone 2    Mobile Phone      Other Phone      E-mail Address  \\\n",
       "5998          NaN  (786) 201-6169  +1 954-274-3671  samorucorp@mail.ru   \n",
       "\n",
       "             E-mail 2 Address E-mail 3 Address         Notes  \n",
       "5998  val.samorukov@gmail.com              NaN    Nadezhda|   "
      ]
     },
     "execution_count": 226,
     "metadata": {},
     "output_type": "execute_result"
    }
   ],
   "source": [
    "# Test: After\n",
    "joel[joel['Contact'].isin(['Valentin Samorukov'])][imp2].sort_values('Contact')"
   ]
  },
  {
   "cell_type": "markdown",
   "metadata": {},
   "source": [
    "____"
   ]
  },
  {
   "cell_type": "code",
   "execution_count": 227,
   "metadata": {},
   "outputs": [
    {
     "data": {
      "text/html": [
       "<div>\n",
       "<style scoped>\n",
       "    .dataframe tbody tr th:only-of-type {\n",
       "        vertical-align: middle;\n",
       "    }\n",
       "\n",
       "    .dataframe tbody tr th {\n",
       "        vertical-align: top;\n",
       "    }\n",
       "\n",
       "    .dataframe thead th {\n",
       "        text-align: right;\n",
       "    }\n",
       "</style>\n",
       "<table border=\"1\" class=\"dataframe\">\n",
       "  <thead>\n",
       "    <tr style=\"text-align: right;\">\n",
       "      <th></th>\n",
       "      <th>Contact</th>\n",
       "      <th>Business Phone</th>\n",
       "      <th>Business Phone 2</th>\n",
       "      <th>Home Phone</th>\n",
       "      <th>Home Phone 2</th>\n",
       "      <th>Mobile Phone</th>\n",
       "      <th>Other Phone</th>\n",
       "      <th>E-mail Address</th>\n",
       "      <th>E-mail 2 Address</th>\n",
       "      <th>E-mail 3 Address</th>\n",
       "      <th>Notes</th>\n",
       "    </tr>\n",
       "  </thead>\n",
       "  <tbody>\n",
       "    <tr>\n",
       "      <th>2403</th>\n",
       "      <td>Alcantara</td>\n",
       "      <td>NaN</td>\n",
       "      <td>NaN</td>\n",
       "      <td>NaN</td>\n",
       "      <td>NaN</td>\n",
       "      <td>NaN</td>\n",
       "      <td>NaN</td>\n",
       "      <td>tony@commtogo.com</td>\n",
       "      <td>NaN</td>\n",
       "      <td>NaN</td>\n",
       "      <td>Sunday, September 15, 2013 8:07 PM:\\nWednesday...</td>\n",
       "    </tr>\n",
       "    <tr>\n",
       "      <th>4624</th>\n",
       "      <td>Alcantara</td>\n",
       "      <td>NaN</td>\n",
       "      <td>NaN</td>\n",
       "      <td>NaN</td>\n",
       "      <td>NaN</td>\n",
       "      <td>(904) 759-0478</td>\n",
       "      <td>NaN</td>\n",
       "      <td>wellingtonalc@hotmaiol.com</td>\n",
       "      <td>NaN</td>\n",
       "      <td>NaN</td>\n",
       "      <td>NaN</td>\n",
       "    </tr>\n",
       "  </tbody>\n",
       "</table>\n",
       "</div>"
      ],
      "text/plain": [
       "         Contact Business Phone Business Phone 2 Home Phone Home Phone 2  \\\n",
       "2403   Alcantara            NaN              NaN        NaN          NaN   \n",
       "4624   Alcantara            NaN              NaN        NaN          NaN   \n",
       "\n",
       "        Mobile Phone Other Phone              E-mail Address E-mail 2 Address  \\\n",
       "2403             NaN         NaN           tony@commtogo.com              NaN   \n",
       "4624  (904) 759-0478         NaN  wellingtonalc@hotmaiol.com              NaN   \n",
       "\n",
       "     E-mail 3 Address                                              Notes  \n",
       "2403              NaN  Sunday, September 15, 2013 8:07 PM:\\nWednesday...  \n",
       "4624              NaN                                                NaN  "
      ]
     },
     "execution_count": 227,
     "metadata": {},
     "output_type": "execute_result"
    }
   ],
   "source": [
    "# Test -Before-:\n",
    "joel_0[joel_0['Contact']==' Alcantara'][imp2]"
   ]
  },
  {
   "cell_type": "code",
   "execution_count": 228,
   "metadata": {},
   "outputs": [
    {
     "data": {
      "text/html": [
       "<div>\n",
       "<style scoped>\n",
       "    .dataframe tbody tr th:only-of-type {\n",
       "        vertical-align: middle;\n",
       "    }\n",
       "\n",
       "    .dataframe tbody tr th {\n",
       "        vertical-align: top;\n",
       "    }\n",
       "\n",
       "    .dataframe thead th {\n",
       "        text-align: right;\n",
       "    }\n",
       "</style>\n",
       "<table border=\"1\" class=\"dataframe\">\n",
       "  <thead>\n",
       "    <tr style=\"text-align: right;\">\n",
       "      <th></th>\n",
       "      <th>Contact</th>\n",
       "      <th>Business Phone</th>\n",
       "      <th>Business Phone 2</th>\n",
       "      <th>Home Phone</th>\n",
       "      <th>Home Phone 2</th>\n",
       "      <th>Mobile Phone</th>\n",
       "      <th>Other Phone</th>\n",
       "      <th>E-mail Address</th>\n",
       "      <th>E-mail 2 Address</th>\n",
       "      <th>E-mail 3 Address</th>\n",
       "      <th>Notes</th>\n",
       "    </tr>\n",
       "  </thead>\n",
       "  <tbody>\n",
       "    <tr>\n",
       "      <th>1687</th>\n",
       "      <td>Alcantara</td>\n",
       "      <td>NaN</td>\n",
       "      <td>NaN</td>\n",
       "      <td>NaN</td>\n",
       "      <td>NaN</td>\n",
       "      <td>(904) 759-0478</td>\n",
       "      <td>NaN</td>\n",
       "      <td>tony@commtogo.com</td>\n",
       "      <td>wellingtonalc@hotmaiol.com</td>\n",
       "      <td>NaN</td>\n",
       "      <td>Sunday, September 15, 2013 8:07 PM:\\nWednesday...</td>\n",
       "    </tr>\n",
       "  </tbody>\n",
       "</table>\n",
       "</div>"
      ],
      "text/plain": [
       "         Contact Business Phone Business Phone 2 Home Phone Home Phone 2  \\\n",
       "1687   Alcantara            NaN              NaN        NaN          NaN   \n",
       "\n",
       "        Mobile Phone Other Phone     E-mail Address  \\\n",
       "1687  (904) 759-0478         NaN  tony@commtogo.com   \n",
       "\n",
       "                E-mail 2 Address E-mail 3 Address  \\\n",
       "1687  wellingtonalc@hotmaiol.com              NaN   \n",
       "\n",
       "                                                  Notes  \n",
       "1687  Sunday, September 15, 2013 8:07 PM:\\nWednesday...  "
      ]
     },
     "execution_count": 228,
     "metadata": {},
     "output_type": "execute_result"
    }
   ],
   "source": [
    "# Test -After-:\n",
    "joel[joel['Contact']==' Alcantara'][imp2]"
   ]
  },
  {
   "cell_type": "markdown",
   "metadata": {},
   "source": [
    "___"
   ]
  },
  {
   "cell_type": "code",
   "execution_count": 229,
   "metadata": {},
   "outputs": [
    {
     "data": {
      "text/html": [
       "<div>\n",
       "<style scoped>\n",
       "    .dataframe tbody tr th:only-of-type {\n",
       "        vertical-align: middle;\n",
       "    }\n",
       "\n",
       "    .dataframe tbody tr th {\n",
       "        vertical-align: top;\n",
       "    }\n",
       "\n",
       "    .dataframe thead th {\n",
       "        text-align: right;\n",
       "    }\n",
       "</style>\n",
       "<table border=\"1\" class=\"dataframe\">\n",
       "  <thead>\n",
       "    <tr style=\"text-align: right;\">\n",
       "      <th></th>\n",
       "      <th>Contact</th>\n",
       "      <th>Business Phone</th>\n",
       "      <th>Business Phone 2</th>\n",
       "      <th>Home Phone</th>\n",
       "      <th>Home Phone 2</th>\n",
       "      <th>Mobile Phone</th>\n",
       "      <th>Other Phone</th>\n",
       "      <th>E-mail Address</th>\n",
       "      <th>E-mail 2 Address</th>\n",
       "      <th>E-mail 3 Address</th>\n",
       "      <th>Notes</th>\n",
       "    </tr>\n",
       "  </thead>\n",
       "  <tbody>\n",
       "    <tr>\n",
       "      <th>1339</th>\n",
       "      <td>Ramos</td>\n",
       "      <td>NaN</td>\n",
       "      <td>(914) 924-0125</td>\n",
       "      <td>NaN</td>\n",
       "      <td>+1 (914) 771-8824</td>\n",
       "      <td>+1 (914) 497-4813</td>\n",
       "      <td>NaN</td>\n",
       "      <td>NaN</td>\n",
       "      <td>NaN</td>\n",
       "      <td>NaN</td>\n",
       "      <td>Sunday, September 15, 2013 7:28 PM:\\nDulcimar ...</td>\n",
       "    </tr>\n",
       "    <tr>\n",
       "      <th>4253</th>\n",
       "      <td>Ramos</td>\n",
       "      <td>NaN</td>\n",
       "      <td>NaN</td>\n",
       "      <td>+1 (561) 504-3428</td>\n",
       "      <td>NaN</td>\n",
       "      <td>+1 (561) 504-5354</td>\n",
       "      <td>+1 (305) 328-4087</td>\n",
       "      <td>mirita28@hotmail.com</td>\n",
       "      <td>NaN</td>\n",
       "      <td>NaN</td>\n",
       "      <td>Sunday, September 15, 2013 7:28 PM:\\nMiriam Ra...</td>\n",
       "    </tr>\n",
       "    <tr>\n",
       "      <th>4608</th>\n",
       "      <td>Ramos</td>\n",
       "      <td>(407) 999-0364</td>\n",
       "      <td>NaN</td>\n",
       "      <td>NaN</td>\n",
       "      <td>NaN</td>\n",
       "      <td>(407) 421-8841</td>\n",
       "      <td>NaN</td>\n",
       "      <td>eramos@ft.newyorklife.com</td>\n",
       "      <td>NaN</td>\n",
       "      <td>NaN</td>\n",
       "      <td>conselho</td>\n",
       "    </tr>\n",
       "    <tr>\n",
       "      <th>5272</th>\n",
       "      <td>Ramos</td>\n",
       "      <td>NaN</td>\n",
       "      <td>NaN</td>\n",
       "      <td>(407) 288-2875</td>\n",
       "      <td>NaN</td>\n",
       "      <td>NaN</td>\n",
       "      <td>NaN</td>\n",
       "      <td>anderson@frinvrstgroup.com</td>\n",
       "      <td>NaN</td>\n",
       "      <td>NaN</td>\n",
       "      <td>NaN</td>\n",
       "    </tr>\n",
       "  </tbody>\n",
       "</table>\n",
       "</div>"
      ],
      "text/plain": [
       "     Contact  Business Phone Business Phone 2         Home Phone  \\\n",
       "1339   Ramos             NaN   (914) 924-0125                NaN   \n",
       "4253   Ramos             NaN              NaN  +1 (561) 504-3428   \n",
       "4608   Ramos  (407) 999-0364              NaN                NaN   \n",
       "5272   Ramos             NaN              NaN     (407) 288-2875   \n",
       "\n",
       "           Home Phone 2       Mobile Phone        Other Phone  \\\n",
       "1339  +1 (914) 771-8824  +1 (914) 497-4813                NaN   \n",
       "4253                NaN  +1 (561) 504-5354  +1 (305) 328-4087   \n",
       "4608                NaN     (407) 421-8841                NaN   \n",
       "5272                NaN                NaN                NaN   \n",
       "\n",
       "                  E-mail Address E-mail 2 Address E-mail 3 Address  \\\n",
       "1339                         NaN              NaN              NaN   \n",
       "4253        mirita28@hotmail.com              NaN              NaN   \n",
       "4608   eramos@ft.newyorklife.com              NaN              NaN   \n",
       "5272  anderson@frinvrstgroup.com              NaN              NaN   \n",
       "\n",
       "                                                  Notes  \n",
       "1339  Sunday, September 15, 2013 7:28 PM:\\nDulcimar ...  \n",
       "4253  Sunday, September 15, 2013 7:28 PM:\\nMiriam Ra...  \n",
       "4608                                           conselho  \n",
       "5272                                                NaN  "
      ]
     },
     "execution_count": 229,
     "metadata": {},
     "output_type": "execute_result"
    }
   ],
   "source": [
    "## Example - Before - \n",
    "# (Note that it would be impossible to distribute all phone numbers accordingly).:\n",
    "joel_0.loc[joel_0['Contact']==' Ramos'][imp2]"
   ]
  },
  {
   "cell_type": "code",
   "execution_count": 232,
   "metadata": {},
   "outputs": [
    {
     "data": {
      "text/html": [
       "<div>\n",
       "<style scoped>\n",
       "    .dataframe tbody tr th:only-of-type {\n",
       "        vertical-align: middle;\n",
       "    }\n",
       "\n",
       "    .dataframe tbody tr th {\n",
       "        vertical-align: top;\n",
       "    }\n",
       "\n",
       "    .dataframe thead th {\n",
       "        text-align: right;\n",
       "    }\n",
       "</style>\n",
       "<table border=\"1\" class=\"dataframe\">\n",
       "  <thead>\n",
       "    <tr style=\"text-align: right;\">\n",
       "      <th></th>\n",
       "      <th>Contact</th>\n",
       "      <th>Business Phone</th>\n",
       "      <th>Business Phone 2</th>\n",
       "      <th>Home Phone</th>\n",
       "      <th>Home Phone 2</th>\n",
       "      <th>Mobile Phone</th>\n",
       "      <th>Other Phone</th>\n",
       "      <th>E-mail Address</th>\n",
       "      <th>E-mail 2 Address</th>\n",
       "      <th>E-mail 3 Address</th>\n",
       "      <th>Notes</th>\n",
       "    </tr>\n",
       "  </thead>\n",
       "  <tbody>\n",
       "    <tr>\n",
       "      <th>3536</th>\n",
       "      <td>Ramos</td>\n",
       "      <td>(914) 924-0125</td>\n",
       "      <td>NaN</td>\n",
       "      <td>+1 (561) 504-3428</td>\n",
       "      <td>+1 (914) 771-8824</td>\n",
       "      <td>+1 (561) 504-5354</td>\n",
       "      <td>+1 (914) 497-4813</td>\n",
       "      <td>mirita28@hotmail.com</td>\n",
       "      <td>anderson@frinvrstgroup.com</td>\n",
       "      <td>NaN</td>\n",
       "      <td>Sunday, September 15, 2013 7:28 PM:\\nMiriam Ra...</td>\n",
       "    </tr>\n",
       "  </tbody>\n",
       "</table>\n",
       "</div>"
      ],
      "text/plain": [
       "     Contact  Business Phone Business Phone 2         Home Phone  \\\n",
       "3536   Ramos  (914) 924-0125              NaN  +1 (561) 504-3428   \n",
       "\n",
       "           Home Phone 2       Mobile Phone        Other Phone  \\\n",
       "3536  +1 (914) 771-8824  +1 (561) 504-5354  +1 (914) 497-4813   \n",
       "\n",
       "            E-mail Address            E-mail 2 Address E-mail 3 Address  \\\n",
       "3536  mirita28@hotmail.com  anderson@frinvrstgroup.com              NaN   \n",
       "\n",
       "                                                  Notes  \n",
       "3536  Sunday, September 15, 2013 7:28 PM:\\nMiriam Ra...  "
      ]
     },
     "execution_count": 232,
     "metadata": {},
     "output_type": "execute_result"
    }
   ],
   "source": [
    "## Example - Before - \n",
    "joel.loc[joel['Contact']==' Ramos'][imp2]"
   ]
  },
  {
   "cell_type": "markdown",
   "metadata": {},
   "source": [
    "___"
   ]
  },
  {
   "cell_type": "markdown",
   "metadata": {},
   "source": [
    "#### Eliminating Created custom columns:"
   ]
  },
  {
   "cell_type": "code",
   "execution_count": 233,
   "metadata": {},
   "outputs": [],
   "source": [
    "joel.drop(['Contact','Home Phones','Business Phones', 'Other Phones','E-mail Addresses'],1,inplace=True)"
   ]
  },
  {
   "cell_type": "code",
   "execution_count": 234,
   "metadata": {},
   "outputs": [
    {
     "data": {
      "text/plain": [
       "array(['Unnamed: 0', 'Title', 'First Name', 'Middle Name', 'Last Name',\n",
       "       'Suffix', 'Company', 'Department', 'Job Title', 'Business Street',\n",
       "       'Business Street 2', 'Business Street 3', 'Business City',\n",
       "       'Business State', 'Business Postal Code',\n",
       "       'Business Country/Region', 'Home Street', 'Home Street 2',\n",
       "       'Home Street 3', 'Home City', 'Home State', 'Home Postal Code',\n",
       "       'Home Country/Region', 'Other Street', 'Other Street 2',\n",
       "       'Other Street 3', 'Other City', 'Other State', 'Other Postal Code',\n",
       "       'Other Country/Region', \"Assistant's Phone\", 'Business Fax',\n",
       "       'Business Phone', 'Business Phone 2', 'Callback', 'Car Phone',\n",
       "       'Company Main Phone', 'Home Fax', 'Home Phone', 'Home Phone 2',\n",
       "       'ISDN', 'Mobile Phone', 'Other Fax', 'Other Phone', 'Pager',\n",
       "       'Primary Phone', 'Radio Phone', 'TTY/TDD Phone', 'Telex',\n",
       "       'Account', 'Anniversary', \"Assistant's Name\",\n",
       "       'Billing Information', 'Birthday', 'Business Address PO Box',\n",
       "       'Categories', 'Children', 'Directory Server', 'E-mail Address',\n",
       "       'E-mail Type', 'E-mail Display Name', 'E-mail 2 Address',\n",
       "       'E-mail 2 Type', 'E-mail 2 Display Name', 'E-mail 3 Address',\n",
       "       'E-mail 3 Type', 'E-mail 3 Display Name', 'Gender',\n",
       "       'Government ID Number', 'Hobby', 'Home Address PO Box', 'Initials',\n",
       "       'Internet Free Busy', 'Keywords', 'Language', 'Location',\n",
       "       \"Manager's Name\", 'Mileage', 'Notes', 'Office Location',\n",
       "       'Organizational ID Number', 'Other Address PO Box', 'Priority',\n",
       "       'Private', 'Profession', 'Referred By', 'Sensitivity', 'Spouse',\n",
       "       'User 1', 'User 2', 'User 3', 'User 4', 'Web Page'], dtype=object)"
      ]
     },
     "execution_count": 234,
     "metadata": {},
     "output_type": "execute_result"
    }
   ],
   "source": [
    "joel.columns.values"
   ]
  },
  {
   "cell_type": "markdown",
   "metadata": {},
   "source": [
    "___"
   ]
  },
  {
   "cell_type": "markdown",
   "metadata": {},
   "source": [
    "# Exporting"
   ]
  },
  {
   "cell_type": "code",
   "execution_count": 189,
   "metadata": {},
   "outputs": [
    {
     "data": {
      "text/plain": [
       "8962"
      ]
     },
     "execution_count": 189,
     "metadata": {},
     "output_type": "execute_result"
    }
   ],
   "source": [
    "len(joel)"
   ]
  },
  {
   "cell_type": "code",
   "execution_count": 238,
   "metadata": {},
   "outputs": [],
   "source": [
    "writer = pd.ExcelWriter('Joel_dec212018.xlsx', engine='xlsxwriter',options={'strings_to_urls': False})"
   ]
  },
  {
   "cell_type": "code",
   "execution_count": 239,
   "metadata": {},
   "outputs": [],
   "source": [
    "joel.to_excel(writer,'Sheet1')"
   ]
  },
  {
   "cell_type": "code",
   "execution_count": 240,
   "metadata": {},
   "outputs": [],
   "source": [
    "writer.save()"
   ]
  },
  {
   "cell_type": "code",
   "execution_count": null,
   "metadata": {},
   "outputs": [],
   "source": []
  }
 ],
 "metadata": {
  "kernelspec": {
   "display_name": "Python 3",
   "language": "python",
   "name": "python3"
  },
  "language_info": {
   "codemirror_mode": {
    "name": "ipython",
    "version": 3
   },
   "file_extension": ".py",
   "mimetype": "text/x-python",
   "name": "python",
   "nbconvert_exporter": "python",
   "pygments_lexer": "ipython3",
   "version": "3.6.5"
  }
 },
 "nbformat": 4,
 "nbformat_minor": 2
}
